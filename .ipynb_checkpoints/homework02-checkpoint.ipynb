{
 "cells": [
  {
   "cell_type": "markdown",
   "metadata": {},
   "source": [
    "# 02 - Data from the Web\n",
    "\n",
    "## Deadline\n",
    "Wednesday October 25, 2017 at 11:59PM\n",
    "\n",
    "## Important Notes\n",
    "* Make sure you push on GitHub your Notebook with all the cells already evaluated (i.e., you don't want your colleagues to generate unnecessary Web traffic during the peer review)\n",
    "* Don't forget to add a textual description of your thought process, the assumptions you made, and the solution you plan to implement!\n",
    "* Please write all your comments in English, and use meaningful variable names in your code.\n",
    "\n",
    "## Background\n",
    "In this homework we will extract interesting information from www.topuniversities.com and www.timeshighereducation.com, two platforms that maintain a global ranking of worldwide universities. This ranking is not offered as a downloadable dataset, so you will have to find a way to scrape the information we need!\n",
    "You are not allowed to download manually the entire ranking -- rather you have to understand how the server loads it in your browser. For this task, Postman with the Interceptor extension can help you greatly. We recommend that you watch this [brief tutorial](https://www.youtube.com/watch?v=jBjXVrS8nXs&list=PLM-7VG-sgbtD8qBnGeQM5nvlpqB_ktaLZ&autoplay=1) to understand quickly how to use it.\n",
    "\n",
    "## Assignment\n",
    "1. Obtain the 200 top-ranking universities in www.topuniversities.com ([ranking 2018](https://www.topuniversities.com/university-rankings/world-university-rankings/2018)). In particular, extract the following fields for each university: name, rank, country and region, number of faculty members (international and total) and number of students (international and total). Some information is not available in the main list and you have to find them in the [details page](https://www.topuniversities.com/universities/ecole-polytechnique-fÃ©dÃ©rale-de-lausanne-epfl).\n",
    "Store the resulting dataset in a pandas DataFrame and answer the following questions:\n",
    "    - Which are the best universities in term of: (a) ratio between faculty members and students, (b) ratio of international students?\n",
    "    - Answer the previous question aggregating the data by (c) country and (d) region.\n",
    "    \n",
    " Plot your data using bar charts and describe briefly what you observed.\n",
    "\n",
    "2. Obtain the 200 top-ranking universities in www.timeshighereducation.com ([ranking 2018](http://timeshighereducation.com/world-university-rankings/2018/world-ranking)). Repeat the analysis of the previous point and discuss briefly what you observed.\n",
    "\n",
    "3. Merge the two DataFrames created in questions 1 and 2 using university names. Match universities' names as well as you can, and explain your strategy. Keep track of the original position in both rankings.\n",
    "\n",
    "4. Find useful insights in the data by performing an exploratory analysis. Can you find a strong correlation between any pair of variables in the dataset you just created? Example: when a university is strong in its international dimension, can you observe a consistency both for students and faculty members?\n",
    "\n",
    "5. Can you find the best university taking in consideration both rankings? Explain your approach.\n",
    "\n",
    "Hints:\n",
    "- Keep your Notebook clean and don't print the verbose output of the requests if this does not add useful information for the reader.\n",
    "- In case of tie, use the order defined in the webpage."
   ]
  },
  {
   "cell_type": "markdown",
   "metadata": {},
   "source": [
    "##  Textual description of your thought process, the assumptions you made, and the solution you plan to implement!"
   ]
  },
  {
   "cell_type": "markdown",
   "metadata": {},
   "source": [
    "### Thought process:\n",
    "\n",
    "www.topuniversities.com \n",
    "1. get https://www.topuniversities.com/sites/default/files/qs-rankings-data/357051.txt?_=1508228964836\n",
    "    a. this is a json file\n",
    "2. obtain name rank country region\n",
    "3. get https://www.topuniversities.com/universities/ecole-polytechnique-f%C3%A9d%C3%A9rale-de-lausanne-epfl\n",
    "    a. this is a html file\n",
    "4. get number of faculty -- international and total, number of students -- international and total\n",
    "\n",
    "### analysis\n",
    "1. Faculty : student ratio\n",
    "2. international student : total student ratio\n",
    "\n",
    "\n",
    "\n",
    "### Our assumptions:\n",
    "Location in times_university is country.\n",
    "There is no international faculty in Indian Institute of Science (IISc) Bangalore (top_uni).\n",
    "\n",
    "\n",
    "### Implementation solution:"
   ]
  },
  {
   "cell_type": "code",
   "execution_count": null,
   "metadata": {
    "collapsed": true
   },
   "outputs": [],
   "source": [
    "import requests\n",
    "import pandas as pd\n",
    "from bs4 import BeautifulSoup\n",
    "import matplotlib.pyplot as plt\n",
    "import numpy as np\n",
    "%matplotlib inline"
   ]
  },
  {
   "cell_type": "markdown",
   "metadata": {
    "collapsed": true
   },
   "source": [
    "### Question 1.\n",
    "\n",
    "We first crawl data from the webpages, including the details page of universities we are interested in, and then put it into a dataframe."
   ]
  },
  {
   "cell_type": "code",
   "execution_count": null,
   "metadata": {},
   "outputs": [
    {
     "name": "stdout",
     "output_type": "stream",
     "text": [
      "Error in New York University (NYU): Can't find inter faculty\n",
      "Error in New York University (NYU): Can't find total faculty\n",
      "Error in New York University (NYU): Can't find total inter\n",
      "Error in New York University (NYU): Can't find total student\n"
     ]
    }
   ],
   "source": [
    "# Request the main page containing the rank\n",
    "req1 = requests.get('https://www.topuniversities.com/sites/default/files/qs-rankings-data/357051.txt?_=1508228964836')\n",
    "body = req1.json()\n",
    "body_data = body['data']\n",
    "\n",
    "# The fields we are interested in\n",
    "# Global data\n",
    "dict_fields = {'Name':    'title',\n",
    "               'Rank':    'rank_display',\n",
    "               'Country': 'country',\n",
    "               'Region':  'region'}\n",
    "# Detail pages\n",
    "dict_class_names = {'No. of International Faculty':  'inter faculty',\n",
    "                    'No. of Total Faculty':          'total faculty',\n",
    "                    'No. of International Students': 'total inter',\n",
    "                    'No. of Total Students':         'total student'}\n",
    "\n",
    "# The helper function that gets information from details pages\n",
    "def get_numbers(soup, class_name):\n",
    "    try:\n",
    "        num = float(soup.find(class_=class_name).find(class_='number').string[1:-1].replace(\",\", \"\"))\n",
    "    except:\n",
    "        # If there's no data, print an error and fall back to NaN\n",
    "        num = float(\"NaN\")\n",
    "        school_name = soup.find(class_ = \"qs-profile-2 content panel-panel\").find_next('h1').string\n",
    "        print(\"Error in \" + school_name + \": Can't find \" + class_name)\n",
    "    return num\n",
    "\n",
    "# Add data of each university one by one\n",
    "rank_list = []\n",
    "for i in range(200):\n",
    "    # Request the details page\n",
    "    details = requests.get('https://www.topuniversities.com' + body_data[i]['url'])\n",
    "    html_body = details.text\n",
    "    # Parse the HTML\n",
    "    soup = BeautifulSoup(html_body, 'html.parser')\n",
    "    \n",
    "    dict_school = {}\n",
    "    for field, field_name in dict_fields.items():\n",
    "        dict_school[field] = body_data[i][field_name]\n",
    "    for field, class_name in dict_class_names.items():\n",
    "        dict_school[field] = get_numbers(soup, class_name)\n",
    "    \n",
    "    rank_list.append(dict_school)\n",
    "\n",
    "top_ranking_universities = pd.DataFrame.from_dict(rank_list)"
   ]
  },
  {
   "cell_type": "code",
   "execution_count": null,
   "metadata": {},
   "outputs": [],
   "source": [
    "top_ranking_universities.head()"
   ]
  },
  {
   "cell_type": "markdown",
   "metadata": {},
   "source": [
    "The New York University's page has no data on the number of faculty and students. The Indian Institute of Science has no international faculty."
   ]
  },
  {
   "cell_type": "markdown",
   "metadata": {},
   "source": [
    "From the dataframe obtained, we compute the ratio of factulty to student and international student to total student."
   ]
  },
  {
   "cell_type": "code",
   "execution_count": null,
   "metadata": {},
   "outputs": [],
   "source": [
    "# Add new columns\n",
    "top_ranking_universities['Faculty : Student'] = \\\n",
    "    top_ranking_universities['No. of Total Faculty']/ \\\n",
    "    top_ranking_universities['No. of Total Students']\n",
    "top_ranking_universities['International Student : Total Student'] = \\\n",
    "    top_ranking_universities['No. of International Students']/ \\\n",
    "    top_ranking_universities['No. of Total Students']\n",
    "\n",
    "top_ranking_universities.head()"
   ]
  },
  {
   "cell_type": "markdown",
   "metadata": {},
   "source": [
    "### Question 1 (a): Which are the best universities in term of ratio between faculty members and students?"
   ]
  },
  {
   "cell_type": "code",
   "execution_count": null,
   "metadata": {},
   "outputs": [],
   "source": [
    "# Sort the dataframe by faculty-student ratio in descending order \n",
    "top_uni_by_facstud = top_ranking_universities.sort_values(\n",
    "    by = 'Faculty : Student',\n",
    "    ascending = False\n",
    ")\n",
    "top_uni_by_facstud[['Rank', 'Name', 'Faculty : Student']].head(10)"
   ]
  },
  {
   "cell_type": "code",
   "execution_count": null,
   "metadata": {
    "collapsed": true
   },
   "outputs": [],
   "source": [
    "# Plot the faculty:student ratio\n",
    "fig = plt.figure()\n",
    "ax = fig.add_axes((0,0,1,0.96))\n",
    "\n",
    "fig.suptitle('Faculty to Student Ratio', fontsize=40)\n",
    "fig.set_size_inches(20, 40)\n",
    "\n",
    "ax.barh(np.arange(200), top_uni_by_facstud['Faculty : Student'], align='center')\n",
    "ax.set_xlabel('Ratio', fontsize=20)\n",
    "ax.set_yticks(np.arange(200))\n",
    "ax.set_yticklabels(top_uni_by_facstud.Name)\n",
    "ax.invert_yaxis()  # labels read top-to-bottom\n",
    "ax.margins(x=1e-2,y=1e-2)\n",
    "\n",
    "plt.show()"
   ]
  },
  {
   "cell_type": "markdown",
   "metadata": {},
   "source": [
    "### Question 1 (b): Which are the best universities in term of ratio of international students?"
   ]
  },
  {
   "cell_type": "code",
   "execution_count": null,
   "metadata": {},
   "outputs": [],
   "source": [
    "# Sort by the desired column\n",
    "top_uni_by_interstud = top_ranking_universities.sort_values(\n",
    "    by = 'International Student : Total Student',\n",
    "    ascending = False\n",
    ")\n",
    "top_uni_by_interstud[['Rank', 'Name', 'International Student : Total Student']].head(10)"
   ]
  },
  {
   "cell_type": "code",
   "execution_count": null,
   "metadata": {
    "collapsed": true
   },
   "outputs": [],
   "source": [
    "# Plot the international:total student ratio\n",
    "fig = plt.figure()\n",
    "ax = fig.add_axes((0,0,1,0.96))\n",
    "\n",
    "fig.suptitle('International to Total Student Ratio', fontsize=40)\n",
    "fig.set_size_inches(20, 40)\n",
    "\n",
    "ax.barh(np.arange(200), top_uni_by_interstud['International Student : Total Student'], align='center')\n",
    "ax.set_xlabel('Ratio', fontsize=20)\n",
    "ax.set_yticks(np.arange(200))\n",
    "ax.set_yticklabels(top_uni_by_facstud.Name)\n",
    "ax.invert_yaxis()  # labels read top-to-bottom\n",
    "ax.margins(x=1e-2,y=1e-2)\n",
    "\n",
    "plt.show()"
   ]
  },
  {
   "cell_type": "markdown",
   "metadata": {},
   "source": [
    "### Question 1 (c): Answer the previous question aggregating the data by country."
   ]
  },
  {
   "cell_type": "markdown",
   "metadata": {},
   "source": [
    "We computed the average of the data of all universities in each country."
   ]
  },
  {
   "cell_type": "code",
   "execution_count": null,
   "metadata": {},
   "outputs": [],
   "source": [
    "# Group data by country and compute the average of all fields\n",
    "by_country = top_ranking_universities.groupby('Country').mean()\n",
    "\n",
    "# Sort the entries of each group\n",
    "country_facstud = by_country.sort_values(\n",
    "    by = 'Faculty : Student',\n",
    "    ascending = False\n",
    ")\n",
    "\n",
    "country_interstud = by_country.sort_values(\n",
    "    by = 'International Student : Total Student',\n",
    "    ascending = False\n",
    ")\n",
    "\n",
    "country_facstud[['Faculty : Student']].head()"
   ]
  },
  {
   "cell_type": "code",
   "execution_count": null,
   "metadata": {},
   "outputs": [],
   "source": [
    "country_interstud[['International Student : Total Student']].head()"
   ]
  },
  {
   "cell_type": "markdown",
   "metadata": {},
   "source": [
    "### Question 1 (d): Answer the previous question aggregating the data by region."
   ]
  },
  {
   "cell_type": "markdown",
   "metadata": {},
   "source": [
    "Same as above, but grouping by region."
   ]
  },
  {
   "cell_type": "code",
   "execution_count": null,
   "metadata": {},
   "outputs": [],
   "source": [
    "# Group data by country and compute the average of all fields\n",
    "by_region = top_ranking_universities.groupby('Region').mean()\n",
    "\n",
    "# Sort the entries of each group\n",
    "region_facstud = by_region.sort_values(\n",
    "    by = 'Faculty : Student',\n",
    "    ascending = False\n",
    ")\n",
    "\n",
    "region_interstud = by_region.sort_values(\n",
    "    by = 'International Student : Total Student',\n",
    "    ascending = False\n",
    ")\n",
    "\n",
    "region_facstud[['Faculty : Student']].head()"
   ]
  },
  {
   "cell_type": "code",
   "execution_count": null,
   "metadata": {},
   "outputs": [],
   "source": [
    "region_interstud[['International Student : Total Student']].head()"
   ]
  },
  {
   "cell_type": "markdown",
   "metadata": {},
   "source": [
    "### Question 2: Obtain the 200 top-ranking universities in www.timeshighereducation.com ([ranking 2018](http://timeshighereducation.com/world-university-rankings/2018/world-ranking)). Repeat the analysis of the previous point and discuss briefly what you observed."
   ]
  },
  {
   "cell_type": "markdown",
   "metadata": {},
   "source": [
    "The data is located at https://www.timeshighereducation.com/sites/default/files/the_data_rankings/world_university_rankings_2018_limit0_369a9045a203e176392b9fb8f8c1cb2a.json\n",
    "\n",
    "The fields we're interested in are\n",
    "* rank\n",
    "* name\n",
    "* aliases\n",
    "* location\n",
    "* stats_number_students\n",
    "* stats_student_staff_ratio\n",
    "* stats_pc_intl_students"
   ]
  },
  {
   "cell_type": "code",
   "execution_count": null,
   "metadata": {
    "collapsed": true
   },
   "outputs": [],
   "source": [
    "# Fetch the data\n",
    "req_times = requests.get('https://www.timeshighereducation.com/sites/default/files/the_data_rankings/world_university_rankings_2018_limit0_369a9045a203e176392b9fb8f8c1cb2a.json')\n",
    "body_times = req_times.json()\n",
    "body_times_data = body_times['data']"
   ]
  },
  {
   "cell_type": "code",
   "execution_count": null,
   "metadata": {
    "collapsed": true
   },
   "outputs": [],
   "source": [
    "# Parse the data and build a dataframe\n",
    "rank_list_times = []\n",
    "\n",
    "for i in range(200):\n",
    "    name = body_times_data[i]['name']\n",
    "    aliases = body_times_data[i]['aliases']\n",
    "    rank = body_times_data[i]['rank']\n",
    "    location = body_times_data[i]['location']\n",
    "    \n",
    "    # Python doesn't like commas as thousands separators, remove them\n",
    "    num_students = int(body_times_data[i]['stats_number_students'].replace(\",\",\"\"))\n",
    "    student_staff = float(body_times_data[i]['stats_student_staff_ratio'])\n",
    "    \n",
    "    # Same for percentage signs. In addition we need to remove divide by 100\n",
    "    perc_international = int(body_times_data[i]['stats_pc_intl_students'].strip(\"%\"))/100.0\n",
    "    \n",
    "    rank_list_times.append({'Name': name,\n",
    "                            'Aliases': aliases,\n",
    "                            'Rank': rank,\n",
    "                            'Location': location,\n",
    "                            'No. of Total Students': num_students,\n",
    "                            'Student : Faculty': student_staff,\n",
    "                            'Ratio International Students': perc_international})\n",
    "    \n",
    "times_universities = pd.DataFrame.from_dict(rank_list_times)"
   ]
  },
  {
   "cell_type": "code",
   "execution_count": null,
   "metadata": {},
   "outputs": [],
   "source": [
    "times_universities.head()"
   ]
  },
  {
   "cell_type": "markdown",
   "metadata": {},
   "source": [
    "### Question 2 (a): Which are the best universities in term of ratio between faculty members and students?"
   ]
  },
  {
   "cell_type": "code",
   "execution_count": null,
   "metadata": {
    "collapsed": true
   },
   "outputs": [],
   "source": [
    "times_uni_by_facstud = times_universities.sort_values(by = 'Student : Faculty')\n",
    "times_uni_by_facstud[['Rank', 'Name', 'Student : Faculty']].head(10)"
   ]
  },
  {
   "cell_type": "markdown",
   "metadata": {},
   "source": [
    "### Question 2 (b): Which are the best universities in term of ratio of international students?"
   ]
  },
  {
   "cell_type": "code",
   "execution_count": null,
   "metadata": {
    "collapsed": true
   },
   "outputs": [],
   "source": [
    "times_uni_by_facstud = times_universities.sort_values(by = 'Ratio International Students', ascending=False)\n",
    "times_uni_by_facstud[['Rank', 'Name', 'Ratio International Students']].head(10)"
   ]
  },
  {
   "cell_type": "markdown",
   "metadata": {},
   "source": [
    "### Question 2 (c): Answer the previous question aggregating the data by country."
   ]
  },
  {
   "cell_type": "code",
   "execution_count": null,
   "metadata": {
    "collapsed": true
   },
   "outputs": [],
   "source": [
    "times_country_facstud = times_universities.groupby('Location').apply(lambda x: x.sort_values(by = 'Student : Faculty'))\n",
    "times_country_interstud = times_universities.groupby('Location').apply(lambda x: x.sort_values(by = 'Ratio International Students', ascending = False))"
   ]
  },
  {
   "cell_type": "markdown",
   "metadata": {},
   "source": [
    "### Question 2 (d): Answer the previous question aggregating the data by region."
   ]
  },
  {
   "cell_type": "code",
   "execution_count": null,
   "metadata": {
    "collapsed": true
   },
   "outputs": [],
   "source": [
    "# NO REGION INFO!!"
   ]
  },
  {
   "cell_type": "markdown",
   "metadata": {},
   "source": [
    "### Question 3: Merge the two DataFrames created in questions 1 and 2 using university names. Match universities' names as well as you can, and explain your strategy. Keep track of the original position in both rankings."
   ]
  },
  {
   "cell_type": "code",
   "execution_count": null,
   "metadata": {},
   "outputs": [],
   "source": [
    "import numpy as np\n",
    "import unicodedata\n",
    "\n",
    "ranks = pd.merge(top_ranking_universities, times_universities, how='outer', on='Name', suffixes=('_top','_tim'))\n",
    "mask = ranks[['Rank_top','Rank_tim']].astype(str) != 'nan'\n",
    "both = ranks[mask.all(axis=1)][['Rank_top','Rank_tim','Name']]\n",
    "tim_only = ranks[list(mask['Rank_tim']==True) and list(mask['Rank_top']==False)][['Rank_top','Rank_tim','Name']]\n",
    "top_only = ranks[list(mask['Rank_top']==True) and list(mask['Rank_tim']==False)][['Rank_top','Rank_tim','Name']]\n",
    "ranks.shape, both.shape, tim_only.shape, top_only.shape"
   ]
  },
  {
   "cell_type": "code",
   "execution_count": null,
   "metadata": {},
   "outputs": [],
   "source": [
    "# There are universities having different \"Name\" in the two websites.\n",
    "# Following should be the whole list of unmathed name:\n",
    "# California Institute of Technology v.s. California Institute of Technology (Caltech)\n",
    "# ETH Zurich - Swiss... v.s. ETH Zurich – Swiss...\n",
    "# Ecole Polytechnique v.s. École Polytechnique\n",
    "# Ecole Polytechnique Fédérale de Lausanne (EPFL) v.s. École Polytechnique Fédérale de Lausanne\n",
    "# Humboldt University of Berlin v.s. Humboldt-Universität zu Berlin\n",
    "# King's College London v.s. King’s College London\n",
    "# London School of Economics and Political Science v.s. London School of Economics and Political Science (LSE)\n",
    "# Massachusetts Institute of Technology v.s. Massachusetts Institute of Technology (MIT)\n",
    "# Nanyang Technological University, Singapore v.s. Nanyang Technological University, Singapore (NTU)\n",
    "# National Taiwan University v.s. National Taiwan University (NTU)\n",
    "# National University of Singapore v.s. National University of Singapore (NUS)\n",
    "# New York University v.s. New York University (NYU)\n",
    "# Pohang University of Science And Technology (POSTECH) v.s. Pohang University of Science and Technology\n",
    "# Scuola Superiore Sant'Anna Pisa di Studi Universitari e di Perfezionamento v.s. Scuola Superiore Sant’Anna\n",
    "# Technical University of Berlin v.s. Technische Universität Berlin (TU Berlin)\n",
    "# Trinity College Dublin v.s. Trinity College Dublin, The University of Dublin\n",
    "# University of California, Berkeley v.s. University of California, Berkeley (UCB)\n",
    "# University of California, Los Angeles v.s. University of California, Los Angeles (UCLA)\n",
    "# University of California, San Diego v.s. University of California, San Diego (UCSD)\n",
    "# University of California, Santa Barbara v.s. University of California, Santa Barbara (UCSB)\n",
    "# University of North Carolina at Chapel Hill v.s. University of North Carolina, Chapel Hill\n",
    "# Wageningen University v.s. Wageningen University & Research\n",
    "# Washington University in St Louis v.s. Washington University in St. Louis\n",
    "\n",
    "pd.set_option('display.max_rows', 400)\n",
    "cols = ranks.columns\n",
    "(list(zip(np.arange(len(cols)),cols)))\n",
    "merged = ranks.sort_values(by='Name')[ranks.columns[[6,13,1,10,7,0,11,8,9,15,14,2,3,4,5,12]]]\n",
    "merged.tail().Name\n",
    "#merged.to_csv('merged.csv')\n"
   ]
  },
  {
   "cell_type": "code",
   "execution_count": null,
   "metadata": {},
   "outputs": [],
   "source": [
    "# Dark magic: transform unicode to ascii, get abbriviation. The result is useless\n",
    "def dark_magic(name):\n",
    "    name = unicodedata.normalize('NFD', name).encode('ascii', 'ignore')\n",
    "    name = ''.join(c for c in str(name) if c.isupper())\n",
    "    return name\n",
    "\n",
    "print(tim_only.loc[214].Name)\n",
    "print(dark_magic(tim_only.loc[214].Name))"
   ]
  },
  {
   "cell_type": "code",
   "execution_count": null,
   "metadata": {},
   "outputs": [],
   "source": [
    "top_ranking_universities['Name2'] = top_ranking_universities['Name'].apply(dark_magic)\n",
    "times_universities['Name2'] = times_universities['Name'].apply(dark_magic)\n",
    "ranks2 = pd.merge(top_ranking_universities, times_universities, how='outer', on='Name2', suffixes=('_top','_tim'))\n",
    "mask2 = ranks2[['Rank_top','Rank_tim']].astype(str) != 'nan'\n",
    "both2 = ranks2[mask2.all(axis=1)][['Rank_top','Rank_tim','Name2']]\n",
    "tim_only2 = ranks2[list(mask2['Rank_tim']==True) and list(mask2['Rank_top']==False)][['Rank_top','Rank_tim','Name2']]\n",
    "top_only2 = ranks2[list(mask2['Rank_top']==True) and list(mask2['Rank_tim']==False)][['Rank_top','Rank_tim','Name2']]\n",
    "ranks2.shape, both2.shape, tim_only2.shape, top_only2.shape"
   ]
  },
  {
   "cell_type": "markdown",
   "metadata": {},
   "source": [
    "### Question 4: Find useful insights in the data by performing an exploratory analysis. Can you find a strong correlation between any pair of variables in the dataset you just created? Example: when a university is strong in its international dimension, can you observe a consistency both for students and faculty members?"
   ]
  },
  {
   "cell_type": "code",
   "execution_count": null,
   "metadata": {
    "collapsed": true
   },
   "outputs": [],
   "source": []
  },
  {
   "cell_type": "markdown",
   "metadata": {},
   "source": [
    "### Question 5: Can you find the best university taking in consideration both rankings? Explain your approach."
   ]
  },
  {
   "cell_type": "code",
   "execution_count": null,
   "metadata": {
    "collapsed": true
   },
   "outputs": [],
   "source": []
  }
 ],
 "metadata": {
  "kernelspec": {
   "display_name": "Python 3",
   "language": "python",
   "name": "python3"
  },
  "language_info": {
   "codemirror_mode": {
    "name": "ipython",
    "version": 3
   },
   "file_extension": ".py",
   "mimetype": "text/x-python",
   "name": "python",
   "nbconvert_exporter": "python",
   "pygments_lexer": "ipython3",
   "version": "3.6.1"
  }
 },
 "nbformat": 4,
 "nbformat_minor": 2
}
