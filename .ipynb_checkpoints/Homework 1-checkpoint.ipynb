{
 "cells": [
  {
   "cell_type": "markdown",
   "metadata": {},
   "source": [
    "# Table of Contents\n",
    " <p><div class=\"lev1\"><a href=\"#Task-1.-Compiling-Ebola-Data\"><span class=\"toc-item-num\">Task 1.&nbsp;&nbsp;</span>Compiling Ebola Data</a></div>\n",
    " <div class=\"lev1\"><a href=\"#Task-2.-RNA-Sequences\"><span class=\"toc-item-num\">Task 2.&nbsp;&nbsp;</span>RNA Sequences</a></div>\n",
    " <div class=\"lev1\"><a href=\"#Task-3.-Class-War-in-Titanic\"><span class=\"toc-item-num\">Task 3.&nbsp;&nbsp;</span>Class War in Titanic</a></div></p>"
   ]
  },
  {
   "cell_type": "code",
   "execution_count": 1,
   "metadata": {
    "collapsed": true
   },
   "outputs": [],
   "source": [
    "import pandas as pd\n",
    "import numpy as np\n",
    "pd.options.mode.chained_assignment = None  # default='warn', Mutes warnings when copying a slice from a DataFrame.\n",
    "pd.set_option('display.max_columns', None)\n",
    "import glob\n",
    "import datetime\n",
    "import os\n",
    "from io import StringIO\n",
    "%matplotlib inline\n",
    "import matplotlib.pyplot as plt\n",
    "import seaborn as sns\n",
    "sns.set_context('notebook')"
   ]
  },
  {
   "cell_type": "code",
   "execution_count": 2,
   "metadata": {
    "collapsed": true
   },
   "outputs": [],
   "source": [
    "DATA_FOLDER = '../ADA2017-Tutorials/02 - Intro to Pandas/Data' # Use the data folder provided in Tutorial 02 - Intro to Pandas."
   ]
  },
  {
   "cell_type": "markdown",
   "metadata": {},
   "source": [
    "## Task 1. Compiling Ebola Data\n",
    "\n",
    "The `DATA_FOLDER/ebola` folder contains summarized reports of Ebola cases from three countries (Guinea, Liberia and Sierra Leone) during the recent outbreak of the disease in West Africa. For each country, there are daily reports that contain various information about the outbreak in several cities in each country.\n",
    "\n",
    "Use pandas to import these data files into a single `Dataframe`.\n",
    "Using this `DataFrame`, calculate for *each country*, the *daily average per month* of *new cases* and *deaths*.\n",
    "Make sure you handle all the different expressions for *new cases* and *deaths* that are used in the reports."
   ]
  },
  {
   "cell_type": "code",
   "execution_count": 3,
   "metadata": {
    "collapsed": true,
    "scrolled": true
   },
   "outputs": [],
   "source": [
    "all_sl_files = glob.glob(DATA_FOLDER + r'/ebola/sl_data/*.csv')\n",
    "\n",
    "frames = []\n",
    "\n",
    "for f in all_sl_files:\n",
    "    data = None\n",
    "    \n",
    "    with open(f) as file:\n",
    "        data = StringIO('\\n'.join([l for l in file if '%' not in l]))\n",
    "\n",
    "    new_frame = pd.read_csv(data,\n",
    "                           parse_dates=['date'], thousands=',',\n",
    "                           na_values=['Nr', '-', 'NR'])\n",
    "    frames.append(new_frame)\n",
    "    \n",
    "sl = pd.concat(frames)\n",
    "sl_newcases = ['new_suspected', 'new_probable', 'new_confirmed']\n",
    "sl_deaths = ['death_suspected', 'death_probable', 'death_confirmed']"
   ]
  },
  {
   "cell_type": "code",
   "execution_count": 4,
   "metadata": {
    "collapsed": true
   },
   "outputs": [],
   "source": [
    "def compute_daily_averages(df, variable_column_name, variables_to_average, date_column_name):\n",
    "    df_filtered = df[(df[variable_column_name].isin(variables_to_average))]\n",
    "    di = pd.DatetimeIndex(df_filtered[date_column_name])\n",
    "    g = df_filtered.groupby([di.month])\n",
    "    ndays = g[date_column_name].nunique()\n",
    "    \n",
    "    avg_df = g.sum().div(ndays, axis='rows')\n",
    "    avg_df.index.names = ['Month']\n",
    "    \n",
    "    return avg_df.dropna(axis=1, how='all')"
   ]
  },
  {
   "cell_type": "code",
   "execution_count": 5,
   "metadata": {
    "collapsed": true
   },
   "outputs": [],
   "source": [
    "sl_avg_new_case = compute_daily_averages(sl, 'variable', sl_newcases, 'date')\n",
    "sl_avg_new_case_sum = sl_avg_new_case.drop('National', axis = 1).sum(axis = 1)\n",
    "sl_avg_new_case_SN = pd.concat([sl_avg_new_case['National'], sl_avg_new_case_sum], axis =1, keys=['National','Sum of Regions'])\n",
    "#sl_avg_case_SN"
   ]
  },
  {
   "cell_type": "code",
   "execution_count": 6,
   "metadata": {
    "collapsed": true
   },
   "outputs": [],
   "source": [
    "sl_avg_deaths = compute_daily_averages(sl, 'variable', sl_deaths, 'date')\n",
    "sl_avg_deaths_sum = sl_avg_deaths.drop('National', axis = 1).sum(axis = 1)\n",
    "sl_avg_deaths_SN = pd.concat([sl_avg_deaths['National'], sl_avg_deaths_sum], axis =1, keys=['National','Sum of Regions'])\n",
    "#sl_avg_deaths_SN"
   ]
  },
  {
   "cell_type": "code",
   "execution_count": 7,
   "metadata": {
    "collapsed": true
   },
   "outputs": [],
   "source": [
    "all_files = glob.glob(DATA_FOLDER + r'/ebola/liberia_data/*.csv')\n",
    "\n",
    "frames = []\n",
    "\n",
    "for f in all_files:\n",
    "    new_frame = pd.read_csv(f)\n",
    "    frames.append(new_frame)\n",
    "    \n",
    "lib = pd.concat(frames)\n",
    "lib_deaths = ['Total death/s in confirmed, probable, suspected cases']\n",
    "lib_newcases = ['Newly reported contacts']"
   ]
  },
  {
   "cell_type": "code",
   "execution_count": 8,
   "metadata": {
    "collapsed": true
   },
   "outputs": [],
   "source": [
    "lib_avg_new_case = compute_daily_averages(lib, 'Variable', lib_newcases, 'Date')\n",
    "lib_avg_new_case_sum = lib_avg_new_case.drop('National', axis = 1).sum(axis = 1)\n",
    "lib_avg_new_case_SN = pd.concat([lib_avg_new_case['National'], lib_avg_new_case_sum], axis =1, keys=['National','Sum of Regions'])\n",
    "#lib_avg_new_case_SN"
   ]
  },
  {
   "cell_type": "code",
   "execution_count": 9,
   "metadata": {
    "collapsed": true
   },
   "outputs": [],
   "source": [
    "lib_avg_deaths = compute_daily_averages(lib, 'Variable', lib_deaths, 'Date')\n",
    "lib_avg_deaths_sum = lib_avg_deaths.drop('National', axis = 1).sum(axis = 1)\n",
    "lib_avg_deaths_SN = pd.concat([lib_avg_deaths['National'], lib_avg_deaths_sum], axis =1, keys=['National','Sum of Regions'])\n",
    "#lib_avg_deaths_SN"
   ]
  },
  {
   "cell_type": "code",
   "execution_count": 10,
   "metadata": {
    "collapsed": true
   },
   "outputs": [],
   "source": [
    "all_files = glob.glob(DATA_FOLDER + r'/ebola/guinea_data/*.csv')\n",
    "\n",
    "frames = []\n",
    "\n",
    "for f in all_files:\n",
    "    new_frame = pd.read_csv(f)\n",
    "    frames.append(new_frame)\n",
    "    \n",
    "guinea = pd.concat(frames)\n",
    "#not sure whether to include \"New deaths registered among health workers\"\n",
    "guinea_deaths = ['New deaths registered']\n",
    "#not sure whether to include \"New cases of confirmed among health workers\"\n",
    "guinea_newcases = ['New cases of suspects', 'New cases of probables', 'New cases of confirmed']"
   ]
  },
  {
   "cell_type": "code",
   "execution_count": 11,
   "metadata": {
    "collapsed": true
   },
   "outputs": [],
   "source": [
    "g2 =guinea[guinea.Description.isin(guinea_newcases + guinea_deaths)]"
   ]
  },
  {
   "cell_type": "code",
   "execution_count": 12,
   "metadata": {
    "collapsed": true
   },
   "outputs": [],
   "source": [
    "for c in guinea.columns.difference(['Date', 'Description']):\n",
    "    g2[c] = g2[c].astype(float)"
   ]
  },
  {
   "cell_type": "code",
   "execution_count": 13,
   "metadata": {
    "collapsed": true
   },
   "outputs": [],
   "source": [
    "guinea_avg_new_case = compute_daily_averages(g2, 'Description', guinea_newcases, 'Date')\n",
    "guinea_avg_new_case_sum = guinea_avg_new_case.drop('Totals', axis = 1).sum(axis = 1)\n",
    "guinea_avg_new_case_SN = pd.concat([guinea_avg_new_case['Totals'], guinea_avg_new_case_sum], axis =1, keys=['National','Sum of Regions'])\n",
    "#guinea_avg_new_case_SN"
   ]
  },
  {
   "cell_type": "code",
   "execution_count": 14,
   "metadata": {
    "collapsed": true
   },
   "outputs": [],
   "source": [
    "guinea_avg_deaths = compute_daily_averages(g2, 'Description', guinea_deaths, 'Date')\n",
    "guinea_avg_deaths_sum = guinea_avg_deaths.drop('Totals', axis = 1).sum(axis = 1)\n",
    "guinea_avg_deaths_SN = pd.concat([guinea_avg_deaths['Totals'], guinea_avg_deaths_sum], axis =1, keys=['National','Sum of Regions'])\n",
    "#guinea_avg_deaths_SN"
   ]
  },
  {
   "cell_type": "code",
   "execution_count": 15,
   "metadata": {},
   "outputs": [
    {
     "data": {
      "text/html": [
       "<div>\n",
       "<style>\n",
       "    .dataframe thead tr:only-child th {\n",
       "        text-align: right;\n",
       "    }\n",
       "\n",
       "    .dataframe thead th {\n",
       "        text-align: left;\n",
       "    }\n",
       "\n",
       "    .dataframe tbody tr th {\n",
       "        vertical-align: top;\n",
       "    }\n",
       "</style>\n",
       "<table border=\"1\" class=\"dataframe\">\n",
       "  <thead>\n",
       "    <tr style=\"text-align: right;\">\n",
       "      <th></th>\n",
       "      <th></th>\n",
       "      <th>Month</th>\n",
       "      <th>6</th>\n",
       "      <th>7</th>\n",
       "      <th>8</th>\n",
       "      <th>9</th>\n",
       "      <th>10</th>\n",
       "      <th>11</th>\n",
       "      <th>12</th>\n",
       "    </tr>\n",
       "  </thead>\n",
       "  <tbody>\n",
       "    <tr>\n",
       "      <th rowspan=\"4\" valign=\"top\">Sierra Leone</th>\n",
       "      <th rowspan=\"2\" valign=\"top\">New Cases</th>\n",
       "      <th>National</th>\n",
       "      <td>NaN</td>\n",
       "      <td>NaN</td>\n",
       "      <td>25.150000</td>\n",
       "      <td>40.689655</td>\n",
       "      <td>70.928571</td>\n",
       "      <td>75.238095</td>\n",
       "      <td>41.0</td>\n",
       "    </tr>\n",
       "    <tr>\n",
       "      <th>Sum of Regions</th>\n",
       "      <td>NaN</td>\n",
       "      <td>NaN</td>\n",
       "      <td>26.650000</td>\n",
       "      <td>42.827586</td>\n",
       "      <td>71.928571</td>\n",
       "      <td>78.571429</td>\n",
       "      <td>41.0</td>\n",
       "    </tr>\n",
       "    <tr>\n",
       "      <th rowspan=\"2\" valign=\"top\">Deaths</th>\n",
       "      <th>National</th>\n",
       "      <td>NaN</td>\n",
       "      <td>NaN</td>\n",
       "      <td>331.950000</td>\n",
       "      <td>488.000000</td>\n",
       "      <td>1162.357143</td>\n",
       "      <td>1453.476190</td>\n",
       "      <td>1607.6</td>\n",
       "    </tr>\n",
       "    <tr>\n",
       "      <th>Sum of Regions</th>\n",
       "      <td>NaN</td>\n",
       "      <td>NaN</td>\n",
       "      <td>374.050000</td>\n",
       "      <td>500.758621</td>\n",
       "      <td>1168.142857</td>\n",
       "      <td>1149.857143</td>\n",
       "      <td>1607.6</td>\n",
       "    </tr>\n",
       "    <tr>\n",
       "      <th rowspan=\"4\" valign=\"top\">Liberia</th>\n",
       "      <th rowspan=\"2\" valign=\"top\">New Cases</th>\n",
       "      <th>National</th>\n",
       "      <td>27.142857</td>\n",
       "      <td>21.000000</td>\n",
       "      <td>129.222222</td>\n",
       "      <td>246.291667</td>\n",
       "      <td>205.640000</td>\n",
       "      <td>139.533333</td>\n",
       "      <td>48.0</td>\n",
       "    </tr>\n",
       "    <tr>\n",
       "      <th>Sum of Regions</th>\n",
       "      <td>27.142857</td>\n",
       "      <td>21.000000</td>\n",
       "      <td>129.222222</td>\n",
       "      <td>246.291667</td>\n",
       "      <td>205.640000</td>\n",
       "      <td>145.600000</td>\n",
       "      <td>48.0</td>\n",
       "    </tr>\n",
       "    <tr>\n",
       "      <th rowspan=\"2\" valign=\"top\">Deaths</th>\n",
       "      <th>National</th>\n",
       "      <td>32.000000</td>\n",
       "      <td>94.454545</td>\n",
       "      <td>518.111111</td>\n",
       "      <td>1417.291667</td>\n",
       "      <td>2387.217391</td>\n",
       "      <td>2700.000000</td>\n",
       "      <td>NaN</td>\n",
       "    </tr>\n",
       "    <tr>\n",
       "      <th>Sum of Regions</th>\n",
       "      <td>30.857143</td>\n",
       "      <td>94.454545</td>\n",
       "      <td>518.111111</td>\n",
       "      <td>1417.291667</td>\n",
       "      <td>2285.956522</td>\n",
       "      <td>2700.000000</td>\n",
       "      <td>NaN</td>\n",
       "    </tr>\n",
       "    <tr>\n",
       "      <th rowspan=\"4\" valign=\"top\">Guinea</th>\n",
       "      <th rowspan=\"2\" valign=\"top\">New Cases</th>\n",
       "      <th>National</th>\n",
       "      <td>NaN</td>\n",
       "      <td>NaN</td>\n",
       "      <td>25.800000</td>\n",
       "      <td>19.625000</td>\n",
       "      <td>34.000000</td>\n",
       "      <td>NaN</td>\n",
       "      <td>NaN</td>\n",
       "    </tr>\n",
       "    <tr>\n",
       "      <th>Sum of Regions</th>\n",
       "      <td>NaN</td>\n",
       "      <td>NaN</td>\n",
       "      <td>25.800000</td>\n",
       "      <td>19.312500</td>\n",
       "      <td>34.000000</td>\n",
       "      <td>NaN</td>\n",
       "      <td>NaN</td>\n",
       "    </tr>\n",
       "    <tr>\n",
       "      <th rowspan=\"2\" valign=\"top\">Deaths</th>\n",
       "      <th>National</th>\n",
       "      <td>NaN</td>\n",
       "      <td>NaN</td>\n",
       "      <td>3.750000</td>\n",
       "      <td>3.562500</td>\n",
       "      <td>15.000000</td>\n",
       "      <td>NaN</td>\n",
       "      <td>NaN</td>\n",
       "    </tr>\n",
       "    <tr>\n",
       "      <th>Sum of Regions</th>\n",
       "      <td>NaN</td>\n",
       "      <td>NaN</td>\n",
       "      <td>3.500000</td>\n",
       "      <td>3.562500</td>\n",
       "      <td>15.000000</td>\n",
       "      <td>NaN</td>\n",
       "      <td>NaN</td>\n",
       "    </tr>\n",
       "  </tbody>\n",
       "</table>\n",
       "</div>"
      ],
      "text/plain": [
       "Month                                         6          7           8   \\\n",
       "Sierra Leone New Cases National              NaN        NaN   25.150000   \n",
       "                       Sum of Regions        NaN        NaN   26.650000   \n",
       "             Deaths    National              NaN        NaN  331.950000   \n",
       "                       Sum of Regions        NaN        NaN  374.050000   \n",
       "Liberia      New Cases National        27.142857  21.000000  129.222222   \n",
       "                       Sum of Regions  27.142857  21.000000  129.222222   \n",
       "             Deaths    National        32.000000  94.454545  518.111111   \n",
       "                       Sum of Regions  30.857143  94.454545  518.111111   \n",
       "Guinea       New Cases National              NaN        NaN   25.800000   \n",
       "                       Sum of Regions        NaN        NaN   25.800000   \n",
       "             Deaths    National              NaN        NaN    3.750000   \n",
       "                       Sum of Regions        NaN        NaN    3.500000   \n",
       "\n",
       "Month                                           9            10           11  \\\n",
       "Sierra Leone New Cases National          40.689655    70.928571    75.238095   \n",
       "                       Sum of Regions    42.827586    71.928571    78.571429   \n",
       "             Deaths    National         488.000000  1162.357143  1453.476190   \n",
       "                       Sum of Regions   500.758621  1168.142857  1149.857143   \n",
       "Liberia      New Cases National         246.291667   205.640000   139.533333   \n",
       "                       Sum of Regions   246.291667   205.640000   145.600000   \n",
       "             Deaths    National        1417.291667  2387.217391  2700.000000   \n",
       "                       Sum of Regions  1417.291667  2285.956522  2700.000000   \n",
       "Guinea       New Cases National          19.625000    34.000000          NaN   \n",
       "                       Sum of Regions    19.312500    34.000000          NaN   \n",
       "             Deaths    National           3.562500    15.000000          NaN   \n",
       "                       Sum of Regions     3.562500    15.000000          NaN   \n",
       "\n",
       "Month                                      12  \n",
       "Sierra Leone New Cases National          41.0  \n",
       "                       Sum of Regions    41.0  \n",
       "             Deaths    National        1607.6  \n",
       "                       Sum of Regions  1607.6  \n",
       "Liberia      New Cases National          48.0  \n",
       "                       Sum of Regions    48.0  \n",
       "             Deaths    National           NaN  \n",
       "                       Sum of Regions     NaN  \n",
       "Guinea       New Cases National           NaN  \n",
       "                       Sum of Regions     NaN  \n",
       "             Deaths    National           NaN  \n",
       "                       Sum of Regions     NaN  "
      ]
     },
     "execution_count": 15,
     "metadata": {},
     "output_type": "execute_result"
    }
   ],
   "source": [
    "sl_avg = pd.concat([sl_avg_new_case_SN,sl_avg_deaths_SN], axis=1, keys=['New Cases','Deaths'])\n",
    "lib_avg = pd.concat([lib_avg_new_case_SN,lib_avg_deaths_SN], axis=1, keys=['New Cases','Deaths'])\n",
    "guinea_avg = pd.concat([guinea_avg_new_case_SN,guinea_avg_deaths_SN], axis=1, keys=['New Cases','Deaths'])\n",
    "results = pd.concat([sl_avg,lib_avg,guinea_avg], axis=1, keys=['Sierra Leone','Liberia','Guinea']).transpose()\n",
    "results"
   ]
  },
  {
   "cell_type": "markdown",
   "metadata": {},
   "source": [
    "## Task 2. RNA Sequences\n",
    "\n",
    "In the `DATA_FOLDER/microbiome` subdirectory, there are 9 spreadsheets of microbiome data that was acquired from high-throughput RNA sequencing procedures, along with a 10<sup>th</sup> file that describes the content of each. \n",
    "\n",
    "Use pandas to import the first 9 spreadsheets into a single `DataFrame`.\n",
    "Then, add the metadata information from the 10<sup>th</sup> spreadsheet as columns in the combined `DataFrame`.\n",
    "Make sure that the final `DataFrame` has a unique index and all the `NaN` values have been replaced by the tag `unknown`."
   ]
  },
  {
   "cell_type": "code",
   "execution_count": 16,
   "metadata": {
    "collapsed": true
   },
   "outputs": [],
   "source": [
    "data_folder = DATA_FOLDER + '/microbiome'\n",
    "data_files = glob.glob(data_folder + r'/MID*.xls')\n",
    "metadata_file = data_folder + '/metadata.xls'"
   ]
  },
  {
   "cell_type": "code",
   "execution_count": 17,
   "metadata": {
    "collapsed": true
   },
   "outputs": [],
   "source": [
    "data_frames = []\n",
    "for f in data_files:\n",
    "    df = pd.read_excel(f, sheetname='Sheet 1', header=None, names=['Taxon', 'Count'])\n",
    "    name = os.path.splitext(os.path.basename(f))[0]\n",
    "    df['BARCODE'] = name\n",
    "    data_frames.append(df)\n",
    "    \n",
    "data = pd.concat(data_frames)\n",
    "metadata = pd.read_excel(metadata_file, sheetname='Sheet1')"
   ]
  },
  {
   "cell_type": "code",
   "execution_count": 18,
   "metadata": {},
   "outputs": [
    {
     "data": {
      "text/html": [
       "<div>\n",
       "<style>\n",
       "    .dataframe thead tr:only-child th {\n",
       "        text-align: right;\n",
       "    }\n",
       "\n",
       "    .dataframe thead th {\n",
       "        text-align: left;\n",
       "    }\n",
       "\n",
       "    .dataframe tbody tr th {\n",
       "        vertical-align: top;\n",
       "    }\n",
       "</style>\n",
       "<table border=\"1\" class=\"dataframe\">\n",
       "  <thead>\n",
       "    <tr style=\"text-align: right;\">\n",
       "      <th></th>\n",
       "      <th></th>\n",
       "      <th></th>\n",
       "      <th>Count</th>\n",
       "    </tr>\n",
       "    <tr>\n",
       "      <th>GROUP</th>\n",
       "      <th>SAMPLE</th>\n",
       "      <th>Taxon</th>\n",
       "      <th></th>\n",
       "    </tr>\n",
       "  </thead>\n",
       "  <tbody>\n",
       "    <tr>\n",
       "      <th rowspan=\"30\" valign=\"top\">EXTRACTION CONTROL</th>\n",
       "      <th rowspan=\"30\" valign=\"top\">unknown</th>\n",
       "      <th>Archaea \"Crenarchaeota\" Thermoprotei Desulfurococcales Desulfurococcaceae Ignisphaera</th>\n",
       "      <td>7</td>\n",
       "    </tr>\n",
       "    <tr>\n",
       "      <th>Archaea \"Crenarchaeota\" Thermoprotei Desulfurococcales Pyrodictiaceae Pyrolobus</th>\n",
       "      <td>2</td>\n",
       "    </tr>\n",
       "    <tr>\n",
       "      <th>Archaea \"Crenarchaeota\" Thermoprotei Sulfolobales Sulfolobaceae Stygiolobus</th>\n",
       "      <td>3</td>\n",
       "    </tr>\n",
       "    <tr>\n",
       "      <th>Archaea \"Crenarchaeota\" Thermoprotei Thermoproteales Thermofilaceae Thermofilum</th>\n",
       "      <td>3</td>\n",
       "    </tr>\n",
       "    <tr>\n",
       "      <th>Archaea \"Euryarchaeota\" \"Methanomicrobia\" Methanocellales Methanocellaceae Methanocella</th>\n",
       "      <td>7</td>\n",
       "    </tr>\n",
       "    <tr>\n",
       "      <th>Archaea \"Euryarchaeota\" \"Methanomicrobia\" Methanosarcinales Methanosarcinaceae Methanimicrococcus</th>\n",
       "      <td>1</td>\n",
       "    </tr>\n",
       "    <tr>\n",
       "      <th>Archaea \"Euryarchaeota\" \"Methanomicrobia\" Methanosarcinales Methermicoccaceae Methermicoccus</th>\n",
       "      <td>1</td>\n",
       "    </tr>\n",
       "    <tr>\n",
       "      <th>Archaea \"Euryarchaeota\" Archaeoglobi Archaeoglobales Archaeoglobaceae Ferroglobus</th>\n",
       "      <td>1</td>\n",
       "    </tr>\n",
       "    <tr>\n",
       "      <th>Archaea \"Euryarchaeota\" Archaeoglobi Archaeoglobales Archaeoglobaceae Geoglobus</th>\n",
       "      <td>1</td>\n",
       "    </tr>\n",
       "    <tr>\n",
       "      <th>Archaea \"Euryarchaeota\" Halobacteria Halobacteriales Halobacteriaceae Haloplanus</th>\n",
       "      <td>1</td>\n",
       "    </tr>\n",
       "    <tr>\n",
       "      <th>Archaea \"Euryarchaeota\" Halobacteria Halobacteriales Halobacteriaceae Haloquadratum</th>\n",
       "      <td>4</td>\n",
       "    </tr>\n",
       "    <tr>\n",
       "      <th>Archaea \"Euryarchaeota\" Halobacteria Halobacteriales Halobacteriaceae Halosimplex</th>\n",
       "      <td>1</td>\n",
       "    </tr>\n",
       "    <tr>\n",
       "      <th>Archaea \"Euryarchaeota\" Halobacteria Halobacteriales Halobacteriaceae Natronobacterium</th>\n",
       "      <td>2</td>\n",
       "    </tr>\n",
       "    <tr>\n",
       "      <th>Archaea \"Euryarchaeota\" Halobacteria Halobacteriales Halobacteriaceae Natronomonas</th>\n",
       "      <td>4</td>\n",
       "    </tr>\n",
       "    <tr>\n",
       "      <th>Archaea \"Euryarchaeota\" Methanococci Methanococcales Methanocaldococcaceae Methanotorris</th>\n",
       "      <td>1</td>\n",
       "    </tr>\n",
       "    <tr>\n",
       "      <th>Archaea \"Euryarchaeota\" Methanopyri Methanopyrales Methanopyraceae Methanopyrus</th>\n",
       "      <td>12</td>\n",
       "    </tr>\n",
       "    <tr>\n",
       "      <th>Archaea \"Euryarchaeota\" Thermoplasmata Thermoplasmatales Thermoplasmatales_incertae_sedis Thermogymnomonas</th>\n",
       "      <td>2</td>\n",
       "    </tr>\n",
       "    <tr>\n",
       "      <th>Bacteria \"Actinobacteria\" Actinobacteria Actinomycetales Acidothermaceae Acidothermus</th>\n",
       "      <td>2</td>\n",
       "    </tr>\n",
       "    <tr>\n",
       "      <th>Bacteria \"Actinobacteria\" Actinobacteria Actinomycetales Beutenbergiaceae Salana</th>\n",
       "      <td>1</td>\n",
       "    </tr>\n",
       "    <tr>\n",
       "      <th>Bacteria \"Actinobacteria\" Actinobacteria Actinomycetales Bogoriellaceae Bogoriella</th>\n",
       "      <td>1</td>\n",
       "    </tr>\n",
       "    <tr>\n",
       "      <th>Bacteria \"Actinobacteria\" Actinobacteria Actinomycetales Cellulomonadaceae Tropheryma</th>\n",
       "      <td>1</td>\n",
       "    </tr>\n",
       "    <tr>\n",
       "      <th>Bacteria \"Actinobacteria\" Actinobacteria Actinomycetales Corynebacteriaceae Turicella</th>\n",
       "      <td>2</td>\n",
       "    </tr>\n",
       "    <tr>\n",
       "      <th>Bacteria \"Actinobacteria\" Actinobacteria Actinomycetales Cryptosporangiaceae Cryptosporangium</th>\n",
       "      <td>53</td>\n",
       "    </tr>\n",
       "    <tr>\n",
       "      <th>Bacteria \"Actinobacteria\" Actinobacteria Actinomycetales Dermabacteraceae Dermabacter</th>\n",
       "      <td>1</td>\n",
       "    </tr>\n",
       "    <tr>\n",
       "      <th>Bacteria \"Actinobacteria\" Actinobacteria Actinomycetales Dermabacteraceae Devriesea</th>\n",
       "      <td>2</td>\n",
       "    </tr>\n",
       "    <tr>\n",
       "      <th>Bacteria \"Actinobacteria\" Actinobacteria Actinomycetales Dermatophilaceae Kineosphaera</th>\n",
       "      <td>3</td>\n",
       "    </tr>\n",
       "    <tr>\n",
       "      <th>Bacteria \"Actinobacteria\" Actinobacteria Actinomycetales Frankineae_incertae_sedis Fodinicola</th>\n",
       "      <td>1</td>\n",
       "    </tr>\n",
       "    <tr>\n",
       "      <th>Bacteria \"Actinobacteria\" Actinobacteria Actinomycetales Geodermatophilaceae Blastococcus</th>\n",
       "      <td>99</td>\n",
       "    </tr>\n",
       "    <tr>\n",
       "      <th>Bacteria \"Actinobacteria\" Actinobacteria Actinomycetales Geodermatophilaceae Geodermatophilus</th>\n",
       "      <td>17</td>\n",
       "    </tr>\n",
       "    <tr>\n",
       "      <th>Bacteria \"Actinobacteria\" Actinobacteria Actinomycetales Intrasporangiaceae Kribbia</th>\n",
       "      <td>2</td>\n",
       "    </tr>\n",
       "    <tr>\n",
       "      <th>...</th>\n",
       "      <th>...</th>\n",
       "      <th>...</th>\n",
       "      <td>...</td>\n",
       "    </tr>\n",
       "    <tr>\n",
       "      <th rowspan=\"30\" valign=\"top\">Control 2</th>\n",
       "      <th rowspan=\"30\" valign=\"top\">stool</th>\n",
       "      <th>Bacteria \"Proteobacteria\" Gammaproteobacteria Oceanospirillales Oceanospirillaceae Neptuniibacter</th>\n",
       "      <td>10</td>\n",
       "    </tr>\n",
       "    <tr>\n",
       "      <th>Bacteria \"Proteobacteria\" Gammaproteobacteria Oceanospirillales Oceanospirillales_incertae_sedis Spongiispira</th>\n",
       "      <td>1</td>\n",
       "    </tr>\n",
       "    <tr>\n",
       "      <th>Bacteria \"Proteobacteria\" Gammaproteobacteria Oceanospirillales Oleiphilaceae Oleiphilus</th>\n",
       "      <td>1</td>\n",
       "    </tr>\n",
       "    <tr>\n",
       "      <th>Bacteria \"Proteobacteria\" Gammaproteobacteria Pasteurellales Pasteurellaceae Haemophilus</th>\n",
       "      <td>1</td>\n",
       "    </tr>\n",
       "    <tr>\n",
       "      <th>Bacteria \"Proteobacteria\" Gammaproteobacteria Pseudomonadales Moraxellaceae Alkanindiges</th>\n",
       "      <td>12</td>\n",
       "    </tr>\n",
       "    <tr>\n",
       "      <th>Bacteria \"Proteobacteria\" Gammaproteobacteria Pseudomonadales Moraxellaceae Perlucidibaca</th>\n",
       "      <td>4</td>\n",
       "    </tr>\n",
       "    <tr>\n",
       "      <th>Bacteria \"Proteobacteria\" Gammaproteobacteria Pseudomonadales Pseudomonadaceae Azomonas</th>\n",
       "      <td>805</td>\n",
       "    </tr>\n",
       "    <tr>\n",
       "      <th>Bacteria \"Proteobacteria\" Gammaproteobacteria Pseudomonadales Pseudomonadaceae Azorhizophilus</th>\n",
       "      <td>862</td>\n",
       "    </tr>\n",
       "    <tr>\n",
       "      <th>Bacteria \"Proteobacteria\" Gammaproteobacteria Pseudomonadales Pseudomonadaceae Azotobacter</th>\n",
       "      <td>12</td>\n",
       "    </tr>\n",
       "    <tr>\n",
       "      <th>Bacteria \"Proteobacteria\" Gammaproteobacteria Pseudomonadales Pseudomonadaceae Pseudomonas</th>\n",
       "      <td>3534</td>\n",
       "    </tr>\n",
       "    <tr>\n",
       "      <th>Bacteria \"Proteobacteria\" Gammaproteobacteria Thiotrichales Piscirickettsiaceae Cycloclasticus</th>\n",
       "      <td>4</td>\n",
       "    </tr>\n",
       "    <tr>\n",
       "      <th>Bacteria \"Proteobacteria\" Gammaproteobacteria Thiotrichales Piscirickettsiaceae Sulfurivirga</th>\n",
       "      <td>1</td>\n",
       "    </tr>\n",
       "    <tr>\n",
       "      <th>Bacteria \"Proteobacteria\" Gammaproteobacteria Thiotrichales Thiotrichaceae Beggiatoa</th>\n",
       "      <td>25</td>\n",
       "    </tr>\n",
       "    <tr>\n",
       "      <th>Bacteria \"Proteobacteria\" Gammaproteobacteria Thiotrichales Thiotrichales_incertae_sedis Fangia</th>\n",
       "      <td>2</td>\n",
       "    </tr>\n",
       "    <tr>\n",
       "      <th>Bacteria \"Proteobacteria\" Gammaproteobacteria Xanthomonadales Sinobacteraceae Alkanibacter</th>\n",
       "      <td>3</td>\n",
       "    </tr>\n",
       "    <tr>\n",
       "      <th>Bacteria \"Proteobacteria\" Gammaproteobacteria Xanthomonadales Sinobacteraceae Sinobacter</th>\n",
       "      <td>2</td>\n",
       "    </tr>\n",
       "    <tr>\n",
       "      <th>Bacteria \"Proteobacteria\" Gammaproteobacteria Xanthomonadales Xanthomonadaceae Aquimonas</th>\n",
       "      <td>1</td>\n",
       "    </tr>\n",
       "    <tr>\n",
       "      <th>Bacteria \"Proteobacteria\" Gammaproteobacteria Xanthomonadales Xanthomonadaceae Frateuria</th>\n",
       "      <td>3</td>\n",
       "    </tr>\n",
       "    <tr>\n",
       "      <th>Bacteria \"Proteobacteria\" Gammaproteobacteria Xanthomonadales Xanthomonadaceae Ignatzschineria</th>\n",
       "      <td>2</td>\n",
       "    </tr>\n",
       "    <tr>\n",
       "      <th>Bacteria \"Proteobacteria\" Gammaproteobacteria Xanthomonadales Xanthomonadaceae Luteibacter</th>\n",
       "      <td>1</td>\n",
       "    </tr>\n",
       "    <tr>\n",
       "      <th>Bacteria \"Synergistetes\" Synergistia Synergistales Synergistaceae Aminomonas</th>\n",
       "      <td>3</td>\n",
       "    </tr>\n",
       "    <tr>\n",
       "      <th>Bacteria \"Tenericutes\" Mollicutes Anaeroplasmatales Anaeroplasmataceae Asteroleplasma</th>\n",
       "      <td>1</td>\n",
       "    </tr>\n",
       "    <tr>\n",
       "      <th>Bacteria \"Tenericutes\" Mollicutes Haloplasmatales Haloplasmataceae Haloplasma</th>\n",
       "      <td>11</td>\n",
       "    </tr>\n",
       "    <tr>\n",
       "      <th>Bacteria \"Thermodesulfobacteria\" Thermodesulfobacteria Thermodesulfobacteriales Thermodesulfobacteriaceae Caldimicrobium</th>\n",
       "      <td>1</td>\n",
       "    </tr>\n",
       "    <tr>\n",
       "      <th>Bacteria \"Thermodesulfobacteria\" Thermodesulfobacteria Thermodesulfobacteriales Thermodesulfobacteriaceae Thermodesulfatator</th>\n",
       "      <td>1</td>\n",
       "    </tr>\n",
       "    <tr>\n",
       "      <th>Bacteria \"Thermotogae\" Thermotogae Thermotogales Thermotogaceae Geotoga</th>\n",
       "      <td>43</td>\n",
       "    </tr>\n",
       "    <tr>\n",
       "      <th>Bacteria \"Thermotogae\" Thermotogae Thermotogales Thermotogaceae Kosmotoga</th>\n",
       "      <td>16</td>\n",
       "    </tr>\n",
       "    <tr>\n",
       "      <th>Bacteria \"Verrucomicrobia\" Opitutae Opitutales Opitutaceae Opitutus</th>\n",
       "      <td>1</td>\n",
       "    </tr>\n",
       "    <tr>\n",
       "      <th>Bacteria Cyanobacteria Cyanobacteria  Chloroplast Chlorarachniophyceae</th>\n",
       "      <td>1</td>\n",
       "    </tr>\n",
       "    <tr>\n",
       "      <th>Bacteria Cyanobacteria Cyanobacteria  Chloroplast Streptophyta</th>\n",
       "      <td>10</td>\n",
       "    </tr>\n",
       "  </tbody>\n",
       "</table>\n",
       "<p>2396 rows × 1 columns</p>\n",
       "</div>"
      ],
      "text/plain": [
       "                                                                               Count\n",
       "GROUP              SAMPLE  Taxon                                                    \n",
       "EXTRACTION CONTROL unknown Archaea \"Crenarchaeota\" Thermoprotei Desulfuroc...      7\n",
       "                           Archaea \"Crenarchaeota\" Thermoprotei Desulfuroc...      2\n",
       "                           Archaea \"Crenarchaeota\" Thermoprotei Sulfolobal...      3\n",
       "                           Archaea \"Crenarchaeota\" Thermoprotei Thermoprot...      3\n",
       "                           Archaea \"Euryarchaeota\" \"Methanomicrobia\" Metha...      7\n",
       "                           Archaea \"Euryarchaeota\" \"Methanomicrobia\" Metha...      1\n",
       "                           Archaea \"Euryarchaeota\" \"Methanomicrobia\" Metha...      1\n",
       "                           Archaea \"Euryarchaeota\" Archaeoglobi Archaeoglo...      1\n",
       "                           Archaea \"Euryarchaeota\" Archaeoglobi Archaeoglo...      1\n",
       "                           Archaea \"Euryarchaeota\" Halobacteria Halobacter...      1\n",
       "                           Archaea \"Euryarchaeota\" Halobacteria Halobacter...      4\n",
       "                           Archaea \"Euryarchaeota\" Halobacteria Halobacter...      1\n",
       "                           Archaea \"Euryarchaeota\" Halobacteria Halobacter...      2\n",
       "                           Archaea \"Euryarchaeota\" Halobacteria Halobacter...      4\n",
       "                           Archaea \"Euryarchaeota\" Methanococci Methanococ...      1\n",
       "                           Archaea \"Euryarchaeota\" Methanopyri Methanopyra...     12\n",
       "                           Archaea \"Euryarchaeota\" Thermoplasmata Thermopl...      2\n",
       "                           Bacteria \"Actinobacteria\" Actinobacteria Actino...      2\n",
       "                           Bacteria \"Actinobacteria\" Actinobacteria Actino...      1\n",
       "                           Bacteria \"Actinobacteria\" Actinobacteria Actino...      1\n",
       "                           Bacteria \"Actinobacteria\" Actinobacteria Actino...      1\n",
       "                           Bacteria \"Actinobacteria\" Actinobacteria Actino...      2\n",
       "                           Bacteria \"Actinobacteria\" Actinobacteria Actino...     53\n",
       "                           Bacteria \"Actinobacteria\" Actinobacteria Actino...      1\n",
       "                           Bacteria \"Actinobacteria\" Actinobacteria Actino...      2\n",
       "                           Bacteria \"Actinobacteria\" Actinobacteria Actino...      3\n",
       "                           Bacteria \"Actinobacteria\" Actinobacteria Actino...      1\n",
       "                           Bacteria \"Actinobacteria\" Actinobacteria Actino...     99\n",
       "                           Bacteria \"Actinobacteria\" Actinobacteria Actino...     17\n",
       "                           Bacteria \"Actinobacteria\" Actinobacteria Actino...      2\n",
       "...                                                                              ...\n",
       "Control 2          stool   Bacteria \"Proteobacteria\" Gammaproteobacteria O...     10\n",
       "                           Bacteria \"Proteobacteria\" Gammaproteobacteria O...      1\n",
       "                           Bacteria \"Proteobacteria\" Gammaproteobacteria O...      1\n",
       "                           Bacteria \"Proteobacteria\" Gammaproteobacteria P...      1\n",
       "                           Bacteria \"Proteobacteria\" Gammaproteobacteria P...     12\n",
       "                           Bacteria \"Proteobacteria\" Gammaproteobacteria P...      4\n",
       "                           Bacteria \"Proteobacteria\" Gammaproteobacteria P...    805\n",
       "                           Bacteria \"Proteobacteria\" Gammaproteobacteria P...    862\n",
       "                           Bacteria \"Proteobacteria\" Gammaproteobacteria P...     12\n",
       "                           Bacteria \"Proteobacteria\" Gammaproteobacteria P...   3534\n",
       "                           Bacteria \"Proteobacteria\" Gammaproteobacteria T...      4\n",
       "                           Bacteria \"Proteobacteria\" Gammaproteobacteria T...      1\n",
       "                           Bacteria \"Proteobacteria\" Gammaproteobacteria T...     25\n",
       "                           Bacteria \"Proteobacteria\" Gammaproteobacteria T...      2\n",
       "                           Bacteria \"Proteobacteria\" Gammaproteobacteria X...      3\n",
       "                           Bacteria \"Proteobacteria\" Gammaproteobacteria X...      2\n",
       "                           Bacteria \"Proteobacteria\" Gammaproteobacteria X...      1\n",
       "                           Bacteria \"Proteobacteria\" Gammaproteobacteria X...      3\n",
       "                           Bacteria \"Proteobacteria\" Gammaproteobacteria X...      2\n",
       "                           Bacteria \"Proteobacteria\" Gammaproteobacteria X...      1\n",
       "                           Bacteria \"Synergistetes\" Synergistia Synergista...      3\n",
       "                           Bacteria \"Tenericutes\" Mollicutes Anaeroplasmat...      1\n",
       "                           Bacteria \"Tenericutes\" Mollicutes Haloplasmatal...     11\n",
       "                           Bacteria \"Thermodesulfobacteria\" Thermodesulfob...      1\n",
       "                           Bacteria \"Thermodesulfobacteria\" Thermodesulfob...      1\n",
       "                           Bacteria \"Thermotogae\" Thermotogae Thermotogale...     43\n",
       "                           Bacteria \"Thermotogae\" Thermotogae Thermotogale...     16\n",
       "                           Bacteria \"Verrucomicrobia\" Opitutae Opitutales ...      1\n",
       "                           Bacteria Cyanobacteria Cyanobacteria  Chloropla...      1\n",
       "                           Bacteria Cyanobacteria Cyanobacteria  Chloropla...     10\n",
       "\n",
       "[2396 rows x 1 columns]"
      ]
     },
     "execution_count": 18,
     "metadata": {},
     "output_type": "execute_result"
    }
   ],
   "source": [
    "bacteria_df = pd.merge(data, metadata).fillna('unknown').set_index(['GROUP', 'SAMPLE', 'Taxon'])[['Count']]\n",
    "bacteria_df"
   ]
  },
  {
   "cell_type": "code",
   "execution_count": 19,
   "metadata": {},
   "outputs": [
    {
     "data": {
      "text/plain": [
       "True"
      ]
     },
     "execution_count": 19,
     "metadata": {},
     "output_type": "execute_result"
    }
   ],
   "source": [
    "bacteria_df.index.is_unique"
   ]
  },
  {
   "cell_type": "markdown",
   "metadata": {},
   "source": [
    "## Task 3. Class War in Titanic\n",
    "\n",
    "Use pandas to import the data file `Data/titanic.xls`. It contains data on all the passengers that travelled on the Titanic."
   ]
  },
  {
   "cell_type": "code",
   "execution_count": 20,
   "metadata": {},
   "outputs": [
    {
     "data": {
      "text/html": [
       "<hr><h2>Data frame:titanic3</h2>1309 observations and 14 variables, maximum # NAs:1188<hr>\n",
       "<TABLE BORDER>\n",
       "<tr><td>Name</td><td>Labels</td><td>Units</td><td>Levels</td><td>Storage</td><td>NAs</td></tr>\n",
       "<tr><td>pclass</td><td></td><td></td><td><a href=\"#pclass\"><div align=right>  3</div></a></td><td>integer</td><td><div align=right>   0</div></td></tr>\n",
       "<tr><td>survived</td><td>Survived</td><td></td><td><div align=right></div></td><td>double</td><td><div align=right>   0</div></td></tr>\n",
       "<tr><td>name</td><td>Name</td><td></td><td><div align=right></div></td><td>character</td><td><div align=right>   0</div></td></tr>\n",
       "<tr><td>sex</td><td></td><td></td><td><a href=\"#sex\"><div align=right>  2</div></a></td><td>integer</td><td><div align=right>   0</div></td></tr>\n",
       "<tr><td>age</td><td>Age</td><td>Year</td><td><div align=right></div></td><td>double</td><td><div align=right> 263</div></td></tr>\n",
       "<tr><td>sibsp</td><td>Number of Siblings/Spouses Aboard</td><td></td><td><div align=right></div></td><td>double</td><td><div align=right>   0</div></td></tr>\n",
       "<tr><td>parch</td><td>Number of Parents/Children Aboard</td><td></td><td><div align=right></div></td><td>double</td><td><div align=right>   0</div></td></tr>\n",
       "<tr><td>ticket</td><td>Ticket Number</td><td></td><td><div align=right></div></td><td>character</td><td><div align=right>   0</div></td></tr>\n",
       "<tr><td>fare</td><td>Passenger Fare</td><td>British Pound (\\243)</td><td><div align=right></div></td><td>double</td><td><div align=right>   1</div></td></tr>\n",
       "<tr><td>cabin</td><td></td><td></td><td><a href=\"#cabin\"><div align=right>187</div></a></td><td>integer</td><td><div align=right>   0</div></td></tr>\n",
       "<tr><td>embarked</td><td></td><td></td><td><a href=\"#embarked\"><div align=right>  3</div></a></td><td>integer</td><td><div align=right>   2</div></td></tr>\n",
       "<tr><td>boat</td><td></td><td></td><td><a href=\"#boat\"><div align=right> 28</div></a></td><td>integer</td><td><div align=right>   0</div></td></tr>\n",
       "<tr><td>body</td><td>Body Identification Number</td><td></td><td><div align=right></div></td><td>double</td><td><div align=right>1188</div></td></tr>\n",
       "<tr><td>home.dest</td><td>Home/Destination</td><td></td><td><div align=right></div></td><td>character</td><td><div align=right>   0</div></td></tr>\n",
       "</TABLE>\n",
       "<hr>\n",
       "<TABLE BORDER>\n",
       "<tr><td>Variable</td><td>Levels</td></tr>\n",
       "<tr><td><a name=\"pclass\">pclass</a></td><td>1st</td></tr>\n",
       "<tr><td></td><td>2nd</td></tr>\n",
       "<tr><td></td><td>3rd</td></tr>\n",
       "<tr><td><a name=\"sex\">sex</a></td><td>female</td></tr>\n",
       "<tr><td></td><td>male</td></tr>\n",
       "<tr><td><a name=\"cabin\">cabin</a></td><td></td></tr>\n",
       "<tr><td></td><td>A10</td></tr>\n",
       "<tr><td></td><td>A11</td></tr>\n",
       "<tr><td></td><td>A14</td></tr>\n",
       "<tr><td></td><td>A16</td></tr>\n",
       "<tr><td></td><td>A18</td></tr>\n",
       "<tr><td></td><td>A19</td></tr>\n",
       "<tr><td></td><td>A20</td></tr>\n",
       "<tr><td></td><td>A21</td></tr>\n",
       "<tr><td></td><td>A23</td></tr>\n",
       "<tr><td></td><td>A24</td></tr>\n",
       "<tr><td></td><td>A26</td></tr>\n",
       "<tr><td></td><td>A29</td></tr>\n",
       "<tr><td></td><td>A31</td></tr>\n",
       "<tr><td></td><td>A32</td></tr>\n",
       "<tr><td></td><td>A34</td></tr>\n",
       "<tr><td></td><td>A36</td></tr>\n",
       "<tr><td></td><td>A5</td></tr>\n",
       "<tr><td></td><td>A6</td></tr>\n",
       "<tr><td></td><td>A7</td></tr>\n",
       "<tr><td></td><td>A9</td></tr>\n",
       "<tr><td></td><td>B10</td></tr>\n",
       "<tr><td></td><td>B101</td></tr>\n",
       "<tr><td></td><td>B102</td></tr>\n",
       "<tr><td></td><td>B11</td></tr>\n",
       "<tr><td></td><td>B18</td></tr>\n",
       "<tr><td></td><td>B19</td></tr>\n",
       "<tr><td></td><td>B20</td></tr>\n",
       "<tr><td></td><td>B22</td></tr>\n",
       "<tr><td></td><td>B24</td></tr>\n",
       "<tr><td></td><td>B26</td></tr>\n",
       "<tr><td></td><td>B28</td></tr>\n",
       "<tr><td></td><td>B3</td></tr>\n",
       "<tr><td></td><td>B30</td></tr>\n",
       "<tr><td></td><td>B35</td></tr>\n",
       "<tr><td></td><td>B36</td></tr>\n",
       "<tr><td></td><td>B37</td></tr>\n",
       "<tr><td></td><td>B38</td></tr>\n",
       "<tr><td></td><td>B39</td></tr>\n",
       "<tr><td></td><td>B4</td></tr>\n",
       "<tr><td></td><td>B41</td></tr>\n",
       "<tr><td></td><td>B42</td></tr>\n",
       "<tr><td></td><td>B45</td></tr>\n",
       "<tr><td></td><td>B49</td></tr>\n",
       "<tr><td></td><td>B5</td></tr>\n",
       "<tr><td></td><td>B50</td></tr>\n",
       "<tr><td></td><td>B51 B53 B55</td></tr>\n",
       "<tr><td></td><td>B52 B54 B56</td></tr>\n",
       "<tr><td></td><td>B57 B59 B63 B66</td></tr>\n",
       "<tr><td></td><td>B58 B60</td></tr>\n",
       "<tr><td></td><td>B61</td></tr>\n",
       "<tr><td></td><td>B69</td></tr>\n",
       "<tr><td></td><td>B71</td></tr>\n",
       "<tr><td></td><td>B73</td></tr>\n",
       "<tr><td></td><td>B77</td></tr>\n",
       "<tr><td></td><td>B78</td></tr>\n",
       "<tr><td></td><td>B79</td></tr>\n",
       "<tr><td></td><td>B80</td></tr>\n",
       "<tr><td></td><td>B82 B84</td></tr>\n",
       "<tr><td></td><td>B86</td></tr>\n",
       "<tr><td></td><td>B94</td></tr>\n",
       "<tr><td></td><td>B96 B98</td></tr>\n",
       "<tr><td></td><td>C101</td></tr>\n",
       "<tr><td></td><td>C103</td></tr>\n",
       "<tr><td></td><td>C104</td></tr>\n",
       "<tr><td></td><td>C105</td></tr>\n",
       "<tr><td></td><td>C106</td></tr>\n",
       "<tr><td></td><td>C110</td></tr>\n",
       "<tr><td></td><td>C111</td></tr>\n",
       "<tr><td></td><td>C116</td></tr>\n",
       "<tr><td></td><td>C118</td></tr>\n",
       "<tr><td></td><td>C123</td></tr>\n",
       "<tr><td></td><td>C124</td></tr>\n",
       "<tr><td></td><td>C125</td></tr>\n",
       "<tr><td></td><td>C126</td></tr>\n",
       "<tr><td></td><td>C128</td></tr>\n",
       "<tr><td></td><td>C130</td></tr>\n",
       "<tr><td></td><td>C132</td></tr>\n",
       "<tr><td></td><td>C148</td></tr>\n",
       "<tr><td></td><td>C2</td></tr>\n",
       "<tr><td></td><td>C22 C26</td></tr>\n",
       "<tr><td></td><td>C23 C25 C27</td></tr>\n",
       "<tr><td></td><td>C28</td></tr>\n",
       "<tr><td></td><td>C30</td></tr>\n",
       "<tr><td></td><td>C31</td></tr>\n",
       "<tr><td></td><td>C32</td></tr>\n",
       "<tr><td></td><td>C39</td></tr>\n",
       "<tr><td></td><td>C45</td></tr>\n",
       "<tr><td></td><td>C46</td></tr>\n",
       "<tr><td></td><td>C47</td></tr>\n",
       "<tr><td></td><td>C49</td></tr>\n",
       "<tr><td></td><td>C50</td></tr>\n",
       "<tr><td></td><td>C51</td></tr>\n",
       "<tr><td></td><td>C52</td></tr>\n",
       "<tr><td></td><td>C53</td></tr>\n",
       "<tr><td></td><td>C54</td></tr>\n",
       "<tr><td></td><td>C55 C57</td></tr>\n",
       "<tr><td></td><td>C6</td></tr>\n",
       "<tr><td></td><td>C62 C64</td></tr>\n",
       "<tr><td></td><td>C65</td></tr>\n",
       "<tr><td></td><td>C68</td></tr>\n",
       "<tr><td></td><td>C7</td></tr>\n",
       "<tr><td></td><td>C70</td></tr>\n",
       "<tr><td></td><td>C78</td></tr>\n",
       "<tr><td></td><td>C80</td></tr>\n",
       "<tr><td></td><td>C82</td></tr>\n",
       "<tr><td></td><td>C83</td></tr>\n",
       "<tr><td></td><td>C85</td></tr>\n",
       "<tr><td></td><td>C86</td></tr>\n",
       "<tr><td></td><td>C87</td></tr>\n",
       "<tr><td></td><td>C89</td></tr>\n",
       "<tr><td></td><td>C90</td></tr>\n",
       "<tr><td></td><td>C91</td></tr>\n",
       "<tr><td></td><td>C92</td></tr>\n",
       "<tr><td></td><td>C93</td></tr>\n",
       "<tr><td></td><td>C95</td></tr>\n",
       "<tr><td></td><td>C97</td></tr>\n",
       "<tr><td></td><td>C99</td></tr>\n",
       "<tr><td></td><td>D</td></tr>\n",
       "<tr><td></td><td>D10 D12</td></tr>\n",
       "<tr><td></td><td>D11</td></tr>\n",
       "<tr><td></td><td>D15</td></tr>\n",
       "<tr><td></td><td>D17</td></tr>\n",
       "<tr><td></td><td>D19</td></tr>\n",
       "<tr><td></td><td>D20</td></tr>\n",
       "<tr><td></td><td>D21</td></tr>\n",
       "<tr><td></td><td>D22</td></tr>\n",
       "<tr><td></td><td>D26</td></tr>\n",
       "<tr><td></td><td>D28</td></tr>\n",
       "<tr><td></td><td>D30</td></tr>\n",
       "<tr><td></td><td>D33</td></tr>\n",
       "<tr><td></td><td>D34</td></tr>\n",
       "<tr><td></td><td>D35</td></tr>\n",
       "<tr><td></td><td>D36</td></tr>\n",
       "<tr><td></td><td>D37</td></tr>\n",
       "<tr><td></td><td>D38</td></tr>\n",
       "<tr><td></td><td>D40</td></tr>\n",
       "<tr><td></td><td>D43</td></tr>\n",
       "<tr><td></td><td>D45</td></tr>\n",
       "<tr><td></td><td>D46</td></tr>\n",
       "<tr><td></td><td>D47</td></tr>\n",
       "<tr><td></td><td>D48</td></tr>\n",
       "<tr><td></td><td>D49</td></tr>\n",
       "<tr><td></td><td>D50</td></tr>\n",
       "<tr><td></td><td>D56</td></tr>\n",
       "<tr><td></td><td>D6</td></tr>\n",
       "<tr><td></td><td>D7</td></tr>\n",
       "<tr><td></td><td>D9</td></tr>\n",
       "<tr><td></td><td>E10</td></tr>\n",
       "<tr><td></td><td>E101</td></tr>\n",
       "<tr><td></td><td>E12</td></tr>\n",
       "<tr><td></td><td>E121</td></tr>\n",
       "<tr><td></td><td>E17</td></tr>\n",
       "<tr><td></td><td>E24</td></tr>\n",
       "<tr><td></td><td>E25</td></tr>\n",
       "<tr><td></td><td>E31</td></tr>\n",
       "<tr><td></td><td>E33</td></tr>\n",
       "<tr><td></td><td>E34</td></tr>\n",
       "<tr><td></td><td>E36</td></tr>\n",
       "<tr><td></td><td>E38</td></tr>\n",
       "<tr><td></td><td>E39 E41</td></tr>\n",
       "<tr><td></td><td>E40</td></tr>\n",
       "<tr><td></td><td>E44</td></tr>\n",
       "<tr><td></td><td>E45</td></tr>\n",
       "<tr><td></td><td>E46</td></tr>\n",
       "<tr><td></td><td>E49</td></tr>\n",
       "<tr><td></td><td>E50</td></tr>\n",
       "<tr><td></td><td>E52</td></tr>\n",
       "<tr><td></td><td>E58</td></tr>\n",
       "<tr><td></td><td>E60</td></tr>\n",
       "<tr><td></td><td>E63</td></tr>\n",
       "<tr><td></td><td>E67</td></tr>\n",
       "<tr><td></td><td>E68</td></tr>\n",
       "<tr><td></td><td>E77</td></tr>\n",
       "<tr><td></td><td>E8</td></tr>\n",
       "<tr><td></td><td>F</td></tr>\n",
       "<tr><td></td><td>F E46</td></tr>\n",
       "<tr><td></td><td>F E57</td></tr>\n",
       "<tr><td></td><td>F E69</td></tr>\n",
       "<tr><td></td><td>F G63</td></tr>\n",
       "<tr><td></td><td>F G73</td></tr>\n",
       "<tr><td></td><td>F2</td></tr>\n",
       "<tr><td></td><td>F33</td></tr>\n",
       "<tr><td></td><td>F38</td></tr>\n",
       "<tr><td></td><td>F4</td></tr>\n",
       "<tr><td></td><td>G6</td></tr>\n",
       "<tr><td></td><td>T</td></tr>\n",
       "<tr><td><a name=\"embarked\">embarked</a></td><td>Cherbourg</td></tr>\n",
       "<tr><td></td><td>Queenstown</td></tr>\n",
       "<tr><td></td><td>Southampton</td></tr>\n",
       "<tr><td><a name=\"boat\">boat</a></td><td></td></tr>\n",
       "<tr><td></td><td>1</td></tr>\n",
       "<tr><td></td><td>10</td></tr>\n",
       "<tr><td></td><td>11</td></tr>\n",
       "<tr><td></td><td>12</td></tr>\n",
       "<tr><td></td><td>13</td></tr>\n",
       "<tr><td></td><td>13 15</td></tr>\n",
       "<tr><td></td><td>13 15 B</td></tr>\n",
       "<tr><td></td><td>14</td></tr>\n",
       "<tr><td></td><td>15</td></tr>\n",
       "<tr><td></td><td>15 16</td></tr>\n",
       "<tr><td></td><td>16</td></tr>\n",
       "<tr><td></td><td>2</td></tr>\n",
       "<tr><td></td><td>3</td></tr>\n",
       "<tr><td></td><td>4</td></tr>\n",
       "<tr><td></td><td>5</td></tr>\n",
       "<tr><td></td><td>5 7</td></tr>\n",
       "<tr><td></td><td>5 9</td></tr>\n",
       "<tr><td></td><td>6</td></tr>\n",
       "<tr><td></td><td>7</td></tr>\n",
       "<tr><td></td><td>8</td></tr>\n",
       "<tr><td></td><td>8 10</td></tr>\n",
       "<tr><td></td><td>9</td></tr>\n",
       "<tr><td></td><td>A</td></tr>\n",
       "<tr><td></td><td>B</td></tr>\n",
       "<tr><td></td><td>C</td></tr>\n",
       "<tr><td></td><td>C D</td></tr>\n",
       "<tr><td></td><td>D</td></tr>\n",
       "</TABLE>\n",
       "<hr>\n"
      ],
      "text/plain": [
       "<IPython.core.display.HTML object>"
      ]
     },
     "execution_count": 20,
     "metadata": {},
     "output_type": "execute_result"
    }
   ],
   "source": [
    "from IPython.core.display import HTML\n",
    "HTML(filename=DATA_FOLDER+'/titanic.html')"
   ]
  },
  {
   "cell_type": "markdown",
   "metadata": {},
   "source": [
    "For each of the following questions state clearly your assumptions and discuss your findings:\n",
    "1. Describe the *type* and the *value range* of each attribute. Indicate and transform the attributes that can be `Categorical`. \n",
    "2. Plot histograms for the *travel class*, *embarkation port*, *sex* and *age* attributes. For the latter one, use *discrete decade intervals*. \n",
    "3. Calculate the proportion of passengers by *cabin floor*. Present your results in a *pie chart*.\n",
    "4. For each *travel class*, calculate the proportion of the passengers that survived. Present your results in *pie charts*.\n",
    "5. Calculate the proportion of the passengers that survived by *travel class* and *sex*. Present your results in *a single histogram*.\n",
    "6. Create 2 equally populated *age categories* and calculate survival proportions by *age category*, *travel class* and *sex*. Present your results in a `DataFrame` with unique index."
   ]
  },
  {
   "cell_type": "markdown",
   "metadata": {
    "collapsed": true
   },
   "source": [
    "#### 1. Description of attributes\n",
    "Attribute | Type | Range\n",
    "--- | --- | ---\n",
    "pclass | category | 1, 2, 3\n",
    "survived | boolean | True, False\n",
    "name | string | N/A\n",
    "sex | category | female, male\n",
    "age | float | 0.167 - 80, NaN\n",
    "sibsp | integer | 0 - 8\n",
    "parch | integer | 0 - 9\n",
    "ticket | string | N/A\n",
    "fare | float | 0 - 512.33, NaN\n",
    "cabin | string | N/A\n",
    "embarked | category | C (Cherbourg), Q (Queenstown), S(Southampton)\n",
    "boat | category | A-D, 1-16\n",
    "body | float | 1 - 328, NaN\n",
    "home.dest | string | N/A\n",
    "\n",
    "Travel class, sex, port of embarkation, and boat are categorical attributes as they can only assume a small set of values. Survival could also be treated as a categorical attribute but we chose to represent it as a boolean instead.\n",
    "\n",
    "float was used for the body column instead of an integral type in order to allow this attribute to be NaN.\n",
    "Some entries list more than one boat for each passenger, probably due to uncertainty. We chose to only consider the first boat that appears in each entry."
   ]
  },
  {
   "cell_type": "code",
   "execution_count": 21,
   "metadata": {
    "collapsed": true
   },
   "outputs": [],
   "source": [
    "# Load data from the Excel spreadsheet (sheet 'titanic'), set data type of 'survived' to boolean\n",
    "df = pd.read_excel(DATA_FOLDER+'/titanic.xls', sheetname='titanic', dtype={'survived': 'bool'})\n",
    "\n",
    "# Only the first boat in each row is used, replace NaN with 'unknown'\n",
    "boat = df.boat.fillna('unknown').apply(lambda b: str(b).split(' ')[-1])\n",
    "df['boat'] = boat\n",
    "\n",
    "# Treat these attributes as categorical\n",
    "for c in ['pclass', 'sex', 'embarked', 'boat']:\n",
    "    df[c] = df[c].astype('category')"
   ]
  },
  {
   "cell_type": "markdown",
   "metadata": {},
   "source": [
    "#### 2. Histograms for the travel class, embarkation port, sex and age"
   ]
  },
  {
   "cell_type": "code",
   "execution_count": 22,
   "metadata": {
    "collapsed": true
   },
   "outputs": [],
   "source": [
    "# Draws a histogram with Seaborn\n",
    "def nice_bar_plot(xlbl, data):\n",
    "    fig, ax = plt.subplots()\n",
    "    ax.set_title(xlbl, fontsize=15, fontweight='bold')\n",
    "    ax.set_ylabel('Number')\n",
    "    sns.barplot(data, data.keys(), ax=ax)"
   ]
  },
  {
   "cell_type": "code",
   "execution_count": 23,
   "metadata": {},
   "outputs": [
    {
     "data": {
      "image/png": "[encoded data removed]",
      "text/plain": [
       "<matplotlib.figure.Figure at 0x1a0a14869e8>"
      ]
     },
     "metadata": {},
     "output_type": "display_data"
    },
    {
     "data": {
      "image/png": "[encoded data removed]",
      "text/plain": [
       "<matplotlib.figure.Figure at 0x1a0a1497518>"
      ]
     },
     "metadata": {},
     "output_type": "display_data"
    },
    {
     "data": {
      "image/png": "[encoded data removed]",
      "text/plain": [
       "<matplotlib.figure.Figure at 0x1a09edecdd8>"
      ]
     },
     "metadata": {},
     "output_type": "display_data"
    },
    {
     "data": {
      "image/png": "[encoded data removed]",
      "text/plain": [
       "<matplotlib.figure.Figure at 0x1a0a29f8160>"
      ]
     },
     "metadata": {},
     "output_type": "display_data"
    }
   ],
   "source": [
    "# Draw histogram of age distribution\n",
    "fig, ax = plt.subplots()\n",
    "ax.set_title('Age distribution by decade', fontsize=15, fontweight='bold')\n",
    "ax.set_xlabel('Age')\n",
    "ax.set_ylabel('Number')\n",
    "# The difference between maximum and minimum age is 80, so use 8 bins\n",
    "ax.hist(df.age.dropna(), bins=8)\n",
    "\n",
    "nice_bar_plot('Passengers by travel class', df.pclass)\n",
    "nice_bar_plot('Passengers by embarcation port', df.embarked)\n",
    "nice_bar_plot('Passengers by sex', df.sex)"
   ]
  },
  {
   "cell_type": "markdown",
   "metadata": {},
   "source": [
    "#### 3. Passenger distribution by cabin floor"
   ]
  },
  {
   "cell_type": "code",
   "execution_count": 24,
   "metadata": {
    "scrolled": true
   },
   "outputs": [
    {
     "data": {
      "text/plain": [
       "([<matplotlib.patches.Wedge at 0x1a0a2b3d978>,\n",
       "  <matplotlib.patches.Wedge at 0x1a0a2b44b70>,\n",
       "  <matplotlib.patches.Wedge at 0x1a0a2b4cd68>,\n",
       "  <matplotlib.patches.Wedge at 0x1a0a2b52f60>,\n",
       "  <matplotlib.patches.Wedge at 0x1a0a2b63198>,\n",
       "  <matplotlib.patches.Wedge at 0x1a0a2b6c390>,\n",
       "  <matplotlib.patches.Wedge at 0x1a0a14efa90>,\n",
       "  <matplotlib.patches.Wedge at 0x1a0a2b79710>],\n",
       " [<matplotlib.text.Text at 0x1a0a2b44128>,\n",
       "  <matplotlib.text.Text at 0x1a0a2b4c320>,\n",
       "  <matplotlib.text.Text at 0x1a0a2b52518>,\n",
       "  <matplotlib.text.Text at 0x1a0a2b5b710>,\n",
       "  <matplotlib.text.Text at 0x1a0a2b63908>,\n",
       "  <matplotlib.text.Text at 0x1a0a2b6cb00>,\n",
       "  <matplotlib.text.Text at 0x1a0a2b73cc0>,\n",
       "  <matplotlib.text.Text at 0x1a0a2b79eb8>],\n",
       " [<matplotlib.text.Text at 0x1a0a2b445f8>,\n",
       "  <matplotlib.text.Text at 0x1a0a2b4c7f0>,\n",
       "  <matplotlib.text.Text at 0x1a0a2b529e8>,\n",
       "  <matplotlib.text.Text at 0x1a0a2b5bbe0>,\n",
       "  <matplotlib.text.Text at 0x1a0a2b63dd8>,\n",
       "  <matplotlib.text.Text at 0x1a0a2b6cfd0>,\n",
       "  <matplotlib.text.Text at 0x1a0a2b791d0>,\n",
       "  <matplotlib.text.Text at 0x1a0a2b813c8>])"
      ]
     },
     "execution_count": 24,
     "metadata": {},
     "output_type": "execute_result"
    },
    {
     "data": {
      "image/png": "[encoded data removed]",
      "text/plain": [
       "<matplotlib.figure.Figure at 0x1a0a14866a0>"
      ]
     },
     "metadata": {},
     "output_type": "display_data"
    }
   ],
   "source": [
    "# The cabin floor is the first letter of the cabin's name. If the cabin names has two letters (e.g. F G63)\n",
    "# the first indicates the floor. The T cabin is on the boat deck so it should be counted as a separate floor.\n",
    "floor = df.cabin.dropna().apply(lambda c: c[0])\n",
    "pie_data = floor.value_counts()\n",
    "plt.pie(pie_data, labels=pie_data.index.values, autopct='%.2f%%')"
   ]
  },
  {
   "cell_type": "markdown",
   "metadata": {},
   "source": [
    "#### 4. Survival rate by travel class"
   ]
  },
  {
   "cell_type": "code",
   "execution_count": 25,
   "metadata": {
    "collapsed": true
   },
   "outputs": [],
   "source": [
    "# Count how many rows have survived == True among those that have pclass == val, then display a pie chart\n",
    "def class_pie_chart(df, val):\n",
    "    pie_class = df[df.pclass == val]['survived'].value_counts()\n",
    "    plt.pie(pie_class, labels = pie_class.index.values, autopct='%.2f%%')"
   ]
  },
  {
   "cell_type": "markdown",
   "metadata": {},
   "source": [
    "#### 4.1. Survival rate of first class passengers"
   ]
  },
  {
   "cell_type": "code",
   "execution_count": 26,
   "metadata": {
    "scrolled": true
   },
   "outputs": [
    {
     "data": {
      "image/png": "[encoded data removed]",
      "text/plain": [
       "<matplotlib.figure.Figure at 0x1a0a2b81dd8>"
      ]
     },
     "metadata": {},
     "output_type": "display_data"
    }
   ],
   "source": [
    "class_pie_chart(df, 1)"
   ]
  },
  {
   "cell_type": "markdown",
   "metadata": {},
   "source": [
    "#### 4.2. Survival rate of second class passengers"
   ]
  },
  {
   "cell_type": "code",
   "execution_count": 27,
   "metadata": {
    "scrolled": true
   },
   "outputs": [
    {
     "data": {
      "image/png": "[encoded data removed]",
      "text/plain": [
       "<matplotlib.figure.Figure at 0x1a0a2bb0358>"
      ]
     },
     "metadata": {},
     "output_type": "display_data"
    }
   ],
   "source": [
    "class_pie_chart(df, 2)"
   ]
  },
  {
   "cell_type": "markdown",
   "metadata": {},
   "source": [
    "#### 4.3. Survival rate of third class passengers"
   ]
  },
  {
   "cell_type": "code",
   "execution_count": 28,
   "metadata": {
    "scrolled": true
   },
   "outputs": [
    {
     "data": {
      "image/png": "[encoded data removed]",
      "text/plain": [
       "<matplotlib.figure.Figure at 0x1a0a2a739e8>"
      ]
     },
     "metadata": {},
     "output_type": "display_data"
    }
   ],
   "source": [
    "class_pie_chart(df, 3)"
   ]
  },
  {
   "cell_type": "markdown",
   "metadata": {},
   "source": [
    "#### 5. Survival rate by travel class and sex"
   ]
  },
  {
   "cell_type": "code",
   "execution_count": 29,
   "metadata": {
    "collapsed": true
   },
   "outputs": [],
   "source": [
    "# Python coerces boolean values to integers, using 0 for False and 1 for True. Therefore the survival rate\n",
    "# of a group of passengers can be computed as the mean of the 'survived' value\n",
    "class_sex_grouped = df[['survived']].groupby([df.pclass, df.sex])"
   ]
  },
  {
   "cell_type": "code",
   "execution_count": 30,
   "metadata": {},
   "outputs": [
    {
     "data": {
      "image/png": "[encoded data removed]",
      "text/plain": [
       "<matplotlib.figure.Figure at 0x1a0a2ca5208>"
      ]
     },
     "metadata": {},
     "output_type": "display_data"
    }
   ],
   "source": [
    "nice_bar_plot('Survival rate by travel class and sex', class_sex_grouped.mean().survived)"
   ]
  },
  {
   "cell_type": "markdown",
   "metadata": {},
   "source": [
    "Create 2 equally populated age categories and calculate survival proportions by age category, travel class and sex. Present your results in a DataFrame with unique index."
   ]
  },
  {
   "cell_type": "code",
   "execution_count": 31,
   "metadata": {},
   "outputs": [
    {
     "data": {
      "text/html": [
       "<div>\n",
       "<style>\n",
       "    .dataframe thead tr:only-child th {\n",
       "        text-align: right;\n",
       "    }\n",
       "\n",
       "    .dataframe thead th {\n",
       "        text-align: left;\n",
       "    }\n",
       "\n",
       "    .dataframe tbody tr th {\n",
       "        vertical-align: top;\n",
       "    }\n",
       "</style>\n",
       "<table border=\"1\" class=\"dataframe\">\n",
       "  <thead>\n",
       "    <tr style=\"text-align: right;\">\n",
       "      <th></th>\n",
       "      <th></th>\n",
       "      <th></th>\n",
       "      <th>survived</th>\n",
       "    </tr>\n",
       "    <tr>\n",
       "      <th>age_category</th>\n",
       "      <th>pclass</th>\n",
       "      <th>sex</th>\n",
       "      <th></th>\n",
       "    </tr>\n",
       "  </thead>\n",
       "  <tbody>\n",
       "    <tr>\n",
       "      <th rowspan=\"6\" valign=\"top\">0</th>\n",
       "      <th rowspan=\"2\" valign=\"top\">1</th>\n",
       "      <th>female</th>\n",
       "      <td>0.951220</td>\n",
       "    </tr>\n",
       "    <tr>\n",
       "      <th>male</th>\n",
       "      <td>0.531250</td>\n",
       "    </tr>\n",
       "    <tr>\n",
       "      <th rowspan=\"2\" valign=\"top\">2</th>\n",
       "      <th>female</th>\n",
       "      <td>0.910714</td>\n",
       "    </tr>\n",
       "    <tr>\n",
       "      <th>male</th>\n",
       "      <td>0.216216</td>\n",
       "    </tr>\n",
       "    <tr>\n",
       "      <th rowspan=\"2\" valign=\"top\">3</th>\n",
       "      <th>female</th>\n",
       "      <td>0.513761</td>\n",
       "    </tr>\n",
       "    <tr>\n",
       "      <th>male</th>\n",
       "      <td>0.183036</td>\n",
       "    </tr>\n",
       "    <tr>\n",
       "      <th rowspan=\"6\" valign=\"top\">1</th>\n",
       "      <th rowspan=\"2\" valign=\"top\">1</th>\n",
       "      <th>female</th>\n",
       "      <td>0.967391</td>\n",
       "    </tr>\n",
       "    <tr>\n",
       "      <th>male</th>\n",
       "      <td>0.302521</td>\n",
       "    </tr>\n",
       "    <tr>\n",
       "      <th rowspan=\"2\" valign=\"top\">2</th>\n",
       "      <th>female</th>\n",
       "      <td>0.872340</td>\n",
       "    </tr>\n",
       "    <tr>\n",
       "      <th>male</th>\n",
       "      <td>0.083333</td>\n",
       "    </tr>\n",
       "    <tr>\n",
       "      <th rowspan=\"2\" valign=\"top\">3</th>\n",
       "      <th>female</th>\n",
       "      <td>0.372093</td>\n",
       "    </tr>\n",
       "    <tr>\n",
       "      <th>male</th>\n",
       "      <td>0.144000</td>\n",
       "    </tr>\n",
       "  </tbody>\n",
       "</table>\n",
       "</div>"
      ],
      "text/plain": [
       "                            survived\n",
       "age_category pclass sex             \n",
       "0            1      female  0.951220\n",
       "                    male    0.531250\n",
       "             2      female  0.910714\n",
       "                    male    0.216216\n",
       "             3      female  0.513761\n",
       "                    male    0.183036\n",
       "1            1      female  0.967391\n",
       "                    male    0.302521\n",
       "             2      female  0.872340\n",
       "                    male    0.083333\n",
       "             3      female  0.372093\n",
       "                    male    0.144000"
      ]
     },
     "execution_count": 31,
     "metadata": {},
     "output_type": "execute_result"
    }
   ],
   "source": [
    "agedf = df[['name','age', 'pclass', 'sex', 'survived']].sort_values('age').dropna().copy().reset_index(drop=True)\n",
    "agedf['survived'] = agedf.survived.astype('int')\n",
    "age_category = agedf.age.apply(lambda x: 0 if x <= agedf.age.median() else 1)\n",
    "agedf['age_category'] = age_category\n",
    "age_grouped = agedf[['name', 'pclass', 'sex', 'survived']].groupby([agedf.age_category, agedf.pclass, agedf.sex])\n",
    "age_grouped.mean()\n"
   ]
  }
 ],
 "metadata": {
  "kernelspec": {
   "display_name": "Python 3",
   "language": "python",
   "name": "python3"
  },
  "language_info": {
   "codemirror_mode": {
    "name": "ipython",
    "version": 3
   },
   "file_extension": ".py",
   "mimetype": "text/x-python",
   "name": "python",
   "nbconvert_exporter": "python",
   "pygments_lexer": "ipython3",
   "version": "3.6.1"
  }
 },
 "nbformat": 4,
 "nbformat_minor": 2
}
