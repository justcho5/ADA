{
 "cells": [
  {
   "cell_type": "markdown",
   "metadata": {},
   "source": [
    "# 03 - Interactive Viz\n",
    "\n",
    "## Deadline\n",
    "\n",
    "Wednesday November 8th, 2017 at 11:59PM\n",
    "\n",
    "## Important Notes\n",
    "\n",
    "- Make sure you push on GitHub your Notebook with all the cells already evaluated\n",
    "- Note that maps do not render in a standard Github environment : you should export them to HTML and link them in your notebook.\n",
    "- Remember that `.csv` is not the only data format. Though they might require additional processing, some formats provide better encoding support.\n",
    "- Don't forget to add a textual description of your thought process, the assumptions you made, and the solution you plan to implement!\n",
    "- Please write all your comments in English, and use meaningful variable names in your code\n",
    "\n",
    "## Background\n",
    "\n",
    "In this homework we will be exploring interactive visualization, which is a key ingredient of many successful data visualizations (especially when it comes to infographics).\n",
    "\n",
    "Unemployment rates are major economic metrics and a matter of concern for governments around the world. Though its definition may seem straightforward at first glance (usually defined as the number of unemployed people divided by the active population), it can be tricky to define consistently. For example, one must define what exactly unemployed means : looking for a job ? Having declared their unemployment ? Currently without a job ? Should students or recent graduates be included ? We could also wonder what the active population is : everyone in an age category (e.g. `16-64`) ? Anyone interested by finding a job ? Though these questions may seem subtle, they can have a large impact on the interpretation of the results : `3%` unemployment doesn't mean much if we don't know who is included in this percentage. \n",
    "\n",
    "In this homework you will be dealing with two different datasets from the statistics offices of the European commission ([eurostat](http://ec.europa.eu/eurostat/data/database)) and the Swiss Confederation ([amstat](https://www.amstat.ch)). They provide a variety of datasets with plenty of information on many different statistics and demographics at their respective scales. Unfortunately, as is often the case is data analysis, these websites are not always straightforward to navigate. They may include a lot of obscure categories, not always be translated into your native language, have strange link structures, â€¦ Navigating this complexity is part of a data scientists' job : you will have to use a few tricks to get the right data for this homework.\n",
    "\n",
    "For the visualization part, install [Folium](https://github.com/python-visualization/folium) (*HINT*: it is not available in your standard Anaconda environment, therefore search on the Web how to install it easily!). Folium's `README` comes with very clear examples, and links to their own iPython Notebooks -- make good use of this information. For your own convenience, in this same directory you can already find two `.topojson` files, containing the geo-coordinates of \n",
    "\n",
    "- European countries (*liberal definition of EU*) (`topojson/europe.topojson.json`, [source](https://github.com/leakyMirror/map-of-europe))\n",
    "- Swiss cantons (`topojson/ch-cantons.topojson.json`) \n",
    "\n",
    "These will be used as an overlay on the Folium maps.\n",
    "\n",
    "## Assignment\n",
    "\n",
    "1. Go to the [eurostat](http://ec.europa.eu/eurostat/data/database) website and try to find a dataset that includes the european unemployment rates at a recent date.\n",
    "\n",
    "   Use this data to build a [Choropleth map](https://en.wikipedia.org/wiki/Choropleth_map) which shows the unemployment rate in Europe at a country level. Think about [the colors you use](https://carto.com/academy/courses/intermediate-design/choose-colors-1/), how you decided to [split the intervals into data classes](http://gisgeography.com/choropleth-maps-data-classification/) or which interactions you could add in order to make the visualization intuitive and expressive. Compare Switzerland's unemployment rate to that of the rest of Europe.\n",
    "\n",
    "2. Go to the [amstat](https://www.amstat.ch) website to find a dataset that includes the unemployment rates in Switzerland at a recent date.\n",
    "\n",
    "   > *HINT* Go to the `details` tab to find the raw data you need. If you do not speak French, German or Italian, think of using free translation services to navigate your way through. \n",
    "\n",
    "   Use this data to build another Choropleth map, this time showing the unemployment rate at the level of swiss cantons. Again, try to make the map as expressive as possible, and comment on the trends you observe.\n",
    "\n",
    "   The Swiss Confederation defines the rates you have just plotted as the number of people looking for a job divided by the size of the active population (scaled by 100). This is surely a valid choice, but as we discussed one could argue for a different categorization.\n",
    "\n",
    "   Copy the map you have just created, but this time don't count in your statistics people who already have a job and are looking for a new one. How do your observations change ? You can repeat this with different choices of categories to see how selecting different metrics can lead to different interpretations of the same data.\n",
    "\n",
    "3. Use the [amstat](https://www.amstat.ch) website again to find a dataset that includes the unemployment rates in Switzerland at recent date, this time making a distinction between *Swiss* and *foreign* workers.\n",
    "\n",
    "   The Economic Secretary (SECO) releases [a monthly report](https://www.seco.admin.ch/seco/fr/home/Arbeit/Arbeitslosenversicherung/arbeitslosenzahlen.html) on the state of the employment market. In the latest report (September 2017), it is noted that there is a discrepancy between the unemployment rates for *foreign* (`5.1%`) and *Swiss* (`2.2%`) workers. \n",
    "\n",
    "   Show the difference in unemployment rates between the two categories in each canton on a Choropleth map (*hint* The easy way is to show two separate maps, but can you think of something better ?). Where are the differences most visible ? Why do you think that is ?\n",
    "\n",
    "   Now let's refine the analysis by adding the differences between age groups. As you may have guessed it is nearly impossible to plot so many variables on a map. Make a bar plot, which is a better suited visualization tool for this type of multivariate data.\n",
    "\n",
    "4. *BONUS*: using the map you have just built, and the geographical information contained in it, could you give a *rough estimate* of the difference in unemployment rates between the areas divided by the [Röstigraben](https://en.wikipedia.org/wiki/R%C3%B6stigraben)?"
   ]
  },
  {
   "cell_type": "markdown",
   "metadata": {},
   "source": [
    "## Task 1"
   ]
  },
  {
   "cell_type": "markdown",
   "metadata": {},
   "source": [
    "#### Strategy:\n",
    "There are many flavors of unemployment datasets on the eurostat website and we decided to use the annual survey (LFSA) results from the European Union Labour Force Survey (EU-LFS). According to the LFSA metadata, unemployed persons is defined as \"persons aged 15-74 who were without work during the reference week, were currently available for work and were either actively seeking work in the past four weeks or had already found a job to start within the next three months.\"\n",
    "\n",
    "Our approach is to first clean the data and extract the 2016 unemployment rates for EU and EFTA countries. We then use this data to build a Choropleth map. For our map, we choose the light orange to dark red range of colors because the colors in this range are easy to distinguish from each other. We associate the red with higher unemployment rates because we intuitively associate red with \"worse\" states.\n",
    "\n",
    "Then, we wanted to create popups for each country to expand the data. For these popups we display unemployment rates over a decade (from 2006 to 2016) for males, females, and all persons. \n",
    "\n",
    "The analysis follows our visualizations.\n",
    "   "
   ]
  },
  {
   "cell_type": "markdown",
   "metadata": {},
   "source": [
    "To start with, we load and clean up the annual unemployment rates in 2015 from ```lfsa```."
   ]
  },
  {
   "cell_type": "code",
   "execution_count": 4,
   "metadata": {
    "collapsed": true
   },
   "outputs": [],
   "source": [
    "# Modules that are needed\n",
    "import json\n",
    "import numpy as np\n",
    "import pandas as pd\n",
    "import folium"
   ]
  },
  {
   "cell_type": "code",
   "execution_count": 5,
   "metadata": {
    "collapsed": true
   },
   "outputs": [],
   "source": [
    "# Load EU unemployment data\n",
    "eu_rate_annual = pd.read_csv('Data/lfsa_urgan_1_Data.csv')\n",
    "\n",
    "eu_rate_annual['Value'] = eu_rate_annual['Value'].replace(to_replace = ':', value = float('NaN'))\n",
    "eu_rate_annual.Value = eu_rate_annual.Value.astype(float)\n",
    "\n",
    "# We clean the data to only include the necessary information: Country, Time, and Percentage\n",
    "eu_rate_annual.loc[eu_rate_annual['GEO'] == 'Germany (until 1990 former territory of the FRG)', 'GEO'] = 'Germany'\n",
    "eu_rate_annual.loc[eu_rate_annual['GEO'] == 'Former Yugoslav Republic of Macedonia, the', 'GEO'] = \"The former Yugoslav Republic of Macedonia\"\n",
    "\n",
    "\n",
    "\n",
    "eu_rate_annual = eu_rate_annual[~(eu_rate_annual['TIME']==2005)]\n",
    "eu_rate_annual = eu_rate_annual[~(eu_rate_annual['GEO'].isin(('European Union (28 countries)', \n",
    "                                'European Union (27 countries)', \n",
    "                                'European Union (15 countries)',\n",
    "                                'Euro area (19 countries)',\n",
    "                                'Euro area (18 countries)',\n",
    "                                'Euro area (17 countries)')))]\n",
    "eu_rate = eu_rate_annual[eu_rate_annual['AGE'] == 'From 15 to 74 years']\n",
    "eu_rate = eu_rate[eu_rate['SEX']== 'Total']\n",
    "eu_rate = eu_rate[eu_rate['TIME']== 2016]\n",
    "\n",
    "eu_rate = eu_rate[['GEO', 'TIME', 'Value']]\n",
    "eu_rate.columns = ['Country', 'Year', 'Percentage']\n",
    "eu_rate.Percentage = eu_rate.Percentage.astype(float)"
   ]
  },
  {
   "cell_type": "markdown",
   "metadata": {},
   "source": [
    "Here, we make the visualizations using vincent. First, we will visualize unemployment rate by gender (Male, Female), and then we will visualize unemployment rate by age groups (15-29, 30-39, 40-49, 50-59, 60-69, 70-74)."
   ]
  },
  {
   "cell_type": "code",
   "execution_count": 6,
   "metadata": {},
   "outputs": [
    {
     "data": {
      "text/html": [
       "\n",
       "           <script>\n",
       "               \n",
       "                function vct_load_lib(url, callback){\n",
       "                      if(typeof d3 !== 'undefined' &&\n",
       "                         url === 'http://d3js.org/d3.v3.min.js'){\n",
       "                        callback()\n",
       "                      }\n",
       "                      var s = document.createElement('script');\n",
       "                      s.src = url;\n",
       "                      s.async = true;\n",
       "                      s.onreadystatechange = s.onload = callback;\n",
       "                      s.onerror = function(){\n",
       "                        console.warn(\"failed to load library \" + url);\n",
       "                        };\n",
       "                      document.getElementsByTagName(\"head\")[0].appendChild(s);\n",
       "                };\n",
       "                var vincent_event = new CustomEvent(\n",
       "                  \"vincent_libs_loaded\",\n",
       "                  {bubbles: true, cancelable: true}\n",
       "                );\n",
       "                \n",
       "               function load_all_libs(){\n",
       "                  console.log('Loading Vincent libs...')\n",
       "                  vct_load_lib('http://d3js.org/d3.v3.min.js', function(){\n",
       "                  vct_load_lib('http://d3js.org/d3.geo.projection.v0.min.js', function(){\n",
       "                  vct_load_lib('http://wrobstory.github.io/d3-cloud/d3.layout.cloud.js', function(){\n",
       "                  vct_load_lib('http://wrobstory.github.io/vega/vega.v1.3.3.js', function(){\n",
       "                  window.dispatchEvent(vincent_event);\n",
       "                  });\n",
       "                  });\n",
       "                  });\n",
       "                  });\n",
       "               };\n",
       "               if(typeof define === \"function\" && define.amd){\n",
       "                    if (window['d3'] === undefined ||\n",
       "                        window['topojson'] === undefined){\n",
       "                        require.config(\n",
       "                            {paths: {\n",
       "                              d3: 'http://d3js.org/d3.v3.min',\n",
       "                              topojson: 'http://d3js.org/topojson.v1.min'\n",
       "                              }\n",
       "                            }\n",
       "                          );\n",
       "                        require([\"d3\"], function(d3){\n",
       "                            console.log('Loading Vincent from require.js...')\n",
       "                            window.d3 = d3;\n",
       "                            require([\"topojson\"], function(topojson){\n",
       "                                window.topojson = topojson;\n",
       "                                load_all_libs();\n",
       "                            });\n",
       "                        });\n",
       "                    } else {\n",
       "                        load_all_libs();\n",
       "                    };\n",
       "               }else{\n",
       "                    console.log('Require.js not found, loading manually...')\n",
       "                    load_all_libs();\n",
       "               };\n",
       "\n",
       "           </script>"
      ],
      "text/plain": [
       "<IPython.core.display.HTML object>"
      ]
     },
     "metadata": {},
     "output_type": "display_data"
    }
   ],
   "source": [
    "import vincent\n",
    "vincent.core.initialize_notebook()\n",
    "\n",
    "# For each EU/EFTA country, we plot the unemployment rates by Males and Females \n",
    "# between the ages of 15 and 74 years for the years 2006 to 2016.\n",
    "plots = eu_rate_annual[eu_rate_annual['AGE'] == 'From 15 to 74 years'][['GEO','SEX','TIME', 'Value']]\n",
    "plots.Value = plots.Value.astype(float)\n",
    "plots.TIME = plots.TIME.astype(str)\n",
    "\n",
    "# Separate the data into dataframes for unemployment rates of males and rates of females and merge them side by side\n",
    "male = plots[plots['SEX']=='Males']\n",
    "female = plots[plots['SEX']=='Females']\n",
    "result = pd.merge(male, female, how='left', on = ['GEO','TIME'])\n",
    "result = result[['GEO', 'TIME','Value_x', 'Value_y']]\n",
    "result.columns =['Country', 'year', 'Males', 'Females']\n",
    "\n",
    "\n",
    "# Array of countries\n",
    "countries = eu_rate['Country'].unique()\n",
    "\n",
    "# For each country, visualize the unemployment rates as grouped bar plots\n",
    "for country in countries:\n",
    "    plots = result[result['Country'] == country]\n",
    "    plots = plots[['year', 'Males', 'Females']]\n",
    "    plots = plots.set_index('year')\n",
    "    bar = vincent.GroupedBar(plots)\n",
    "    bar.axis_titles(x='Year', y='Unemployment Rate (%)')\n",
    "    bar.legend(title=country)\n",
    "    bar.height = 250\n",
    "    bar.width = 400\n",
    "\n",
    "    # Output visualization as a json\n",
    "    bar.to_json('Visualizations/%s_sex.json' %country)"
   ]
  },
  {
   "cell_type": "markdown",
   "metadata": {},
   "source": [
    "We will visualize unemployment rate by grouping in age groups (15-29, 30-39, 40-49, 50-59, 60-69, 70-74)."
   ]
  },
  {
   "cell_type": "code",
   "execution_count": 7,
   "metadata": {
    "collapsed": true
   },
   "outputs": [],
   "source": [
    "# For each EU/EFTA country, we plot the unemployment rates by age group \n",
    "# for each population for the years 2006 to 2016.\n",
    "plots_age = eu_rate_annual[eu_rate_annual['SEX'] == 'Total'][['GEO','AGE','TIME', 'Value']]\n",
    "plots_age['Value'] = plots_age['Value'].replace(to_replace = ':', value = float('NaN'))\n",
    "plots_age.Value = plots_age.Value.astype(float)\n",
    "\n",
    "# Separate the data into dataframes for unemployment rates of age groups\n",
    "age_range = plots_age['AGE'].unique().tolist()\n",
    "age_result = plots_age[plots_age['AGE']=='From 15 to 74 years']\n",
    "age_range.remove('From 15 to 74 years')\n",
    "\n",
    "# Merge the age group dataframes side by side\n",
    "for age in age_range:\n",
    "    age_result = pd.merge(age_result, plots_age[plots_age['AGE'] == age], how = 'left', on = ['GEO','TIME'], suffixes=(age, age) )\n",
    "\n",
    "# Clean up the resulting to dataframe to have Country, Year, and columns for age groups\n",
    "age_result.columns=['Country', 'AGE_x', 'Year', 'From 15 to 74 years', \n",
    "                    'AGEFrom 15 to 24 years','From 15 to 24 years', \n",
    "                    'AGE_x', 'From 25 to 29 years',\n",
    "                    'AGEFrom 30 to 34 years', 'From 30 to 34 years', \n",
    "                    'AGE_x','From 35 to 39 years', \n",
    "                    'AGEFrom 40 to 44 years', 'From 40 to 44 years',\n",
    "                    'AGE_x', 'From 45 to 49 years', \n",
    "                    'AGEFrom 50 to 54 years','From 50 to 54 years', \n",
    "                    'AGE_x', 'From 55 to 59 years',\n",
    "                    'AGEFrom 60 to 64 years', 'From 60 to 64 years', \n",
    "                    'AGE_x','From 65 to 69 years', \n",
    "                    'AGEFrom 70 to 74 years', 'From 70 to 74 years']\n",
    "\n",
    "\n",
    "age_result = age_result[['Country', \n",
    "                         'Year', \n",
    "                         'From 15 to 74 years',\n",
    "                         'From 15 to 24 years','From 25 to 29 years',\n",
    "                         'From 30 to 34 years','From 35 to 39 years',  \n",
    "                         'From 40 to 44 years','From 45 to 49 years',\n",
    "                         'From 50 to 54 years','From 55 to 59 years',\n",
    "                         'From 60 to 64 years','From 65 to 69 years', \n",
    "                         'From 70 to 74 years']]\n",
    "\n",
    "# For each country, visualize the unemployment rates by age groups as grouped bar plots. We first\n",
    "# average two consecutive groups to reduce the number of groups we plot.\n",
    "for country in countries:\n",
    "    plots_age = age_result[age_result['Country'] == country]\n",
    "    plots_age = plots_age.set_index('Year')\n",
    "\n",
    "    plots_age = plots_age[['From 15 to 24 years', \n",
    "                           'From 25 to 29 years',\n",
    "                           'From 30 to 34 years',\n",
    "                           'From 35 to 39 years',  \n",
    "                           'From 40 to 44 years',\n",
    "                           'From 45 to 49 years', \n",
    "                           'From 50 to 54 years', \n",
    "                           'From 55 to 59 years',\n",
    "                           'From 60 to 64 years', \n",
    "                           'From 65 to 69 years', \n",
    "                           'From 70 to 74 years']]\n",
    "    \n",
    "    # Take the mean of two consecutive columns of dataframe\n",
    "    age_grouped = pd.DataFrame()\n",
    "    for i in range(0, 11, 2):\n",
    "        if i < 10:\n",
    "            age_grouped[age_range[i]] = plots_age.iloc[:,[i,i+1]].mean(axis = 1, skipna = True)\n",
    "        else: \n",
    "            age_grouped[age_range[i]] = plots_age.iloc[:,i]\n",
    "    \n",
    "    # Rename the columns\n",
    "    age_grouped.columns = ['From 15 to 29 years',\n",
    "                           'From 30 to 39 years',\n",
    "                           'From 40 to 49 years',\n",
    "                           'From 50 to 59 years',\n",
    "                           'From 60 to 69 years',\n",
    "                           'From 70 to 79 years']\n",
    "    \n",
    "    # Create the grouped bar plots\n",
    "    bar = vincent.GroupedBar(age_grouped)\n",
    "    bar.axis_titles(x='Year', y='Unemployment Rate (%)')\n",
    "    bar.legend(title=country)\n",
    "    bar.colors(brew='Set1')\n",
    "    bar.height = 300\n",
    "    bar.width = 350\n",
    "    \n",
    "    # Output visualization as a json\n",
    "    bar.to_json('Visualizations/%s_age.json' %country)"
   ]
  },
  {
   "cell_type": "markdown",
   "metadata": {},
   "source": [
    "Now that we have our visualizations ready, we want to make our map! We first make a choropleth map by creating an overlay that displays our unemployment data as a color spectrum on the map. In addition we add popups to each country to display unemployment rates for males vs. females data over a decade. Then a second map contains unemployment rate based on age groups.\n",
    "\n",
    "Because folium has more render options for geojson file, we decide to transform topojson file to geojson file. We use [this website](http://jeffpaine.github.io/geojson-topojson/) to do the transformation."
   ]
  },
  {
   "cell_type": "code",
   "execution_count": 8,
   "metadata": {
    "collapsed": true
   },
   "outputs": [],
   "source": [
    "# We create the map\n",
    "eu_map = folium.Map(location=[57.51833,20.6122144],zoom_start=3)\n",
    "\n",
    "# load boundaries of countries\n",
    "geo_json_data = json.load(open('topojson/europe.geojson.json'))\n",
    "\n",
    "# We apply the europe geojson overlay and bind our unemployment rate data \n",
    "# to the geojson objects with a yellow to red color scale\n",
    "eu_map.choropleth(geo_data = geo_json_data,\n",
    "                  data = eu_rate,\n",
    "                  columns = ['Country', 'Percentage'],\n",
    "                  key_on = 'feature.properties.NAME',\n",
    "                  highlight = True,\n",
    "                  fill_color = 'OrRd',\n",
    "                  fill_opacity = 0.7,\n",
    "                  line_opacity = 0.2,\n",
    "                  legend_name = 'Unemployment rate in the EU (%)',\n",
    "                  name = '2016 unemployment rate'\n",
    "                 )"
   ]
  },
  {
   "cell_type": "markdown",
   "metadata": {},
   "source": [
    "We add popups to each country to display the unemployment rate over 2006 to 2016 for males and for females."
   ]
  },
  {
   "cell_type": "code",
   "execution_count": 9,
   "metadata": {
    "collapsed": true
   },
   "outputs": [],
   "source": [
    "# Here we create popups for each country and within the popups we load our bar plots that we created above.\n",
    "for feature in geo_json_data['features']:\n",
    "    name = feature['properties']['NAME']\n",
    "    if name in countries:\n",
    "        x = folium.GeoJson(feature['geometry'],\n",
    "                           name = feature['properties']['NAME']+'_gender',\n",
    "                           style_function = lambda x:{'fillOpacity': '0.0', 'color': 'black', 'weight': 1},\n",
    "                           highlight_function = lambda y: {'fillOpacity': '0.2'}\n",
    "                          ).add_child(folium.Popup(max_width=600).add_child(\n",
    "            folium.Vega(json.load(open('Visualizations/%s_sex.json' %name)), width=500, height=300))).add_to(eu_map)\n",
    "\n",
    "folium.LayerControl().add_to(eu_map)\n",
    "eu_map.save(outfile= 'eu_map.html')"
   ]
  },
  {
   "cell_type": "markdown",
   "metadata": {},
   "source": [
    "We do the same to visualize our age group figures on a map"
   ]
  },
  {
   "cell_type": "code",
   "execution_count": 10,
   "metadata": {
    "collapsed": true
   },
   "outputs": [],
   "source": [
    "# Here we a map to display our popups for each country. \n",
    "eu_map_age = folium.Map(location=[57.51833,20.6122144],zoom_start=3)\n",
    "\n",
    "eu_map_age.choropleth(geo_data = geo_json_data,\n",
    "                  data = eu_rate,\n",
    "                  columns = ['Country', 'Percentage'],\n",
    "                  key_on = 'feature.properties.NAME',\n",
    "                  highlight = True,\n",
    "                  fill_color = 'OrRd',\n",
    "                  fill_opacity = 0.7,\n",
    "                  line_opacity = 0.2,\n",
    "                  legend_name = 'Unemployment rate in the EU (%)',\n",
    "                  name = '2016 unemployment rate'\n",
    "                 )\n",
    "# We create popups for each country and within the popups we load our bar plots that we created above.\n",
    "for feature in geo_json_data['features']:\n",
    "    name = feature['properties']['NAME']\n",
    "    if name in countries:\n",
    "        x = folium.GeoJson(feature['geometry'],\n",
    "                           name = feature['properties']['NAME']+'_agegroup',\n",
    "                           style_function = lambda x:{'fillOpacity': '0.0', 'color': 'black', 'weight': 1},\n",
    "                           highlight_function = lambda y: {'fillOpacity': '0.2'}\n",
    "                          ).add_child(folium.Popup(max_width=600).add_child(\n",
    "            folium.Vega(json.load(open('Visualizations/%s_age.json' %name)), width=500, height=350))).add_to(eu_map_age)\n",
    "\n",
    "folium.LayerControl().add_to(eu_map_age)\n",
    "eu_map_age.save(outfile= 'eu_map_age.html')"
   ]
  },
  {
   "cell_type": "markdown",
   "metadata": {},
   "source": [
    "### MAP 1: Unemployment rate -> By Gender\n",
    "\n",
    "In this map, we first visualize the unemployment rate for 2016 in EU and EFTA countries. The intensity of the color corresponds to the unemployment rate. For example, countries with 20 percent and greater unemployment will be colored a darker red, and those with unemployment rates below 6 percent will be a light orange. \n",
    "\n",
    "Furthermore, we make the map interactive by allowing the user to click the countries to reveal a popup that displays unemployment rates of males and females in that country over the period of 2006 to 2016."
   ]
  },
  {
   "cell_type": "code",
   "execution_count": 11,
   "metadata": {},
   "outputs": [
    {
     "data": {
      "text/html": [
       "<iframe src=EU_unemployment_rate.html width=100% height=500></iframe>"
      ],
      "text/plain": [
       "<IPython.core.display.HTML object>"
      ]
     },
     "execution_count": 11,
     "metadata": {},
     "output_type": "execute_result"
    }
   ],
   "source": [
    "# display the map using html (may or may not work)\n",
    "from IPython.core.display import HTML\n",
    "url = 'EU_unemployment_rate.html'\n",
    "eu_map.save(url)\n",
    "HTML('<iframe src=' + url + ' width=100% height=500></iframe>')"
   ]
  },
  {
   "cell_type": "markdown",
   "metadata": {},
   "source": [
    "#### Observations:\n",
    "\n",
    "We can clearly see the differences in unemployment rate when visualized in this choropleth. It's apparent that Greece and the former Yugoslav Republic of Macedonia have the highest unemployment rates in 2016, both above 20%. We can click on these countries to observe unemployment trends over the years and based on gender. In Greece, the unemployment rate began to rise after 2008 and hit a peak around 2013 and has been slowly decreasing. From the popup, we see that the unemployment rate of females is higher than of males. In 2006, the average unemployment rate was relatively low between 5 and 13%. For the former Yugoslave Rep. of Macedonia, the unemployment rate in the past decade has always been relatively high between 23 to 35%. It has consistently been decreasing from ~35% to ~23%. Furthermore, the unemployment rate of females is lower than of males.\n",
    "\n",
    "In Switzerland, the unemployment rate has always been relatively low, from 3.5 to 5%. Although low, we can see that the unemployment rate of females was higher than males a decade ago, but now they are relatively the same."
   ]
  },
  {
   "cell_type": "markdown",
   "metadata": {},
   "source": [
    "### MAP 2: Unemployment rate --> By age group\n",
    "While analyzing the unemployment data, we were also provided with unemployment rates within age groups. We create another map to present this data. Like above, we create popups for each country which display the unemployment rate in age groups from 2006 to 2016."
   ]
  },
  {
   "cell_type": "code",
   "execution_count": 12,
   "metadata": {},
   "outputs": [
    {
     "data": {
      "text/html": [
       "<iframe src=EU_unemployment_rate_age.html width=100% height=500></iframe>"
      ],
      "text/plain": [
       "<IPython.core.display.HTML object>"
      ]
     },
     "execution_count": 12,
     "metadata": {},
     "output_type": "execute_result"
    }
   ],
   "source": [
    "# display the map using html (may or may not work)\n",
    "from IPython.core.display import HTML\n",
    "url = 'EU_unemployment_rate_age.html'\n",
    "eu_map_age.save(url)\n",
    "HTML('<iframe src=' + url + ' width=100% height=500></iframe>')"
   ]
  },
  {
   "cell_type": "markdown",
   "metadata": {},
   "source": [
    "#### Observations\n",
    "The figure in the popups shows the unemployment rate over 2006 to 2016 by age group per country. Overall, we see that the 15-29 years old age group has the highest unemployment rate over all the age groups. As a general observation, this makes sense because many people in this group are just starting their career. The older age groups have much lower unemployment rates. Thus, we can imagine that the choropleth visualizing unemployment in 2016 might have a higher weight on the 15-29 year old group because they bias the average unemployment rate for the total popuplation. In many countries, there is little to no information on the unemployment rate for the age group 70-79 years and this may be due to the fact that many people retire before this age.\n",
    "\n",
    "Like the rest of Europe, Switzerland has the highest unemployment rate in the 15 to 29 years age group.\n",
    "\n",
    "\n",
    "In addition to this information, we wanted to compare switzerland in particular to the rest of Europe. We get the rank of switzerland compared to the rest of europe and the unemployment rate of Switzerland over 2006 to 2016."
   ]
  },
  {
   "cell_type": "code",
   "execution_count": 13,
   "metadata": {
    "collapsed": true
   },
   "outputs": [],
   "source": [
    "# We can collect the rank of Switzerland among Europe for unemployment rate and also look at the\n",
    "# unemployment rate of Switzerland over 2006 to 2016.\n",
    "years= {}\n",
    "rate = {}\n",
    "for year in range(2006, 2017, 1):\n",
    "    a = eu_rate_annual[eu_rate_annual['TIME']==year]\n",
    "    x = a[a['AGE'] == 'From 15 to 74 years']\n",
    "    total = x[x['SEX']=='Total'][['GEO', 'TIME', 'Value']].sort_values('Value')\n",
    "    total['Rank'] = pd.Series(list(range(1,34,1)), index = total.index)\n",
    "    years[year] = total.loc[total['GEO']=='Switzerland']['Rank'].values\n",
    "    rate[year] = total.loc[total['GEO'] == 'Switzerland']['Value'].values\n",
    "    \n",
    "    "
   ]
  },
  {
   "cell_type": "code",
   "execution_count": 14,
   "metadata": {
    "collapsed": true
   },
   "outputs": [],
   "source": [
    "# We convert the data into arrays that can be plotted in a graph\n",
    "x = []\n",
    "y = []\n",
    "\n",
    "x_rate = []\n",
    "y_rate = []\n",
    "for year in years:\n",
    "    x.append(year)\n",
    "    y.append(years[year][0])\n",
    "\n",
    "for year in rate:\n",
    "    x_rate.append(year)\n",
    "    y_rate.append(rate[year][0])"
   ]
  },
  {
   "cell_type": "code",
   "execution_count": 15,
   "metadata": {},
   "outputs": [
    {
     "data": {
      "text/plain": [
       "<function matplotlib.pyplot.show>"
      ]
     },
     "execution_count": 15,
     "metadata": {},
     "output_type": "execute_result"
    },
    {
     "data": {
      "image/png": "[encoded data removed]",
      "text/plain": [
       "<matplotlib.figure.Figure at 0x1144cf048>"
      ]
     },
     "metadata": {},
     "output_type": "display_data"
    }
   ],
   "source": [
    "import matplotlib.pyplot as plt\n",
    "%matplotlib inline\n",
    "\n",
    "plt.plot(x, y)\n",
    "plt.ylabel('Rank')\n",
    "plt.xlabel('Year')\n",
    "plt.title('Switzerland Rank based on lowest unemployment rate')\n",
    "plt.show"
   ]
  },
  {
   "cell_type": "code",
   "execution_count": 16,
   "metadata": {},
   "outputs": [
    {
     "data": {
      "image/png": "[encoded data removed]",
      "text/plain": [
       "<matplotlib.figure.Figure at 0x1144cf6a0>"
      ]
     },
     "metadata": {},
     "output_type": "display_data"
    }
   ],
   "source": [
    "plt.plot(x_rate, y_rate)\n",
    "plt.ylabel('Unemployment Rate')\n",
    "plt.xlabel('Year')\n",
    "plt.title('Switzerland unemployment rate')\n",
    "plt.show()"
   ]
  },
  {
   "cell_type": "markdown",
   "metadata": {},
   "source": [
    "#### Observations:\n",
    "\n",
    "Switzerland consistently has one of the lowest unemployment rates in Europe (EU/EFTA) over the past decade. It ranks in the top 25 percentile for lowest unemployment rate and at one point from 2011 to 2014, it ranked at number 2 for the lowest unemployment rate in Europe. Interestingly, the unemployment rate in Switzerland, although low, has gradually been increasing over the last decade, ranging from 3.4 to 5%."
   ]
  },
  {
   "cell_type": "markdown",
   "metadata": {},
   "source": [
    "### Todo\n",
    "1. Select the data we want:\n",
    " * Which countries? Only EU or all the 51 countries?\n",
    " * Which number? We don't have too many monthly numbers. Some countries have a lot of missing data, e.g. Switzerland.\n",
    "2. Combine the numbers with topojson.\n",
    "3. Plot the map. Adjust the visualization.\n",
    "4. How to indicate NaNs (if any)?\n",
    "5. \"Compare Switzerland's unemployment rate to that of the rest of Europe.\"\n",
    "6. Find a way to present our homework."
   ]
  },
  {
   "cell_type": "markdown",
   "metadata": {
    "collapsed": true
   },
   "source": [
    "## Task 2"
   ]
  },
  {
   "cell_type": "code",
   "execution_count": 17,
   "metadata": {},
   "outputs": [
    {
     "ename": "ValueError",
     "evalue": "Length of new names must be 1, got 2",
     "output_type": "error",
     "traceback": [
      "\u001b[0;31m---------------------------------------------------------------------------\u001b[0m",
      "\u001b[0;31mValueError\u001b[0m                                Traceback (most recent call last)",
      "\u001b[0;32m<ipython-input-17-a8fdf2c2952a>\u001b[0m in \u001b[0;36m<module>\u001b[0;34m()\u001b[0m\n\u001b[1;32m      1\u001b[0m \u001b[0;31m# load data\u001b[0m\u001b[0;34m\u001b[0m\u001b[0;34m\u001b[0m\u001b[0m\n\u001b[0;32m----> 2\u001b[0;31m \u001b[0mdf\u001b[0m \u001b[0;34m=\u001b[0m \u001b[0mpd\u001b[0m\u001b[0;34m.\u001b[0m\u001b[0mread_excel\u001b[0m\u001b[0;34m(\u001b[0m\u001b[0;34m'Data/2_1 Taux de chômage.xlsx'\u001b[0m\u001b[0;34m,\u001b[0m \u001b[0mheader\u001b[0m\u001b[0;34m=\u001b[0m\u001b[0;34m[\u001b[0m\u001b[0;36m5\u001b[0m\u001b[0;34m,\u001b[0m \u001b[0;36m6\u001b[0m\u001b[0;34m]\u001b[0m\u001b[0;34m)\u001b[0m\u001b[0;34m\u001b[0m\u001b[0m\n\u001b[0m\u001b[1;32m      3\u001b[0m \u001b[0mdf\u001b[0m\u001b[0;34m.\u001b[0m\u001b[0mdrop\u001b[0m\u001b[0;34m(\u001b[0m\u001b[0;34m'Mesures'\u001b[0m\u001b[0;34m,\u001b[0m \u001b[0maxis\u001b[0m\u001b[0;34m=\u001b[0m\u001b[0;36m1\u001b[0m\u001b[0;34m,\u001b[0m \u001b[0mlevel\u001b[0m\u001b[0;34m=\u001b[0m\u001b[0;36m1\u001b[0m\u001b[0;34m,\u001b[0m \u001b[0minplace\u001b[0m\u001b[0;34m=\u001b[0m\u001b[0;32mTrue\u001b[0m\u001b[0;34m)\u001b[0m\u001b[0;34m\u001b[0m\u001b[0m\n\u001b[1;32m      4\u001b[0m \u001b[0mdf\u001b[0m\u001b[0;34m\u001b[0m\u001b[0m\n",
      "\u001b[0;32m~/anaconda2/envs/ada/lib/python3.6/site-packages/pandas/io/excel.py\u001b[0m in \u001b[0;36mread_excel\u001b[0;34m(io, sheetname, header, skiprows, skip_footer, index_col, names, parse_cols, parse_dates, date_parser, na_values, thousands, convert_float, has_index_names, converters, dtype, true_values, false_values, engine, squeeze, **kwds)\u001b[0m\n\u001b[1;32m    210\u001b[0m         \u001b[0mskip_footer\u001b[0m\u001b[0;34m=\u001b[0m\u001b[0mskip_footer\u001b[0m\u001b[0;34m,\u001b[0m \u001b[0mconverters\u001b[0m\u001b[0;34m=\u001b[0m\u001b[0mconverters\u001b[0m\u001b[0;34m,\u001b[0m \u001b[0mdtype\u001b[0m\u001b[0;34m=\u001b[0m\u001b[0mdtype\u001b[0m\u001b[0;34m,\u001b[0m\u001b[0;34m\u001b[0m\u001b[0m\n\u001b[1;32m    211\u001b[0m         \u001b[0mtrue_values\u001b[0m\u001b[0;34m=\u001b[0m\u001b[0mtrue_values\u001b[0m\u001b[0;34m,\u001b[0m \u001b[0mfalse_values\u001b[0m\u001b[0;34m=\u001b[0m\u001b[0mfalse_values\u001b[0m\u001b[0;34m,\u001b[0m \u001b[0msqueeze\u001b[0m\u001b[0;34m=\u001b[0m\u001b[0msqueeze\u001b[0m\u001b[0;34m,\u001b[0m\u001b[0;34m\u001b[0m\u001b[0m\n\u001b[0;32m--> 212\u001b[0;31m         **kwds)\n\u001b[0m\u001b[1;32m    213\u001b[0m \u001b[0;34m\u001b[0m\u001b[0m\n\u001b[1;32m    214\u001b[0m \u001b[0;34m\u001b[0m\u001b[0m\n",
      "\u001b[0;32m~/anaconda2/envs/ada/lib/python3.6/site-packages/pandas/io/excel.py\u001b[0m in \u001b[0;36m_parse_excel\u001b[0;34m(self, sheetname, header, skiprows, names, skip_footer, index_col, has_index_names, parse_cols, parse_dates, date_parser, na_values, thousands, convert_float, true_values, false_values, verbose, dtype, squeeze, **kwds)\u001b[0m\n\u001b[1;32m    518\u001b[0m                 \u001b[0;32mif\u001b[0m \u001b[0;32mnot\u001b[0m \u001b[0msqueeze\u001b[0m \u001b[0;32mor\u001b[0m \u001b[0misinstance\u001b[0m\u001b[0;34m(\u001b[0m\u001b[0moutput\u001b[0m\u001b[0;34m[\u001b[0m\u001b[0masheetname\u001b[0m\u001b[0;34m]\u001b[0m\u001b[0;34m,\u001b[0m \u001b[0mDataFrame\u001b[0m\u001b[0;34m)\u001b[0m\u001b[0;34m:\u001b[0m\u001b[0;34m\u001b[0m\u001b[0m\n\u001b[1;32m    519\u001b[0m                     output[asheetname].columns = output[\n\u001b[0;32m--> 520\u001b[0;31m                         asheetname].columns.set_names(header_names)\n\u001b[0m\u001b[1;32m    521\u001b[0m             \u001b[0;32mexcept\u001b[0m \u001b[0mEmptyDataError\u001b[0m\u001b[0;34m:\u001b[0m\u001b[0;34m\u001b[0m\u001b[0m\n\u001b[1;32m    522\u001b[0m                 \u001b[0;31m# No Data, return an empty DataFrame\u001b[0m\u001b[0;34m\u001b[0m\u001b[0;34m\u001b[0m\u001b[0m\n",
      "\u001b[0;32m~/anaconda2/envs/ada/lib/python3.6/site-packages/pandas/core/indexes/base.py\u001b[0m in \u001b[0;36mset_names\u001b[0;34m(self, names, level, inplace)\u001b[0m\n\u001b[1;32m   1119\u001b[0m         \u001b[0;32melse\u001b[0m\u001b[0;34m:\u001b[0m\u001b[0;34m\u001b[0m\u001b[0m\n\u001b[1;32m   1120\u001b[0m             \u001b[0midx\u001b[0m \u001b[0;34m=\u001b[0m \u001b[0mself\u001b[0m\u001b[0;34m.\u001b[0m\u001b[0m_shallow_copy\u001b[0m\u001b[0;34m(\u001b[0m\u001b[0;34m)\u001b[0m\u001b[0;34m\u001b[0m\u001b[0m\n\u001b[0;32m-> 1121\u001b[0;31m         \u001b[0midx\u001b[0m\u001b[0;34m.\u001b[0m\u001b[0m_set_names\u001b[0m\u001b[0;34m(\u001b[0m\u001b[0mnames\u001b[0m\u001b[0;34m,\u001b[0m \u001b[0mlevel\u001b[0m\u001b[0;34m=\u001b[0m\u001b[0mlevel\u001b[0m\u001b[0;34m)\u001b[0m\u001b[0;34m\u001b[0m\u001b[0m\n\u001b[0m\u001b[1;32m   1122\u001b[0m         \u001b[0;32mif\u001b[0m \u001b[0;32mnot\u001b[0m \u001b[0minplace\u001b[0m\u001b[0;34m:\u001b[0m\u001b[0;34m\u001b[0m\u001b[0m\n\u001b[1;32m   1123\u001b[0m             \u001b[0;32mreturn\u001b[0m \u001b[0midx\u001b[0m\u001b[0;34m\u001b[0m\u001b[0m\n",
      "\u001b[0;32m~/anaconda2/envs/ada/lib/python3.6/site-packages/pandas/core/indexes/base.py\u001b[0m in \u001b[0;36m_set_names\u001b[0;34m(self, values, level)\u001b[0m\n\u001b[1;32m   1059\u001b[0m         \u001b[0;32mif\u001b[0m \u001b[0mlen\u001b[0m\u001b[0;34m(\u001b[0m\u001b[0mvalues\u001b[0m\u001b[0;34m)\u001b[0m \u001b[0;34m!=\u001b[0m \u001b[0;36m1\u001b[0m\u001b[0;34m:\u001b[0m\u001b[0;34m\u001b[0m\u001b[0m\n\u001b[1;32m   1060\u001b[0m             raise ValueError('Length of new names must be 1, got %d' %\n\u001b[0;32m-> 1061\u001b[0;31m                              len(values))\n\u001b[0m\u001b[1;32m   1062\u001b[0m         \u001b[0mself\u001b[0m\u001b[0;34m.\u001b[0m\u001b[0mname\u001b[0m \u001b[0;34m=\u001b[0m \u001b[0mvalues\u001b[0m\u001b[0;34m[\u001b[0m\u001b[0;36m0\u001b[0m\u001b[0;34m]\u001b[0m\u001b[0;34m\u001b[0m\u001b[0m\n\u001b[1;32m   1063\u001b[0m \u001b[0;34m\u001b[0m\u001b[0m\n",
      "\u001b[0;31mValueError\u001b[0m: Length of new names must be 1, got 2"
     ]
    }
   ],
   "source": [
    "# load data\n",
    "df = pd.read_excel('Data/2_1 Taux de chômage.xlsx', header=[5, 6])\n",
    "df.drop('Mesures', axis=1, level=1, inplace=True)\n",
    "df"
   ]
  },
  {
   "cell_type": "markdown",
   "metadata": {},
   "source": [
    "### Todo\n",
    "Almost everything. Just started."
   ]
  },
  {
   "cell_type": "code",
   "execution_count": null,
   "metadata": {
    "collapsed": true
   },
   "outputs": [],
   "source": []
  },
  {
   "cell_type": "code",
   "execution_count": null,
   "metadata": {
    "collapsed": true
   },
   "outputs": [],
   "source": []
  },
  {
   "cell_type": "markdown",
   "metadata": {},
   "source": [
    "# Task 3"
   ]
  },
  {
   "cell_type": "code",
   "execution_count": null,
   "metadata": {
    "collapsed": true
   },
   "outputs": [],
   "source": [
    "# For mapping Italian canton names to the names used in the topojson file\n",
    "canton_dict = json.load(open('Data/canton_names_it.json', encoding='utf-8'))\n",
    "# For mapping Italian column names to English\n",
    "column_dict = json.load(open('Data/column_names_it.json', encoding='utf-8'))\n"
   ]
  },
  {
   "cell_type": "code",
   "execution_count": null,
   "metadata": {},
   "outputs": [],
   "source": [
    "# Load the data\n",
    "ch_foreign_empl_data = pd.read_csv('Data/2_1 Tasso di disoccupazione.csv',\n",
    "                   skiprows=[0, 1, 3],\n",
    "                   encoding='utf-16-le',\n",
    "                   #index_col=[0, 1],\n",
    "                   usecols=[0, 1, 3, 4, 5, 6, 7, 8, 9, 10, 11],\n",
    "                   skipfooter=1,\n",
    "                   engine='python'\n",
    "    )\n",
    "\n",
    "# Translate nationality from Italian\n",
    "ch_foreign_empl_data['Nazionalità'].replace('stranieri', 'Foreign', inplace=True)\n",
    "ch_foreign_empl_data['Nazionalità'].replace('svizzeri', 'Swiss', inplace=True)\n",
    "\n",
    "# Make Canton names match the topojson file\n",
    "ch_foreign_empl_data['Cantone'].replace(canton_dict, inplace=True)\n",
    "\n",
    "# Translate column names to English\n",
    "ch_foreign_empl_data.rename(columns=column_dict, inplace=True)\n",
    "#ch_foreign_empl_data.set_index(['Canton', 'Nationality'], inplace=True)\n",
    "\n",
    "ch_foreign_empl_data['Average'] = ch_foreign_empl_data.mean(axis=1, numeric_only=True)\n",
    "\n",
    "ch_foreign_empl_data.head()"
   ]
  },
  {
   "cell_type": "code",
   "execution_count": null,
   "metadata": {},
   "outputs": [],
   "source": [
    "ch_coord = [46.849, 8.394]\n",
    "canton_topo_path = 'topojson/ch-cantons.topojson.json'\n",
    "canton_topo_data=json.load(open(canton_topo_path))\n",
    "ch_map = folium.Map(location=ch_coord, zoom_start=8)\n",
    "ch_map.choropleth(canton_topo_data,\n",
    "                  topojson='objects.cantons',\n",
    "                  data=ch_foreign_empl_data[ch_foreign_empl_data.Nationality == 'Foreign'],\n",
    "                  key_on='feature.properties.name',\n",
    "                  fill_color = 'BuPu',\n",
    "                  fill_opacity = 0.7,\n",
    "                  line_opacity = 0.2,\n",
    "                  columns=('Canton', 'Average'),\n",
    "                  name='Foreign',\n",
    "                  highlight=True,\n",
    "                  legend_name='Unemployment rate of foreign workers')\n",
    "ch_map.choropleth(canton_topo_data,\n",
    "                  topojson='objects.cantons',\n",
    "                  data=ch_foreign_empl_data[ch_foreign_empl_data.Nationality == 'Swiss'],\n",
    "                  key_on='feature.properties.name',\n",
    "                  fill_color = 'YlOrRd',\n",
    "                  fill_opacity = 0.7,\n",
    "                  line_opacity = 0.2,\n",
    "                  columns=('Canton', 'Average'),\n",
    "                  name='Swiss',\n",
    "                  legend_name='Unemployment rate of Swiss workers')\n",
    "folium.LayerControl().add_to(ch_map)\n",
    "ch_map"
   ]
  }
 ],
 "metadata": {
  "kernelspec": {
   "display_name": "Python [default]",
   "language": "python",
   "name": "python3"
  },
  "language_info": {
   "codemirror_mode": {
    "name": "ipython",
    "version": 3
   },
   "file_extension": ".py",
   "mimetype": "text/x-python",
   "name": "python",
   "nbconvert_exporter": "python",
   "pygments_lexer": "ipython3",
   "version": "3.6.2"
  }
 },
 "nbformat": 4,
 "nbformat_minor": 2
}
