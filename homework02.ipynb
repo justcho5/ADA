{
 "cells": [
  {
   "cell_type": "markdown",
   "metadata": {},
   "source": [
    "# 02 - Data from the Web\n",
    "\n",
    "## Deadline\n",
    "Wednesday October 25, 2017 at 11:59PM\n",
    "\n",
    "## Important Notes\n",
    "* Make sure you push on GitHub your Notebook with all the cells already evaluated (i.e., you don't want your colleagues to generate unnecessary Web traffic during the peer review)\n",
    "* Don't forget to add a textual description of your thought process, the assumptions you made, and the solution you plan to implement!\n",
    "* Please write all your comments in English, and use meaningful variable names in your code.\n",
    "\n",
    "## Background\n",
    "In this homework we will extract interesting information from www.topuniversities.com and www.timeshighereducation.com, two platforms that maintain a global ranking of worldwide universities. This ranking is not offered as a downloadable dataset, so you will have to find a way to scrape the information we need!\n",
    "You are not allowed to download manually the entire ranking -- rather you have to understand how the server loads it in your browser. For this task, Postman with the Interceptor extension can help you greatly. We recommend that you watch this [brief tutorial](https://www.youtube.com/watch?v=jBjXVrS8nXs&list=PLM-7VG-sgbtD8qBnGeQM5nvlpqB_ktaLZ&autoplay=1) to understand quickly how to use it.\n",
    "\n",
    "## Assignment\n",
    "1. Obtain the 200 top-ranking universities in www.topuniversities.com ([ranking 2018](https://www.topuniversities.com/university-rankings/world-university-rankings/2018)). In particular, extract the following fields for each university: name, rank, country and region, number of faculty members (international and total) and number of students (international and total). Some information is not available in the main list and you have to find them in the [details page](https://www.topuniversities.com/universities/ecole-polytechnique-fÃ©dÃ©rale-de-lausanne-epfl).\n",
    "Store the resulting dataset in a pandas DataFrame and answer the following questions:\n",
    "- Which are the best universities in term of: (a) ratio between faculty members and students, (b) ratio of international students?\n",
    "- Answer the previous question aggregating the data by (c) country and (d) region.\n",
    "\n",
    "Plot your data using bar charts and describe briefly what you observed.\n",
    "\n",
    "2. Obtain the 200 top-ranking universities in www.timeshighereducation.com ([ranking 2018](http://timeshighereducation.com/world-university-rankings/2018/world-ranking)). Repeat the analysis of the previous point and discuss briefly what you observed.\n",
    "\n",
    "3. Merge the two DataFrames created in questions 1 and 2 using university names. Match universities' names as well as you can, and explain your strategy. Keep track of the original position in both rankings.\n",
    "\n",
    "4. Find useful insights in the data by performing an exploratory analysis. Can you find a strong correlation between any pair of variables in the dataset you just created? Example: when a university is strong in its international dimension, can you observe a consistency both for students and faculty members?\n",
    "\n",
    "5. Can you find the best university taking in consideration both rankings? Explain your approach.\n",
    "\n",
    "Hints:\n",
    "- Keep your Notebook clean and don't print the verbose output of the requests if this does not add useful information for the reader.\n",
    "- In case of tie, use the order defined in the webpage."
   ]
  },
  {
   "cell_type": "markdown",
   "metadata": {},
   "source": [
    "##  textual description of your thought process, the assumptions you made, and the solution you plan to implement!"
   ]
  },
  {
   "cell_type": "markdown",
   "metadata": {},
   "source": [
    "### Thought process:\n",
    "\n",
    "www.topuniversities.com \n",
    "1. get https://www.topuniversities.com/sites/default/files/qs-rankings-data/357051.txt?_=1508228964836\n",
    "    a. this is a json file\n",
    "2. obtain name rank country region\n",
    "3. get https://www.topuniversities.com/universities/ecole-polytechnique-f%C3%A9d%C3%A9rale-de-lausanne-epfl\n",
    "    a. this is a html file\n",
    "4. get number of faculty -- international and total, number of students -- international and total\n",
    "\n",
    "\n",
    "### Our assumptions:\n",
    "\n",
    "\n",
    "### Implementation solution:"
   ]
  },
  {
   "cell_type": "code",
   "execution_count": 36,
   "metadata": {
    "collapsed": true
   },
   "outputs": [],
   "source": [
    "import requests\n",
    "import pandas as pd\n",
    "from bs4 import BeautifulSoup"
   ]
  },
  {
   "cell_type": "code",
   "execution_count": 37,
   "metadata": {},
   "outputs": [],
   "source": [
    "req1 = requests.get('https://www.topuniversities.com/sites/default/files/qs-rankings-data/357051.txt?_=1508228964836')\n",
    "# req1.json()\n",
    "body = req1.json()\n",
    "body_data = body['data']"
   ]
  },
  {
   "cell_type": "code",
   "execution_count": null,
   "metadata": {
    "collapsed": true
   },
   "outputs": [],
   "source": []
  },
  {
   "cell_type": "code",
   "execution_count": 40,
   "metadata": {},
   "outputs": [
    {
     "name": "stdout",
     "output_type": "stream",
     "text": [
      "Error in total faculty New York University (NYU)\n",
      "Error in international faculty New York University (NYU)\n",
      "Error in total students New York University (NYU)\n",
      "Error in international students New York University (NYU)\n",
      "Error in international faculty Indian Institute of Science (IISc) Bangalore\n"
     ]
    },
    {
     "data": {
      "text/html": [
       "<div>\n",
       "<style>\n",
       "    .dataframe thead tr:only-child th {\n",
       "        text-align: right;\n",
       "    }\n",
       "\n",
       "    .dataframe thead th {\n",
       "        text-align: left;\n",
       "    }\n",
       "\n",
       "    .dataframe tbody tr th {\n",
       "        vertical-align: top;\n",
       "    }\n",
       "</style>\n",
       "<table border=\"1\" class=\"dataframe\">\n",
       "  <thead>\n",
       "    <tr style=\"text-align: right;\">\n",
       "      <th></th>\n",
       "      <th>Country</th>\n",
       "      <th>Name</th>\n",
       "      <th>No. of International Faculty</th>\n",
       "      <th>No. of International Students</th>\n",
       "      <th>No. of Total Faculty</th>\n",
       "      <th>No. of Total Students</th>\n",
       "      <th>Rank</th>\n",
       "      <th>Region</th>\n",
       "    </tr>\n",
       "  </thead>\n",
       "  <tbody>\n",
       "    <tr>\n",
       "      <th>0</th>\n",
       "      <td>United States</td>\n",
       "      <td>Massachusetts Institute of Technology (MIT)</td>\n",
       "      <td>1679.0</td>\n",
       "      <td>3717.0</td>\n",
       "      <td>2982.0</td>\n",
       "      <td>11067.0</td>\n",
       "      <td>1</td>\n",
       "      <td>North America</td>\n",
       "    </tr>\n",
       "    <tr>\n",
       "      <th>1</th>\n",
       "      <td>United States</td>\n",
       "      <td>Stanford University</td>\n",
       "      <td>2042.0</td>\n",
       "      <td>3611.0</td>\n",
       "      <td>4285.0</td>\n",
       "      <td>15878.0</td>\n",
       "      <td>2</td>\n",
       "      <td>North America</td>\n",
       "    </tr>\n",
       "    <tr>\n",
       "      <th>2</th>\n",
       "      <td>United States</td>\n",
       "      <td>Harvard University</td>\n",
       "      <td>1311.0</td>\n",
       "      <td>5266.0</td>\n",
       "      <td>4350.0</td>\n",
       "      <td>22429.0</td>\n",
       "      <td>3</td>\n",
       "      <td>North America</td>\n",
       "    </tr>\n",
       "    <tr>\n",
       "      <th>3</th>\n",
       "      <td>United States</td>\n",
       "      <td>California Institute of Technology (Caltech)</td>\n",
       "      <td>350.0</td>\n",
       "      <td>647.0</td>\n",
       "      <td>953.0</td>\n",
       "      <td>2255.0</td>\n",
       "      <td>4</td>\n",
       "      <td>North America</td>\n",
       "    </tr>\n",
       "    <tr>\n",
       "      <th>4</th>\n",
       "      <td>United Kingdom</td>\n",
       "      <td>University of Cambridge</td>\n",
       "      <td>2278.0</td>\n",
       "      <td>6699.0</td>\n",
       "      <td>5490.0</td>\n",
       "      <td>18770.0</td>\n",
       "      <td>5</td>\n",
       "      <td>Europe</td>\n",
       "    </tr>\n",
       "  </tbody>\n",
       "</table>\n",
       "</div>"
      ],
      "text/plain": [
       "          Country                                          Name  \\\n",
       "0   United States   Massachusetts Institute of Technology (MIT)   \n",
       "1   United States                           Stanford University   \n",
       "2   United States                            Harvard University   \n",
       "3   United States  California Institute of Technology (Caltech)   \n",
       "4  United Kingdom                       University of Cambridge   \n",
       "\n",
       "   No. of International Faculty  No. of International Students  \\\n",
       "0                        1679.0                         3717.0   \n",
       "1                        2042.0                         3611.0   \n",
       "2                        1311.0                         5266.0   \n",
       "3                         350.0                          647.0   \n",
       "4                        2278.0                         6699.0   \n",
       "\n",
       "   No. of Total Faculty  No. of Total Students Rank         Region  \n",
       "0                2982.0                11067.0    1  North America  \n",
       "1                4285.0                15878.0    2  North America  \n",
       "2                4350.0                22429.0    3  North America  \n",
       "3                 953.0                 2255.0    4  North America  \n",
       "4                5490.0                18770.0    5         Europe  "
      ]
     },
     "execution_count": 40,
     "metadata": {},
     "output_type": "execute_result"
    }
   ],
   "source": [
    "rank_list = []\n",
    "df = pd.DataFrame(columns = ['Name', 'Rank', 'Country', 'Region', 'No. of International Faculty', 'No. of Total Faculty', 'No. of International Students', 'No. of Total Students'])\n",
    "\n",
    "for i in range(200):\n",
    "    name = body_data[i]['title']\n",
    "    rank = body_data[i]['rank_display']\n",
    "    country = body_data[i]['country']\n",
    "    region = body_data[i]['region']\n",
    "    url = body_data[i]['url']\n",
    "    \n",
    "    details = requests.get('https://www.topuniversities.com' + url)\n",
    "    html_body = details.text\n",
    "    soup = BeautifulSoup(html_body, 'html.parser')\n",
    "    \n",
    "    try:\n",
    "        total_faculty = float(soup.find(class_='total faculty').find(class_='number').string[1:-1].replace(\",\", \"\"))\n",
    "    except:\n",
    "        total_faculty = float(\"NaN\")\n",
    "        print(\"Error in total faculty\", name)\n",
    "    \n",
    "    try:\n",
    "        international_faculty = float(soup.find(class_ = 'inter faculty').find(class_ = 'number').string[1:-1].replace(\",\", \"\"))\n",
    "    except:\n",
    "        international_faculty = float(\"NaN\")\n",
    "        print(\"Error in international faculty\", name)\n",
    "    try:\n",
    "        total_students = float(soup.find(class_ = 'total student').find(class_ = 'number').string[1:-1].replace(\",\", \"\"))\n",
    "    except:\n",
    "        total_students = float(\"NaN\")\n",
    "        print(\"Error in total students\", name)\n",
    "    try:\n",
    "        international_students = float(soup.find(class_ = 'total inter').find(class_ = 'number').string[1:-1].replace(\",\", \"\"))\n",
    "    except:\n",
    "        international_students = float(\"NaN\")\n",
    "        print(\"Error in international students\", name)\n",
    "    rank_list.append({'Name': name,\n",
    "                      'Rank': rank,\n",
    "                      'Country': country,\n",
    "                      'Region': region,\n",
    "                      'No. of International Faculty': international_faculty,\n",
    "                      'No. of Total Faculty': total_faculty,\n",
    "                      'No. of International Students': international_students,\n",
    "                      'No. of Total Students': total_students})\n",
    "    \n",
    "top_ranking_universities = pd.DataFrame.from_dict(rank_list)\n",
    "top_ranking_universities.head()"
   ]
  },
  {
   "cell_type": "code",
   "execution_count": 41,
   "metadata": {},
   "outputs": [],
   "source": [
    "top_ranking_universities.to_csv('top_ranking_universities.csv')"
   ]
  },
  {
   "cell_type": "code",
   "execution_count": null,
   "metadata": {
    "collapsed": true
   },
   "outputs": [],
   "source": []
  }
 ],
 "metadata": {
  "kernelspec": {
   "display_name": "Python [conda env:ada]",
   "language": "python",
   "name": "conda-env-ada-py"
  },
  "language_info": {
   "codemirror_mode": {
    "name": "ipython",
    "version": 3
   },
   "file_extension": ".py",
   "mimetype": "text/x-python",
   "name": "python",
   "nbconvert_exporter": "python",
   "pygments_lexer": "ipython3",
   "version": "3.6.2"
  }
 },
 "nbformat": 4,
 "nbformat_minor": 2
}
