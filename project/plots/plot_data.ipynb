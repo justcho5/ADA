{
 "cells": [
  {
   "cell_type": "code",
   "execution_count": 1,
   "metadata": {
    "collapsed": true
   },
   "outputs": [],
   "source": [
    "import pandas as pd\n",
    "import numpy as np\n",
    "import json\n",
    "import os\n",
    "import matplotlib.pyplot as plt\n",
    "import matplotlib.mlab as mlab\n",
    "import scipy.stats\n",
    "# import seaborn as sns\n",
    "%matplotlib inline"
   ]
  },
  {
   "cell_type": "code",
   "execution_count": 2,
   "metadata": {
    "collapsed": true
   },
   "outputs": [],
   "source": [
    "with open('incent_results.json') as f:\n",
    "    incent = json.load(f)\n",
    "    \n",
    "with open('non_incent_results.json') as f:\n",
    "    non_incent = json.load(f)"
   ]
  },
  {
   "cell_type": "code",
   "execution_count": 3,
   "metadata": {
    "collapsed": true
   },
   "outputs": [],
   "source": [
    "def reshape_samples(samples):\n",
    "    return { k: [sample[k] for sample in samples] for k in samples[0].keys()}"
   ]
  },
  {
   "cell_type": "code",
   "execution_count": 4,
   "metadata": {
    "collapsed": true
   },
   "outputs": [],
   "source": [
    "incent = reshape_samples(incent)\n",
    "non_incent = reshape_samples(non_incent)"
   ]
  },
  {
   "cell_type": "code",
   "execution_count": 5,
   "metadata": {
    "collapsed": true
   },
   "outputs": [],
   "source": [
    "categories = [c['main_category'] for c in incent['avg_length_by_category'][0]]\n",
    "price_tiers = [c['price_tier'] for c in incent['num_reviews_by_price_tier'][0]]"
   ]
  },
  {
   "cell_type": "code",
   "execution_count": 6,
   "metadata": {
    "collapsed": true
   },
   "outputs": [],
   "source": [
    "def reshape_grouped_by_category(data):\n",
    "    return {c: [group['_c1'] for sample in data for group in sample if group['main_category'] == c] for c in categories}"
   ]
  },
  {
   "cell_type": "code",
   "execution_count": 7,
   "metadata": {
    "collapsed": true
   },
   "outputs": [],
   "source": [
    "incent_by_category = {k: reshape_grouped_by_category(v) for k, v in incent.items() if k.endswith('by_category')}\n",
    "non_incent_by_category = {k: reshape_grouped_by_category(v) for k, v in non_incent.items() if k.endswith('by_category')}"
   ]
  },
  {
   "cell_type": "code",
   "execution_count": 8,
   "metadata": {
    "collapsed": true
   },
   "outputs": [],
   "source": [
    "def reshape_grouped_by_price_tier(data):\n",
    "    return {t: [group['_c1'] for sample in data for group in sample if group['price_tier'] == t] for t in price_tiers}"
   ]
  },
  {
   "cell_type": "code",
   "execution_count": 9,
   "metadata": {
    "collapsed": true
   },
   "outputs": [],
   "source": [
    "incent_by_price_tier = {k: reshape_grouped_by_price_tier(v) for k, v in incent.items() if k.endswith('by_price_tier')}\n",
    "non_incent_by_price_tier = {k: reshape_grouped_by_price_tier(v) for k, v in non_incent.items() if k.endswith('by_price_tier')}"
   ]
  },
  {
   "cell_type": "code",
   "execution_count": 10,
   "metadata": {
    "collapsed": true
   },
   "outputs": [],
   "source": [
    "def reshape_grouped_by_overall(data):\n",
    "    return {o: [group['_c1'] for sample in data for group in sample if group['overall'] == o] for o in range(1, 6)}"
   ]
  },
  {
   "cell_type": "code",
   "execution_count": 11,
   "metadata": {
    "collapsed": true
   },
   "outputs": [],
   "source": [
    "incent_by_overall = {k: reshape_grouped_by_overall(v) for k, v in incent.items() \\\n",
    "                     if (k != ('sentiment_distribution_by_rating')) and (k.endswith('by_overall') or k.endswith('by_rating'))}\n",
    "non_incent_by_overall = {k: reshape_grouped_by_overall(v) for k, v in non_incent.items() \\\n",
    "                     if (k != ('sentiment_distribution_by_rating')) and (k.endswith('by_overall') or k.endswith('by_rating'))}"
   ]
  },
  {
   "cell_type": "code",
   "execution_count": 16,
   "metadata": {
    "collapsed": true
   },
   "outputs": [],
   "source": [
    "def confidence_interval(estimates, confidence=0.95):\n",
    "    \"\"\"Return a statistic and its confidence interval of a sequence using bootstrap resampling.\n",
    "    Computes the statistic over count bootstrap samples drawn from the data, then computes the \n",
    "    lower and uppper bounds of the confidence interval.\n",
    "    \"\"\"\n",
    "    # Calculate the confidence interval bounds assuming a normal distribution in\n",
    "    # the estimates\n",
    "    m, se = np.mean(estimates), np.std(estimates)\n",
    "    lower, upper = scipy.stats.norm.interval(confidence, loc=m, scale=se)\n",
    "    \n",
    "    return m, lower, upper\n",
    "\n",
    "def dict_barplot(data, errs, ax=None):\n",
    "    if ax is None:\n",
    "        ax = plt.subplot()\n",
    "    data.plot(kind='bar', ax=ax, yerr=errs, fontsize = 14)\n",
    "\n",
    "def plot_with_conf_interval(data_incent, data_non_incent, confidence=0.95, ax=None):\n",
    "    conf_incent = {k: confidence_interval(v, confidence) for k, v in data_incent.items()}\n",
    "    means_incent = {k: v[0] for k, v in conf_incent.items()}\n",
    "    errs_incent = {k: v[2] - v[1] for k, v in conf_incent.items()}\n",
    "    \n",
    "    conf_non_incent = {k: confidence_interval(v, confidence) for k, v in data_non_incent.items()}\n",
    "    means_non_incent = {k: v[0] for k, v in conf_non_incent.items()}\n",
    "    errs_non_incent = {k: v[2] - v[1] for k, v in conf_non_incent.items()}\n",
    "    \n",
    "    dict_barplot(pd.DataFrame({'Incentivized': means_incent, 'Non incentivized': means_non_incent}),\n",
    "                 pd.DataFrame({'Incentivized': errs_incent, 'Non incentivized': errs_non_incent}), ax=ax) "
   ]
  },
  {
   "cell_type": "code",
   "execution_count": 17,
   "metadata": {
    "collapsed": false
   },
   "outputs": [
    {
     "name": "stderr",
     "output_type": "stream",
     "text": [
      "/Users/hjcho/anaconda2/envs/ada/lib/python3.6/site-packages/matplotlib/font_manager.py:1297: UserWarning: findfont: Font family ['normal'] not found. Falling back to DejaVu Sans\n",
      "  (prop.get_family(), self.defaultFamily[fontext]))\n"
     ]
    },
    {
     "data": {
      "image/png": "[encoded data removed]",
      "text/plain": [
       "<matplotlib.figure.Figure at 0x1108793c8>"
      ]
     },
     "metadata": {},
     "output_type": "display_data"
    }
   ],
   "source": [
    "font = {'family' : 'normal',\n",
    "        'size'   : 15}\n",
    "_, ax1 = plt.subplots(figsize=(16, 8))\n",
    "ax1.set_xlabel('Overall review score', font)\n",
    "ax1.set_ylabel('Mean compound sentiment score', font)\n",
    "plot_with_conf_interval(incent_by_overall['avg_compound_by_rating'], non_incent_by_overall['avg_compound_by_rating'], ax=ax1)"
   ]
  },
  {
   "cell_type": "code",
   "execution_count": 19,
   "metadata": {
    "collapsed": false
   },
   "outputs": [
    {
     "name": "stderr",
     "output_type": "stream",
     "text": [
      "/Users/hjcho/anaconda2/envs/ada/lib/python3.6/site-packages/matplotlib/font_manager.py:1297: UserWarning: findfont: Font family ['normal'] not found. Falling back to DejaVu Sans\n",
      "  (prop.get_family(), self.defaultFamily[fontext]))\n"
     ]
    },
    {
     "data": {
      "image/png": "[encoded data removed]",
      "text/plain": [
       "<matplotlib.figure.Figure at 0x110c0d1d0>"
      ]
     },
     "metadata": {},
     "output_type": "display_data"
    }
   ],
   "source": [
    "_, ax1 = plt.subplots(figsize=(16, 8))\n",
    "ax1.set_xlabel('Overall review score', font)\n",
    "ax1.set_ylabel('Mean word count', font)\n",
    "plot_with_conf_interval(incent_by_overall['avg_length_by_overall'], non_incent_by_overall['avg_length_by_overall'], ax=ax1)"
   ]
  },
  {
   "cell_type": "code",
   "execution_count": null,
   "metadata": {
    "collapsed": true
   },
   "outputs": [],
   "source": []
  }
 ],
 "metadata": {
  "anaconda-cloud": {},
  "kernelspec": {
   "display_name": "Python [ada]",
   "language": "python",
   "name": "Python [ada]"
  },
  "language_info": {
   "codemirror_mode": {
    "name": "ipython",
    "version": 3
   },
   "file_extension": ".py",
   "mimetype": "text/x-python",
   "name": "python",
   "nbconvert_exporter": "python",
   "pygments_lexer": "ipython3",
   "version": "3.6.2"
  }
 },
 "nbformat": 4,
 "nbformat_minor": 2
}
