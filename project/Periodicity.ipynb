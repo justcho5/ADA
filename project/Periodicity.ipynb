{
 "cells": [
  {
   "cell_type": "code",
   "execution_count": 1,
   "metadata": {
    "collapsed": true
   },
   "outputs": [],
   "source": [
    "# Import all the libraries\n",
    "import pandas as pd\n",
    "import numpy as np\n",
    "import scipy as sp\n",
    "import scipy.stats\n",
    "pd.options.mode.chained_assignment = None  # default='warn', Mutes warnings when copying a slice from a DataFrame.\n",
    "pd.set_option('display.max_columns', None)\n",
    "import glob\n",
    "import datetime\n",
    "import os\n",
    "import json\n",
    "from io import StringIO\n",
    "import matplotlib.pyplot as plt\n",
    "from matplotlib.colors import LogNorm\n",
    "from vaderSentiment.vaderSentiment import SentimentIntensityAnalyzer\n",
    "from nltk.tokenize import RegexpTokenizer\n",
    "%matplotlib inline"
   ]
  },
  {
   "cell_type": "markdown",
   "metadata": {},
   "source": [
    "### Sampling and loading the data\n",
    "For this exploratory analysis we used the Spark cluster to randomly sample the data with the `sample_data.py` script and retrieved the metadata entries for the items that appear in our samples by writing the product IDs to a text file one per line and using the `get_metadata.py` script."
   ]
  },
  {
   "cell_type": "code",
   "execution_count": 2,
   "metadata": {
    "collapsed": true
   },
   "outputs": [],
   "source": [
    "# Paths to the data and metadata folders.\n",
    "DATA_FOLDER = 'data/'\n",
    "META_FOLDER = DATA_FOLDER + 'meta/'"
   ]
  },
  {
   "cell_type": "code",
   "execution_count": 3,
   "metadata": {
    "collapsed": true
   },
   "outputs": [],
   "source": [
    "# Load one data file\n",
    "def load_one_file(path):\n",
    "    with open(path) as f:\n",
    "        return [json.loads(line) for line in f]\n",
    "\n",
    "# Load one metadata file. The rows aren't proper JSON\n",
    "# but they can be parsed using python's eval function\n",
    "# as per the dataset's web page.\n",
    "def load_one_meta_file(path):\n",
    "    with open(path) as f:\n",
    "        return [eval(line) for line in f]\n",
    "\n",
    "# The sample we extracted is still too large, so we'll only use the first 100 files\n",
    "data_files = glob.glob(DATA_FOLDER + 'part-000*')\n",
    "data = sum(map(load_one_file, data_files), [])\n",
    "\n",
    "# Create the first dataframe\n",
    "df = pd.DataFrame(data)\n",
    "\n",
    "# Write the product IDs to a .csv files, one per line.\n",
    "# Used to get metadata using the cluster.\n",
    "# df[['asin']].to_csv('asin_lookup.csv', index=False, header=False)\n",
    "\n",
    "# The meta folder contains metadata for all the items we were interested in.\n",
    "meta_files = glob.glob(META_FOLDER + '*')\n",
    "meta = sum(map(load_one_meta_file, meta_files), [])\n",
    "\n",
    "# Create the second dataframe\n",
    "meta_df = pd.DataFrame(meta)"
   ]
  },
  {
   "cell_type": "code",
   "execution_count": 4,
   "metadata": {
    "collapsed": true
   },
   "outputs": [],
   "source": [
    "# Join the dataframes. Since our analysis relies on the metadata for a good part\n",
    "# we have to remove any reviews for which metadata is not available.\n",
    "joined = pd.merge(df, meta_df, how='inner')\n",
    "\n",
    "# Parse the review time as a DateTime and add review month and year columns\n",
    "joined['reviewTime'] = pd.to_datetime(joined.unixReviewTime, unit='s')\n",
    "joined['reviewMonth'] = joined.reviewTime.map(lambda t: t.month)\n",
    "joined['reviewYear'] = joined.reviewTime.map(lambda t: t.year)\n",
    "\n",
    "# We don't want any reviews for which the price is either NaN or 0\n",
    "# or which don't belong to any category\n",
    "joined = joined.dropna(axis=0, subset=['categories', 'price', 'reviewText'])\n",
    "joined = joined[joined.price != 0 & (len(joined.reviewText) > 0)]"
   ]
  },
  {
   "cell_type": "markdown",
   "metadata": {},
   "source": [
    "### Adding features\n",
    "#### Sentiment scores\n",
    "Thre are several options to do sentiment analysis: clustering, training a classifier on an existing corpus of labeled data or using a pre-trained one. We used [VADER](https://github.com/cjhutto/vaderSentiment), a pre-trained sentiment score analyzer tuned for messages that tipically appear on social media to give each review text a series of sentiment scores. The reasons behind our choice are that training a classifirer is time consuming and that VADER is trained on text snippets similar to those in our dataset, including some from Amazon reviews."
   ]
  },
  {
   "cell_type": "code",
   "execution_count": 5,
   "metadata": {
    "collapsed": false
   },
   "outputs": [
    {
     "name": "stdout",
     "output_type": "stream",
     "text": [
      "So creative and funny. Loved the many twists and turns of this story and the clever way in which the author wove history into the craziness that was this man's life!\n"
     ]
    },
    {
     "data": {
      "text/plain": [
       "{'compound': 0.899, 'neg': 0.062, 'neu': 0.617, 'pos': 0.321}"
      ]
     },
     "execution_count": 5,
     "metadata": {},
     "output_type": "execute_result"
    }
   ],
   "source": [
    "analyzer = SentimentIntensityAnalyzer()\n",
    "\n",
    "# Example\n",
    "print(joined.iloc[10]['reviewText'])\n",
    "analyzer.polarity_scores(joined.iloc[10]['reviewText'])"
   ]
  },
  {
   "cell_type": "code",
   "execution_count": 6,
   "metadata": {
    "collapsed": true
   },
   "outputs": [],
   "source": [
    "# Add the sentiment score columns to the dataframe\n",
    "comp_score = joined.reviewText.apply(lambda t: analyzer.polarity_scores(t))\n",
    "joined['compound_score'] = comp_score.apply(lambda s: s['compound'])\n",
    "joined['positive_score'] = comp_score.apply(lambda s: s['pos'])\n",
    "joined['negative_score'] = comp_score.apply(lambda s: s['neg'])\n",
    "joined['neutral_score'] = comp_score.apply(lambda s: s['neu'])"
   ]
  },
  {
   "cell_type": "code",
   "execution_count": 7,
   "metadata": {
    "collapsed": true
   },
   "outputs": [],
   "source": [
    "# Each non-empty sales rank is a dictionary that maps exactly one\n",
    "# category to exactly one ranking\n",
    "joined['salesRankPosition'] = joined.salesRank.apply(lambda r: list(r.values())[0]\n",
    "                                                     if r and isinstance(r, dict) else np.nan)\n",
    "joined['salesRankCategory'] = joined.salesRank.apply(lambda r: list(r.keys())[0]\n",
    "                                                     if r and isinstance(r, dict) else np.nan)"
   ]
  },
  {
   "cell_type": "markdown",
   "metadata": {},
   "source": [
    "#### Word counts\n",
    "We measured the number of words that make up a review as an indicator of the review's complexity."
   ]
  },
  {
   "cell_type": "code",
   "execution_count": 8,
   "metadata": {
    "collapsed": true
   },
   "outputs": [],
   "source": [
    "# Word tokenizer\n",
    "tokenizer = RegexpTokenizer(r'\\w+')\n",
    "\n",
    "# Add tokenized text and word cound to the dataframe\n",
    "joined['tokenized_text'] = joined.reviewText.apply(tokenizer.tokenize)\n",
    "joined['word_count'] = joined.tokenized_text.apply(len)"
   ]
  },
  {
   "cell_type": "markdown",
   "metadata": {},
   "source": [
    "#### Main category\n",
    "Each item in the dataset has a `categories` field which, when not absent, is an array of arrays of strings. Each item can belong to an arbitrary number of categories some of which are subcategories of a larger category. We will first flatten these arrays of arrays in order to make subsequent processing easier."
   ]
  },
  {
   "cell_type": "code",
   "execution_count": 9,
   "metadata": {
    "collapsed": true
   },
   "outputs": [],
   "source": [
    "# Flatten the categories\n",
    "joined['categories_flat'] = joined.categories.apply(lambda a: [i for sa in a for i in sa])\n",
    "# Remove rows with no categories\n",
    "joined = joined[[(c and bool(c[0])) for c in joined.categories_flat]]"
   ]
  },
  {
   "cell_type": "markdown",
   "metadata": {},
   "source": [
    "In order to be able to plot aggregate values for each category we need to pick one category for each product that we will use as its main category. We built a dictionary that maps the most common categories to the main category and assigned a main category to each item according to which of these common categories it belongs to. In order to build this dictionary we started from the list of categories that the maintainer of the dataset offers separate files for and added more until we could cover almost all the items."
   ]
  },
  {
   "cell_type": "code",
   "execution_count": 10,
   "metadata": {
    "collapsed": true
   },
   "outputs": [],
   "source": [
    "# Load category dictionary from file\n",
    "categories_dict = None\n",
    "with open('categories_dict.json') as f:\n",
    "    categories_dict = json.load(f)"
   ]
  },
  {
   "cell_type": "code",
   "execution_count": 11,
   "metadata": {
    "collapsed": true
   },
   "outputs": [],
   "source": [
    "# Function that returns an item's main category according\n",
    "# to the above dictionary, or NaN if none of its categories appear in the dictionary.\n",
    "def get_main_category(categories):\n",
    "    for c in categories:\n",
    "        if c in categories_dict:\n",
    "            return categories_dict[c]\n",
    "\n",
    "    return np.nan\n",
    "\n",
    "# Derive each product's main category\n",
    "joined['main_category'] = joined.categories_flat.apply(lambda a: get_main_category(a))\n",
    "\n",
    "# Remove items for which there is no category\n",
    "joined = joined.dropna(axis=0, subset=['main_category'])"
   ]
  },
  {
   "cell_type": "markdown",
   "metadata": {},
   "source": [
    "Even though this is not explained in the dataset's documentation we can see that in all but one review the second element of the `helpful` field is greater or equal than the first. Thus we assume that the first element is the number of users that rated the review as helpful and the second one is the total number of ratings that the review received."
   ]
  },
  {
   "cell_type": "code",
   "execution_count": 12,
   "metadata": {
    "collapsed": true
   },
   "outputs": [],
   "source": [
    "# Number of times that the review was voted as helpful\n",
    "joined['helpful_pos'] = joined.helpful.apply(lambda a: a[0])\n",
    "\n",
    "# Total number of votes that the review received\n",
    "joined['helpful_tot'] = joined.helpful.apply(lambda a: a[1])\n",
    "\n",
    "# Ratio of helpful votes to total votes\n",
    "joined['helpful_ratio'] = joined.helpful.apply(lambda a: a[0] / a[1] if a[1] else np.nan)"
   ]
  },
  {
   "cell_type": "markdown",
   "metadata": {},
   "source": [
    "We split the prices in tiers to run some of the comparisons."
   ]
  },
  {
   "cell_type": "code",
   "execution_count": 13,
   "metadata": {
    "collapsed": true
   },
   "outputs": [],
   "source": [
    "# Arbitrarily chosen\n",
    "price_bins = [\n",
    "    0,\n",
    "    10,\n",
    "    20,\n",
    "    30,\n",
    "    40,\n",
    "    50,\n",
    "    60,\n",
    "    70,\n",
    "    80,\n",
    "    90,\n",
    "    100,\n",
    "    200,\n",
    "    500,\n",
    "    1000\n",
    "]\n",
    "\n",
    "joined['price_tier'] = pd.cut(joined.price, price_bins)"
   ]
  },
  {
   "cell_type": "code",
   "execution_count": 14,
   "metadata": {
    "collapsed": false
   },
   "outputs": [
    {
     "data": {
      "text/html": [
       "<div>\n",
       "<style>\n",
       "    .dataframe thead tr:only-child th {\n",
       "        text-align: right;\n",
       "    }\n",
       "\n",
       "    .dataframe thead th {\n",
       "        text-align: left;\n",
       "    }\n",
       "\n",
       "    .dataframe tbody tr th {\n",
       "        vertical-align: top;\n",
       "    }\n",
       "</style>\n",
       "<table border=\"1\" class=\"dataframe\">\n",
       "  <thead>\n",
       "    <tr style=\"text-align: right;\">\n",
       "      <th></th>\n",
       "      <th>asin</th>\n",
       "      <th>helpful</th>\n",
       "      <th>overall</th>\n",
       "      <th>reviewText</th>\n",
       "      <th>reviewTime</th>\n",
       "      <th>reviewerID</th>\n",
       "      <th>reviewerName</th>\n",
       "      <th>summary</th>\n",
       "      <th>unixReviewTime</th>\n",
       "      <th>brand</th>\n",
       "      <th>categories</th>\n",
       "      <th>description</th>\n",
       "      <th>imUrl</th>\n",
       "      <th>price</th>\n",
       "      <th>related</th>\n",
       "      <th>salesRank</th>\n",
       "      <th>title</th>\n",
       "      <th>reviewMonth</th>\n",
       "      <th>reviewYear</th>\n",
       "      <th>compound_score</th>\n",
       "      <th>positive_score</th>\n",
       "      <th>negative_score</th>\n",
       "      <th>neutral_score</th>\n",
       "      <th>salesRankPosition</th>\n",
       "      <th>salesRankCategory</th>\n",
       "      <th>tokenized_text</th>\n",
       "      <th>word_count</th>\n",
       "      <th>categories_flat</th>\n",
       "      <th>main_category</th>\n",
       "      <th>helpful_pos</th>\n",
       "      <th>helpful_tot</th>\n",
       "      <th>helpful_ratio</th>\n",
       "      <th>price_tier</th>\n",
       "    </tr>\n",
       "  </thead>\n",
       "  <tbody>\n",
       "    <tr>\n",
       "      <th>2</th>\n",
       "      <td>B00E7OIOVC</td>\n",
       "      <td>[0, 0]</td>\n",
       "      <td>5.0</td>\n",
       "      <td>Great!</td>\n",
       "      <td>2014-07-03</td>\n",
       "      <td>A0001528BGUBOEVR6T5U</td>\n",
       "      <td>igozingo</td>\n",
       "      <td>Five Stars</td>\n",
       "      <td>1404345600</td>\n",
       "      <td>niceEshop</td>\n",
       "      <td>[[Home &amp; Kitchen, Kitchen &amp; Dining, Kitchen Ut...</td>\n",
       "      <td>Style flask funnel great to help you fill your...</td>\n",
       "      <td>http://ecx.images-amazon.com/images/I/31gMKQdA...</td>\n",
       "      <td>1.99</td>\n",
       "      <td>{'also_bought': ['B004TQIB7U', 'B006O1EBHW', '...</td>\n",
       "      <td>{'Kitchen &amp; Dining': 63021}</td>\n",
       "      <td>niceEshop(TM) Small Stainless Steel Funnel For...</td>\n",
       "      <td>7</td>\n",
       "      <td>2014</td>\n",
       "      <td>0.6588</td>\n",
       "      <td>1.000</td>\n",
       "      <td>0.000</td>\n",
       "      <td>0.000</td>\n",
       "      <td>63021.0</td>\n",
       "      <td>Kitchen &amp; Dining</td>\n",
       "      <td>[Great]</td>\n",
       "      <td>1</td>\n",
       "      <td>[Home &amp; Kitchen, Kitchen &amp; Dining, Kitchen Ute...</td>\n",
       "      <td>Home &amp; Kitchen</td>\n",
       "      <td>0</td>\n",
       "      <td>0</td>\n",
       "      <td>NaN</td>\n",
       "      <td>(0, 10]</td>\n",
       "    </tr>\n",
       "    <tr>\n",
       "      <th>3</th>\n",
       "      <td>B00EXOZ9W8</td>\n",
       "      <td>[0, 0]</td>\n",
       "      <td>5.0</td>\n",
       "      <td>My man was more then happy with it, looking fo...</td>\n",
       "      <td>2014-07-02</td>\n",
       "      <td>A00030342K9JCQO8Q7C3L</td>\n",
       "      <td>Joseph Dvorak</td>\n",
       "      <td>Five Stars</td>\n",
       "      <td>1404259200</td>\n",
       "      <td>NaN</td>\n",
       "      <td>[[Home &amp; Kitchen, Kitchen &amp; Dining, Small Appl...</td>\n",
       "      <td></td>\n",
       "      <td>http://ecx.images-amazon.com/images/I/41Oc0HaP...</td>\n",
       "      <td>65.81</td>\n",
       "      <td>{'also_bought': ['B000FAJ0K6', 'B0012UY6XO', '...</td>\n",
       "      <td>{'Kitchen &amp; Dining': 56153}</td>\n",
       "      <td>BELLA 14025 Programmable Slow Cooker with Lock...</td>\n",
       "      <td>7</td>\n",
       "      <td>2014</td>\n",
       "      <td>0.7893</td>\n",
       "      <td>0.349</td>\n",
       "      <td>0.000</td>\n",
       "      <td>0.651</td>\n",
       "      <td>56153.0</td>\n",
       "      <td>Kitchen &amp; Dining</td>\n",
       "      <td>[My, man, was, more, then, happy, with, it, lo...</td>\n",
       "      <td>14</td>\n",
       "      <td>[Home &amp; Kitchen, Kitchen &amp; Dining, Small Appli...</td>\n",
       "      <td>Home &amp; Kitchen</td>\n",
       "      <td>0</td>\n",
       "      <td>0</td>\n",
       "      <td>NaN</td>\n",
       "      <td>(60, 70]</td>\n",
       "    </tr>\n",
       "    <tr>\n",
       "      <th>4</th>\n",
       "      <td>1477473939</td>\n",
       "      <td>[0, 0]</td>\n",
       "      <td>4.0</td>\n",
       "      <td>Reading this seriers was a amazing. It was ver...</td>\n",
       "      <td>2013-01-26</td>\n",
       "      <td>A000443821AD43TOGKNGZ</td>\n",
       "      <td>Uluwehi</td>\n",
       "      <td>Really enjoyed it!</td>\n",
       "      <td>1359158400</td>\n",
       "      <td>NaN</td>\n",
       "      <td>[[Books]]</td>\n",
       "      <td>USA Today Best Selling Author Elizabeth  Reyes...</td>\n",
       "      <td>http://ecx.images-amazon.com/images/I/51bhuPCO...</td>\n",
       "      <td>4.99</td>\n",
       "      <td>{'also_bought': ['147522186X', '1475244207', '...</td>\n",
       "      <td>{'Books': 1011147}</td>\n",
       "      <td>Making You Mine: The Moreno Brothers</td>\n",
       "      <td>1</td>\n",
       "      <td>2013</td>\n",
       "      <td>0.9199</td>\n",
       "      <td>0.353</td>\n",
       "      <td>0.000</td>\n",
       "      <td>0.647</td>\n",
       "      <td>1011147.0</td>\n",
       "      <td>Books</td>\n",
       "      <td>[Reading, this, seriers, was, a, amazing, It, ...</td>\n",
       "      <td>31</td>\n",
       "      <td>[Books]</td>\n",
       "      <td>Books</td>\n",
       "      <td>0</td>\n",
       "      <td>0</td>\n",
       "      <td>NaN</td>\n",
       "      <td>(0, 10]</td>\n",
       "    </tr>\n",
       "    <tr>\n",
       "      <th>5</th>\n",
       "      <td>1477473939</td>\n",
       "      <td>[0, 0]</td>\n",
       "      <td>4.0</td>\n",
       "      <td>I haven't read any of this series before, but ...</td>\n",
       "      <td>2013-04-09</td>\n",
       "      <td>A1BAWRQQMC7L72</td>\n",
       "      <td>Roswellfan410</td>\n",
       "      <td>Really liked it</td>\n",
       "      <td>1365465600</td>\n",
       "      <td>NaN</td>\n",
       "      <td>[[Books]]</td>\n",
       "      <td>USA Today Best Selling Author Elizabeth  Reyes...</td>\n",
       "      <td>http://ecx.images-amazon.com/images/I/51bhuPCO...</td>\n",
       "      <td>4.99</td>\n",
       "      <td>{'also_bought': ['147522186X', '1475244207', '...</td>\n",
       "      <td>{'Books': 1011147}</td>\n",
       "      <td>Making You Mine: The Moreno Brothers</td>\n",
       "      <td>4</td>\n",
       "      <td>2013</td>\n",
       "      <td>0.9548</td>\n",
       "      <td>0.411</td>\n",
       "      <td>0.000</td>\n",
       "      <td>0.589</td>\n",
       "      <td>1011147.0</td>\n",
       "      <td>Books</td>\n",
       "      <td>[I, haven, t, read, any, of, this, series, bef...</td>\n",
       "      <td>35</td>\n",
       "      <td>[Books]</td>\n",
       "      <td>Books</td>\n",
       "      <td>0</td>\n",
       "      <td>0</td>\n",
       "      <td>NaN</td>\n",
       "      <td>(0, 10]</td>\n",
       "    </tr>\n",
       "    <tr>\n",
       "      <th>6</th>\n",
       "      <td>B0092QSQ3Q</td>\n",
       "      <td>[0, 0]</td>\n",
       "      <td>5.0</td>\n",
       "      <td>It is really good! But it was hard to push out...</td>\n",
       "      <td>2012-11-03</td>\n",
       "      <td>A00044782UB564I4SGA0X</td>\n",
       "      <td>Johan98</td>\n",
       "      <td>Really good!</td>\n",
       "      <td>1351900800</td>\n",
       "      <td>NaN</td>\n",
       "      <td>[[Cell Phones &amp; Accessories, Accessories, Scre...</td>\n",
       "      <td>Protect your InvestmentDaily use of your mobil...</td>\n",
       "      <td>http://ecx.images-amazon.com/images/I/51722Hcw...</td>\n",
       "      <td>5.95</td>\n",
       "      <td>{'also_bought': ['B00FDXLRM4', 'B009VO0506', '...</td>\n",
       "      <td>{'Cell Phones &amp; Accessories': 4377}</td>\n",
       "      <td>Skinomi&amp;reg; TechSkin - Apple iPhone 5 Screen ...</td>\n",
       "      <td>11</td>\n",
       "      <td>2012</td>\n",
       "      <td>0.6534</td>\n",
       "      <td>0.228</td>\n",
       "      <td>0.056</td>\n",
       "      <td>0.716</td>\n",
       "      <td>4377.0</td>\n",
       "      <td>Cell Phones &amp; Accessories</td>\n",
       "      <td>[It, is, really, good, But, it, was, hard, to,...</td>\n",
       "      <td>22</td>\n",
       "      <td>[Cell Phones &amp; Accessories, Accessories, Scree...</td>\n",
       "      <td>Electronics</td>\n",
       "      <td>0</td>\n",
       "      <td>0</td>\n",
       "      <td>NaN</td>\n",
       "      <td>(0, 10]</td>\n",
       "    </tr>\n",
       "  </tbody>\n",
       "</table>\n",
       "</div>"
      ],
      "text/plain": [
       "         asin helpful  overall  \\\n",
       "2  B00E7OIOVC  [0, 0]      5.0   \n",
       "3  B00EXOZ9W8  [0, 0]      5.0   \n",
       "4  1477473939  [0, 0]      4.0   \n",
       "5  1477473939  [0, 0]      4.0   \n",
       "6  B0092QSQ3Q  [0, 0]      5.0   \n",
       "\n",
       "                                          reviewText reviewTime  \\\n",
       "2                                             Great! 2014-07-03   \n",
       "3  My man was more then happy with it, looking fo... 2014-07-02   \n",
       "4  Reading this seriers was a amazing. It was ver... 2013-01-26   \n",
       "5  I haven't read any of this series before, but ... 2013-04-09   \n",
       "6  It is really good! But it was hard to push out... 2012-11-03   \n",
       "\n",
       "              reviewerID   reviewerName             summary  unixReviewTime  \\\n",
       "2   A0001528BGUBOEVR6T5U       igozingo          Five Stars      1404345600   \n",
       "3  A00030342K9JCQO8Q7C3L  Joseph Dvorak          Five Stars      1404259200   \n",
       "4  A000443821AD43TOGKNGZ        Uluwehi  Really enjoyed it!      1359158400   \n",
       "5         A1BAWRQQMC7L72  Roswellfan410     Really liked it      1365465600   \n",
       "6  A00044782UB564I4SGA0X        Johan98        Really good!      1351900800   \n",
       "\n",
       "       brand                                         categories  \\\n",
       "2  niceEshop  [[Home & Kitchen, Kitchen & Dining, Kitchen Ut...   \n",
       "3        NaN  [[Home & Kitchen, Kitchen & Dining, Small Appl...   \n",
       "4        NaN                                          [[Books]]   \n",
       "5        NaN                                          [[Books]]   \n",
       "6        NaN  [[Cell Phones & Accessories, Accessories, Scre...   \n",
       "\n",
       "                                         description  \\\n",
       "2  Style flask funnel great to help you fill your...   \n",
       "3                                                      \n",
       "4  USA Today Best Selling Author Elizabeth  Reyes...   \n",
       "5  USA Today Best Selling Author Elizabeth  Reyes...   \n",
       "6  Protect your InvestmentDaily use of your mobil...   \n",
       "\n",
       "                                               imUrl  price  \\\n",
       "2  http://ecx.images-amazon.com/images/I/31gMKQdA...   1.99   \n",
       "3  http://ecx.images-amazon.com/images/I/41Oc0HaP...  65.81   \n",
       "4  http://ecx.images-amazon.com/images/I/51bhuPCO...   4.99   \n",
       "5  http://ecx.images-amazon.com/images/I/51bhuPCO...   4.99   \n",
       "6  http://ecx.images-amazon.com/images/I/51722Hcw...   5.95   \n",
       "\n",
       "                                             related  \\\n",
       "2  {'also_bought': ['B004TQIB7U', 'B006O1EBHW', '...   \n",
       "3  {'also_bought': ['B000FAJ0K6', 'B0012UY6XO', '...   \n",
       "4  {'also_bought': ['147522186X', '1475244207', '...   \n",
       "5  {'also_bought': ['147522186X', '1475244207', '...   \n",
       "6  {'also_bought': ['B00FDXLRM4', 'B009VO0506', '...   \n",
       "\n",
       "                             salesRank  \\\n",
       "2          {'Kitchen & Dining': 63021}   \n",
       "3          {'Kitchen & Dining': 56153}   \n",
       "4                   {'Books': 1011147}   \n",
       "5                   {'Books': 1011147}   \n",
       "6  {'Cell Phones & Accessories': 4377}   \n",
       "\n",
       "                                               title  reviewMonth  reviewYear  \\\n",
       "2  niceEshop(TM) Small Stainless Steel Funnel For...            7        2014   \n",
       "3  BELLA 14025 Programmable Slow Cooker with Lock...            7        2014   \n",
       "4               Making You Mine: The Moreno Brothers            1        2013   \n",
       "5               Making You Mine: The Moreno Brothers            4        2013   \n",
       "6  Skinomi&reg; TechSkin - Apple iPhone 5 Screen ...           11        2012   \n",
       "\n",
       "   compound_score  positive_score  negative_score  neutral_score  \\\n",
       "2          0.6588           1.000           0.000          0.000   \n",
       "3          0.7893           0.349           0.000          0.651   \n",
       "4          0.9199           0.353           0.000          0.647   \n",
       "5          0.9548           0.411           0.000          0.589   \n",
       "6          0.6534           0.228           0.056          0.716   \n",
       "\n",
       "   salesRankPosition          salesRankCategory  \\\n",
       "2            63021.0           Kitchen & Dining   \n",
       "3            56153.0           Kitchen & Dining   \n",
       "4          1011147.0                      Books   \n",
       "5          1011147.0                      Books   \n",
       "6             4377.0  Cell Phones & Accessories   \n",
       "\n",
       "                                      tokenized_text  word_count  \\\n",
       "2                                            [Great]           1   \n",
       "3  [My, man, was, more, then, happy, with, it, lo...          14   \n",
       "4  [Reading, this, seriers, was, a, amazing, It, ...          31   \n",
       "5  [I, haven, t, read, any, of, this, series, bef...          35   \n",
       "6  [It, is, really, good, But, it, was, hard, to,...          22   \n",
       "\n",
       "                                     categories_flat   main_category  \\\n",
       "2  [Home & Kitchen, Kitchen & Dining, Kitchen Ute...  Home & Kitchen   \n",
       "3  [Home & Kitchen, Kitchen & Dining, Small Appli...  Home & Kitchen   \n",
       "4                                            [Books]           Books   \n",
       "5                                            [Books]           Books   \n",
       "6  [Cell Phones & Accessories, Accessories, Scree...     Electronics   \n",
       "\n",
       "   helpful_pos  helpful_tot  helpful_ratio price_tier  \n",
       "2            0            0            NaN    (0, 10]  \n",
       "3            0            0            NaN   (60, 70]  \n",
       "4            0            0            NaN    (0, 10]  \n",
       "5            0            0            NaN    (0, 10]  \n",
       "6            0            0            NaN    (0, 10]  "
      ]
     },
     "execution_count": 14,
     "metadata": {},
     "output_type": "execute_result"
    }
   ],
   "source": [
    "# Final dataframe\n",
    "joined.head()"
   ]
  },
  {
   "cell_type": "code",
   "execution_count": 15,
   "metadata": {
    "collapsed": false
   },
   "outputs": [
    {
     "name": "stdout",
     "output_type": "stream",
     "text": [
      "Remaining reviews: 125958\n"
     ]
    }
   ],
   "source": [
    "# See how many reviews are left\n",
    "print('Remaining reviews: {}'.format(joined.shape[0]))"
   ]
  },
  {
   "cell_type": "markdown",
   "metadata": {},
   "source": [
    "### Error bars with bootstrap resampling\n",
    "When plotting aggregate statistics for a group, such as the mean score, we need to include error bars in the plot. We used bootstrap resampling to derive confidence intervals for those statistics since the underlying distribution of the data is unknown to us in general.\n",
    "\n",
    "All the error bars that we used in our analysis are 95% confidence intervals obtained using this method."
   ]
  },
  {
   "cell_type": "code",
   "execution_count": 16,
   "metadata": {
    "collapsed": true
   },
   "outputs": [],
   "source": [
    "def bootstrap_estimate(data, func):\n",
    "    \"\"\"Calculate a bootstrap estimate of a certain function of a sequence\n",
    "    This function draws a random sample with replacement from a list and\n",
    "    uses func to calculate a statistic over that sample.\n",
    "    Since the sample is drawn with replacement each element of the list\n",
    "    may appear multiple times or not appear at all in the sample.\n",
    "    \"\"\"\n",
    "    n = len(data)\n",
    "    \n",
    "    # Generate n random indices with replacement\n",
    "    indices = np.random.randint(n, size=n)\n",
    "    \n",
    "    # Sample the data\n",
    "    sample = data.iloc[indices]\n",
    "\n",
    "    # Compute the statistic\n",
    "    return func(sample)\n",
    "\n",
    "def confidence_interval(data, count, func, confidence=0.95):\n",
    "    \"\"\"Return a statistic and its confidence interval of a sequence using bootstrap resampling.\n",
    "    Computes the statistic over count bootstrap samples drawn from the data, then computes the \n",
    "    lower and uppper bounds of the confidence interval.\n",
    "    \"\"\"\n",
    "    estimates = [bootstrap_estimate(data, func) for _ in range(count)]\n",
    "    \n",
    "    # Debug: verify that the estimates have a normal distribution\n",
    "    # plt.hist(estimates, bins=50)\n",
    "    \n",
    "    # Calculate the confidence interval bounds assuming a normal distribution in\n",
    "    # the estimates\n",
    "    m, se = np.mean(estimates), np.std(estimates)\n",
    "    lower, upper = scipy.stats.norm.interval(confidence, loc=m, scale=se)\n",
    "    \n",
    "    return m, lower, upper\n",
    "\n",
    "def plot_groupby_error_bars(grouped, count, func, ax, confidence=0.95):\n",
    "    \"\"\"Plot a bar plot showing the result of a statistic applied to the groups\n",
    "    of a groupby object and use count bootstrap samples to compute confidence intervals\n",
    "    \"\"\"\n",
    "    out = grouped.agg(lambda a: confidence_interval(a, count, func, confidence))\n",
    "    means = out.apply(lambda x: x[0] if x else 0)\n",
    "    mins = out.apply(lambda x: x[1] - x[0] if x else 0)\n",
    "    maxs = out.apply(lambda x: x[2] - x[0] if x else 0)\n",
    "\n",
    "    errs = np.c_[mins, maxs].T\n",
    "    means.plot(kind='bar', ax=ax, yerr=errs, ecolor='r')"
   ]
  },
  {
   "cell_type": "code",
   "execution_count": 17,
   "metadata": {
    "collapsed": false
   },
   "outputs": [
    {
     "data": {
      "text/plain": [
       "(4.1892369837564907, 4.1824896948033885, 4.1959842727095928)"
      ]
     },
     "execution_count": 17,
     "metadata": {},
     "output_type": "execute_result"
    }
   ],
   "source": [
    "# Example: 95% confidence interval of the mean of the review scores with\n",
    "# 1000 bootstrap samples. \n",
    "confidence_interval(joined.overall, 1000, np.mean)"
   ]
  },
  {
   "cell_type": "markdown",
   "metadata": {},
   "source": [
    "### Feature analysis\n",
    "We can now start to have a look at the distribution of the various features. First of all: overall score distribution."
   ]
  },
  {
   "cell_type": "code",
   "execution_count": 18,
   "metadata": {
    "collapsed": false
   },
   "outputs": [
    {
     "data": {
      "text/plain": [
       "<matplotlib.axes._subplots.AxesSubplot at 0x17bd9d1d0>"
      ]
     },
     "execution_count": 18,
     "metadata": {},
     "output_type": "execute_result"
    },
    {
     "data": {
      "image/png": "[encoded data removed]",
      "text/plain": [
       "<matplotlib.figure.Figure at 0x17adc1898>"
      ]
     },
     "metadata": {},
     "output_type": "display_data"
    }
   ],
   "source": [
    "# Overall distribution\n",
    "joined.overall.value_counts().plot(kind='pie', title='Distribution of review scores')"
   ]
  },
  {
   "cell_type": "code",
   "execution_count": 19,
   "metadata": {
    "collapsed": false
   },
   "outputs": [
    {
     "data": {
      "image/png": "[encoded data removed]",
      "text/plain": [
       "<matplotlib.figure.Figure at 0x14ed62b38>"
      ]
     },
     "metadata": {},
     "output_type": "display_data"
    }
   ],
   "source": [
    "# Distribution with respect to price\n",
    "_, ax1 = plt.subplots(1, 1, figsize=(16,5))\n",
    "ax1.set_title('Review distribution at different prices')\n",
    "ax1.set_xlabel('Price')\n",
    "\n",
    "# Divide the reviews in uniformly sized bins according to the item's price\n",
    "bins = np.linspace(0, 1000, 12)\n",
    "gb = joined.groupby('overall')\n",
    "series = np.array([np.histogram(gb.get_group(i).price.values, bins=bins)[0] for i in range(1, 6)])\n",
    "\n",
    "# Make the total height of the bars equal 1\n",
    "series = series / series.sum(axis=0)\n",
    "histbins = bins[:-1] + np.ediff1d(bins) / 2\n",
    "bottom = np.zeros(series.shape[1])\n",
    "\n",
    "for i in range(series.shape[0]):\n",
    "    ax1.bar(histbins, series[i], width=50, bottom=bottom)\n",
    "    bottom += series[i]"
   ]
  },
  {
   "cell_type": "markdown",
   "metadata": {},
   "source": [
    "We can see that more than half of the reviews gave five stars to the product independently of the price. The low proportion of 1 and 2 star reviews suggests that customers are very likely to be satisfied with the product they purchased."
   ]
  },
  {
   "cell_type": "markdown",
   "metadata": {},
   "source": [
    "Let's now consider the number of reviews by month of the year."
   ]
  },
  {
   "cell_type": "code",
   "execution_count": 20,
   "metadata": {
    "collapsed": false
   },
   "outputs": [
    {
     "data": {
      "text/plain": [
       "<matplotlib.axes._subplots.AxesSubplot at 0x14ed4b668>"
      ]
     },
     "execution_count": 20,
     "metadata": {},
     "output_type": "execute_result"
    },
    {
     "data": {
      "image/png": "[encoded data removed]",
      "text/plain": [
       "<matplotlib.figure.Figure at 0x14ed35d68>"
      ]
     },
     "metadata": {},
     "output_type": "display_data"
    }
   ],
   "source": [
    "_, ax = plt.subplots(figsize=(12,5))\n",
    "joined.reviewMonth.value_counts().sort_index().plot(ax=ax, kind='bar', title='Review distribution by month')"
   ]
  },
  {
   "cell_type": "markdown",
   "metadata": {},
   "source": [
    "The number of reviews seems to be highest during winter and spring and lower during autumn, with January being the month with the highest number of reviews. The biggest shopping time in the year is during the christmas holidays and we imagine that reviews are written the next month after the product has been used for some time.\n",
    "\n",
    "We can now start looking at the prices of the items."
   ]
  },
  {
   "cell_type": "code",
   "execution_count": 21,
   "metadata": {
    "collapsed": true
   },
   "outputs": [],
   "source": [
    "# Group the items by price tier\n",
    "group_by_price_tier = joined.groupby('price_tier')"
   ]
  },
  {
   "cell_type": "markdown",
   "metadata": {},
   "source": [
    "First of all we can plot the distribution of the prices of reviewed items."
   ]
  },
  {
   "cell_type": "code",
   "execution_count": 22,
   "metadata": {
    "collapsed": false
   },
   "outputs": [
    {
     "data": {
      "text/plain": [
       "<matplotlib.axes._subplots.AxesSubplot at 0x179fca550>"
      ]
     },
     "execution_count": 22,
     "metadata": {},
     "output_type": "execute_result"
    },
    {
     "data": {
      "image/png": "[encoded data removed]",
      "text/plain": [
       "<matplotlib.figure.Figure at 0x178371080>"
      ]
     },
     "metadata": {},
     "output_type": "display_data"
    }
   ],
   "source": [
    "_, ax = plt.subplots(figsize=(13,5))\n",
    "ax.set_title('Review distribution by price')\n",
    "joined.price.hist(bins=50, ax=ax)"
   ]
  },
  {
   "cell_type": "markdown",
   "metadata": {},
   "source": [
    "The distribution seems to be heavy tailed, with very cheap items making up the majority of the reviews. We can verify if this distribution follows a power law by plotting it on a log-log scale."
   ]
  },
  {
   "cell_type": "code",
   "execution_count": 23,
   "metadata": {
    "collapsed": false
   },
   "outputs": [],
   "source": [
    "# We need to make logarithmic bins ourselves.\n",
    "# _, ax = plt.subplots(figsize=(13,5))\n",
    "\n",
    "# ax.set_xscale('log')\n",
    "# ax.set_title('Review distribution by price')\n",
    "# joined.price.hist(ax=ax, log=True, bins=log_bins)"
   ]
  },
  {
   "cell_type": "markdown",
   "metadata": {},
   "source": [
    "The distribution doesn't follow a linear relationship on a log-log plot so the distribution is not a power law.\n",
    "\n",
    "Now let's see the distribution according to the price tiers we defined above."
   ]
  },
  {
   "cell_type": "code",
   "execution_count": 24,
   "metadata": {
    "collapsed": false
   },
   "outputs": [
    {
     "data": {
      "text/plain": [
       "<matplotlib.axes._subplots.AxesSubplot at 0x1747eb828>"
      ]
     },
     "execution_count": 24,
     "metadata": {},
     "output_type": "execute_result"
    },
    {
     "data": {
      "image/png": "[encoded data removed]",
      "text/plain": [
       "<matplotlib.figure.Figure at 0x171c696a0>"
      ]
     },
     "metadata": {},
     "output_type": "display_data"
    }
   ],
   "source": [
    "_, ax = plt.subplots(figsize=(13,5))\n",
    "\n",
    "ax.set_title('Review distribution by price tier')\n",
    "\n",
    "group_by_price_tier.size().plot(kind='bar', ax=ax)"
   ]
  },
  {
   "cell_type": "markdown",
   "metadata": {},
   "source": [
    "One of the hypotheses we want to verify is whether the price of an item correlates with its review score, more specifically whether items belonging to a higher price tier are more likely to get better reviews. We can verify that by computing the mean review score for each price tier and displaying that on a bar plot."
   ]
  },
  {
   "cell_type": "code",
   "execution_count": 25,
   "metadata": {
    "collapsed": false
   },
   "outputs": [
    {
     "data": {
      "image/png": "[encoded data removed]",
      "text/plain": [
       "<matplotlib.figure.Figure at 0x179524668>"
      ]
     },
     "metadata": {},
     "output_type": "display_data"
    }
   ],
   "source": [
    "_, ax = plt.subplots(figsize=(13,5))\n",
    "\n",
    "ax.set_title('Average review score by price tier')\n",
    "\n",
    "plot_groupby_error_bars(group_by_price_tier.overall, 1000, np.mean, ax=ax)"
   ]
  },
  {
   "cell_type": "markdown",
   "metadata": {},
   "source": [
    "There seems to be no correlation between an item's price tier and its mean score. We did not look at the medians since more than half of the reviews give 5 stars to the item in all price tiers and thus the median would always be 5.\n",
    "\n",
    "We can also verify whether the month during which a review was written correlates with its score. The presence of such a correlation could indicate that buyers are more likely to give a better review in certain periods of the year than others."
   ]
  },
  {
   "cell_type": "code",
   "execution_count": 26,
   "metadata": {
    "collapsed": true
   },
   "outputs": [],
   "source": [
    "# Group data by the month in which the review was written.\n",
    "group_by_month = joined.groupby('reviewMonth')\n",
    "overall_month = group_by_month.overall"
   ]
  },
  {
   "cell_type": "code",
   "execution_count": 27,
   "metadata": {
    "collapsed": false
   },
   "outputs": [
    {
     "data": {
      "image/png": "[encoded data removed]",
      "text/plain": [
       "<matplotlib.figure.Figure at 0x16aa62a20>"
      ]
     },
     "metadata": {},
     "output_type": "display_data"
    }
   ],
   "source": [
    "_, ax = plt.subplots(figsize=(13,5))\n",
    "ax.set_title('Average review score by month')\n",
    "\n",
    "plot_groupby_error_bars(overall_month, 1000, np.mean, ax)"
   ]
  },
  {
   "cell_type": "markdown",
   "metadata": {},
   "source": [
    "Again, we can see that the correlation we hypothesized does not exist in the data. The review scores seem to be independent of the month in which they were written.\n",
    "\n",
    "Let's now look at the items grouped by their category"
   ]
  },
  {
   "cell_type": "code",
   "execution_count": 28,
   "metadata": {
    "collapsed": false
   },
   "outputs": [
    {
     "data": {
      "text/plain": [
       "<matplotlib.axes._subplots.AxesSubplot at 0x1678bb240>"
      ]
     },
     "execution_count": 28,
     "metadata": {},
     "output_type": "execute_result"
    },
    {
     "data": {
      "image/png": "[encoded data removed]",
      "text/plain": [
       "<matplotlib.figure.Figure at 0x16a531cc0>"
      ]
     },
     "metadata": {},
     "output_type": "display_data"
    }
   ],
   "source": [
    "_, ax = plt.subplots(figsize=(13,5))\n",
    "ax.set_title('Review distribution by main category')\n",
    "\n",
    "joined.main_category.value_counts().plot(kind='bar', ax=ax)"
   ]
  },
  {
   "cell_type": "code",
   "execution_count": 29,
   "metadata": {
    "collapsed": false
   },
   "outputs": [
    {
     "data": {
      "text/html": [
       "<div>\n",
       "<style>\n",
       "    .dataframe thead tr:only-child th {\n",
       "        text-align: right;\n",
       "    }\n",
       "\n",
       "    .dataframe thead th {\n",
       "        text-align: left;\n",
       "    }\n",
       "\n",
       "    .dataframe tbody tr th {\n",
       "        vertical-align: top;\n",
       "    }\n",
       "</style>\n",
       "<table border=\"1\" class=\"dataframe\">\n",
       "  <thead>\n",
       "    <tr style=\"text-align: right;\">\n",
       "      <th></th>\n",
       "      <th>All reviews</th>\n",
       "    </tr>\n",
       "  </thead>\n",
       "  <tbody>\n",
       "    <tr>\n",
       "      <th>Books</th>\n",
       "      <td>34391</td>\n",
       "    </tr>\n",
       "    <tr>\n",
       "      <th>Electronics</th>\n",
       "      <td>23594</td>\n",
       "    </tr>\n",
       "    <tr>\n",
       "      <th>Movies &amp; TV</th>\n",
       "      <td>8488</td>\n",
       "    </tr>\n",
       "    <tr>\n",
       "      <th>Home &amp; Kitchen</th>\n",
       "      <td>8340</td>\n",
       "    </tr>\n",
       "    <tr>\n",
       "      <th>Clothing, Shoes &amp; Jewelry</th>\n",
       "      <td>8326</td>\n",
       "    </tr>\n",
       "    <tr>\n",
       "      <th>Music</th>\n",
       "      <td>6197</td>\n",
       "    </tr>\n",
       "    <tr>\n",
       "      <th>Sports &amp; Outdoors</th>\n",
       "      <td>4747</td>\n",
       "    </tr>\n",
       "    <tr>\n",
       "      <th>Health &amp; Personal Care</th>\n",
       "      <td>4640</td>\n",
       "    </tr>\n",
       "    <tr>\n",
       "      <th>Beauty</th>\n",
       "      <td>3404</td>\n",
       "    </tr>\n",
       "    <tr>\n",
       "      <th>Tools &amp; Home Improvement</th>\n",
       "      <td>3046</td>\n",
       "    </tr>\n",
       "    <tr>\n",
       "      <th>Toys &amp; Games</th>\n",
       "      <td>2967</td>\n",
       "    </tr>\n",
       "    <tr>\n",
       "      <th>Pets</th>\n",
       "      <td>2546</td>\n",
       "    </tr>\n",
       "    <tr>\n",
       "      <th>Automotive</th>\n",
       "      <td>2415</td>\n",
       "    </tr>\n",
       "    <tr>\n",
       "      <th>Food</th>\n",
       "      <td>2367</td>\n",
       "    </tr>\n",
       "    <tr>\n",
       "      <th>Baby</th>\n",
       "      <td>2364</td>\n",
       "    </tr>\n",
       "    <tr>\n",
       "      <th>Office Products</th>\n",
       "      <td>2028</td>\n",
       "    </tr>\n",
       "    <tr>\n",
       "      <th>Video Games</th>\n",
       "      <td>1729</td>\n",
       "    </tr>\n",
       "    <tr>\n",
       "      <th>Patio, Lawn &amp; Garden</th>\n",
       "      <td>1425</td>\n",
       "    </tr>\n",
       "    <tr>\n",
       "      <th>Arts, Crafts &amp; Sewing</th>\n",
       "      <td>762</td>\n",
       "    </tr>\n",
       "    <tr>\n",
       "      <th>Musical Instruments</th>\n",
       "      <td>673</td>\n",
       "    </tr>\n",
       "    <tr>\n",
       "      <th>Industrial &amp; Scientific</th>\n",
       "      <td>435</td>\n",
       "    </tr>\n",
       "    <tr>\n",
       "      <th>Computing</th>\n",
       "      <td>417</td>\n",
       "    </tr>\n",
       "    <tr>\n",
       "      <th>Kindle Store</th>\n",
       "      <td>211</td>\n",
       "    </tr>\n",
       "    <tr>\n",
       "      <th>Amazon Instant Video</th>\n",
       "      <td>205</td>\n",
       "    </tr>\n",
       "    <tr>\n",
       "      <th>Gift Cards</th>\n",
       "      <td>158</td>\n",
       "    </tr>\n",
       "    <tr>\n",
       "      <th>Magazine Subscriptions</th>\n",
       "      <td>35</td>\n",
       "    </tr>\n",
       "    <tr>\n",
       "      <th>Apps for Android</th>\n",
       "      <td>33</td>\n",
       "    </tr>\n",
       "    <tr>\n",
       "      <th>Amazon Coins</th>\n",
       "      <td>15</td>\n",
       "    </tr>\n",
       "  </tbody>\n",
       "</table>\n",
       "</div>"
      ],
      "text/plain": [
       "                           All reviews\n",
       "Books                            34391\n",
       "Electronics                      23594\n",
       "Movies & TV                       8488\n",
       "Home & Kitchen                    8340\n",
       "Clothing, Shoes & Jewelry         8326\n",
       "Music                             6197\n",
       "Sports & Outdoors                 4747\n",
       "Health & Personal Care            4640\n",
       "Beauty                            3404\n",
       "Tools & Home Improvement          3046\n",
       "Toys & Games                      2967\n",
       "Pets                              2546\n",
       "Automotive                        2415\n",
       "Food                              2367\n",
       "Baby                              2364\n",
       "Office Products                   2028\n",
       "Video Games                       1729\n",
       "Patio, Lawn & Garden              1425\n",
       "Arts, Crafts & Sewing              762\n",
       "Musical Instruments                673\n",
       "Industrial & Scientific            435\n",
       "Computing                          417\n",
       "Kindle Store                       211\n",
       "Amazon Instant Video               205\n",
       "Gift Cards                         158\n",
       "Magazine Subscriptions              35\n",
       "Apps for Android                    33\n",
       "Amazon Coins                        15"
      ]
     },
     "execution_count": 29,
     "metadata": {},
     "output_type": "execute_result"
    }
   ],
   "source": [
    "pd.DataFrame({\n",
    "    'All reviews': joined.main_category.value_counts(),\n",
    "}).sort_values('All reviews', ascending=False)"
   ]
  },
  {
   "cell_type": "markdown",
   "metadata": {},
   "source": [
    "The most popular categories by a large margin seem to be books and electronics. The least popular categories have very few reviews in our sample so the results we get from them might not be very relevant."
   ]
  },
  {
   "cell_type": "code",
   "execution_count": 30,
   "metadata": {
    "collapsed": false
   },
   "outputs": [
    {
     "data": {
      "image/png": "[encoded data removed]",
      "text/plain": [
       "<matplotlib.figure.Figure at 0x15f32bd68>"
      ]
     },
     "metadata": {},
     "output_type": "display_data"
    }
   ],
   "source": [
    "_, ax = plt.subplots(figsize=(13,5))\n",
    "by_category = joined.groupby('main_category')\n",
    "\n",
    "ax.set_title('Mean review score by category')\n",
    "\n",
    "plot_groupby_error_bars(by_category.overall, 1000, np.mean, ax)"
   ]
  },
  {
   "cell_type": "markdown",
   "metadata": {},
   "source": [
    "We can see from here that products belonging to certain categories indeed tend to receive better reviews on average.\n",
    "\n",
    "We can also look at the relationship between the overall rating given in a review and the overall sentiment score of the description. We expect negative reviews to have a sentiment score closer to -1 and vice versa. The sentiment classifier we chose assigns 4 scores to each review text: positive score, negative score, neutral score and a normalized compound score. Negative, positive and neutral scores go from 0 to 1 and compound score goes from -1 (most negative) to 1 (most positive) where scores between -0.5 and 0.5 are considered neutral."
   ]
  },
  {
   "cell_type": "code",
   "execution_count": 31,
   "metadata": {
    "collapsed": false,
    "scrolled": false
   },
   "outputs": [
    {
     "data": {
      "image/png": "[encoded data removed]",
      "text/plain": [
       "<matplotlib.figure.Figure at 0x15e5a40b8>"
      ]
     },
     "metadata": {},
     "output_type": "display_data"
    }
   ],
   "source": [
    "by_overall = joined.groupby('overall')\n",
    "\n",
    "_, ax = plt.subplots(figsize=(8,5))\n",
    "ax.set_title('Mean compound sentiment score')\n",
    "plot_groupby_error_bars(by_overall.compound_score, 1000, np.mean, ax)"
   ]
  },
  {
   "cell_type": "markdown",
   "metadata": {},
   "source": [
    "Our expectations were correct: negative reviews indeed have a lower sentiment score, but even the 1 star reviews do not seem to have a strongly negative connotation. Perhaps overly rude or angry reviews are removed by Amazon's staff."
   ]
  },
  {
   "cell_type": "code",
   "execution_count": 32,
   "metadata": {
    "collapsed": false
   },
   "outputs": [
    {
     "data": {
      "image/png": "[encoded data removed]",
      "text/plain": [
       "<matplotlib.figure.Figure at 0x161622550>"
      ]
     },
     "metadata": {},
     "output_type": "display_data"
    }
   ],
   "source": [
    "_, ax = plt.subplots(figsize=(8,5))\n",
    "ax.set_title('Mean positive sentiment score')\n",
    "\n",
    "plot_groupby_error_bars(by_overall.positive_score, 1000, np.mean, ax)"
   ]
  },
  {
   "cell_type": "code",
   "execution_count": 33,
   "metadata": {
    "collapsed": false
   },
   "outputs": [
    {
     "data": {
      "image/png": "[encoded data removed]",
      "text/plain": [
       "<matplotlib.figure.Figure at 0x154d150b8>"
      ]
     },
     "metadata": {},
     "output_type": "display_data"
    }
   ],
   "source": [
    "_, ax = plt.subplots(figsize=(8,5))\n",
    "ax.set_title('Mean neutral sentiment score')\n",
    "\n",
    "plot_groupby_error_bars(by_overall.neutral_score, 1000, np.mean, ax)"
   ]
  },
  {
   "cell_type": "code",
   "execution_count": 34,
   "metadata": {
    "collapsed": false
   },
   "outputs": [
    {
     "data": {
      "image/png": "[encoded data removed]",
      "text/plain": [
       "<matplotlib.figure.Figure at 0x17c92cef0>"
      ]
     },
     "metadata": {},
     "output_type": "display_data"
    }
   ],
   "source": [
    "_, ax = plt.subplots(figsize=(8,5))\n",
    "ax.set_title('Mean negative sentiment score')\n",
    "\n",
    "plot_groupby_error_bars(by_overall.negative_score, 1000, np.mean, ax)"
   ]
  },
  {
   "cell_type": "code",
   "execution_count": 35,
   "metadata": {
    "collapsed": false
   },
   "outputs": [
    {
     "data": {
      "image/png": "[encoded data removed]",
      "text/plain": [
       "<matplotlib.figure.Figure at 0x155549518>"
      ]
     },
     "metadata": {},
     "output_type": "display_data"
    }
   ],
   "source": [
    "fig, (ax1, ax2) = plt.subplots(2, 1, sharex=True, figsize=(15, 5))\n",
    "ax1.set_title('Mean compound sentiment score')\n",
    "plot_groupby_error_bars(by_category.compound_score, 1000, np.mean, ax1)\n",
    "\n",
    "ax2.set_title('Mean positive sentiment score')\n",
    "plot_groupby_error_bars(by_category.positive_score, 1000, np.mean, ax2)"
   ]
  },
  {
   "cell_type": "markdown",
   "metadata": {},
   "source": [
    "The negative, positive and neutral sentiment scores confirm what we saw by observing the compound score. Like with ratings, some categories such as gift cards, music, baby, toys and games have a higher compound or positive semtiment score even though none of them is very different from the others. Gift cards also has very few reviews so its score is not reliable.\n",
    "\n",
    "We verify whether an item's price is correlated to its sentiment score."
   ]
  },
  {
   "cell_type": "code",
   "execution_count": 36,
   "metadata": {
    "collapsed": false,
    "scrolled": false
   },
   "outputs": [
    {
     "data": {
      "image/png": "[encoded data removed]",
      "text/plain": [
       "<matplotlib.figure.Figure at 0x17ca6d9e8>"
      ]
     },
     "metadata": {},
     "output_type": "display_data"
    }
   ],
   "source": [
    "fig, ax = plt.subplots(figsize=(13, 5))\n",
    "ax.set_title('Mean compound sentiment score')\n",
    "plot_groupby_error_bars(group_by_price_tier.compound_score, 1000, np.mean, ax)"
   ]
  },
  {
   "cell_type": "markdown",
   "metadata": {},
   "source": [
    "A more positive sentiment score doesn't correlate with a higher price.\n",
    "\n",
    "We tried to verify whether the sentiment score of the reviews of a product correlates with its sales ranking"
   ]
  },
  {
   "cell_type": "code",
   "execution_count": 37,
   "metadata": {
    "collapsed": false,
    "scrolled": false
   },
   "outputs": [
    {
     "data": {
      "text/plain": [
       "<matplotlib.colorbar.Colorbar at 0x17d0db518>"
      ]
     },
     "execution_count": 37,
     "metadata": {},
     "output_type": "execute_result"
    },
    {
     "data": {
      "image/png": "[encoded data removed]",
      "text/plain": [
       "<matplotlib.figure.Figure at 0x17d03a978>"
      ]
     },
     "metadata": {},
     "output_type": "display_data"
    }
   ],
   "source": [
    "fig, ax = plt.subplots(figsize=(16, 9))\n",
    "onlyranked = joined.dropna(subset=['salesRankPosition'])\n",
    "\n",
    "r = ax.hist2d(onlyranked.salesRankPosition, onlyranked.negative_score, bins=20, norm=LogNorm())\n",
    "ax.set_title('Distribution of sentiment score and sales ranking')\n",
    "ax.set_xlabel('Sales ranking')\n",
    "ax.set_ylabel('Negative sentiment score')\n",
    "fig.colorbar(r[3])"
   ]
  },
  {
   "cell_type": "code",
   "execution_count": 38,
   "metadata": {
    "collapsed": false,
    "scrolled": false
   },
   "outputs": [
    {
     "data": {
      "text/plain": [
       "<matplotlib.colorbar.Colorbar at 0x154cb5080>"
      ]
     },
     "execution_count": 38,
     "metadata": {},
     "output_type": "execute_result"
    },
    {
     "data": {
      "image/png": "[encoded data removed]",
      "text/plain": [
       "<matplotlib.figure.Figure at 0x15557d358>"
      ]
     },
     "metadata": {},
     "output_type": "display_data"
    }
   ],
   "source": [
    "fig, ax = plt.subplots(figsize=(16, 9))\n",
    "img = ax.hist2d(onlyranked.salesRankPosition, onlyranked.positive_score, bins=20, norm=LogNorm())\n",
    "ax.set_title('Distribution of sentiment score and sales ranking')\n",
    "ax.set_xlabel('Sales ranking')\n",
    "ax.set_ylabel('Positive sentiment score')\n",
    "fig.colorbar(img[3])"
   ]
  },
  {
   "cell_type": "code",
   "execution_count": 39,
   "metadata": {
    "collapsed": false
   },
   "outputs": [
    {
     "data": {
      "text/plain": [
       "<matplotlib.colorbar.Colorbar at 0x17ffdbf98>"
      ]
     },
     "execution_count": 39,
     "metadata": {},
     "output_type": "execute_result"
    },
    {
     "data": {
      "image/png": "[encoded data removed]",
      "text/plain": [
       "<matplotlib.figure.Figure at 0x17ffdf5f8>"
      ]
     },
     "metadata": {},
     "output_type": "display_data"
    }
   ],
   "source": [
    "fig, ax = plt.subplots(figsize=(16, 9))\n",
    "img = ax.hist2d(onlyranked.salesRankPosition, onlyranked.compound_score, bins=20, norm=LogNorm())\n",
    "ax.set_title('Distribution of sentiment score and sales ranking')\n",
    "ax.set_xlabel('Sales ranking')\n",
    "ax.set_ylabel('Compound sentiment score')\n",
    "fig.colorbar(img[3])"
   ]
  },
  {
   "cell_type": "markdown",
   "metadata": {},
   "source": [
    "The sales ranking of a product and the sentiment score of its reviews don't seem to be correlated: from the above plots we can see that the items that have the most reviews are those higher up in the sales ranking which is expected since they are more likely to appear in user searches but also that the overall distribution of the sentiment scores doesn't change with the sales ranking."
   ]
  },
  {
   "cell_type": "markdown",
   "metadata": {},
   "source": [
    "We tried comparing the length of the reviews to the price tier of the items being reviewed: our theory is that customers that purchase a more expensive item are more likely to write a more detailed review. We observed that this doesn not happen when looking at the dataset as a whole but only when looking at some categories, such as electronics individually."
   ]
  },
  {
   "cell_type": "code",
   "execution_count": 40,
   "metadata": {
    "collapsed": false
   },
   "outputs": [
    {
     "data": {
      "image/png": "[encoded data removed]",
      "text/plain": [
       "<matplotlib.figure.Figure at 0x184c4b160>"
      ]
     },
     "metadata": {},
     "output_type": "display_data"
    }
   ],
   "source": [
    "gb = joined[joined.main_category == 'Electronics'].groupby('price_tier').word_count\n",
    "ax = plt.subplot()\n",
    "plot_groupby_error_bars(gb, 1000, np.mean, ax)"
   ]
  },
  {
   "cell_type": "code",
   "execution_count": 41,
   "metadata": {
    "collapsed": false
   },
   "outputs": [
    {
     "data": {
      "image/png": "[encoded data removed]",
      "text/plain": [
       "<matplotlib.figure.Figure at 0x184ce1438>"
      ]
     },
     "metadata": {},
     "output_type": "display_data"
    }
   ],
   "source": [
    "gb = joined[joined.main_category == 'Home & Kitchen'].groupby('price_tier').word_count\n",
    "ax = plt.subplot()\n",
    "plot_groupby_error_bars(gb, 1000, np.mean, ax)"
   ]
  },
  {
   "cell_type": "code",
   "execution_count": 42,
   "metadata": {
    "collapsed": false
   },
   "outputs": [
    {
     "data": {
      "image/png": "[encoded data removed]",
      "text/plain": [
       "<matplotlib.figure.Figure at 0x184ccfe48>"
      ]
     },
     "metadata": {},
     "output_type": "display_data"
    }
   ],
   "source": [
    "gb = joined[joined.main_category == 'Office Products'].groupby('price_tier').word_count\n",
    "ax = plt.subplot()\n",
    "plot_groupby_error_bars(gb, 1000, np.mean, ax)"
   ]
  },
  {
   "cell_type": "code",
   "execution_count": 43,
   "metadata": {
    "collapsed": false
   },
   "outputs": [
    {
     "data": {
      "image/png": "[encoded data removed]",
      "text/plain": [
       "<matplotlib.figure.Figure at 0x154715128>"
      ]
     },
     "metadata": {},
     "output_type": "display_data"
    }
   ],
   "source": [
    "gb = joined[joined.main_category == 'Clothing, Shoes & Jewelry'].groupby('price_tier').word_count\n",
    "ax = plt.subplot()\n",
    "plot_groupby_error_bars(gb, 1000, np.mean, ax)"
   ]
  },
  {
   "cell_type": "code",
   "execution_count": 44,
   "metadata": {
    "collapsed": false
   },
   "outputs": [
    {
     "data": {
      "image/png": "[encoded data removed]",
      "text/plain": [
       "<matplotlib.figure.Figure at 0x1806fa7b8>"
      ]
     },
     "metadata": {},
     "output_type": "display_data"
    }
   ],
   "source": [
    "gb = joined[joined.main_category == 'Patio, Lawn & Garden'].groupby('price_tier').word_count\n",
    "ax = plt.subplot()\n",
    "plot_groupby_error_bars(gb, 1000, np.mean, ax)"
   ]
  },
  {
   "cell_type": "markdown",
   "metadata": {},
   "source": [
    "### Observations\n",
    "In the abstract for our project we planned to investigate whether factors such as a product's price or the season in which a review is written can affect the score given to a product. When analyzing the dataset we found that such correlations seem to be absent in the data and the only other feature that correlates with the review's score is the sentiment score (positive or negative) that the review's extended summary expresses. Furthermore we have discovered that in some of the categories the length of the review positively correlates with the price tier of the product, suggesting that users might write more detailed reviews for products that they spent more money on. It seems that just looking at the numbers in the data doesn't tell us too much about what we want to know and we might need to conduct further analysis on the text of the reviews or the features of the product (such as looking at what other items are related to the one being reviewed or seeing if we can predict whether a review is going to be more useful according to which words the author uses and how high the sentimental score of the review is. "
   ]
  },
  {
   "cell_type": "markdown",
   "metadata": {},
   "source": [
    "### Future Direction:\n",
    "\n",
    "We struggled to find significant correlations with the price, time, salesRank factors on user reviews, as we had initially proposed. However, we became more interested in learning about how incentivization can impact how reviewers write their reviews and how products are rated. The following is a glimpse into a couple interesting leads we have to understand the influence of incentivization on review quality."
   ]
  },
  {
   "cell_type": "code",
   "execution_count": 45,
   "metadata": {
    "collapsed": false
   },
   "outputs": [
    {
     "data": {
      "text/plain": [
       "(125958, 33)"
      ]
     },
     "execution_count": 45,
     "metadata": {},
     "output_type": "execute_result"
    }
   ],
   "source": [
    "joined.shape\n"
   ]
  },
  {
   "cell_type": "code",
   "execution_count": 46,
   "metadata": {
    "collapsed": false
   },
   "outputs": [],
   "source": [
    "# Using keywords in incentivized reviews (i.e., \"I received xxx product for free in exchange for an honest, \n",
    "# unbiased review\"), we separate the incentivized reviews from those that are not incentivized. \n",
    "mask = joined['reviewText'].map(lambda x: ('in exchange for an unbiased review' in x) or ('in exchange for an honest' in x) or ('disclaimer' in x) or ('all opinions stated' in x))\n",
    "incentivized = joined[mask]\n",
    "non_incentivized = joined[~mask]"
   ]
  },
  {
   "cell_type": "code",
   "execution_count": 47,
   "metadata": {
    "collapsed": false
   },
   "outputs": [
    {
     "data": {
      "text/html": [
       "<div>\n",
       "<style>\n",
       "    .dataframe thead tr:only-child th {\n",
       "        text-align: right;\n",
       "    }\n",
       "\n",
       "    .dataframe thead th {\n",
       "        text-align: left;\n",
       "    }\n",
       "\n",
       "    .dataframe tbody tr th {\n",
       "        vertical-align: top;\n",
       "    }\n",
       "</style>\n",
       "<table border=\"1\" class=\"dataframe\">\n",
       "  <thead>\n",
       "    <tr style=\"text-align: right;\">\n",
       "      <th></th>\n",
       "      <th>asin</th>\n",
       "      <th>helpful</th>\n",
       "      <th>overall</th>\n",
       "      <th>reviewText</th>\n",
       "      <th>reviewTime</th>\n",
       "      <th>reviewerID</th>\n",
       "      <th>reviewerName</th>\n",
       "      <th>summary</th>\n",
       "      <th>unixReviewTime</th>\n",
       "      <th>brand</th>\n",
       "      <th>categories</th>\n",
       "      <th>description</th>\n",
       "      <th>imUrl</th>\n",
       "      <th>price</th>\n",
       "      <th>related</th>\n",
       "      <th>salesRank</th>\n",
       "      <th>title</th>\n",
       "      <th>reviewMonth</th>\n",
       "      <th>reviewYear</th>\n",
       "      <th>compound_score</th>\n",
       "      <th>positive_score</th>\n",
       "      <th>negative_score</th>\n",
       "      <th>neutral_score</th>\n",
       "      <th>salesRankPosition</th>\n",
       "      <th>salesRankCategory</th>\n",
       "      <th>tokenized_text</th>\n",
       "      <th>word_count</th>\n",
       "      <th>categories_flat</th>\n",
       "      <th>main_category</th>\n",
       "      <th>helpful_pos</th>\n",
       "      <th>helpful_tot</th>\n",
       "      <th>helpful_ratio</th>\n",
       "      <th>price_tier</th>\n",
       "    </tr>\n",
       "  </thead>\n",
       "  <tbody>\n",
       "    <tr>\n",
       "      <th>30849</th>\n",
       "      <td>B00HVORMGI</td>\n",
       "      <td>[1, 2]</td>\n",
       "      <td>4.0</td>\n",
       "      <td>As a disclaimer I have received a free sample ...</td>\n",
       "      <td>2014-05-02</td>\n",
       "      <td>A1BNXL3N6IMNBL</td>\n",
       "      <td>DB</td>\n",
       "      <td>Freedom!</td>\n",
       "      <td>1398988800</td>\n",
       "      <td>NaN</td>\n",
       "      <td>[[Cell Phones &amp; Accessories, Accessories, Batt...</td>\n",
       "      <td>Ultra Portable Power &amp;amp; ProtectionGet the e...</td>\n",
       "      <td>http://ecx.images-amazon.com/images/I/41b%2Bsz...</td>\n",
       "      <td>49.95</td>\n",
       "      <td>{'also_bought': ['B00DDAWL4W', 'B00JS7UFH4', '...</td>\n",
       "      <td>{'Cell Phones &amp; Accessories': 5381}</td>\n",
       "      <td>Maxboost Atomic S External Protective iPhone 5...</td>\n",
       "      <td>5</td>\n",
       "      <td>2014</td>\n",
       "      <td>0.0146</td>\n",
       "      <td>0.065</td>\n",
       "      <td>0.065</td>\n",
       "      <td>0.870</td>\n",
       "      <td>5381.0</td>\n",
       "      <td>Cell Phones &amp; Accessories</td>\n",
       "      <td>[As, a, disclaimer, I, have, received, a, free...</td>\n",
       "      <td>168</td>\n",
       "      <td>[Cell Phones &amp; Accessories, Accessories, Batte...</td>\n",
       "      <td>Electronics</td>\n",
       "      <td>1</td>\n",
       "      <td>2</td>\n",
       "      <td>0.500000</td>\n",
       "      <td>(40, 50]</td>\n",
       "    </tr>\n",
       "    <tr>\n",
       "      <th>48307</th>\n",
       "      <td>B009P2FIQA</td>\n",
       "      <td>[0, 0]</td>\n",
       "      <td>4.0</td>\n",
       "      <td>The back is exactly what I paid for. No blemis...</td>\n",
       "      <td>2014-03-22</td>\n",
       "      <td>A13N4DOFYM9JIX</td>\n",
       "      <td>Josh</td>\n",
       "      <td>Strong 4 stars</td>\n",
       "      <td>1395446400</td>\n",
       "      <td>NaN</td>\n",
       "      <td>[[Cell Phones &amp; Accessories, Accessories, Acce...</td>\n",
       "      <td>Fashionable and attractive design for your iPh...</td>\n",
       "      <td>http://ecx.images-amazon.com/images/I/51GmdU8k...</td>\n",
       "      <td>13.59</td>\n",
       "      <td>{'also_bought': ['B0091V0EFK', 'B007V7XOSK', '...</td>\n",
       "      <td>{'Cell Phones &amp; Accessories': 493307}</td>\n",
       "      <td>Matek: luxury Diamond Bag Handmade Bling Cryst...</td>\n",
       "      <td>3</td>\n",
       "      <td>2014</td>\n",
       "      <td>-0.2960</td>\n",
       "      <td>0.172</td>\n",
       "      <td>0.241</td>\n",
       "      <td>0.587</td>\n",
       "      <td>493307.0</td>\n",
       "      <td>Cell Phones &amp; Accessories</td>\n",
       "      <td>[The, back, is, exactly, what, I, paid, for, N...</td>\n",
       "      <td>35</td>\n",
       "      <td>[Cell Phones &amp; Accessories, Accessories, Acces...</td>\n",
       "      <td>Electronics</td>\n",
       "      <td>0</td>\n",
       "      <td>0</td>\n",
       "      <td>NaN</td>\n",
       "      <td>(10, 20]</td>\n",
       "    </tr>\n",
       "    <tr>\n",
       "      <th>48588</th>\n",
       "      <td>B00A70MP88</td>\n",
       "      <td>[0, 0]</td>\n",
       "      <td>4.0</td>\n",
       "      <td>Overall, I like this case very much.DISCLAIMER...</td>\n",
       "      <td>2013-07-10</td>\n",
       "      <td>A1F7BIPFN9GWVN</td>\n",
       "      <td>Sydney A.</td>\n",
       "      <td>Not an Otterbox, but fine for casual use</td>\n",
       "      <td>1373414400</td>\n",
       "      <td>NaN</td>\n",
       "      <td>[[Cell Phones &amp; Accessories, Cases, Basic Cases]]</td>\n",
       "      <td>We believe great products are made greater by ...</td>\n",
       "      <td>http://ecx.images-amazon.com/images/I/41IUlyTR...</td>\n",
       "      <td>8.99</td>\n",
       "      <td>{'also_bought': ['B008AST7R6', 'B0042FV2SI', '...</td>\n",
       "      <td>{'Cell Phones &amp; Accessories': 2022}</td>\n",
       "      <td>[Drop Protection] Caseology Apple iPhone 4 / 4...</td>\n",
       "      <td>7</td>\n",
       "      <td>2013</td>\n",
       "      <td>0.9979</td>\n",
       "      <td>0.209</td>\n",
       "      <td>0.064</td>\n",
       "      <td>0.728</td>\n",
       "      <td>2022.0</td>\n",
       "      <td>Cell Phones &amp; Accessories</td>\n",
       "      <td>[Overall, I, like, this, case, very, much, DIS...</td>\n",
       "      <td>530</td>\n",
       "      <td>[Cell Phones &amp; Accessories, Cases, Basic Cases]</td>\n",
       "      <td>Electronics</td>\n",
       "      <td>0</td>\n",
       "      <td>0</td>\n",
       "      <td>NaN</td>\n",
       "      <td>(0, 10]</td>\n",
       "    </tr>\n",
       "    <tr>\n",
       "      <th>121497</th>\n",
       "      <td>B0092KRAVQ</td>\n",
       "      <td>[8, 9]</td>\n",
       "      <td>5.0</td>\n",
       "      <td>** NOTE: I received a free package of this pro...</td>\n",
       "      <td>2014-06-18</td>\n",
       "      <td>A1BXVZSQOJE6UE</td>\n",
       "      <td>Ctwink</td>\n",
       "      <td>Another Exceptional Electronics Product From T...</td>\n",
       "      <td>1403049600</td>\n",
       "      <td>NaN</td>\n",
       "      <td>[[Electronics, Computers &amp; Accessories, Cables...</td>\n",
       "      <td>CONTENTS - In The Friendly Swede retail packag...</td>\n",
       "      <td>http://ecx.images-amazon.com/images/I/51AoPv4F...</td>\n",
       "      <td>10.99</td>\n",
       "      <td>{'also_bought': ['B00CEURAWA', 'B00GZFUNRE', '...</td>\n",
       "      <td>{'Cell Phones &amp; Accessories': 37449}</td>\n",
       "      <td>Bundle of 3PCS Premium Branded 5.5&amp;quot; Thin-...</td>\n",
       "      <td>6</td>\n",
       "      <td>2014</td>\n",
       "      <td>0.9984</td>\n",
       "      <td>0.183</td>\n",
       "      <td>0.010</td>\n",
       "      <td>0.807</td>\n",
       "      <td>37449.0</td>\n",
       "      <td>Cell Phones &amp; Accessories</td>\n",
       "      <td>[NOTE, I, received, a, free, package, of, this...</td>\n",
       "      <td>516</td>\n",
       "      <td>[Electronics, Computers &amp; Accessories, Cables ...</td>\n",
       "      <td>Electronics</td>\n",
       "      <td>8</td>\n",
       "      <td>9</td>\n",
       "      <td>0.888889</td>\n",
       "      <td>(10, 20]</td>\n",
       "    </tr>\n",
       "    <tr>\n",
       "      <th>137602</th>\n",
       "      <td>B001AZP6O4</td>\n",
       "      <td>[6, 14]</td>\n",
       "      <td>1.0</td>\n",
       "      <td>We purchased this Item to be able to remote lo...</td>\n",
       "      <td>2011-07-19</td>\n",
       "      <td>A1E420DFHY2VT5</td>\n",
       "      <td>Clydesubs</td>\n",
       "      <td>Misleading Advetising and bad support</td>\n",
       "      <td>1311033600</td>\n",
       "      <td>ZyXEL</td>\n",
       "      <td>[[Electronics, Security &amp; Surveillance, Survei...</td>\n",
       "      <td></td>\n",
       "      <td>http://ecx.images-amazon.com/images/I/41Gz9unL...</td>\n",
       "      <td>365.99</td>\n",
       "      <td>{'also_bought': ['B004EIFCHK', 'B004D3QOPA', '...</td>\n",
       "      <td>{}</td>\n",
       "      <td>ZyXEL ZyWALL USG100 Unified Security Gateway F...</td>\n",
       "      <td>7</td>\n",
       "      <td>2011</td>\n",
       "      <td>0.9210</td>\n",
       "      <td>0.104</td>\n",
       "      <td>0.035</td>\n",
       "      <td>0.862</td>\n",
       "      <td>NaN</td>\n",
       "      <td>NaN</td>\n",
       "      <td>[We, purchased, this, Item, to, be, able, to, ...</td>\n",
       "      <td>200</td>\n",
       "      <td>[Electronics, Security &amp; Surveillance, Surveil...</td>\n",
       "      <td>Electronics</td>\n",
       "      <td>6</td>\n",
       "      <td>14</td>\n",
       "      <td>0.428571</td>\n",
       "      <td>(200, 500]</td>\n",
       "    </tr>\n",
       "    <tr>\n",
       "      <th>152241</th>\n",
       "      <td>B00G2FD4M8</td>\n",
       "      <td>[6, 6]</td>\n",
       "      <td>5.0</td>\n",
       "      <td>Let's be honest. Apple products get all the go...</td>\n",
       "      <td>2014-02-19</td>\n",
       "      <td>A1G650TTTHEAL5</td>\n",
       "      <td>Charles Spanky \"Zumina Reviews\"</td>\n",
       "      <td>If you want to use your android device as an a...</td>\n",
       "      <td>1392768000</td>\n",
       "      <td>Hale Devices Inc</td>\n",
       "      <td>[[Electronics, Portable Audio &amp; Video]]</td>\n",
       "      <td></td>\n",
       "      <td>http://ecx.images-amazon.com/images/I/41yL3Slx...</td>\n",
       "      <td>79.99</td>\n",
       "      <td>{'also_bought': ['B00GND21H8', 'B00J0825JC', '...</td>\n",
       "      <td>NaN</td>\n",
       "      <td>Hale Dreamer Alarm Clock Speaker Dock for Andr...</td>\n",
       "      <td>2</td>\n",
       "      <td>2014</td>\n",
       "      <td>0.9990</td>\n",
       "      <td>0.127</td>\n",
       "      <td>0.075</td>\n",
       "      <td>0.797</td>\n",
       "      <td>NaN</td>\n",
       "      <td>NaN</td>\n",
       "      <td>[Let, s, be, honest, Apple, products, get, all...</td>\n",
       "      <td>1967</td>\n",
       "      <td>[Electronics, Portable Audio &amp; Video]</td>\n",
       "      <td>Electronics</td>\n",
       "      <td>6</td>\n",
       "      <td>6</td>\n",
       "      <td>1.000000</td>\n",
       "      <td>(70, 80]</td>\n",
       "    </tr>\n",
       "  </tbody>\n",
       "</table>\n",
       "</div>"
      ],
      "text/plain": [
       "              asin  helpful  overall  \\\n",
       "30849   B00HVORMGI   [1, 2]      4.0   \n",
       "48307   B009P2FIQA   [0, 0]      4.0   \n",
       "48588   B00A70MP88   [0, 0]      4.0   \n",
       "121497  B0092KRAVQ   [8, 9]      5.0   \n",
       "137602  B001AZP6O4  [6, 14]      1.0   \n",
       "152241  B00G2FD4M8   [6, 6]      5.0   \n",
       "\n",
       "                                               reviewText reviewTime  \\\n",
       "30849   As a disclaimer I have received a free sample ... 2014-05-02   \n",
       "48307   The back is exactly what I paid for. No blemis... 2014-03-22   \n",
       "48588   Overall, I like this case very much.DISCLAIMER... 2013-07-10   \n",
       "121497  ** NOTE: I received a free package of this pro... 2014-06-18   \n",
       "137602  We purchased this Item to be able to remote lo... 2011-07-19   \n",
       "152241  Let's be honest. Apple products get all the go... 2014-02-19   \n",
       "\n",
       "            reviewerID                     reviewerName  \\\n",
       "30849   A1BNXL3N6IMNBL                               DB   \n",
       "48307   A13N4DOFYM9JIX                             Josh   \n",
       "48588   A1F7BIPFN9GWVN                        Sydney A.   \n",
       "121497  A1BXVZSQOJE6UE                           Ctwink   \n",
       "137602  A1E420DFHY2VT5                        Clydesubs   \n",
       "152241  A1G650TTTHEAL5  Charles Spanky \"Zumina Reviews\"   \n",
       "\n",
       "                                                  summary  unixReviewTime  \\\n",
       "30849                                            Freedom!      1398988800   \n",
       "48307                                      Strong 4 stars      1395446400   \n",
       "48588            Not an Otterbox, but fine for casual use      1373414400   \n",
       "121497  Another Exceptional Electronics Product From T...      1403049600   \n",
       "137602              Misleading Advetising and bad support      1311033600   \n",
       "152241  If you want to use your android device as an a...      1392768000   \n",
       "\n",
       "                   brand                                         categories  \\\n",
       "30849                NaN  [[Cell Phones & Accessories, Accessories, Batt...   \n",
       "48307                NaN  [[Cell Phones & Accessories, Accessories, Acce...   \n",
       "48588                NaN  [[Cell Phones & Accessories, Cases, Basic Cases]]   \n",
       "121497               NaN  [[Electronics, Computers & Accessories, Cables...   \n",
       "137602             ZyXEL  [[Electronics, Security & Surveillance, Survei...   \n",
       "152241  Hale Devices Inc            [[Electronics, Portable Audio & Video]]   \n",
       "\n",
       "                                              description  \\\n",
       "30849   Ultra Portable Power &amp; ProtectionGet the e...   \n",
       "48307   Fashionable and attractive design for your iPh...   \n",
       "48588   We believe great products are made greater by ...   \n",
       "121497  CONTENTS - In The Friendly Swede retail packag...   \n",
       "137602                                                      \n",
       "152241                                                      \n",
       "\n",
       "                                                    imUrl   price  \\\n",
       "30849   http://ecx.images-amazon.com/images/I/41b%2Bsz...   49.95   \n",
       "48307   http://ecx.images-amazon.com/images/I/51GmdU8k...   13.59   \n",
       "48588   http://ecx.images-amazon.com/images/I/41IUlyTR...    8.99   \n",
       "121497  http://ecx.images-amazon.com/images/I/51AoPv4F...   10.99   \n",
       "137602  http://ecx.images-amazon.com/images/I/41Gz9unL...  365.99   \n",
       "152241  http://ecx.images-amazon.com/images/I/41yL3Slx...   79.99   \n",
       "\n",
       "                                                  related  \\\n",
       "30849   {'also_bought': ['B00DDAWL4W', 'B00JS7UFH4', '...   \n",
       "48307   {'also_bought': ['B0091V0EFK', 'B007V7XOSK', '...   \n",
       "48588   {'also_bought': ['B008AST7R6', 'B0042FV2SI', '...   \n",
       "121497  {'also_bought': ['B00CEURAWA', 'B00GZFUNRE', '...   \n",
       "137602  {'also_bought': ['B004EIFCHK', 'B004D3QOPA', '...   \n",
       "152241  {'also_bought': ['B00GND21H8', 'B00J0825JC', '...   \n",
       "\n",
       "                                    salesRank  \\\n",
       "30849     {'Cell Phones & Accessories': 5381}   \n",
       "48307   {'Cell Phones & Accessories': 493307}   \n",
       "48588     {'Cell Phones & Accessories': 2022}   \n",
       "121497   {'Cell Phones & Accessories': 37449}   \n",
       "137602                                     {}   \n",
       "152241                                    NaN   \n",
       "\n",
       "                                                    title  reviewMonth  \\\n",
       "30849   Maxboost Atomic S External Protective iPhone 5...            5   \n",
       "48307   Matek: luxury Diamond Bag Handmade Bling Cryst...            3   \n",
       "48588   [Drop Protection] Caseology Apple iPhone 4 / 4...            7   \n",
       "121497  Bundle of 3PCS Premium Branded 5.5&quot; Thin-...            6   \n",
       "137602  ZyXEL ZyWALL USG100 Unified Security Gateway F...            7   \n",
       "152241  Hale Dreamer Alarm Clock Speaker Dock for Andr...            2   \n",
       "\n",
       "        reviewYear  compound_score  positive_score  negative_score  \\\n",
       "30849         2014          0.0146           0.065           0.065   \n",
       "48307         2014         -0.2960           0.172           0.241   \n",
       "48588         2013          0.9979           0.209           0.064   \n",
       "121497        2014          0.9984           0.183           0.010   \n",
       "137602        2011          0.9210           0.104           0.035   \n",
       "152241        2014          0.9990           0.127           0.075   \n",
       "\n",
       "        neutral_score  salesRankPosition          salesRankCategory  \\\n",
       "30849           0.870             5381.0  Cell Phones & Accessories   \n",
       "48307           0.587           493307.0  Cell Phones & Accessories   \n",
       "48588           0.728             2022.0  Cell Phones & Accessories   \n",
       "121497          0.807            37449.0  Cell Phones & Accessories   \n",
       "137602          0.862                NaN                        NaN   \n",
       "152241          0.797                NaN                        NaN   \n",
       "\n",
       "                                           tokenized_text  word_count  \\\n",
       "30849   [As, a, disclaimer, I, have, received, a, free...         168   \n",
       "48307   [The, back, is, exactly, what, I, paid, for, N...          35   \n",
       "48588   [Overall, I, like, this, case, very, much, DIS...         530   \n",
       "121497  [NOTE, I, received, a, free, package, of, this...         516   \n",
       "137602  [We, purchased, this, Item, to, be, able, to, ...         200   \n",
       "152241  [Let, s, be, honest, Apple, products, get, all...        1967   \n",
       "\n",
       "                                          categories_flat main_category  \\\n",
       "30849   [Cell Phones & Accessories, Accessories, Batte...   Electronics   \n",
       "48307   [Cell Phones & Accessories, Accessories, Acces...   Electronics   \n",
       "48588     [Cell Phones & Accessories, Cases, Basic Cases]   Electronics   \n",
       "121497  [Electronics, Computers & Accessories, Cables ...   Electronics   \n",
       "137602  [Electronics, Security & Surveillance, Surveil...   Electronics   \n",
       "152241              [Electronics, Portable Audio & Video]   Electronics   \n",
       "\n",
       "        helpful_pos  helpful_tot  helpful_ratio  price_tier  \n",
       "30849             1            2       0.500000    (40, 50]  \n",
       "48307             0            0            NaN    (10, 20]  \n",
       "48588             0            0            NaN     (0, 10]  \n",
       "121497            8            9       0.888889    (10, 20]  \n",
       "137602            6           14       0.428571  (200, 500]  \n",
       "152241            6            6       1.000000    (70, 80]  "
      ]
     },
     "execution_count": 47,
     "metadata": {},
     "output_type": "execute_result"
    }
   ],
   "source": [
    "incentivized[incentivized['main_category'] == 'Electronics']"
   ]
  },
  {
   "cell_type": "code",
   "execution_count": 48,
   "metadata": {
    "collapsed": false
   },
   "outputs": [
    {
     "name": "stdout",
     "output_type": "stream",
     "text": [
      "Incentivized Review example: \n"
     ]
    },
    {
     "data": {
      "text/plain": [
       "\"Kregel Publications has come out with a revised version of their Candle Bible Handbook this past March.  If you are looking for a Bible Study tool for your kids to go along with their Bible devotional books, this would be a great addition to your library.  This book is for children ages 8-12 years old.  This Bible handbook gives an overall view of how the Bible is organized into different categories (History, Poetry, Major and Minor Prophets, etc.).  Then, an overview of the Old Testament is given along with a timeline of major events.  Following this overview, the handbook gives information on each book of the Bible by including FAQ, an outline, maps and concludes with study questions.  The New Testament does the same thing, but also includes a section on the life of Christ.  After all the books of the Bible have been discussed, the book concludes with several different sections: Big Ideas in the Bible, Promises Made in the Bible, 50 Very Important Passages, and Who's Who in the Bible.I was excited to received this book for my kids.  This book is called a paperback book, but is made out of heavy duty cardstock.  The pages are beautifully done with great graphics and pictures that are full of color and will capture a child's attention.  I love all the maps!  This can help children picture where the events have taken place in the world.  I think this resource will be a great addition to our family Bible reading time.***I received this book free from Kregel Publications in exchange for an honest review.  All opinions are my own.\""
      ]
     },
     "execution_count": 48,
     "metadata": {},
     "output_type": "execute_result"
    }
   ],
   "source": [
    "# This is an example of a so-called \"unbiased review\"\n",
    "print('Incentivized Review example: ')\n",
    "incentivized.iloc[100]['reviewText']"
   ]
  },
  {
   "cell_type": "code",
   "execution_count": 49,
   "metadata": {
    "collapsed": false
   },
   "outputs": [
    {
     "name": "stdout",
     "output_type": "stream",
     "text": [
      "(125816, 33)\n",
      "(142, 33)\n"
     ]
    }
   ],
   "source": [
    "# Sizes of incentivized samples vs non.\n",
    "print(non_incentivized.shape)\n",
    "print(incentivized.shape)"
   ]
  },
  {
   "cell_type": "code",
   "execution_count": 50,
   "metadata": {
    "collapsed": false
   },
   "outputs": [
    {
     "name": "stdout",
     "output_type": "stream",
     "text": [
      "incentivized overall rating:  4.28873239437\n",
      "non_incentivized overall rating:  4.1889346347\n"
     ]
    }
   ],
   "source": [
    "print(\"incentivized overall rating: \", incentivized['overall'].mean())\n",
    "print(\"non_incentivized overall rating: \", non_incentivized['overall'].mean())"
   ]
  },
  {
   "cell_type": "code",
   "execution_count": 51,
   "metadata": {
    "collapsed": false
   },
   "outputs": [
    {
     "name": "stdout",
     "output_type": "stream",
     "text": [
      "Frequency of Star Ratings of Incentivized Reviews\n"
     ]
    },
    {
     "data": {
      "image/png": "[encoded data removed]",
      "text/plain": [
       "<matplotlib.figure.Figure at 0x17f3e6da0>"
      ]
     },
     "metadata": {},
     "output_type": "display_data"
    },
    {
     "name": "stdout",
     "output_type": "stream",
     "text": [
      "Histogram of Review Text Sentiment Scores for Incentivized Reviews\n"
     ]
    },
    {
     "data": {
      "image/png": "[encoded data removed]",
      "text/plain": [
       "<matplotlib.figure.Figure at 0x17fa9fa58>"
      ]
     },
     "metadata": {},
     "output_type": "display_data"
    },
    {
     "name": "stdout",
     "output_type": "stream",
     "text": [
      "Frequency of Star Ratings of Non-Incentivized Reviews\n"
     ]
    },
    {
     "data": {
      "image/png": "[encoded data removed]",
      "text/plain": [
       "<matplotlib.figure.Figure at 0x17f412550>"
      ]
     },
     "metadata": {},
     "output_type": "display_data"
    },
    {
     "name": "stdout",
     "output_type": "stream",
     "text": [
      "Histogram of Review Text Sentiment Score for Non-Incentivized Reviews\n"
     ]
    },
    {
     "data": {
      "image/png": "[encoded data removed]",
      "text/plain": [
       "<matplotlib.figure.Figure at 0x17fcb8a20>"
      ]
     },
     "metadata": {},
     "output_type": "display_data"
    }
   ],
   "source": [
    "print('Frequency of Star Ratings of Incentivized Reviews')\n",
    "(incentivized.groupby('overall').size()/incentivized.shape[0]).plot(kind = 'bar')\n",
    "plt.show()\n",
    "print('Histogram of Review Text Sentiment Scores for Incentivized Reviews')\n",
    "incentivized['compound_score'].hist(weights = [1/incentivized.shape[0]]*incentivized.shape[0])\n",
    "plt.show()\n",
    "print('Frequency of Star Ratings of Non-Incentivized Reviews')\n",
    "\n",
    "(non_incentivized.groupby('overall').size()/non_incentivized.shape[0]).plot(kind = 'bar')\n",
    "plt.show()\n",
    "print('Histogram of Review Text Sentiment Score for Non-Incentivized Reviews')\n",
    "\n",
    "non_incentivized['compound_score'].hist(weights = [1/non_incentivized.shape[0]]*non_incentivized.shape[0])\n",
    "plt.show()"
   ]
  },
  {
   "cell_type": "markdown",
   "metadata": {},
   "source": [
    "Although, the sizes of the two sets of reviews is very different, and we do not have nearly as many for the incentivized set compared to the non-incentivized set, we can still make some conclusions on how people, who are given products for free or at a discount, write their reviews. Using the vader sentiment analyzer, we can see that incentivized reviews are much more positive that non-incentivized. In addition, people who are given products for free/discounted give more positive ratings and less 1 or 2-star ratings. Our plan to further analyze this phenomenon is detailed in the readme."
   ]
  },
  {
   "cell_type": "code",
   "execution_count": 52,
   "metadata": {
    "collapsed": false
   },
   "outputs": [
    {
     "data": {
      "text/plain": [
       "count     142.000000\n",
       "mean      331.471831\n",
       "std       270.700266\n",
       "min        35.000000\n",
       "25%       177.000000\n",
       "50%       274.000000\n",
       "75%       373.750000\n",
       "max      1967.000000\n",
       "Name: word_count, dtype: float64"
      ]
     },
     "execution_count": 52,
     "metadata": {},
     "output_type": "execute_result"
    }
   ],
   "source": [
    "incentivized.word_count.describe()"
   ]
  },
  {
   "cell_type": "code",
   "execution_count": 53,
   "metadata": {
    "collapsed": false
   },
   "outputs": [
    {
     "data": {
      "text/plain": [
       "count    125816.000000\n",
       "mean         86.399130\n",
       "std         118.613081\n",
       "min           0.000000\n",
       "25%          27.000000\n",
       "50%          47.000000\n",
       "75%          95.000000\n",
       "max        4837.000000\n",
       "Name: word_count, dtype: float64"
      ]
     },
     "execution_count": 53,
     "metadata": {},
     "output_type": "execute_result"
    }
   ],
   "source": [
    "non_incentivized.word_count.describe()"
   ]
  },
  {
   "cell_type": "code",
   "execution_count": 54,
   "metadata": {
    "collapsed": false
   },
   "outputs": [
    {
     "name": "stdout",
     "output_type": "stream",
     "text": [
      "Histogram of Review Text compound Sentiment Scores\n"
     ]
    },
    {
     "data": {
      "image/png": "[encoded data removed]",
      "text/plain": [
       "<matplotlib.figure.Figure at 0x185e29ac8>"
      ]
     },
     "metadata": {},
     "output_type": "display_data"
    },
    {
     "name": "stdout",
     "output_type": "stream",
     "text": [
      "Histogram of Review Text positive Sentiment Scores\n"
     ]
    },
    {
     "data": {
      "image/png": "[encoded data removed]",
      "text/plain": [
       "<matplotlib.figure.Figure at 0x185eef748>"
      ]
     },
     "metadata": {},
     "output_type": "display_data"
    },
    {
     "name": "stdout",
     "output_type": "stream",
     "text": [
      "Histogram of Review Text negative Sentiment Scores\n"
     ]
    },
    {
     "data": {
      "image/png": "[encoded data removed]",
      "text/plain": [
       "<matplotlib.figure.Figure at 0x17fc17898>"
      ]
     },
     "metadata": {},
     "output_type": "display_data"
    },
    {
     "name": "stdout",
     "output_type": "stream",
     "text": [
      "Histogram of Review Text neutral Sentiment Scores\n"
     ]
    },
    {
     "data": {
      "image/png": "[encoded data removed]",
      "text/plain": [
       "<matplotlib.figure.Figure at 0x1885edcf8>"
      ]
     },
     "metadata": {},
     "output_type": "display_data"
    }
   ],
   "source": [
    "\n",
    "no_zero = joined[(joined['positive_score'] == 0.0) | (joined['compound_score'] == 0.0) | (joined['negative_score'] == 0.0) | (joined['neutral_score'] == 0.0)]\n",
    "\n",
    "print('Histogram of Review Text compound Sentiment Scores')\n",
    "no_zero['compound_score'].hist(weights = [1/no_zero.shape[0]]*no_zero.shape[0], bins = 100)\n",
    "plt.show()\n",
    "\n",
    "print('Histogram of Review Text positive Sentiment Scores')\n",
    "no_zero['positive_score'].hist(weights = [1/no_zero.shape[0]]*no_zero.shape[0], bins = 100)\n",
    "plt.show()\n",
    "\n",
    "print('Histogram of Review Text negative Sentiment Scores')\n",
    "no_zero['negative_score'].hist(weights = [1/no_zero.shape[0]]*no_zero.shape[0], bins = 100)\n",
    "plt.show()\n",
    "\n",
    "print('Histogram of Review Text neutral Sentiment Scores')\n",
    "no_zero['neutral_score'].hist(weights = [1/no_zero.shape[0]]*no_zero.shape[0], bins = 100)\n",
    "plt.show()"
   ]
  },
  {
   "cell_type": "code",
   "execution_count": 55,
   "metadata": {
    "collapsed": false
   },
   "outputs": [
    {
     "data": {
      "text/html": [
       "<div>\n",
       "<style>\n",
       "    .dataframe thead tr:only-child th {\n",
       "        text-align: right;\n",
       "    }\n",
       "\n",
       "    .dataframe thead th {\n",
       "        text-align: left;\n",
       "    }\n",
       "\n",
       "    .dataframe tbody tr th {\n",
       "        vertical-align: top;\n",
       "    }\n",
       "</style>\n",
       "<table border=\"1\" class=\"dataframe\">\n",
       "  <thead>\n",
       "    <tr style=\"text-align: right;\">\n",
       "      <th></th>\n",
       "      <th>asin</th>\n",
       "      <th>helpful</th>\n",
       "      <th>overall</th>\n",
       "      <th>reviewText</th>\n",
       "      <th>reviewTime</th>\n",
       "      <th>reviewerID</th>\n",
       "      <th>reviewerName</th>\n",
       "      <th>summary</th>\n",
       "      <th>unixReviewTime</th>\n",
       "      <th>brand</th>\n",
       "      <th>categories</th>\n",
       "      <th>description</th>\n",
       "      <th>imUrl</th>\n",
       "      <th>price</th>\n",
       "      <th>related</th>\n",
       "      <th>salesRank</th>\n",
       "      <th>title</th>\n",
       "      <th>reviewMonth</th>\n",
       "      <th>reviewYear</th>\n",
       "      <th>compound_score</th>\n",
       "      <th>positive_score</th>\n",
       "      <th>negative_score</th>\n",
       "      <th>neutral_score</th>\n",
       "      <th>salesRankPosition</th>\n",
       "      <th>salesRankCategory</th>\n",
       "      <th>tokenized_text</th>\n",
       "      <th>word_count</th>\n",
       "      <th>categories_flat</th>\n",
       "      <th>main_category</th>\n",
       "      <th>helpful_pos</th>\n",
       "      <th>helpful_tot</th>\n",
       "      <th>helpful_ratio</th>\n",
       "      <th>price_tier</th>\n",
       "    </tr>\n",
       "  </thead>\n",
       "  <tbody>\n",
       "    <tr>\n",
       "      <th>2</th>\n",
       "      <td>B00E7OIOVC</td>\n",
       "      <td>[0, 0]</td>\n",
       "      <td>5.0</td>\n",
       "      <td>Great!</td>\n",
       "      <td>2014-07-03</td>\n",
       "      <td>A0001528BGUBOEVR6T5U</td>\n",
       "      <td>igozingo</td>\n",
       "      <td>Five Stars</td>\n",
       "      <td>1404345600</td>\n",
       "      <td>niceEshop</td>\n",
       "      <td>[[Home &amp; Kitchen, Kitchen &amp; Dining, Kitchen Ut...</td>\n",
       "      <td>Style flask funnel great to help you fill your...</td>\n",
       "      <td>http://ecx.images-amazon.com/images/I/31gMKQdA...</td>\n",
       "      <td>1.99</td>\n",
       "      <td>{'also_bought': ['B004TQIB7U', 'B006O1EBHW', '...</td>\n",
       "      <td>{'Kitchen &amp; Dining': 63021}</td>\n",
       "      <td>niceEshop(TM) Small Stainless Steel Funnel For...</td>\n",
       "      <td>7</td>\n",
       "      <td>2014</td>\n",
       "      <td>0.6588</td>\n",
       "      <td>1.000</td>\n",
       "      <td>0.000</td>\n",
       "      <td>0.000</td>\n",
       "      <td>63021.0</td>\n",
       "      <td>Kitchen &amp; Dining</td>\n",
       "      <td>[Great]</td>\n",
       "      <td>1</td>\n",
       "      <td>[Home &amp; Kitchen, Kitchen &amp; Dining, Kitchen Ute...</td>\n",
       "      <td>Home &amp; Kitchen</td>\n",
       "      <td>0</td>\n",
       "      <td>0</td>\n",
       "      <td>NaN</td>\n",
       "      <td>(0, 10]</td>\n",
       "    </tr>\n",
       "    <tr>\n",
       "      <th>3</th>\n",
       "      <td>B00EXOZ9W8</td>\n",
       "      <td>[0, 0]</td>\n",
       "      <td>5.0</td>\n",
       "      <td>My man was more then happy with it, looking fo...</td>\n",
       "      <td>2014-07-02</td>\n",
       "      <td>A00030342K9JCQO8Q7C3L</td>\n",
       "      <td>Joseph Dvorak</td>\n",
       "      <td>Five Stars</td>\n",
       "      <td>1404259200</td>\n",
       "      <td>NaN</td>\n",
       "      <td>[[Home &amp; Kitchen, Kitchen &amp; Dining, Small Appl...</td>\n",
       "      <td></td>\n",
       "      <td>http://ecx.images-amazon.com/images/I/41Oc0HaP...</td>\n",
       "      <td>65.81</td>\n",
       "      <td>{'also_bought': ['B000FAJ0K6', 'B0012UY6XO', '...</td>\n",
       "      <td>{'Kitchen &amp; Dining': 56153}</td>\n",
       "      <td>BELLA 14025 Programmable Slow Cooker with Lock...</td>\n",
       "      <td>7</td>\n",
       "      <td>2014</td>\n",
       "      <td>0.7893</td>\n",
       "      <td>0.349</td>\n",
       "      <td>0.000</td>\n",
       "      <td>0.651</td>\n",
       "      <td>56153.0</td>\n",
       "      <td>Kitchen &amp; Dining</td>\n",
       "      <td>[My, man, was, more, then, happy, with, it, lo...</td>\n",
       "      <td>14</td>\n",
       "      <td>[Home &amp; Kitchen, Kitchen &amp; Dining, Small Appli...</td>\n",
       "      <td>Home &amp; Kitchen</td>\n",
       "      <td>0</td>\n",
       "      <td>0</td>\n",
       "      <td>NaN</td>\n",
       "      <td>(60, 70]</td>\n",
       "    </tr>\n",
       "    <tr>\n",
       "      <th>4</th>\n",
       "      <td>1477473939</td>\n",
       "      <td>[0, 0]</td>\n",
       "      <td>4.0</td>\n",
       "      <td>Reading this seriers was a amazing. It was ver...</td>\n",
       "      <td>2013-01-26</td>\n",
       "      <td>A000443821AD43TOGKNGZ</td>\n",
       "      <td>Uluwehi</td>\n",
       "      <td>Really enjoyed it!</td>\n",
       "      <td>1359158400</td>\n",
       "      <td>NaN</td>\n",
       "      <td>[[Books]]</td>\n",
       "      <td>USA Today Best Selling Author Elizabeth  Reyes...</td>\n",
       "      <td>http://ecx.images-amazon.com/images/I/51bhuPCO...</td>\n",
       "      <td>4.99</td>\n",
       "      <td>{'also_bought': ['147522186X', '1475244207', '...</td>\n",
       "      <td>{'Books': 1011147}</td>\n",
       "      <td>Making You Mine: The Moreno Brothers</td>\n",
       "      <td>1</td>\n",
       "      <td>2013</td>\n",
       "      <td>0.9199</td>\n",
       "      <td>0.353</td>\n",
       "      <td>0.000</td>\n",
       "      <td>0.647</td>\n",
       "      <td>1011147.0</td>\n",
       "      <td>Books</td>\n",
       "      <td>[Reading, this, seriers, was, a, amazing, It, ...</td>\n",
       "      <td>31</td>\n",
       "      <td>[Books]</td>\n",
       "      <td>Books</td>\n",
       "      <td>0</td>\n",
       "      <td>0</td>\n",
       "      <td>NaN</td>\n",
       "      <td>(0, 10]</td>\n",
       "    </tr>\n",
       "    <tr>\n",
       "      <th>5</th>\n",
       "      <td>1477473939</td>\n",
       "      <td>[0, 0]</td>\n",
       "      <td>4.0</td>\n",
       "      <td>I haven't read any of this series before, but ...</td>\n",
       "      <td>2013-04-09</td>\n",
       "      <td>A1BAWRQQMC7L72</td>\n",
       "      <td>Roswellfan410</td>\n",
       "      <td>Really liked it</td>\n",
       "      <td>1365465600</td>\n",
       "      <td>NaN</td>\n",
       "      <td>[[Books]]</td>\n",
       "      <td>USA Today Best Selling Author Elizabeth  Reyes...</td>\n",
       "      <td>http://ecx.images-amazon.com/images/I/51bhuPCO...</td>\n",
       "      <td>4.99</td>\n",
       "      <td>{'also_bought': ['147522186X', '1475244207', '...</td>\n",
       "      <td>{'Books': 1011147}</td>\n",
       "      <td>Making You Mine: The Moreno Brothers</td>\n",
       "      <td>4</td>\n",
       "      <td>2013</td>\n",
       "      <td>0.9548</td>\n",
       "      <td>0.411</td>\n",
       "      <td>0.000</td>\n",
       "      <td>0.589</td>\n",
       "      <td>1011147.0</td>\n",
       "      <td>Books</td>\n",
       "      <td>[I, haven, t, read, any, of, this, series, bef...</td>\n",
       "      <td>35</td>\n",
       "      <td>[Books]</td>\n",
       "      <td>Books</td>\n",
       "      <td>0</td>\n",
       "      <td>0</td>\n",
       "      <td>NaN</td>\n",
       "      <td>(0, 10]</td>\n",
       "    </tr>\n",
       "    <tr>\n",
       "      <th>6</th>\n",
       "      <td>B0092QSQ3Q</td>\n",
       "      <td>[0, 0]</td>\n",
       "      <td>5.0</td>\n",
       "      <td>It is really good! But it was hard to push out...</td>\n",
       "      <td>2012-11-03</td>\n",
       "      <td>A00044782UB564I4SGA0X</td>\n",
       "      <td>Johan98</td>\n",
       "      <td>Really good!</td>\n",
       "      <td>1351900800</td>\n",
       "      <td>NaN</td>\n",
       "      <td>[[Cell Phones &amp; Accessories, Accessories, Scre...</td>\n",
       "      <td>Protect your InvestmentDaily use of your mobil...</td>\n",
       "      <td>http://ecx.images-amazon.com/images/I/51722Hcw...</td>\n",
       "      <td>5.95</td>\n",
       "      <td>{'also_bought': ['B00FDXLRM4', 'B009VO0506', '...</td>\n",
       "      <td>{'Cell Phones &amp; Accessories': 4377}</td>\n",
       "      <td>Skinomi&amp;reg; TechSkin - Apple iPhone 5 Screen ...</td>\n",
       "      <td>11</td>\n",
       "      <td>2012</td>\n",
       "      <td>0.6534</td>\n",
       "      <td>0.228</td>\n",
       "      <td>0.056</td>\n",
       "      <td>0.716</td>\n",
       "      <td>4377.0</td>\n",
       "      <td>Cell Phones &amp; Accessories</td>\n",
       "      <td>[It, is, really, good, But, it, was, hard, to,...</td>\n",
       "      <td>22</td>\n",
       "      <td>[Cell Phones &amp; Accessories, Accessories, Scree...</td>\n",
       "      <td>Electronics</td>\n",
       "      <td>0</td>\n",
       "      <td>0</td>\n",
       "      <td>NaN</td>\n",
       "      <td>(0, 10]</td>\n",
       "    </tr>\n",
       "  </tbody>\n",
       "</table>\n",
       "</div>"
      ],
      "text/plain": [
       "         asin helpful  overall  \\\n",
       "2  B00E7OIOVC  [0, 0]      5.0   \n",
       "3  B00EXOZ9W8  [0, 0]      5.0   \n",
       "4  1477473939  [0, 0]      4.0   \n",
       "5  1477473939  [0, 0]      4.0   \n",
       "6  B0092QSQ3Q  [0, 0]      5.0   \n",
       "\n",
       "                                          reviewText reviewTime  \\\n",
       "2                                             Great! 2014-07-03   \n",
       "3  My man was more then happy with it, looking fo... 2014-07-02   \n",
       "4  Reading this seriers was a amazing. It was ver... 2013-01-26   \n",
       "5  I haven't read any of this series before, but ... 2013-04-09   \n",
       "6  It is really good! But it was hard to push out... 2012-11-03   \n",
       "\n",
       "              reviewerID   reviewerName             summary  unixReviewTime  \\\n",
       "2   A0001528BGUBOEVR6T5U       igozingo          Five Stars      1404345600   \n",
       "3  A00030342K9JCQO8Q7C3L  Joseph Dvorak          Five Stars      1404259200   \n",
       "4  A000443821AD43TOGKNGZ        Uluwehi  Really enjoyed it!      1359158400   \n",
       "5         A1BAWRQQMC7L72  Roswellfan410     Really liked it      1365465600   \n",
       "6  A00044782UB564I4SGA0X        Johan98        Really good!      1351900800   \n",
       "\n",
       "       brand                                         categories  \\\n",
       "2  niceEshop  [[Home & Kitchen, Kitchen & Dining, Kitchen Ut...   \n",
       "3        NaN  [[Home & Kitchen, Kitchen & Dining, Small Appl...   \n",
       "4        NaN                                          [[Books]]   \n",
       "5        NaN                                          [[Books]]   \n",
       "6        NaN  [[Cell Phones & Accessories, Accessories, Scre...   \n",
       "\n",
       "                                         description  \\\n",
       "2  Style flask funnel great to help you fill your...   \n",
       "3                                                      \n",
       "4  USA Today Best Selling Author Elizabeth  Reyes...   \n",
       "5  USA Today Best Selling Author Elizabeth  Reyes...   \n",
       "6  Protect your InvestmentDaily use of your mobil...   \n",
       "\n",
       "                                               imUrl  price  \\\n",
       "2  http://ecx.images-amazon.com/images/I/31gMKQdA...   1.99   \n",
       "3  http://ecx.images-amazon.com/images/I/41Oc0HaP...  65.81   \n",
       "4  http://ecx.images-amazon.com/images/I/51bhuPCO...   4.99   \n",
       "5  http://ecx.images-amazon.com/images/I/51bhuPCO...   4.99   \n",
       "6  http://ecx.images-amazon.com/images/I/51722Hcw...   5.95   \n",
       "\n",
       "                                             related  \\\n",
       "2  {'also_bought': ['B004TQIB7U', 'B006O1EBHW', '...   \n",
       "3  {'also_bought': ['B000FAJ0K6', 'B0012UY6XO', '...   \n",
       "4  {'also_bought': ['147522186X', '1475244207', '...   \n",
       "5  {'also_bought': ['147522186X', '1475244207', '...   \n",
       "6  {'also_bought': ['B00FDXLRM4', 'B009VO0506', '...   \n",
       "\n",
       "                             salesRank  \\\n",
       "2          {'Kitchen & Dining': 63021}   \n",
       "3          {'Kitchen & Dining': 56153}   \n",
       "4                   {'Books': 1011147}   \n",
       "5                   {'Books': 1011147}   \n",
       "6  {'Cell Phones & Accessories': 4377}   \n",
       "\n",
       "                                               title  reviewMonth  reviewYear  \\\n",
       "2  niceEshop(TM) Small Stainless Steel Funnel For...            7        2014   \n",
       "3  BELLA 14025 Programmable Slow Cooker with Lock...            7        2014   \n",
       "4               Making You Mine: The Moreno Brothers            1        2013   \n",
       "5               Making You Mine: The Moreno Brothers            4        2013   \n",
       "6  Skinomi&reg; TechSkin - Apple iPhone 5 Screen ...           11        2012   \n",
       "\n",
       "   compound_score  positive_score  negative_score  neutral_score  \\\n",
       "2          0.6588           1.000           0.000          0.000   \n",
       "3          0.7893           0.349           0.000          0.651   \n",
       "4          0.9199           0.353           0.000          0.647   \n",
       "5          0.9548           0.411           0.000          0.589   \n",
       "6          0.6534           0.228           0.056          0.716   \n",
       "\n",
       "   salesRankPosition          salesRankCategory  \\\n",
       "2            63021.0           Kitchen & Dining   \n",
       "3            56153.0           Kitchen & Dining   \n",
       "4          1011147.0                      Books   \n",
       "5          1011147.0                      Books   \n",
       "6             4377.0  Cell Phones & Accessories   \n",
       "\n",
       "                                      tokenized_text  word_count  \\\n",
       "2                                            [Great]           1   \n",
       "3  [My, man, was, more, then, happy, with, it, lo...          14   \n",
       "4  [Reading, this, seriers, was, a, amazing, It, ...          31   \n",
       "5  [I, haven, t, read, any, of, this, series, bef...          35   \n",
       "6  [It, is, really, good, But, it, was, hard, to,...          22   \n",
       "\n",
       "                                     categories_flat   main_category  \\\n",
       "2  [Home & Kitchen, Kitchen & Dining, Kitchen Ute...  Home & Kitchen   \n",
       "3  [Home & Kitchen, Kitchen & Dining, Small Appli...  Home & Kitchen   \n",
       "4                                            [Books]           Books   \n",
       "5                                            [Books]           Books   \n",
       "6  [Cell Phones & Accessories, Accessories, Scree...     Electronics   \n",
       "\n",
       "   helpful_pos  helpful_tot  helpful_ratio price_tier  \n",
       "2            0            0            NaN    (0, 10]  \n",
       "3            0            0            NaN   (60, 70]  \n",
       "4            0            0            NaN    (0, 10]  \n",
       "5            0            0            NaN    (0, 10]  \n",
       "6            0            0            NaN    (0, 10]  "
      ]
     },
     "execution_count": 55,
     "metadata": {},
     "output_type": "execute_result"
    }
   ],
   "source": [
    "joined.head()"
   ]
  },
  {
   "cell_type": "code",
   "execution_count": 56,
   "metadata": {
    "collapsed": true
   },
   "outputs": [],
   "source": [
    "# bucket the reviews, tf-idf"
   ]
  },
  {
   "cell_type": "code",
   "execution_count": 57,
   "metadata": {
    "collapsed": false
   },
   "outputs": [
    {
     "ename": "KeyboardInterrupt",
     "evalue": "",
     "output_type": "error",
     "traceback": [
      "\u001b[0;31m---------------------------------------------------------------------------\u001b[0m",
      "\u001b[0;31mDataError\u001b[0m                                 Traceback (most recent call last)",
      "\u001b[0;32m~/anaconda2/envs/ada/lib/python3.6/site-packages/pandas/core/groupby.py\u001b[0m in \u001b[0;36mf\u001b[0;34m(self, **kwargs)\u001b[0m\n\u001b[1;32m   1149\u001b[0m                     return self._cython_agg_general(\n\u001b[0;32m-> 1150\u001b[0;31m                         alias, alt=npfunc, **kwargs)\n\u001b[0m\u001b[1;32m   1151\u001b[0m                 \u001b[0;32mexcept\u001b[0m \u001b[0mAssertionError\u001b[0m \u001b[0;32mas\u001b[0m \u001b[0me\u001b[0m\u001b[0;34m:\u001b[0m\u001b[0;34m\u001b[0m\u001b[0m\n",
      "\u001b[0;32m~/anaconda2/envs/ada/lib/python3.6/site-packages/pandas/core/groupby.py\u001b[0m in \u001b[0;36m_cython_agg_general\u001b[0;34m(self, how, alt, numeric_only)\u001b[0m\n\u001b[1;32m    835\u001b[0m         \u001b[0;32mif\u001b[0m \u001b[0mlen\u001b[0m\u001b[0;34m(\u001b[0m\u001b[0moutput\u001b[0m\u001b[0;34m)\u001b[0m \u001b[0;34m==\u001b[0m \u001b[0;36m0\u001b[0m\u001b[0;34m:\u001b[0m\u001b[0;34m\u001b[0m\u001b[0m\n\u001b[0;32m--> 836\u001b[0;31m             \u001b[0;32mraise\u001b[0m \u001b[0mDataError\u001b[0m\u001b[0;34m(\u001b[0m\u001b[0;34m'No numeric types to aggregate'\u001b[0m\u001b[0;34m)\u001b[0m\u001b[0;34m\u001b[0m\u001b[0m\n\u001b[0m\u001b[1;32m    837\u001b[0m \u001b[0;34m\u001b[0m\u001b[0m\n",
      "\u001b[0;31mDataError\u001b[0m: No numeric types to aggregate",
      "\nDuring handling of the above exception, another exception occurred:\n",
      "\u001b[0;31mKeyboardInterrupt\u001b[0m                         Traceback (most recent call last)",
      "\u001b[0;32m<ipython-input-57-48b385c8871a>\u001b[0m in \u001b[0;36m<module>\u001b[0;34m()\u001b[0m\n\u001b[0;32m----> 1\u001b[0;31m \u001b[0mjoined\u001b[0m\u001b[0;34m.\u001b[0m\u001b[0mgroupby\u001b[0m\u001b[0;34m(\u001b[0m\u001b[0;34m'overall'\u001b[0m\u001b[0;34m)\u001b[0m\u001b[0;34m.\u001b[0m\u001b[0mtokenized_text\u001b[0m\u001b[0;34m.\u001b[0m\u001b[0msum\u001b[0m\u001b[0;34m(\u001b[0m\u001b[0;34m)\u001b[0m\u001b[0;34m\u001b[0m\u001b[0m\n\u001b[0m",
      "\u001b[0;32m~/anaconda2/envs/ada/lib/python3.6/site-packages/pandas/core/groupby.py\u001b[0m in \u001b[0;36mf\u001b[0;34m(self, **kwargs)\u001b[0m\n\u001b[1;32m   1153\u001b[0m                 \u001b[0;32mexcept\u001b[0m \u001b[0mException\u001b[0m\u001b[0;34m:\u001b[0m\u001b[0;34m\u001b[0m\u001b[0m\n\u001b[1;32m   1154\u001b[0m                     result = self.aggregate(\n\u001b[0;32m-> 1155\u001b[0;31m                         lambda x: npfunc(x, axis=self.axis))\n\u001b[0m\u001b[1;32m   1156\u001b[0m                     \u001b[0;32mif\u001b[0m \u001b[0m_convert\u001b[0m\u001b[0;34m:\u001b[0m\u001b[0;34m\u001b[0m\u001b[0m\n\u001b[1;32m   1157\u001b[0m                         \u001b[0mresult\u001b[0m \u001b[0;34m=\u001b[0m \u001b[0mresult\u001b[0m\u001b[0;34m.\u001b[0m\u001b[0m_convert\u001b[0m\u001b[0;34m(\u001b[0m\u001b[0mdatetime\u001b[0m\u001b[0;34m=\u001b[0m\u001b[0;32mTrue\u001b[0m\u001b[0;34m)\u001b[0m\u001b[0;34m\u001b[0m\u001b[0m\n",
      "\u001b[0;32m~/anaconda2/envs/ada/lib/python3.6/site-packages/pandas/core/groupby.py\u001b[0m in \u001b[0;36maggregate\u001b[0;34m(self, func_or_funcs, *args, **kwargs)\u001b[0m\n\u001b[1;32m   2881\u001b[0m \u001b[0;34m\u001b[0m\u001b[0m\n\u001b[1;32m   2882\u001b[0m             \u001b[0;32mtry\u001b[0m\u001b[0;34m:\u001b[0m\u001b[0;34m\u001b[0m\u001b[0m\n\u001b[0;32m-> 2883\u001b[0;31m                 \u001b[0;32mreturn\u001b[0m \u001b[0mself\u001b[0m\u001b[0;34m.\u001b[0m\u001b[0m_python_agg_general\u001b[0m\u001b[0;34m(\u001b[0m\u001b[0mfunc_or_funcs\u001b[0m\u001b[0;34m,\u001b[0m \u001b[0;34m*\u001b[0m\u001b[0margs\u001b[0m\u001b[0;34m,\u001b[0m \u001b[0;34m**\u001b[0m\u001b[0mkwargs\u001b[0m\u001b[0;34m)\u001b[0m\u001b[0;34m\u001b[0m\u001b[0m\n\u001b[0m\u001b[1;32m   2884\u001b[0m             \u001b[0;32mexcept\u001b[0m \u001b[0mException\u001b[0m\u001b[0;34m:\u001b[0m\u001b[0;34m\u001b[0m\u001b[0m\n\u001b[1;32m   2885\u001b[0m                 \u001b[0mresult\u001b[0m \u001b[0;34m=\u001b[0m \u001b[0mself\u001b[0m\u001b[0;34m.\u001b[0m\u001b[0m_aggregate_named\u001b[0m\u001b[0;34m(\u001b[0m\u001b[0mfunc_or_funcs\u001b[0m\u001b[0;34m,\u001b[0m \u001b[0;34m*\u001b[0m\u001b[0margs\u001b[0m\u001b[0;34m,\u001b[0m \u001b[0;34m**\u001b[0m\u001b[0mkwargs\u001b[0m\u001b[0;34m)\u001b[0m\u001b[0;34m\u001b[0m\u001b[0m\n",
      "\u001b[0;32m~/anaconda2/envs/ada/lib/python3.6/site-packages/pandas/core/groupby.py\u001b[0m in \u001b[0;36m_python_agg_general\u001b[0;34m(self, func, *args, **kwargs)\u001b[0m\n\u001b[1;32m    846\u001b[0m         \u001b[0;32mfor\u001b[0m \u001b[0mname\u001b[0m\u001b[0;34m,\u001b[0m \u001b[0mobj\u001b[0m \u001b[0;32min\u001b[0m \u001b[0mself\u001b[0m\u001b[0;34m.\u001b[0m\u001b[0m_iterate_slices\u001b[0m\u001b[0;34m(\u001b[0m\u001b[0;34m)\u001b[0m\u001b[0;34m:\u001b[0m\u001b[0;34m\u001b[0m\u001b[0m\n\u001b[1;32m    847\u001b[0m             \u001b[0;32mtry\u001b[0m\u001b[0;34m:\u001b[0m\u001b[0;34m\u001b[0m\u001b[0m\n\u001b[0;32m--> 848\u001b[0;31m                 \u001b[0mresult\u001b[0m\u001b[0;34m,\u001b[0m \u001b[0mcounts\u001b[0m \u001b[0;34m=\u001b[0m \u001b[0mself\u001b[0m\u001b[0;34m.\u001b[0m\u001b[0mgrouper\u001b[0m\u001b[0;34m.\u001b[0m\u001b[0magg_series\u001b[0m\u001b[0;34m(\u001b[0m\u001b[0mobj\u001b[0m\u001b[0;34m,\u001b[0m \u001b[0mf\u001b[0m\u001b[0;34m)\u001b[0m\u001b[0;34m\u001b[0m\u001b[0m\n\u001b[0m\u001b[1;32m    849\u001b[0m                 \u001b[0moutput\u001b[0m\u001b[0;34m[\u001b[0m\u001b[0mname\u001b[0m\u001b[0;34m]\u001b[0m \u001b[0;34m=\u001b[0m \u001b[0mself\u001b[0m\u001b[0;34m.\u001b[0m\u001b[0m_try_cast\u001b[0m\u001b[0;34m(\u001b[0m\u001b[0mresult\u001b[0m\u001b[0;34m,\u001b[0m \u001b[0mobj\u001b[0m\u001b[0;34m,\u001b[0m \u001b[0mnumeric_only\u001b[0m\u001b[0;34m=\u001b[0m\u001b[0;32mTrue\u001b[0m\u001b[0;34m)\u001b[0m\u001b[0;34m\u001b[0m\u001b[0m\n\u001b[1;32m    850\u001b[0m             \u001b[0;32mexcept\u001b[0m \u001b[0mTypeError\u001b[0m\u001b[0;34m:\u001b[0m\u001b[0;34m\u001b[0m\u001b[0m\n",
      "\u001b[0;32m~/anaconda2/envs/ada/lib/python3.6/site-packages/pandas/core/groupby.py\u001b[0m in \u001b[0;36magg_series\u001b[0;34m(self, obj, func)\u001b[0m\n\u001b[1;32m   2176\u001b[0m     \u001b[0;32mdef\u001b[0m \u001b[0magg_series\u001b[0m\u001b[0;34m(\u001b[0m\u001b[0mself\u001b[0m\u001b[0;34m,\u001b[0m \u001b[0mobj\u001b[0m\u001b[0;34m,\u001b[0m \u001b[0mfunc\u001b[0m\u001b[0;34m)\u001b[0m\u001b[0;34m:\u001b[0m\u001b[0;34m\u001b[0m\u001b[0m\n\u001b[1;32m   2177\u001b[0m         \u001b[0;32mtry\u001b[0m\u001b[0;34m:\u001b[0m\u001b[0;34m\u001b[0m\u001b[0m\n\u001b[0;32m-> 2178\u001b[0;31m             \u001b[0;32mreturn\u001b[0m \u001b[0mself\u001b[0m\u001b[0;34m.\u001b[0m\u001b[0m_aggregate_series_fast\u001b[0m\u001b[0;34m(\u001b[0m\u001b[0mobj\u001b[0m\u001b[0;34m,\u001b[0m \u001b[0mfunc\u001b[0m\u001b[0;34m)\u001b[0m\u001b[0;34m\u001b[0m\u001b[0m\n\u001b[0m\u001b[1;32m   2179\u001b[0m         \u001b[0;32mexcept\u001b[0m \u001b[0mException\u001b[0m\u001b[0;34m:\u001b[0m\u001b[0;34m\u001b[0m\u001b[0m\n\u001b[1;32m   2180\u001b[0m             \u001b[0;32mreturn\u001b[0m \u001b[0mself\u001b[0m\u001b[0;34m.\u001b[0m\u001b[0m_aggregate_series_pure_python\u001b[0m\u001b[0;34m(\u001b[0m\u001b[0mobj\u001b[0m\u001b[0;34m,\u001b[0m \u001b[0mfunc\u001b[0m\u001b[0;34m)\u001b[0m\u001b[0;34m\u001b[0m\u001b[0m\n",
      "\u001b[0;32m~/anaconda2/envs/ada/lib/python3.6/site-packages/pandas/core/groupby.py\u001b[0m in \u001b[0;36m_aggregate_series_fast\u001b[0;34m(self, obj, func)\u001b[0m\n\u001b[1;32m   2196\u001b[0m         grouper = lib.SeriesGrouper(obj, func, group_index, ngroups,\n\u001b[1;32m   2197\u001b[0m                                     dummy)\n\u001b[0;32m-> 2198\u001b[0;31m         \u001b[0mresult\u001b[0m\u001b[0;34m,\u001b[0m \u001b[0mcounts\u001b[0m \u001b[0;34m=\u001b[0m \u001b[0mgrouper\u001b[0m\u001b[0;34m.\u001b[0m\u001b[0mget_result\u001b[0m\u001b[0;34m(\u001b[0m\u001b[0;34m)\u001b[0m\u001b[0;34m\u001b[0m\u001b[0m\n\u001b[0m\u001b[1;32m   2199\u001b[0m         \u001b[0;32mreturn\u001b[0m \u001b[0mresult\u001b[0m\u001b[0;34m,\u001b[0m \u001b[0mcounts\u001b[0m\u001b[0;34m\u001b[0m\u001b[0m\n\u001b[1;32m   2200\u001b[0m \u001b[0;34m\u001b[0m\u001b[0m\n",
      "\u001b[0;32mpandas/_libs/src/reduce.pyx\u001b[0m in \u001b[0;36mpandas._libs.lib.SeriesGrouper.get_result (pandas/_libs/lib.c:39105)\u001b[0;34m()\u001b[0m\n",
      "\u001b[0;32mpandas/_libs/src/reduce.pyx\u001b[0m in \u001b[0;36mpandas._libs.lib.SeriesGrouper.get_result (pandas/_libs/lib.c:38888)\u001b[0;34m()\u001b[0m\n",
      "\u001b[0;32m~/anaconda2/envs/ada/lib/python3.6/site-packages/pandas/core/groupby.py\u001b[0m in \u001b[0;36m<lambda>\u001b[0;34m(x)\u001b[0m\n\u001b[1;32m    840\u001b[0m     \u001b[0;32mdef\u001b[0m \u001b[0m_python_agg_general\u001b[0m\u001b[0;34m(\u001b[0m\u001b[0mself\u001b[0m\u001b[0;34m,\u001b[0m \u001b[0mfunc\u001b[0m\u001b[0;34m,\u001b[0m \u001b[0;34m*\u001b[0m\u001b[0margs\u001b[0m\u001b[0;34m,\u001b[0m \u001b[0;34m**\u001b[0m\u001b[0mkwargs\u001b[0m\u001b[0;34m)\u001b[0m\u001b[0;34m:\u001b[0m\u001b[0;34m\u001b[0m\u001b[0m\n\u001b[1;32m    841\u001b[0m         \u001b[0mfunc\u001b[0m \u001b[0;34m=\u001b[0m \u001b[0mself\u001b[0m\u001b[0;34m.\u001b[0m\u001b[0m_is_builtin_func\u001b[0m\u001b[0;34m(\u001b[0m\u001b[0mfunc\u001b[0m\u001b[0;34m)\u001b[0m\u001b[0;34m\u001b[0m\u001b[0m\n\u001b[0;32m--> 842\u001b[0;31m         \u001b[0mf\u001b[0m \u001b[0;34m=\u001b[0m \u001b[0;32mlambda\u001b[0m \u001b[0mx\u001b[0m\u001b[0;34m:\u001b[0m \u001b[0mfunc\u001b[0m\u001b[0;34m(\u001b[0m\u001b[0mx\u001b[0m\u001b[0;34m,\u001b[0m \u001b[0;34m*\u001b[0m\u001b[0margs\u001b[0m\u001b[0;34m,\u001b[0m \u001b[0;34m**\u001b[0m\u001b[0mkwargs\u001b[0m\u001b[0;34m)\u001b[0m\u001b[0;34m\u001b[0m\u001b[0m\n\u001b[0m\u001b[1;32m    843\u001b[0m \u001b[0;34m\u001b[0m\u001b[0m\n\u001b[1;32m    844\u001b[0m         \u001b[0;31m# iterate through \"columns\" ex exclusions to populate output dict\u001b[0m\u001b[0;34m\u001b[0m\u001b[0;34m\u001b[0m\u001b[0m\n",
      "\u001b[0;32m~/anaconda2/envs/ada/lib/python3.6/site-packages/pandas/core/groupby.py\u001b[0m in \u001b[0;36m<lambda>\u001b[0;34m(x)\u001b[0m\n\u001b[1;32m   1153\u001b[0m                 \u001b[0;32mexcept\u001b[0m \u001b[0mException\u001b[0m\u001b[0;34m:\u001b[0m\u001b[0;34m\u001b[0m\u001b[0m\n\u001b[1;32m   1154\u001b[0m                     result = self.aggregate(\n\u001b[0;32m-> 1155\u001b[0;31m                         lambda x: npfunc(x, axis=self.axis))\n\u001b[0m\u001b[1;32m   1156\u001b[0m                     \u001b[0;32mif\u001b[0m \u001b[0m_convert\u001b[0m\u001b[0;34m:\u001b[0m\u001b[0;34m\u001b[0m\u001b[0m\n\u001b[1;32m   1157\u001b[0m                         \u001b[0mresult\u001b[0m \u001b[0;34m=\u001b[0m \u001b[0mresult\u001b[0m\u001b[0;34m.\u001b[0m\u001b[0m_convert\u001b[0m\u001b[0;34m(\u001b[0m\u001b[0mdatetime\u001b[0m\u001b[0;34m=\u001b[0m\u001b[0;32mTrue\u001b[0m\u001b[0;34m)\u001b[0m\u001b[0;34m\u001b[0m\u001b[0m\n",
      "\u001b[0;32m~/anaconda2/envs/ada/lib/python3.6/site-packages/numpy/core/fromnumeric.py\u001b[0m in \u001b[0;36msum\u001b[0;34m(a, axis, dtype, out, keepdims)\u001b[0m\n\u001b[1;32m   1830\u001b[0m             \u001b[0;32mpass\u001b[0m\u001b[0;34m\u001b[0m\u001b[0m\n\u001b[1;32m   1831\u001b[0m         \u001b[0;32melse\u001b[0m\u001b[0;34m:\u001b[0m\u001b[0;34m\u001b[0m\u001b[0m\n\u001b[0;32m-> 1832\u001b[0;31m             \u001b[0;32mreturn\u001b[0m \u001b[0msum\u001b[0m\u001b[0;34m(\u001b[0m\u001b[0maxis\u001b[0m\u001b[0;34m=\u001b[0m\u001b[0maxis\u001b[0m\u001b[0;34m,\u001b[0m \u001b[0mdtype\u001b[0m\u001b[0;34m=\u001b[0m\u001b[0mdtype\u001b[0m\u001b[0;34m,\u001b[0m \u001b[0mout\u001b[0m\u001b[0;34m=\u001b[0m\u001b[0mout\u001b[0m\u001b[0;34m,\u001b[0m \u001b[0;34m**\u001b[0m\u001b[0mkwargs\u001b[0m\u001b[0;34m)\u001b[0m\u001b[0;34m\u001b[0m\u001b[0m\n\u001b[0m\u001b[1;32m   1833\u001b[0m     return _methods._sum(a, axis=axis, dtype=dtype,\n\u001b[1;32m   1834\u001b[0m                          out=out, **kwargs)\n",
      "\u001b[0;32m~/anaconda2/envs/ada/lib/python3.6/site-packages/pandas/core/generic.py\u001b[0m in \u001b[0;36mstat_func\u001b[0;34m(self, axis, skipna, level, numeric_only, **kwargs)\u001b[0m\n\u001b[1;32m   6340\u001b[0m                                       skipna=skipna)\n\u001b[1;32m   6341\u001b[0m         return self._reduce(f, name, axis=axis, skipna=skipna,\n\u001b[0;32m-> 6342\u001b[0;31m                             numeric_only=numeric_only)\n\u001b[0m\u001b[1;32m   6343\u001b[0m \u001b[0;34m\u001b[0m\u001b[0m\n\u001b[1;32m   6344\u001b[0m     \u001b[0;32mreturn\u001b[0m \u001b[0mset_function_name\u001b[0m\u001b[0;34m(\u001b[0m\u001b[0mstat_func\u001b[0m\u001b[0;34m,\u001b[0m \u001b[0mname\u001b[0m\u001b[0;34m,\u001b[0m \u001b[0mcls\u001b[0m\u001b[0;34m)\u001b[0m\u001b[0;34m\u001b[0m\u001b[0m\n",
      "\u001b[0;32m~/anaconda2/envs/ada/lib/python3.6/site-packages/pandas/core/series.py\u001b[0m in \u001b[0;36m_reduce\u001b[0;34m(self, op, name, axis, skipna, numeric_only, filter_type, **kwds)\u001b[0m\n\u001b[1;32m   2379\u001b[0m                                           'numeric_only.'.format(name))\n\u001b[1;32m   2380\u001b[0m             \u001b[0;32mwith\u001b[0m \u001b[0mnp\u001b[0m\u001b[0;34m.\u001b[0m\u001b[0merrstate\u001b[0m\u001b[0;34m(\u001b[0m\u001b[0mall\u001b[0m\u001b[0;34m=\u001b[0m\u001b[0;34m'ignore'\u001b[0m\u001b[0;34m)\u001b[0m\u001b[0;34m:\u001b[0m\u001b[0;34m\u001b[0m\u001b[0m\n\u001b[0;32m-> 2381\u001b[0;31m                 \u001b[0;32mreturn\u001b[0m \u001b[0mop\u001b[0m\u001b[0;34m(\u001b[0m\u001b[0mdelegate\u001b[0m\u001b[0;34m,\u001b[0m \u001b[0mskipna\u001b[0m\u001b[0;34m=\u001b[0m\u001b[0mskipna\u001b[0m\u001b[0;34m,\u001b[0m \u001b[0;34m**\u001b[0m\u001b[0mkwds\u001b[0m\u001b[0;34m)\u001b[0m\u001b[0;34m\u001b[0m\u001b[0m\n\u001b[0m\u001b[1;32m   2382\u001b[0m \u001b[0;34m\u001b[0m\u001b[0m\n\u001b[1;32m   2383\u001b[0m         return delegate._reduce(op=op, name=name, axis=axis, skipna=skipna,\n",
      "\u001b[0;32m~/anaconda2/envs/ada/lib/python3.6/site-packages/pandas/core/nanops.py\u001b[0m in \u001b[0;36m_f\u001b[0;34m(*args, **kwargs)\u001b[0m\n\u001b[1;32m     60\u001b[0m             \u001b[0;32mtry\u001b[0m\u001b[0;34m:\u001b[0m\u001b[0;34m\u001b[0m\u001b[0m\n\u001b[1;32m     61\u001b[0m                 \u001b[0;32mwith\u001b[0m \u001b[0mnp\u001b[0m\u001b[0;34m.\u001b[0m\u001b[0merrstate\u001b[0m\u001b[0;34m(\u001b[0m\u001b[0minvalid\u001b[0m\u001b[0;34m=\u001b[0m\u001b[0;34m'ignore'\u001b[0m\u001b[0;34m)\u001b[0m\u001b[0;34m:\u001b[0m\u001b[0;34m\u001b[0m\u001b[0m\n\u001b[0;32m---> 62\u001b[0;31m                     \u001b[0;32mreturn\u001b[0m \u001b[0mf\u001b[0m\u001b[0;34m(\u001b[0m\u001b[0;34m*\u001b[0m\u001b[0margs\u001b[0m\u001b[0;34m,\u001b[0m \u001b[0;34m**\u001b[0m\u001b[0mkwargs\u001b[0m\u001b[0;34m)\u001b[0m\u001b[0;34m\u001b[0m\u001b[0m\n\u001b[0m\u001b[1;32m     63\u001b[0m             \u001b[0;32mexcept\u001b[0m \u001b[0mValueError\u001b[0m \u001b[0;32mas\u001b[0m \u001b[0me\u001b[0m\u001b[0;34m:\u001b[0m\u001b[0;34m\u001b[0m\u001b[0m\n\u001b[1;32m     64\u001b[0m                 \u001b[0;31m# we want to transform an object array\u001b[0m\u001b[0;34m\u001b[0m\u001b[0;34m\u001b[0m\u001b[0m\n",
      "\u001b[0;32m~/anaconda2/envs/ada/lib/python3.6/site-packages/pandas/core/nanops.py\u001b[0m in \u001b[0;36mf\u001b[0;34m(values, axis, skipna, **kwds)\u001b[0m\n\u001b[1;32m    117\u001b[0m                         \u001b[0mresult\u001b[0m \u001b[0;34m=\u001b[0m \u001b[0malt\u001b[0m\u001b[0;34m(\u001b[0m\u001b[0mvalues\u001b[0m\u001b[0;34m,\u001b[0m \u001b[0maxis\u001b[0m\u001b[0;34m=\u001b[0m\u001b[0maxis\u001b[0m\u001b[0;34m,\u001b[0m \u001b[0mskipna\u001b[0m\u001b[0;34m=\u001b[0m\u001b[0mskipna\u001b[0m\u001b[0;34m,\u001b[0m \u001b[0;34m**\u001b[0m\u001b[0mkwds\u001b[0m\u001b[0;34m)\u001b[0m\u001b[0;34m\u001b[0m\u001b[0m\n\u001b[1;32m    118\u001b[0m                 \u001b[0;32melse\u001b[0m\u001b[0;34m:\u001b[0m\u001b[0;34m\u001b[0m\u001b[0m\n\u001b[0;32m--> 119\u001b[0;31m                     \u001b[0mresult\u001b[0m \u001b[0;34m=\u001b[0m \u001b[0malt\u001b[0m\u001b[0;34m(\u001b[0m\u001b[0mvalues\u001b[0m\u001b[0;34m,\u001b[0m \u001b[0maxis\u001b[0m\u001b[0;34m=\u001b[0m\u001b[0maxis\u001b[0m\u001b[0;34m,\u001b[0m \u001b[0mskipna\u001b[0m\u001b[0;34m=\u001b[0m\u001b[0mskipna\u001b[0m\u001b[0;34m,\u001b[0m \u001b[0;34m**\u001b[0m\u001b[0mkwds\u001b[0m\u001b[0;34m)\u001b[0m\u001b[0;34m\u001b[0m\u001b[0m\n\u001b[0m\u001b[1;32m    120\u001b[0m             \u001b[0;32mexcept\u001b[0m \u001b[0mException\u001b[0m\u001b[0;34m:\u001b[0m\u001b[0;34m\u001b[0m\u001b[0m\n\u001b[1;32m    121\u001b[0m                 \u001b[0;32mtry\u001b[0m\u001b[0;34m:\u001b[0m\u001b[0;34m\u001b[0m\u001b[0m\n",
      "\u001b[0;32m~/anaconda2/envs/ada/lib/python3.6/site-packages/pandas/core/nanops.py\u001b[0m in \u001b[0;36mnansum\u001b[0;34m(values, axis, skipna)\u001b[0m\n\u001b[1;32m    291\u001b[0m     \u001b[0;32melif\u001b[0m \u001b[0mis_timedelta64_dtype\u001b[0m\u001b[0;34m(\u001b[0m\u001b[0mdtype\u001b[0m\u001b[0;34m)\u001b[0m\u001b[0;34m:\u001b[0m\u001b[0;34m\u001b[0m\u001b[0m\n\u001b[1;32m    292\u001b[0m         \u001b[0mdtype_sum\u001b[0m \u001b[0;34m=\u001b[0m \u001b[0mnp\u001b[0m\u001b[0;34m.\u001b[0m\u001b[0mfloat64\u001b[0m\u001b[0;34m\u001b[0m\u001b[0m\n\u001b[0;32m--> 293\u001b[0;31m     \u001b[0mthe_sum\u001b[0m \u001b[0;34m=\u001b[0m \u001b[0mvalues\u001b[0m\u001b[0;34m.\u001b[0m\u001b[0msum\u001b[0m\u001b[0;34m(\u001b[0m\u001b[0maxis\u001b[0m\u001b[0;34m,\u001b[0m \u001b[0mdtype\u001b[0m\u001b[0;34m=\u001b[0m\u001b[0mdtype_sum\u001b[0m\u001b[0;34m)\u001b[0m\u001b[0;34m\u001b[0m\u001b[0m\n\u001b[0m\u001b[1;32m    294\u001b[0m     \u001b[0mthe_sum\u001b[0m \u001b[0;34m=\u001b[0m \u001b[0m_maybe_null_out\u001b[0m\u001b[0;34m(\u001b[0m\u001b[0mthe_sum\u001b[0m\u001b[0;34m,\u001b[0m \u001b[0maxis\u001b[0m\u001b[0;34m,\u001b[0m \u001b[0mmask\u001b[0m\u001b[0;34m)\u001b[0m\u001b[0;34m\u001b[0m\u001b[0m\n\u001b[1;32m    295\u001b[0m \u001b[0;34m\u001b[0m\u001b[0m\n",
      "\u001b[0;32m~/anaconda2/envs/ada/lib/python3.6/site-packages/numpy/core/_methods.py\u001b[0m in \u001b[0;36m_sum\u001b[0;34m(a, axis, dtype, out, keepdims)\u001b[0m\n\u001b[1;32m     30\u001b[0m \u001b[0;34m\u001b[0m\u001b[0m\n\u001b[1;32m     31\u001b[0m \u001b[0;32mdef\u001b[0m \u001b[0m_sum\u001b[0m\u001b[0;34m(\u001b[0m\u001b[0ma\u001b[0m\u001b[0;34m,\u001b[0m \u001b[0maxis\u001b[0m\u001b[0;34m=\u001b[0m\u001b[0;32mNone\u001b[0m\u001b[0;34m,\u001b[0m \u001b[0mdtype\u001b[0m\u001b[0;34m=\u001b[0m\u001b[0;32mNone\u001b[0m\u001b[0;34m,\u001b[0m \u001b[0mout\u001b[0m\u001b[0;34m=\u001b[0m\u001b[0;32mNone\u001b[0m\u001b[0;34m,\u001b[0m \u001b[0mkeepdims\u001b[0m\u001b[0;34m=\u001b[0m\u001b[0;32mFalse\u001b[0m\u001b[0;34m)\u001b[0m\u001b[0;34m:\u001b[0m\u001b[0;34m\u001b[0m\u001b[0m\n\u001b[0;32m---> 32\u001b[0;31m     \u001b[0;32mreturn\u001b[0m \u001b[0mumr_sum\u001b[0m\u001b[0;34m(\u001b[0m\u001b[0ma\u001b[0m\u001b[0;34m,\u001b[0m \u001b[0maxis\u001b[0m\u001b[0;34m,\u001b[0m \u001b[0mdtype\u001b[0m\u001b[0;34m,\u001b[0m \u001b[0mout\u001b[0m\u001b[0;34m,\u001b[0m \u001b[0mkeepdims\u001b[0m\u001b[0;34m)\u001b[0m\u001b[0;34m\u001b[0m\u001b[0m\n\u001b[0m\u001b[1;32m     33\u001b[0m \u001b[0;34m\u001b[0m\u001b[0m\n\u001b[1;32m     34\u001b[0m \u001b[0;32mdef\u001b[0m \u001b[0m_prod\u001b[0m\u001b[0;34m(\u001b[0m\u001b[0ma\u001b[0m\u001b[0;34m,\u001b[0m \u001b[0maxis\u001b[0m\u001b[0;34m=\u001b[0m\u001b[0;32mNone\u001b[0m\u001b[0;34m,\u001b[0m \u001b[0mdtype\u001b[0m\u001b[0;34m=\u001b[0m\u001b[0;32mNone\u001b[0m\u001b[0;34m,\u001b[0m \u001b[0mout\u001b[0m\u001b[0;34m=\u001b[0m\u001b[0;32mNone\u001b[0m\u001b[0;34m,\u001b[0m \u001b[0mkeepdims\u001b[0m\u001b[0;34m=\u001b[0m\u001b[0;32mFalse\u001b[0m\u001b[0;34m)\u001b[0m\u001b[0;34m:\u001b[0m\u001b[0;34m\u001b[0m\u001b[0m\n",
      "\u001b[0;31mKeyboardInterrupt\u001b[0m: "
     ]
    }
   ],
   "source": [
    "joined.groupby('overall').tokenized_text.sum()"
   ]
  },
  {
   "cell_type": "code",
   "execution_count": null,
   "metadata": {
    "collapsed": true
   },
   "outputs": [],
   "source": []
  }
 ],
 "metadata": {
  "anaconda-cloud": {},
  "kernelspec": {
   "display_name": "Python [ada]",
   "language": "python",
   "name": "Python [ada]"
  },
  "language_info": {
   "codemirror_mode": {
    "name": "ipython",
    "version": 3
   },
   "file_extension": ".py",
   "mimetype": "text/x-python",
   "name": "python",
   "nbconvert_exporter": "python",
   "pygments_lexer": "ipython3",
   "version": "3.6.2"
  }
 },
 "nbformat": 4,
 "nbformat_minor": 2
}
