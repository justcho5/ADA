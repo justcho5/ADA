{
 "cells": [
  {
   "cell_type": "code",
   "execution_count": 1,
   "metadata": {
    "collapsed": true
   },
   "outputs": [],
   "source": [
    "# Import all the libraries\n",
    "import pandas as pd\n",
    "import numpy as np\n",
    "import scipy as sp\n",
    "import scipy.stats\n",
    "# pd.options.mode.chained_assignment = None  # default='warn', Mutes warnings when copying a slice from a DataFrame.\n",
    "# pd.set_option('display.max_columns', None)\n",
    "import glob\n",
    "import datetime\n",
    "import os\n",
    "import json\n",
    "from io import StringIO\n",
    "import matplotlib.pyplot as plt\n",
    "from vaderSentiment.vaderSentiment import SentimentIntensityAnalyzer\n",
    "%matplotlib inline"
   ]
  },
  {
   "cell_type": "markdown",
   "metadata": {},
   "source": [
    "### Sampling and loading the data\n",
    "For this exploratory analysis we used the Spark cluster to randomly sample the data and retrieve the metadata for the items that appear in our review sample."
   ]
  },
  {
   "cell_type": "code",
   "execution_count": 2,
   "metadata": {
    "collapsed": true
   },
   "outputs": [],
   "source": [
    "# Paths to the data and metadata folders.\n",
    "DATA_FOLDER = 'data/'\n",
    "META_FOLDER = DATA_FOLDER + 'meta/'"
   ]
  },
  {
   "cell_type": "code",
   "execution_count": 3,
   "metadata": {
    "collapsed": true
   },
   "outputs": [],
   "source": [
    "# Load one data file\n",
    "def load_one_file(path):\n",
    "    with open(path) as f:\n",
    "        return [json.loads(line) for line in f]\n",
    "\n",
    "# Load one metadata file. The rows aren't proper JSON\n",
    "# but they can be parsed using python's eval function\n",
    "# as per the dataset's web page.\n",
    "def load_one_meta_file(path):\n",
    "    with open(path) as f:\n",
    "        return [eval(line) for line in f]\n",
    "\n",
    "# The sample we extracted is still too large, so we'll only use the first 100 files\n",
    "data_files = glob.glob(DATA_FOLDER + 'part-000*')\n",
    "data = sum(map(load_one_file, data_files), [])\n",
    "\n",
    "# The meta folder contains metadata for all the items we were interested in.\n",
    "meta_files = glob.glob(META_FOLDER + '*')\n",
    "meta = sum(map(load_one_meta_file, meta_files), [])\n",
    "\n",
    "# Create the two dataframes\n",
    "df = pd.DataFrame(data)\n",
    "meta_df = pd.DataFrame(meta)"
   ]
  },
  {
   "cell_type": "code",
   "execution_count": 4,
   "metadata": {
    "collapsed": true
   },
   "outputs": [],
   "source": [
    "# Join the dataframes. Since our analysis relies on the metadata for a good part\n",
    "# we have to remove any reviews for which metadata is not available.\n",
    "joined = pd.merge(df, meta_df, how='inner')\n",
    "\n",
    "# Parse the review time as a DateTime and add a review month column\n",
    "joined['reviewTime'] = pd.to_datetime(joined.unixReviewTime, unit='s')\n",
    "joined['reviewMonth'] = joined.reviewTime.map(lambda t: t.month)\n",
    "joined['reviewYear'] = joined.reviewTime.map(lambda t: t.year)\n",
    "\n",
    "# We don't want any reviews for which the price is either NaN or 0\n",
    "# or for which the category is NaN\n",
    "joined = joined.dropna(axis=0, subset=['categories', 'price', 'reviewText'])\n",
    "joined = joined[joined.price != 0 & (len(joined.reviewText) > 0)]\n"
   ]
  },
  {
   "cell_type": "markdown",
   "metadata": {},
   "source": [
    "### Adding features\n",
    "#### Sentiment scores\n",
    "We used [VADER](https://github.com/cjhutto/vaderSentiment), a sentiment score analyzer tuned for messages that tipically appear on social media to give each review text a series of sentiment scores."
   ]
  },
  {
   "cell_type": "code",
   "execution_count": 5,
   "metadata": {
    "collapsed": false
   },
   "outputs": [
    {
     "name": "stdout",
     "output_type": "stream",
     "text": [
      "It is really good! But it was hard to push out all the air bubbles. But that is not a big problem\n"
     ]
    },
    {
     "data": {
      "text/plain": [
       "{'compound': 0.6534, 'neg': 0.056, 'neu': 0.716, 'pos': 0.228}"
      ]
     },
     "execution_count": 5,
     "metadata": {},
     "output_type": "execute_result"
    }
   ],
   "source": [
    "analyzer = SentimentIntensityAnalyzer()\n",
    "print(joined.iloc[4]['reviewText'])\n",
    "analyzer.polarity_scores(joined.iloc[4]['reviewText'])"
   ]
  },
  {
   "cell_type": "code",
   "execution_count": 6,
   "metadata": {
    "collapsed": true
   },
   "outputs": [],
   "source": [
    "# Add two sentiment score columns to the dataframe\n",
    "comp_score = joined.reviewText.apply(lambda t: analyzer.polarity_scores(t))\n",
    "joined['compound_score'] = comp_score.apply(lambda s: s['compound'])\n",
    "joined['positive_score'] = comp_score.apply(lambda s: s['pos'])\n",
    "joined['negative_score'] = comp_score.apply(lambda s: s['neg'])\n",
    "joined['neutral_score'] = comp_score.apply(lambda s: s['neu'])"
   ]
  },
  {
   "cell_type": "markdown",
   "metadata": {},
   "source": [
    "#### Main category\n",
    "Each item in the dataset has a `categories` field which, when not absent, is an array of arrays of strings. Each item can belong to an arbitrary number of categories some of which are subcategories of a larger category. We will first flatten these arrays of arrays in order to make subsequent processing easier."
   ]
  },
  {
   "cell_type": "code",
   "execution_count": 7,
   "metadata": {
    "collapsed": true
   },
   "outputs": [],
   "source": [
    "# Flatten the categories\n",
    "joined['categories_flat'] = joined.categories.apply(lambda a: [i for sa in a for i in sa])\n",
    "# Remove entries with no categories\n",
    "joined = joined[[(c and bool(c[0])) for c in joined.categories_flat]]"
   ]
  },
  {
   "cell_type": "markdown",
   "metadata": {},
   "source": [
    "In order to be able to plot aggregate values for each category we need to pick a list of categories that we will use as the main category of the product. One possible choice is the one that was used by the maintainer of the dataset to generate category-specific review files but we found that some of the products did not belong to any of the categories in that list and so we had to add some of our own."
   ]
  },
  {
   "cell_type": "code",
   "execution_count": 8,
   "metadata": {
    "collapsed": false
   },
   "outputs": [],
   "source": [
    "categories_dict = None\n",
    "with open('categories_dict.json') as f:\n",
    "    categories_dict = json.load(f)"
   ]
  },
  {
   "cell_type": "code",
   "execution_count": 9,
   "metadata": {
    "collapsed": true
   },
   "outputs": [],
   "source": [
    "# Function that returns an item's main category according\n",
    "# to the above list, or NaN if none of its categories appear in the list.\n",
    "def get_main_category(categories):\n",
    "    for c in categories:\n",
    "        if c in categories_dict:\n",
    "            return categories_dict[c]\n",
    "\n",
    "    return np.nan\n",
    "\n",
    "# Derive each product's main category\n",
    "joined['main_category'] = joined.categories_flat.apply(lambda a: get_main_category(a))\n",
    "# Remove items for which there is no category\n",
    "joined = joined.dropna(axis=0, subset=['main_category'])"
   ]
  },
  {
   "cell_type": "code",
   "execution_count": 10,
   "metadata": {
    "collapsed": false
   },
   "outputs": [
    {
     "data": {
      "text/html": [
       "<div>\n",
       "<style>\n",
       "    .dataframe thead tr:only-child th {\n",
       "        text-align: right;\n",
       "    }\n",
       "\n",
       "    .dataframe thead th {\n",
       "        text-align: left;\n",
       "    }\n",
       "\n",
       "    .dataframe tbody tr th {\n",
       "        vertical-align: top;\n",
       "    }\n",
       "</style>\n",
       "<table border=\"1\" class=\"dataframe\">\n",
       "  <thead>\n",
       "    <tr style=\"text-align: right;\">\n",
       "      <th></th>\n",
       "      <th>asin</th>\n",
       "      <th>helpful</th>\n",
       "      <th>overall</th>\n",
       "      <th>reviewText</th>\n",
       "      <th>reviewTime</th>\n",
       "      <th>reviewerID</th>\n",
       "      <th>reviewerName</th>\n",
       "      <th>summary</th>\n",
       "      <th>unixReviewTime</th>\n",
       "      <th>brand</th>\n",
       "      <th>...</th>\n",
       "      <th>salesRank</th>\n",
       "      <th>title</th>\n",
       "      <th>reviewMonth</th>\n",
       "      <th>reviewYear</th>\n",
       "      <th>compound_score</th>\n",
       "      <th>positive_score</th>\n",
       "      <th>negative_score</th>\n",
       "      <th>neutral_score</th>\n",
       "      <th>categories_flat</th>\n",
       "      <th>main_category</th>\n",
       "    </tr>\n",
       "  </thead>\n",
       "  <tbody>\n",
       "    <tr>\n",
       "      <th>2</th>\n",
       "      <td>B00E7OIOVC</td>\n",
       "      <td>[0, 0]</td>\n",
       "      <td>5.0</td>\n",
       "      <td>Great!</td>\n",
       "      <td>2014-07-03</td>\n",
       "      <td>A0001528BGUBOEVR6T5U</td>\n",
       "      <td>igozingo</td>\n",
       "      <td>Five Stars</td>\n",
       "      <td>1404345600</td>\n",
       "      <td>niceEshop</td>\n",
       "      <td>...</td>\n",
       "      <td>{'Kitchen &amp; Dining': 63021}</td>\n",
       "      <td>niceEshop(TM) Small Stainless Steel Funnel For...</td>\n",
       "      <td>7</td>\n",
       "      <td>2014</td>\n",
       "      <td>0.6588</td>\n",
       "      <td>1.000</td>\n",
       "      <td>0.000</td>\n",
       "      <td>0.000</td>\n",
       "      <td>[Home &amp; Kitchen, Kitchen &amp; Dining, Kitchen Ute...</td>\n",
       "      <td>Home &amp; Kitchen</td>\n",
       "    </tr>\n",
       "    <tr>\n",
       "      <th>3</th>\n",
       "      <td>B00EXOZ9W8</td>\n",
       "      <td>[0, 0]</td>\n",
       "      <td>5.0</td>\n",
       "      <td>My man was more then happy with it, looking fo...</td>\n",
       "      <td>2014-07-02</td>\n",
       "      <td>A00030342K9JCQO8Q7C3L</td>\n",
       "      <td>Joseph Dvorak</td>\n",
       "      <td>Five Stars</td>\n",
       "      <td>1404259200</td>\n",
       "      <td>NaN</td>\n",
       "      <td>...</td>\n",
       "      <td>{'Kitchen &amp; Dining': 56153}</td>\n",
       "      <td>BELLA 14025 Programmable Slow Cooker with Lock...</td>\n",
       "      <td>7</td>\n",
       "      <td>2014</td>\n",
       "      <td>0.7893</td>\n",
       "      <td>0.349</td>\n",
       "      <td>0.000</td>\n",
       "      <td>0.651</td>\n",
       "      <td>[Home &amp; Kitchen, Kitchen &amp; Dining, Small Appli...</td>\n",
       "      <td>Home &amp; Kitchen</td>\n",
       "    </tr>\n",
       "    <tr>\n",
       "      <th>4</th>\n",
       "      <td>1477473939</td>\n",
       "      <td>[0, 0]</td>\n",
       "      <td>4.0</td>\n",
       "      <td>Reading this seriers was a amazing. It was ver...</td>\n",
       "      <td>2013-01-26</td>\n",
       "      <td>A000443821AD43TOGKNGZ</td>\n",
       "      <td>Uluwehi</td>\n",
       "      <td>Really enjoyed it!</td>\n",
       "      <td>1359158400</td>\n",
       "      <td>NaN</td>\n",
       "      <td>...</td>\n",
       "      <td>{'Books': 1011147}</td>\n",
       "      <td>Making You Mine: The Moreno Brothers</td>\n",
       "      <td>1</td>\n",
       "      <td>2013</td>\n",
       "      <td>0.9199</td>\n",
       "      <td>0.353</td>\n",
       "      <td>0.000</td>\n",
       "      <td>0.647</td>\n",
       "      <td>[Books]</td>\n",
       "      <td>Books</td>\n",
       "    </tr>\n",
       "    <tr>\n",
       "      <th>5</th>\n",
       "      <td>1477473939</td>\n",
       "      <td>[0, 0]</td>\n",
       "      <td>4.0</td>\n",
       "      <td>I haven't read any of this series before, but ...</td>\n",
       "      <td>2013-04-09</td>\n",
       "      <td>A1BAWRQQMC7L72</td>\n",
       "      <td>Roswellfan410</td>\n",
       "      <td>Really liked it</td>\n",
       "      <td>1365465600</td>\n",
       "      <td>NaN</td>\n",
       "      <td>...</td>\n",
       "      <td>{'Books': 1011147}</td>\n",
       "      <td>Making You Mine: The Moreno Brothers</td>\n",
       "      <td>4</td>\n",
       "      <td>2013</td>\n",
       "      <td>0.9548</td>\n",
       "      <td>0.411</td>\n",
       "      <td>0.000</td>\n",
       "      <td>0.589</td>\n",
       "      <td>[Books]</td>\n",
       "      <td>Books</td>\n",
       "    </tr>\n",
       "    <tr>\n",
       "      <th>6</th>\n",
       "      <td>B0092QSQ3Q</td>\n",
       "      <td>[0, 0]</td>\n",
       "      <td>5.0</td>\n",
       "      <td>It is really good! But it was hard to push out...</td>\n",
       "      <td>2012-11-03</td>\n",
       "      <td>A00044782UB564I4SGA0X</td>\n",
       "      <td>Johan98</td>\n",
       "      <td>Really good!</td>\n",
       "      <td>1351900800</td>\n",
       "      <td>NaN</td>\n",
       "      <td>...</td>\n",
       "      <td>{'Cell Phones &amp; Accessories': 4377}</td>\n",
       "      <td>Skinomi&amp;reg; TechSkin - Apple iPhone 5 Screen ...</td>\n",
       "      <td>11</td>\n",
       "      <td>2012</td>\n",
       "      <td>0.6534</td>\n",
       "      <td>0.228</td>\n",
       "      <td>0.056</td>\n",
       "      <td>0.716</td>\n",
       "      <td>[Cell Phones &amp; Accessories, Accessories, Scree...</td>\n",
       "      <td>Electronics</td>\n",
       "    </tr>\n",
       "  </tbody>\n",
       "</table>\n",
       "<p>5 rows × 25 columns</p>\n",
       "</div>"
      ],
      "text/plain": [
       "         asin helpful  overall  \\\n",
       "2  B00E7OIOVC  [0, 0]      5.0   \n",
       "3  B00EXOZ9W8  [0, 0]      5.0   \n",
       "4  1477473939  [0, 0]      4.0   \n",
       "5  1477473939  [0, 0]      4.0   \n",
       "6  B0092QSQ3Q  [0, 0]      5.0   \n",
       "\n",
       "                                          reviewText reviewTime  \\\n",
       "2                                             Great! 2014-07-03   \n",
       "3  My man was more then happy with it, looking fo... 2014-07-02   \n",
       "4  Reading this seriers was a amazing. It was ver... 2013-01-26   \n",
       "5  I haven't read any of this series before, but ... 2013-04-09   \n",
       "6  It is really good! But it was hard to push out... 2012-11-03   \n",
       "\n",
       "              reviewerID   reviewerName             summary  unixReviewTime  \\\n",
       "2   A0001528BGUBOEVR6T5U       igozingo          Five Stars      1404345600   \n",
       "3  A00030342K9JCQO8Q7C3L  Joseph Dvorak          Five Stars      1404259200   \n",
       "4  A000443821AD43TOGKNGZ        Uluwehi  Really enjoyed it!      1359158400   \n",
       "5         A1BAWRQQMC7L72  Roswellfan410     Really liked it      1365465600   \n",
       "6  A00044782UB564I4SGA0X        Johan98        Really good!      1351900800   \n",
       "\n",
       "       brand       ...                                  salesRank  \\\n",
       "2  niceEshop       ...                {'Kitchen & Dining': 63021}   \n",
       "3        NaN       ...                {'Kitchen & Dining': 56153}   \n",
       "4        NaN       ...                         {'Books': 1011147}   \n",
       "5        NaN       ...                         {'Books': 1011147}   \n",
       "6        NaN       ...        {'Cell Phones & Accessories': 4377}   \n",
       "\n",
       "                                               title reviewMonth  reviewYear  \\\n",
       "2  niceEshop(TM) Small Stainless Steel Funnel For...           7        2014   \n",
       "3  BELLA 14025 Programmable Slow Cooker with Lock...           7        2014   \n",
       "4               Making You Mine: The Moreno Brothers           1        2013   \n",
       "5               Making You Mine: The Moreno Brothers           4        2013   \n",
       "6  Skinomi&reg; TechSkin - Apple iPhone 5 Screen ...          11        2012   \n",
       "\n",
       "  compound_score positive_score negative_score  neutral_score  \\\n",
       "2         0.6588          1.000          0.000          0.000   \n",
       "3         0.7893          0.349          0.000          0.651   \n",
       "4         0.9199          0.353          0.000          0.647   \n",
       "5         0.9548          0.411          0.000          0.589   \n",
       "6         0.6534          0.228          0.056          0.716   \n",
       "\n",
       "                                     categories_flat   main_category  \n",
       "2  [Home & Kitchen, Kitchen & Dining, Kitchen Ute...  Home & Kitchen  \n",
       "3  [Home & Kitchen, Kitchen & Dining, Small Appli...  Home & Kitchen  \n",
       "4                                            [Books]           Books  \n",
       "5                                            [Books]           Books  \n",
       "6  [Cell Phones & Accessories, Accessories, Scree...     Electronics  \n",
       "\n",
       "[5 rows x 25 columns]"
      ]
     },
     "execution_count": 10,
     "metadata": {},
     "output_type": "execute_result"
    }
   ],
   "source": [
    "# Final dataframe\n",
    "joined.head()"
   ]
  },
  {
   "cell_type": "code",
   "execution_count": 11,
   "metadata": {
    "collapsed": false
   },
   "outputs": [
    {
     "name": "stdout",
     "output_type": "stream",
     "text": [
      "Remaining reviews: 125958\n"
     ]
    }
   ],
   "source": [
    "# See how many reviews are left\n",
    "print('Remaining reviews: {}'.format(joined.shape[0]))"
   ]
  },
  {
   "cell_type": "code",
   "execution_count": 16,
   "metadata": {
    "collapsed": true
   },
   "outputs": [],
   "source": [
    "# Arbitrarily chosen\n",
    "price_bins = [\n",
    "    0,\n",
    "    10,\n",
    "    20,\n",
    "    30,\n",
    "    40,\n",
    "    50,\n",
    "    60,\n",
    "    70,\n",
    "    80,\n",
    "    90,\n",
    "    100,\n",
    "    200,\n",
    "    500,\n",
    "    1000\n",
    "]"
   ]
  },
  {
   "cell_type": "code",
   "execution_count": 17,
   "metadata": {
    "collapsed": false
   },
   "outputs": [],
   "source": [
    "joined.reset_index(drop = True, inplace = True)\n",
    "\n",
    "# from nltk.tokenize import TweetTokenizer\n",
    "\n",
    "reviews = []\n",
    "review_len = []\n",
    "# tknzr = TweetTokenizer()\n",
    "# for i in range(joined.shape[0]):\n",
    "#     reviews.append(tknzr.tokenize(joined.iloc[i]['reviewText']))\n",
    "    \n",
    "    \n",
    "    \n",
    "    \n",
    "from nltk.tokenize import RegexpTokenizer\n",
    "\n",
    "tokenizer = RegexpTokenizer(r'\\w+')\n",
    "for i in range(joined.shape[0]):\n",
    "    words = tokenizer.tokenize(joined.iloc[i]['reviewText'])\n",
    "    reviews.append(words)\n",
    "    review_len.append(len(words))\n",
    "joined.loc[:,'tokenized_text'] = pd.Series(reviews)\n",
    "joined.loc[:, 'word_count'] = pd.Series(review_len)\n"
   ]
  },
  {
   "cell_type": "code",
   "execution_count": 18,
   "metadata": {
    "collapsed": false
   },
   "outputs": [],
   "source": [
    "# Look at each category, sentiment score per rating\n",
    "def plot_each_category(groupby, column_to_average):\n",
    "\n",
    "    categories = joined.main_category.unique()\n",
    "    for c in categories:\n",
    "        x = joined[joined['main_category'] == c]\n",
    "        print(c)\n",
    "        if groupby is 'price':\n",
    "            (x.groupby(pd.cut(x.price, price_bins))[column_to_average].mean()).plot(kind = 'bar')\n",
    "            \n",
    "        else:\n",
    "            (x.groupby(groupby)[column_to_average].mean()).plot(kind = 'bar')\n",
    "\n",
    "        plt.show()"
   ]
  },
  {
   "cell_type": "code",
   "execution_count": 19,
   "metadata": {
    "collapsed": false
   },
   "outputs": [
    {
     "data": {
      "text/html": [
       "<div>\n",
       "<style>\n",
       "    .dataframe thead tr:only-child th {\n",
       "        text-align: right;\n",
       "    }\n",
       "\n",
       "    .dataframe thead th {\n",
       "        text-align: left;\n",
       "    }\n",
       "\n",
       "    .dataframe tbody tr th {\n",
       "        vertical-align: top;\n",
       "    }\n",
       "</style>\n",
       "<table border=\"1\" class=\"dataframe\">\n",
       "  <thead>\n",
       "    <tr style=\"text-align: right;\">\n",
       "      <th></th>\n",
       "      <th>asin</th>\n",
       "      <th>helpful</th>\n",
       "      <th>overall</th>\n",
       "      <th>reviewText</th>\n",
       "      <th>reviewTime</th>\n",
       "      <th>reviewerID</th>\n",
       "      <th>reviewerName</th>\n",
       "      <th>summary</th>\n",
       "      <th>unixReviewTime</th>\n",
       "      <th>brand</th>\n",
       "      <th>...</th>\n",
       "      <th>reviewMonth</th>\n",
       "      <th>reviewYear</th>\n",
       "      <th>compound_score</th>\n",
       "      <th>positive_score</th>\n",
       "      <th>negative_score</th>\n",
       "      <th>neutral_score</th>\n",
       "      <th>categories_flat</th>\n",
       "      <th>main_category</th>\n",
       "      <th>tokenized_text</th>\n",
       "      <th>word_count</th>\n",
       "    </tr>\n",
       "  </thead>\n",
       "  <tbody>\n",
       "    <tr>\n",
       "      <th>0</th>\n",
       "      <td>B00E7OIOVC</td>\n",
       "      <td>[0, 0]</td>\n",
       "      <td>5.0</td>\n",
       "      <td>Great!</td>\n",
       "      <td>2014-07-03</td>\n",
       "      <td>A0001528BGUBOEVR6T5U</td>\n",
       "      <td>igozingo</td>\n",
       "      <td>Five Stars</td>\n",
       "      <td>1404345600</td>\n",
       "      <td>niceEshop</td>\n",
       "      <td>...</td>\n",
       "      <td>7</td>\n",
       "      <td>2014</td>\n",
       "      <td>0.6588</td>\n",
       "      <td>1.000</td>\n",
       "      <td>0.000</td>\n",
       "      <td>0.000</td>\n",
       "      <td>[Home &amp; Kitchen, Kitchen &amp; Dining, Kitchen Ute...</td>\n",
       "      <td>Home &amp; Kitchen</td>\n",
       "      <td>[Great]</td>\n",
       "      <td>1</td>\n",
       "    </tr>\n",
       "    <tr>\n",
       "      <th>1</th>\n",
       "      <td>B00EXOZ9W8</td>\n",
       "      <td>[0, 0]</td>\n",
       "      <td>5.0</td>\n",
       "      <td>My man was more then happy with it, looking fo...</td>\n",
       "      <td>2014-07-02</td>\n",
       "      <td>A00030342K9JCQO8Q7C3L</td>\n",
       "      <td>Joseph Dvorak</td>\n",
       "      <td>Five Stars</td>\n",
       "      <td>1404259200</td>\n",
       "      <td>NaN</td>\n",
       "      <td>...</td>\n",
       "      <td>7</td>\n",
       "      <td>2014</td>\n",
       "      <td>0.7893</td>\n",
       "      <td>0.349</td>\n",
       "      <td>0.000</td>\n",
       "      <td>0.651</td>\n",
       "      <td>[Home &amp; Kitchen, Kitchen &amp; Dining, Small Appli...</td>\n",
       "      <td>Home &amp; Kitchen</td>\n",
       "      <td>[My, man, was, more, then, happy, with, it, lo...</td>\n",
       "      <td>14</td>\n",
       "    </tr>\n",
       "    <tr>\n",
       "      <th>2</th>\n",
       "      <td>1477473939</td>\n",
       "      <td>[0, 0]</td>\n",
       "      <td>4.0</td>\n",
       "      <td>Reading this seriers was a amazing. It was ver...</td>\n",
       "      <td>2013-01-26</td>\n",
       "      <td>A000443821AD43TOGKNGZ</td>\n",
       "      <td>Uluwehi</td>\n",
       "      <td>Really enjoyed it!</td>\n",
       "      <td>1359158400</td>\n",
       "      <td>NaN</td>\n",
       "      <td>...</td>\n",
       "      <td>1</td>\n",
       "      <td>2013</td>\n",
       "      <td>0.9199</td>\n",
       "      <td>0.353</td>\n",
       "      <td>0.000</td>\n",
       "      <td>0.647</td>\n",
       "      <td>[Books]</td>\n",
       "      <td>Books</td>\n",
       "      <td>[Reading, this, seriers, was, a, amazing, It, ...</td>\n",
       "      <td>31</td>\n",
       "    </tr>\n",
       "    <tr>\n",
       "      <th>3</th>\n",
       "      <td>1477473939</td>\n",
       "      <td>[0, 0]</td>\n",
       "      <td>4.0</td>\n",
       "      <td>I haven't read any of this series before, but ...</td>\n",
       "      <td>2013-04-09</td>\n",
       "      <td>A1BAWRQQMC7L72</td>\n",
       "      <td>Roswellfan410</td>\n",
       "      <td>Really liked it</td>\n",
       "      <td>1365465600</td>\n",
       "      <td>NaN</td>\n",
       "      <td>...</td>\n",
       "      <td>4</td>\n",
       "      <td>2013</td>\n",
       "      <td>0.9548</td>\n",
       "      <td>0.411</td>\n",
       "      <td>0.000</td>\n",
       "      <td>0.589</td>\n",
       "      <td>[Books]</td>\n",
       "      <td>Books</td>\n",
       "      <td>[I, haven, t, read, any, of, this, series, bef...</td>\n",
       "      <td>35</td>\n",
       "    </tr>\n",
       "    <tr>\n",
       "      <th>4</th>\n",
       "      <td>B0092QSQ3Q</td>\n",
       "      <td>[0, 0]</td>\n",
       "      <td>5.0</td>\n",
       "      <td>It is really good! But it was hard to push out...</td>\n",
       "      <td>2012-11-03</td>\n",
       "      <td>A00044782UB564I4SGA0X</td>\n",
       "      <td>Johan98</td>\n",
       "      <td>Really good!</td>\n",
       "      <td>1351900800</td>\n",
       "      <td>NaN</td>\n",
       "      <td>...</td>\n",
       "      <td>11</td>\n",
       "      <td>2012</td>\n",
       "      <td>0.6534</td>\n",
       "      <td>0.228</td>\n",
       "      <td>0.056</td>\n",
       "      <td>0.716</td>\n",
       "      <td>[Cell Phones &amp; Accessories, Accessories, Scree...</td>\n",
       "      <td>Electronics</td>\n",
       "      <td>[It, is, really, good, But, it, was, hard, to,...</td>\n",
       "      <td>22</td>\n",
       "    </tr>\n",
       "  </tbody>\n",
       "</table>\n",
       "<p>5 rows × 27 columns</p>\n",
       "</div>"
      ],
      "text/plain": [
       "         asin helpful  overall  \\\n",
       "0  B00E7OIOVC  [0, 0]      5.0   \n",
       "1  B00EXOZ9W8  [0, 0]      5.0   \n",
       "2  1477473939  [0, 0]      4.0   \n",
       "3  1477473939  [0, 0]      4.0   \n",
       "4  B0092QSQ3Q  [0, 0]      5.0   \n",
       "\n",
       "                                          reviewText reviewTime  \\\n",
       "0                                             Great! 2014-07-03   \n",
       "1  My man was more then happy with it, looking fo... 2014-07-02   \n",
       "2  Reading this seriers was a amazing. It was ver... 2013-01-26   \n",
       "3  I haven't read any of this series before, but ... 2013-04-09   \n",
       "4  It is really good! But it was hard to push out... 2012-11-03   \n",
       "\n",
       "              reviewerID   reviewerName             summary  unixReviewTime  \\\n",
       "0   A0001528BGUBOEVR6T5U       igozingo          Five Stars      1404345600   \n",
       "1  A00030342K9JCQO8Q7C3L  Joseph Dvorak          Five Stars      1404259200   \n",
       "2  A000443821AD43TOGKNGZ        Uluwehi  Really enjoyed it!      1359158400   \n",
       "3         A1BAWRQQMC7L72  Roswellfan410     Really liked it      1365465600   \n",
       "4  A00044782UB564I4SGA0X        Johan98        Really good!      1351900800   \n",
       "\n",
       "       brand     ...     reviewMonth reviewYear compound_score  \\\n",
       "0  niceEshop     ...               7       2014         0.6588   \n",
       "1        NaN     ...               7       2014         0.7893   \n",
       "2        NaN     ...               1       2013         0.9199   \n",
       "3        NaN     ...               4       2013         0.9548   \n",
       "4        NaN     ...              11       2012         0.6534   \n",
       "\n",
       "   positive_score negative_score neutral_score  \\\n",
       "0           1.000          0.000         0.000   \n",
       "1           0.349          0.000         0.651   \n",
       "2           0.353          0.000         0.647   \n",
       "3           0.411          0.000         0.589   \n",
       "4           0.228          0.056         0.716   \n",
       "\n",
       "                                     categories_flat   main_category  \\\n",
       "0  [Home & Kitchen, Kitchen & Dining, Kitchen Ute...  Home & Kitchen   \n",
       "1  [Home & Kitchen, Kitchen & Dining, Small Appli...  Home & Kitchen   \n",
       "2                                            [Books]           Books   \n",
       "3                                            [Books]           Books   \n",
       "4  [Cell Phones & Accessories, Accessories, Scree...     Electronics   \n",
       "\n",
       "                                      tokenized_text  word_count  \n",
       "0                                            [Great]           1  \n",
       "1  [My, man, was, more, then, happy, with, it, lo...          14  \n",
       "2  [Reading, this, seriers, was, a, amazing, It, ...          31  \n",
       "3  [I, haven, t, read, any, of, this, series, bef...          35  \n",
       "4  [It, is, really, good, But, it, was, hard, to,...          22  \n",
       "\n",
       "[5 rows x 27 columns]"
      ]
     },
     "execution_count": 19,
     "metadata": {},
     "output_type": "execute_result"
    }
   ],
   "source": [
    "joined.head()"
   ]
  },
  {
   "cell_type": "code",
   "execution_count": 25,
   "metadata": {
    "collapsed": false
   },
   "outputs": [
    {
     "data": {
      "text/plain": [
       "array(['Home & Kitchen', 'Books', 'Electronics', 'Food',\n",
       "       'Health & Personal Care', 'Movies & TV', 'Office Products', 'Music',\n",
       "       'Video Games', 'Clothing, Shoes & Jewelry', 'Beauty',\n",
       "       'Musical Instruments', 'Tools & Home Improvement', 'Automotive',\n",
       "       'Gift Cards', 'Patio, Lawn & Garden', 'Arts, Crafts & Sewing',\n",
       "       'Sports & Outdoors', 'Amazon Coins', 'Toys & Games', 'Baby', 'Pets',\n",
       "       'Amazon Instant Video', 'Industrial & Scientific',\n",
       "       'Apps for Android', 'Kindle Store', 'Computing',\n",
       "       'Magazine Subscriptions'], dtype=object)"
      ]
     },
     "execution_count": 25,
     "metadata": {},
     "output_type": "execute_result"
    }
   ],
   "source": [
    "joined.main_category.unique()\n"
   ]
  },
  {
   "cell_type": "code",
   "execution_count": 32,
   "metadata": {
    "collapsed": false
   },
   "outputs": [
    {
     "data": {
      "text/plain": [
       "<matplotlib.axes._subplots.AxesSubplot at 0x175053780>"
      ]
     },
     "execution_count": 32,
     "metadata": {},
     "output_type": "execute_result"
    },
    {
     "data": {
      "image/png": "[encoded data removed]",
      "text/plain": [
       "<matplotlib.figure.Figure at 0x1758121d0>"
      ]
     },
     "metadata": {},
     "output_type": "display_data"
    }
   ],
   "source": [
    "x = joined[joined['main_category'] == 'Electronics']\n",
    "(x.groupby(pd.cut(x.price, price_bins))['word_count'].mean()).plot(kind = 'bar')"
   ]
  },
  {
   "cell_type": "code",
   "execution_count": 33,
   "metadata": {
    "collapsed": false
   },
   "outputs": [
    {
     "data": {
      "text/plain": [
       "<matplotlib.axes._subplots.AxesSubplot at 0x174dec1d0>"
      ]
     },
     "execution_count": 33,
     "metadata": {},
     "output_type": "execute_result"
    },
    {
     "data": {
      "image/png": "[encoded data removed]",
      "text/plain": [
       "<matplotlib.figure.Figure at 0x175080048>"
      ]
     },
     "metadata": {},
     "output_type": "display_data"
    }
   ],
   "source": [
    "(x.groupby(pd.cut(x.price, price_bins)).size()).plot(kind = 'bar')"
   ]
  },
  {
   "cell_type": "code",
   "execution_count": 22,
   "metadata": {
    "collapsed": false
   },
   "outputs": [
    {
     "data": {
      "text/plain": [
       "<matplotlib.axes._subplots.AxesSubplot at 0x175f4a978>"
      ]
     },
     "execution_count": 22,
     "metadata": {},
     "output_type": "execute_result"
    },
    {
     "data": {
      "image/png": "[encoded data removed]",
      "text/plain": [
       "<matplotlib.figure.Figure at 0x1763542e8>"
      ]
     },
     "metadata": {},
     "output_type": "display_data"
    }
   ],
   "source": [
    "(x.groupby('overall')['word_count'].mean()).plot(kind = 'bar')"
   ]
  },
  {
   "cell_type": "markdown",
   "metadata": {},
   "source": [
    "### Error bars\n",
    "When plotting aggregate statistics for a group, such as the mean score, we need to include error bars in the plot. We used bootstrap resampling to derive confidence intervals for those statistics since the underlying distribution of the data is unknown to us in general."
   ]
  },
  {
   "cell_type": "code",
   "execution_count": null,
   "metadata": {
    "collapsed": true
   },
   "outputs": [],
   "source": [
    "def bootstrap_estimate(data, func):\n",
    "    \"\"\"Calculate a bootstrap estimate of a certain function of a sequence\n",
    "    This function draws a random sample with replacement from a list and\n",
    "    uses func to calculate a statistic over that sample.\n",
    "    Since the sample is drawn with replacement each element of the list\n",
    "    may appear multiple times or not appear at all in the sample.\n",
    "    \"\"\"\n",
    "    n = len(data)\n",
    "    \n",
    "    # Generate n random indices with replacement\n",
    "    indices = np.random.randint(n, size=n)\n",
    "    \n",
    "    # Sample the data\n",
    "    sample = data.iloc[indices]\n",
    "\n",
    "    # Compute the statistic\n",
    "    return func(sample)\n",
    "\n",
    "def confidence_interval(data, count, func, confidence=0.95):\n",
    "    \"\"\"Return a statistic and its confidence interval of a sequence using bootstrap resampling.\n",
    "    Computes the statistic over count bootstrap samples drawn from the data, then computes the \n",
    "    lower and uppper bounds of the confidence interval.\n",
    "    \"\"\"\n",
    "    estimates = [bootstrap_estimate(data, func) for _ in range(count)]\n",
    "    \n",
    "    # Debug: verify that the estimates have a normal distribution\n",
    "    # plt.hist(estimates, bins=50)\n",
    "    \n",
    "    # Calculate the confidence interval bounds assuming a normal distribution in\n",
    "    # the estimates\n",
    "    m, se = np.mean(estimates), np.std(estimates)\n",
    "    lower, upper = scipy.stats.norm.interval(confidence, loc=m, scale=se)\n",
    "    \n",
    "    return m, lower, upper\n",
    "\n",
    "def plot_groupby_error_bars(grouped, count, func, ax, confidence=0.95):\n",
    "    \"\"\"Plot a bar plot showing the result of a statistic applied to the groups\n",
    "    of a groupby object and use count bootstrap samples to compute confidence intervals\n",
    "    \"\"\"\n",
    "    out = grouped.agg(lambda a: confidence_interval(a, count, func, confidence))\n",
    "    means = out.apply(lambda x: x[0])\n",
    "    mins = out.apply(lambda x: x[1] - x[0])\n",
    "    maxs = out.apply(lambda x: x[2] - x[0])\n",
    "\n",
    "    errs = np.c_[mins, maxs].T\n",
    "    means.plot(kind='bar', ax=ax, yerr=errs, ecolor='r')"
   ]
  },
  {
   "cell_type": "code",
   "execution_count": null,
   "metadata": {
    "collapsed": false
   },
   "outputs": [],
   "source": [
    "# Example: 95% confidence interval of the mean of the review scores with\n",
    "# 1000 bootstrap samples. \n",
    "confidence_interval(joined.overall, 1000, np.mean)"
   ]
  },
  {
   "cell_type": "markdown",
   "metadata": {},
   "source": [
    "### Feature analysis\n",
    "We can now start to have a look at the distribution of the various features. First of all: overall score"
   ]
  },
  {
   "cell_type": "code",
   "execution_count": null,
   "metadata": {
    "collapsed": false
   },
   "outputs": [],
   "source": [
    "# Overall distribution\n",
    "joined.overall.value_counts().plot(kind='pie', title='Distribution of review scores')"
   ]
  },
  {
   "cell_type": "code",
   "execution_count": null,
   "metadata": {
    "collapsed": false
   },
   "outputs": [],
   "source": [
    "# Distribution with respect to price\n",
    "_, ax1 = plt.subplots(1, 1, figsize=(16,5))\n",
    "bins = np.linspace(0, 1000, 12)\n",
    "gb = joined.groupby('overall')\n",
    "series = np.array([np.histogram(gb.get_group(i).price.values, bins=bins)[0] for i in range(1, 6)])\n",
    "\n",
    "series = series / series.sum(axis=0)\n",
    "histbins = bins[:-1] + np.ediff1d(bins) / 2\n",
    "bottom = np.zeros(series.shape[1])\n",
    "\n",
    "for i in range(series.shape[0]):\n",
    "    ax1.bar(histbins, series[i], width=50, bottom=bottom)\n",
    "    bottom += series[i]"
   ]
  },
  {
   "cell_type": "markdown",
   "metadata": {},
   "source": [
    "We can see that more than half of the reviews gave five stars to the product independently of the price. The low proportion of 1 and 2 star reviews suggests that customers are very likely to be satisfied with the product they purchased. For this reason it might be interesting to also look at the set of reviews that didn't give the product 5/5 stars.\n"
   ]
  },
  {
   "cell_type": "code",
   "execution_count": null,
   "metadata": {
    "collapsed": true
   },
   "outputs": [],
   "source": [
    "no_5_star = joined[joined.overall != 5]"
   ]
  },
  {
   "cell_type": "markdown",
   "metadata": {},
   "source": [
    "Let's now consider the number of reviews by month of the year."
   ]
  },
  {
   "cell_type": "code",
   "execution_count": null,
   "metadata": {
    "collapsed": false
   },
   "outputs": [],
   "source": [
    "_, (ax1, ax2) = plt.subplots(1, 2, figsize=(16,5))\n",
    "no_5_star.reviewMonth.value_counts().plot(ax=ax2, kind='bar', title='Review distribution by month (no 5 star reviews)')\n",
    "joined.reviewMonth.value_counts().plot(ax=ax1, kind='bar', title='Review distribution by month')"
   ]
  },
  {
   "cell_type": "markdown",
   "metadata": {},
   "source": [
    "The number of reviews seems to be highest during winter and spring and lower during autumn, with January being the month with the highest number of reviews. The biggest shopping time in the year is during the christmas holidays and we imagine that reviews are written the next month after the product has been used for some time.\n",
    "\n",
    "We can now start looking at the prices of the items. We can define some price bins that will allow us to group the items in price tiers."
   ]
  },
  {
   "cell_type": "code",
   "execution_count": null,
   "metadata": {
    "collapsed": true
   },
   "outputs": [],
   "source": [
    "# Arbitrarily chosen\n",
    "price_bins = [\n",
    "    0,\n",
    "    10,\n",
    "    20,\n",
    "    30,\n",
    "    40,\n",
    "    50,\n",
    "    60,\n",
    "    70,\n",
    "    80,\n",
    "    90,\n",
    "    100,\n",
    "    200,\n",
    "    500,\n",
    "    1000\n",
    "]"
   ]
  },
  {
   "cell_type": "code",
   "execution_count": null,
   "metadata": {
    "collapsed": true
   },
   "outputs": [],
   "source": [
    "# Group the items by price tier\n",
    "group_by_price_tier = joined.groupby(pd.cut(joined.price, price_bins))\n",
    "no5_group_by_price_tier = no_5_star.groupby(pd.cut(no_5_star.price, price_bins))"
   ]
  },
  {
   "cell_type": "markdown",
   "metadata": {},
   "source": [
    "First of all we can plot the distribution of the prices of reviewed items."
   ]
  },
  {
   "cell_type": "code",
   "execution_count": null,
   "metadata": {
    "collapsed": false
   },
   "outputs": [],
   "source": [
    "_, (ax1, ax2) = plt.subplots(1, 2, figsize=(16,5))\n",
    "ax1.set_title('Review distribution by price')\n",
    "ax2.set_title('Review distribution by price (no 5 star reviews)')\n",
    "joined.price.hist(bins=50, ax=ax1)\n",
    "no_5_star.price.hist(bins=50, ax=ax2)"
   ]
  },
  {
   "cell_type": "markdown",
   "metadata": {},
   "source": [
    "The distribution seems to be heavy tailed, with very cheap items making up the majority of the reviews. We can verify if this distribution follows a power law by plotting it on a log-log scale."
   ]
  },
  {
   "cell_type": "code",
   "execution_count": null,
   "metadata": {
    "collapsed": false
   },
   "outputs": [],
   "source": [
    "# We need to make logarithmic bins ourselves.\n",
    "log_bins = np.logspace(np.log10(min(joined.price)), np.log10(max(joined.price)), 50)\n",
    "no5_log_bins = np.logspace(np.log10(min(joined.price)), np.log10(max(joined.price)), 50)\n",
    "\n",
    "fig = plt.figure(figsize=(16, 5))\n",
    "ax1 = plt.subplot(121)\n",
    "ax2 = plt.subplot(122)\n",
    "\n",
    "ax1.set_xscale('log')\n",
    "ax1.set_title('Review distribution by price')\n",
    "ax2.set_xscale('log')\n",
    "ax2.set_title('Review distribution by price (no 5 star reviews)')\n",
    "\n",
    "joined.price.hist(ax=ax1, log=True, bins=log_bins)\n",
    "no_5_star.price.hist(ax=ax2, log=True, bins=no5_log_bins)"
   ]
  },
  {
   "cell_type": "markdown",
   "metadata": {},
   "source": [
    "The distribution doesn't follow a linear relationship on a log-log plot so the distribution is not a power law.\n",
    "\n",
    "Now let's see the distribution according to the price tiers we defined above."
   ]
  },
  {
   "cell_type": "code",
   "execution_count": null,
   "metadata": {
    "collapsed": false
   },
   "outputs": [],
   "source": [
    "_, (ax1, ax2) = plt.subplots(1, 2, figsize=(16,5))\n",
    "\n",
    "ax1.set_title('Review distribution by price bracket')\n",
    "ax2.set_title('Review distribution by price bracket (no 5 star reviews)')\n",
    "\n",
    "group_by_price_tier.size().plot(kind='bar', ax=ax1)\n",
    "no5_group_by_price_tier.size().plot(kind='bar', ax=ax2)"
   ]
  },
  {
   "cell_type": "markdown",
   "metadata": {},
   "source": [
    "One of the hypotheses we want to verify is whether the price of an item correlates with its review score, more specifically whether items belonging to a higher price tier are more likely to get better reviews. We can verify that by computing the mean review score for each price tier and displaying that on a bar plot."
   ]
  },
  {
   "cell_type": "code",
   "execution_count": null,
   "metadata": {
    "collapsed": false
   },
   "outputs": [],
   "source": [
    "_, (ax1, ax2) = plt.subplots(1, 2, sharey=True, figsize=(16,5))\n",
    "\n",
    "ax1.set_title('Average review score by price bracket')\n",
    "ax2.set_title('Average review score by price bracket (no 5 star reviews)')\n",
    "\n",
    "plot_groupby_error_bars(group_by_price_tier.overall, 1000, np.mean, ax=ax1)\n",
    "plot_groupby_error_bars(no5_group_by_price_tier.overall, 1000, np.mean, ax=ax2)"
   ]
  },
  {
   "cell_type": "markdown",
   "metadata": {},
   "source": [
    "We can also try plotting the median of the scores. Since the values are discrete in the [1, 5] interval and more than half of the reviews are 5 we expect the medians to always be 5 in the plot where 5-star reviews are included."
   ]
  },
  {
   "cell_type": "code",
   "execution_count": null,
   "metadata": {
    "collapsed": false
   },
   "outputs": [],
   "source": [
    "_, (ax1, ax2) = plt.subplots(1, 2, sharey=True, figsize=(16,5))\n",
    "\n",
    "ax1.set_title('Median review score by price bracket')\n",
    "ax2.set_title('Median review score by price bracket (no 5 star reviews)')\n",
    "\n",
    "plot_groupby_error_bars(group_by_price_tier.overall, 1000, np.median, ax=ax1)\n",
    "plot_groupby_error_bars(no5_group_by_price_tier.overall, 1000, np.median, ax=ax2)"
   ]
  },
  {
   "cell_type": "markdown",
   "metadata": {},
   "source": [
    "There seems to be no correlation between an item's price tier and its mean and median review score.\n",
    "\n",
    "We can also verify whether the month during which a review was written correlates with its score. The presence of such a correlation could indicate that buyers are more likely to give a better review in certain periods of the year than others."
   ]
  },
  {
   "cell_type": "code",
   "execution_count": null,
   "metadata": {
    "collapsed": true
   },
   "outputs": [],
   "source": [
    "# Group data by the month in which the review was written.\n",
    "group_by_month = joined.groupby('reviewMonth')\n",
    "overall_month = group_by_month.overall\n",
    "\n",
    "no5_group_by_month = no_5_star.groupby('reviewMonth')\n",
    "no5_overall_month = no5_group_by_month.overall"
   ]
  },
  {
   "cell_type": "code",
   "execution_count": null,
   "metadata": {
    "collapsed": false
   },
   "outputs": [],
   "source": [
    "_, (ax1, ax2) = plt.subplots(1, 2, sharey=True, figsize=(16,5))\n",
    "\n",
    "ax1.set_title('Average review score by month')\n",
    "ax2.set_title('Average review score by month (no 5 star reviews)')\n",
    "\n",
    "plot_groupby_error_bars(overall_month, 1000, np.mean, ax1)\n",
    "plot_groupby_error_bars(no5_overall_month, 1000, np.mean, ax2)"
   ]
  },
  {
   "cell_type": "code",
   "execution_count": null,
   "metadata": {
    "collapsed": false
   },
   "outputs": [],
   "source": [
    "_, (ax1, ax2) = plt.subplots(1, 2, sharey=True, figsize=(16,5))\n",
    "\n",
    "ax1.set_title('Median review score by month')\n",
    "ax2.set_title('Median review score by month (no 5 star reviews)')\n",
    "\n",
    "plot_groupby_error_bars(overall_month, 1000, np.median, ax1)\n",
    "plot_groupby_error_bars(no5_overall_month, 1000, np.median, ax2)"
   ]
  },
  {
   "cell_type": "markdown",
   "metadata": {},
   "source": [
    "Again, we can see that the correlation we hypothesized does not exist in the data. The review scores seem to be independent of the month in which they were written.\n",
    "\n",
    "Let's now look at the items grouped by their category"
   ]
  },
  {
   "cell_type": "code",
   "execution_count": null,
   "metadata": {
    "collapsed": false
   },
   "outputs": [],
   "source": [
    "_, (ax1, ax2) = plt.subplots(2, 1, sharex=True, figsize=(15,5))\n",
    "ax1.set_title('Review distribution by main category')\n",
    "ax1.set_title('Review distribution by main category (no 5 star reviews)')\n",
    "joined.main_category.value_counts().plot(kind='bar', ax=ax1)\n",
    "no_5_star.main_category.value_counts().plot(kind='bar', ax=ax2)"
   ]
  },
  {
   "cell_type": "code",
   "execution_count": null,
   "metadata": {
    "collapsed": false
   },
   "outputs": [],
   "source": [
    "pd.DataFrame({\n",
    "    'All reviews': joined.main_category.value_counts(),\n",
    "    'No 5 star reviews': no_5_star.main_category.value_counts()\n",
    "}).sort_values('All reviews', ascending=False)"
   ]
  },
  {
   "cell_type": "markdown",
   "metadata": {},
   "source": [
    "The most popular categories by a large margin seem to be books and electronics. The least popular categories have very few reviews in our sample so the results we get from them might not be very relevant."
   ]
  },
  {
   "cell_type": "code",
   "execution_count": null,
   "metadata": {
    "collapsed": false
   },
   "outputs": [],
   "source": [
    "_, (ax1, ax2) = plt.subplots(2, 1, sharex=True, figsize=(15,5))\n",
    "by_category = joined.groupby('main_category')\n",
    "no5_by_category = no_5_star.groupby('main_category')\n",
    "\n",
    "ax1.set_title('Mean review score by category')\n",
    "ax2.set_title('Mean review score by category (no 5 star reviews)')\n",
    "\n",
    "plot_groupby_error_bars(by_category.overall, 1000, np.mean, ax1)\n",
    "plot_groupby_error_bars(no5_by_category.overall, 1000, np.mean, ax2)"
   ]
  },
  {
   "cell_type": "markdown",
   "metadata": {},
   "source": [
    "We can see from here that products belonging to certain categories indeed tend to receive better reviews on average.\n",
    "\n",
    "We can also look at the relationship between the overall rating given in a review and the overall sentiment score of the description. We expect negative reviews to have a sentiment score closer to -1 and vice versa."
   ]
  },
  {
   "cell_type": "code",
   "execution_count": null,
   "metadata": {
    "collapsed": false,
    "scrolled": true
   },
   "outputs": [],
   "source": [
    "by_overall = joined.groupby('overall')\n",
    "\n",
    "fig, (ax1, ax2) = plt.subplots(1, 2, sharey=True, figsize=(15, 5))\n",
    "ax1.set_title('Mean compound sentiment score')\n",
    "ax2.set_title('Median compound sentiment score')\n",
    "plot_groupby_error_bars(by_overall.compound_score, 1000, np.mean, ax1)\n",
    "plot_groupby_error_bars(by_overall.compound_score, 1000, np.median, ax2)"
   ]
  },
  {
   "cell_type": "markdown",
   "metadata": {},
   "source": [
    "Our expectations were correct: negative reviews indeed have a lower sentiment score, but even the 1 star reviews do not seem to have a strongly negative connotation. Perhaps overly rude or angry reviews are removed by Amazon's staff."
   ]
  },
  {
   "cell_type": "code",
   "execution_count": null,
   "metadata": {
    "collapsed": false
   },
   "outputs": [],
   "source": [
    "fig, (ax1, ax2) = plt.subplots(1, 2, sharey=True, figsize=(15, 5))\n",
    "ax1.set_title('Mean positive sentiment score')\n",
    "ax2.set_title('Median positive sentiment score')\n",
    "plot_groupby_error_bars(by_overall.positive_score, 1000, np.mean, ax1)\n",
    "plot_groupby_error_bars(by_overall.positive_score, 1000, np.median, ax2)"
   ]
  },
  {
   "cell_type": "code",
   "execution_count": null,
   "metadata": {
    "collapsed": false
   },
   "outputs": [],
   "source": [
    "fig, (ax1, ax2) = plt.subplots(1, 2, sharey=True, figsize=(15, 5))\n",
    "ax1.set_title('Mean neutral sentiment score')\n",
    "ax2.set_title('Median neutral sentiment score')\n",
    "plot_groupby_error_bars(by_overall.neutral_score, 1000, np.mean, ax1)\n",
    "plot_groupby_error_bars(by_overall.neutral_score, 1000, np.median, ax2)"
   ]
  },
  {
   "cell_type": "code",
   "execution_count": null,
   "metadata": {
    "collapsed": false
   },
   "outputs": [],
   "source": [
    "fig, (ax1, ax2) = plt.subplots(1, 2, sharey=True, figsize=(15, 5))\n",
    "ax1.set_title('Mean negative sentiment score')\n",
    "ax2.set_title('Median negative sentiment score')\n",
    "plot_groupby_error_bars(by_overall.negative_score, 1000, np.mean, ax1)\n",
    "plot_groupby_error_bars(by_overall.negative_score, 1000, np.median, ax2)"
   ]
  },
  {
   "cell_type": "markdown",
   "metadata": {},
   "source": [
    "The negative, positive and neutral sentiment scores confirm what we saw by observing the compound score.\n",
    "\n",
    "We can also verify whether a different price translates to a higher sentiment score."
   ]
  },
  {
   "cell_type": "code",
   "execution_count": null,
   "metadata": {
    "collapsed": false,
    "scrolled": false
   },
   "outputs": [],
   "source": [
    "fig, (ax1, ax2) = plt.subplots(1, 2, sharey=True, figsize=(15, 5))\n",
    "ax1.set_title('Mean compound sentiment score')\n",
    "ax2.set_title('Median compound sentiment score')\n",
    "plot_groupby_error_bars(group_by_price_tier.compound_score, 1000, np.mean, ax1)\n",
    "plot_groupby_error_bars(group_by_price_tier.compound_score, 1000, np.median, ax2)"
   ]
  },
  {
   "cell_type": "code",
   "execution_count": null,
   "metadata": {
    "collapsed": false
   },
   "outputs": [],
   "source": [
    "joined.groupby(['main_category'])"
   ]
  },
  {
   "cell_type": "code",
   "execution_count": null,
   "metadata": {
    "collapsed": false
   },
   "outputs": [],
   "source": [
    "\n",
    "\n",
    "# Create dataframe with needed information\n",
    "product_reviews = pd.DataFrame({'productID': df.asin,\n",
    "                                'rating': df.overall,\n",
    "                                'time': pd.to_datetime(df.reviewTime, format='%m %d, %Y')\n",
    "                                })\n",
    "product_reviews['month'] = product_reviews.time.map(lambda t: t.month)\n",
    "product_reviews.set_index('productID', drop=True, inplace=True)\n",
    "product_reviews.head()"
   ]
  },
  {
   "cell_type": "code",
   "execution_count": null,
   "metadata": {
    "collapsed": false
   },
   "outputs": [],
   "source": [
    "# Create a product by month table to spot periodicity\n",
    "# Each entry is the mean of ratings the product gets within certain month\n",
    "# Nans are filled with 0\n",
    "product_month = product_reviews.pivot_table(values='rating',\n",
    "                                            index=product_reviews.index,\n",
    "                                            columns='month',\n",
    "                                            fill_value=0)\n",
    "\n",
    "# Select products with number of reviews larger than the threshold\n",
    "review_count = product_reviews.index.value_counts()\n",
    "product_month = product_month.loc[review_count>N_REVIEW_THRESHOLD]\n",
    "\n",
    "product_month.head()"
   ]
  },
  {
   "cell_type": "markdown",
   "metadata": {},
   "source": [
    "## ToDo: Spot/measure the periodicity (automatically)"
   ]
  },
  {
   "cell_type": "code",
   "execution_count": null,
   "metadata": {
    "collapsed": true
   },
   "outputs": [],
   "source": []
  },
  {
   "cell_type": "code",
   "execution_count": 34,
   "metadata": {
    "collapsed": false
   },
   "outputs": [
    {
     "data": {
      "text/html": [
       "<div>\n",
       "<style>\n",
       "    .dataframe thead tr:only-child th {\n",
       "        text-align: right;\n",
       "    }\n",
       "\n",
       "    .dataframe thead th {\n",
       "        text-align: left;\n",
       "    }\n",
       "\n",
       "    .dataframe tbody tr th {\n",
       "        vertical-align: top;\n",
       "    }\n",
       "</style>\n",
       "<table border=\"1\" class=\"dataframe\">\n",
       "  <thead>\n",
       "    <tr style=\"text-align: right;\">\n",
       "      <th></th>\n",
       "      <th>asin</th>\n",
       "      <th>helpful</th>\n",
       "      <th>overall</th>\n",
       "      <th>reviewText</th>\n",
       "      <th>reviewTime</th>\n",
       "      <th>reviewerID</th>\n",
       "      <th>reviewerName</th>\n",
       "      <th>summary</th>\n",
       "      <th>unixReviewTime</th>\n",
       "      <th>brand</th>\n",
       "      <th>...</th>\n",
       "      <th>reviewMonth</th>\n",
       "      <th>reviewYear</th>\n",
       "      <th>compound_score</th>\n",
       "      <th>positive_score</th>\n",
       "      <th>negative_score</th>\n",
       "      <th>neutral_score</th>\n",
       "      <th>categories_flat</th>\n",
       "      <th>main_category</th>\n",
       "      <th>tokenized_text</th>\n",
       "      <th>word_count</th>\n",
       "    </tr>\n",
       "  </thead>\n",
       "  <tbody>\n",
       "    <tr>\n",
       "      <th>0</th>\n",
       "      <td>B00E7OIOVC</td>\n",
       "      <td>[0, 0]</td>\n",
       "      <td>5.0</td>\n",
       "      <td>Great!</td>\n",
       "      <td>2014-07-03</td>\n",
       "      <td>A0001528BGUBOEVR6T5U</td>\n",
       "      <td>igozingo</td>\n",
       "      <td>Five Stars</td>\n",
       "      <td>1404345600</td>\n",
       "      <td>niceEshop</td>\n",
       "      <td>...</td>\n",
       "      <td>7</td>\n",
       "      <td>2014</td>\n",
       "      <td>0.6588</td>\n",
       "      <td>1.000</td>\n",
       "      <td>0.000</td>\n",
       "      <td>0.000</td>\n",
       "      <td>[Home &amp; Kitchen, Kitchen &amp; Dining, Kitchen Ute...</td>\n",
       "      <td>Home &amp; Kitchen</td>\n",
       "      <td>[Great]</td>\n",
       "      <td>1</td>\n",
       "    </tr>\n",
       "    <tr>\n",
       "      <th>1</th>\n",
       "      <td>B00EXOZ9W8</td>\n",
       "      <td>[0, 0]</td>\n",
       "      <td>5.0</td>\n",
       "      <td>My man was more then happy with it, looking fo...</td>\n",
       "      <td>2014-07-02</td>\n",
       "      <td>A00030342K9JCQO8Q7C3L</td>\n",
       "      <td>Joseph Dvorak</td>\n",
       "      <td>Five Stars</td>\n",
       "      <td>1404259200</td>\n",
       "      <td>NaN</td>\n",
       "      <td>...</td>\n",
       "      <td>7</td>\n",
       "      <td>2014</td>\n",
       "      <td>0.7893</td>\n",
       "      <td>0.349</td>\n",
       "      <td>0.000</td>\n",
       "      <td>0.651</td>\n",
       "      <td>[Home &amp; Kitchen, Kitchen &amp; Dining, Small Appli...</td>\n",
       "      <td>Home &amp; Kitchen</td>\n",
       "      <td>[My, man, was, more, then, happy, with, it, lo...</td>\n",
       "      <td>14</td>\n",
       "    </tr>\n",
       "    <tr>\n",
       "      <th>2</th>\n",
       "      <td>1477473939</td>\n",
       "      <td>[0, 0]</td>\n",
       "      <td>4.0</td>\n",
       "      <td>Reading this seriers was a amazing. It was ver...</td>\n",
       "      <td>2013-01-26</td>\n",
       "      <td>A000443821AD43TOGKNGZ</td>\n",
       "      <td>Uluwehi</td>\n",
       "      <td>Really enjoyed it!</td>\n",
       "      <td>1359158400</td>\n",
       "      <td>NaN</td>\n",
       "      <td>...</td>\n",
       "      <td>1</td>\n",
       "      <td>2013</td>\n",
       "      <td>0.9199</td>\n",
       "      <td>0.353</td>\n",
       "      <td>0.000</td>\n",
       "      <td>0.647</td>\n",
       "      <td>[Books]</td>\n",
       "      <td>Books</td>\n",
       "      <td>[Reading, this, seriers, was, a, amazing, It, ...</td>\n",
       "      <td>31</td>\n",
       "    </tr>\n",
       "    <tr>\n",
       "      <th>3</th>\n",
       "      <td>1477473939</td>\n",
       "      <td>[0, 0]</td>\n",
       "      <td>4.0</td>\n",
       "      <td>I haven't read any of this series before, but ...</td>\n",
       "      <td>2013-04-09</td>\n",
       "      <td>A1BAWRQQMC7L72</td>\n",
       "      <td>Roswellfan410</td>\n",
       "      <td>Really liked it</td>\n",
       "      <td>1365465600</td>\n",
       "      <td>NaN</td>\n",
       "      <td>...</td>\n",
       "      <td>4</td>\n",
       "      <td>2013</td>\n",
       "      <td>0.9548</td>\n",
       "      <td>0.411</td>\n",
       "      <td>0.000</td>\n",
       "      <td>0.589</td>\n",
       "      <td>[Books]</td>\n",
       "      <td>Books</td>\n",
       "      <td>[I, haven, t, read, any, of, this, series, bef...</td>\n",
       "      <td>35</td>\n",
       "    </tr>\n",
       "    <tr>\n",
       "      <th>4</th>\n",
       "      <td>B0092QSQ3Q</td>\n",
       "      <td>[0, 0]</td>\n",
       "      <td>5.0</td>\n",
       "      <td>It is really good! But it was hard to push out...</td>\n",
       "      <td>2012-11-03</td>\n",
       "      <td>A00044782UB564I4SGA0X</td>\n",
       "      <td>Johan98</td>\n",
       "      <td>Really good!</td>\n",
       "      <td>1351900800</td>\n",
       "      <td>NaN</td>\n",
       "      <td>...</td>\n",
       "      <td>11</td>\n",
       "      <td>2012</td>\n",
       "      <td>0.6534</td>\n",
       "      <td>0.228</td>\n",
       "      <td>0.056</td>\n",
       "      <td>0.716</td>\n",
       "      <td>[Cell Phones &amp; Accessories, Accessories, Scree...</td>\n",
       "      <td>Electronics</td>\n",
       "      <td>[It, is, really, good, But, it, was, hard, to,...</td>\n",
       "      <td>22</td>\n",
       "    </tr>\n",
       "  </tbody>\n",
       "</table>\n",
       "<p>5 rows × 27 columns</p>\n",
       "</div>"
      ],
      "text/plain": [
       "         asin helpful  overall  \\\n",
       "0  B00E7OIOVC  [0, 0]      5.0   \n",
       "1  B00EXOZ9W8  [0, 0]      5.0   \n",
       "2  1477473939  [0, 0]      4.0   \n",
       "3  1477473939  [0, 0]      4.0   \n",
       "4  B0092QSQ3Q  [0, 0]      5.0   \n",
       "\n",
       "                                          reviewText reviewTime  \\\n",
       "0                                             Great! 2014-07-03   \n",
       "1  My man was more then happy with it, looking fo... 2014-07-02   \n",
       "2  Reading this seriers was a amazing. It was ver... 2013-01-26   \n",
       "3  I haven't read any of this series before, but ... 2013-04-09   \n",
       "4  It is really good! But it was hard to push out... 2012-11-03   \n",
       "\n",
       "              reviewerID   reviewerName             summary  unixReviewTime  \\\n",
       "0   A0001528BGUBOEVR6T5U       igozingo          Five Stars      1404345600   \n",
       "1  A00030342K9JCQO8Q7C3L  Joseph Dvorak          Five Stars      1404259200   \n",
       "2  A000443821AD43TOGKNGZ        Uluwehi  Really enjoyed it!      1359158400   \n",
       "3         A1BAWRQQMC7L72  Roswellfan410     Really liked it      1365465600   \n",
       "4  A00044782UB564I4SGA0X        Johan98        Really good!      1351900800   \n",
       "\n",
       "       brand     ...     reviewMonth reviewYear compound_score  \\\n",
       "0  niceEshop     ...               7       2014         0.6588   \n",
       "1        NaN     ...               7       2014         0.7893   \n",
       "2        NaN     ...               1       2013         0.9199   \n",
       "3        NaN     ...               4       2013         0.9548   \n",
       "4        NaN     ...              11       2012         0.6534   \n",
       "\n",
       "   positive_score negative_score neutral_score  \\\n",
       "0           1.000          0.000         0.000   \n",
       "1           0.349          0.000         0.651   \n",
       "2           0.353          0.000         0.647   \n",
       "3           0.411          0.000         0.589   \n",
       "4           0.228          0.056         0.716   \n",
       "\n",
       "                                     categories_flat   main_category  \\\n",
       "0  [Home & Kitchen, Kitchen & Dining, Kitchen Ute...  Home & Kitchen   \n",
       "1  [Home & Kitchen, Kitchen & Dining, Small Appli...  Home & Kitchen   \n",
       "2                                            [Books]           Books   \n",
       "3                                            [Books]           Books   \n",
       "4  [Cell Phones & Accessories, Accessories, Scree...     Electronics   \n",
       "\n",
       "                                      tokenized_text  word_count  \n",
       "0                                            [Great]           1  \n",
       "1  [My, man, was, more, then, happy, with, it, lo...          14  \n",
       "2  [Reading, this, seriers, was, a, amazing, It, ...          31  \n",
       "3  [I, haven, t, read, any, of, this, series, bef...          35  \n",
       "4  [It, is, really, good, But, it, was, hard, to,...          22  \n",
       "\n",
       "[5 rows x 27 columns]"
      ]
     },
     "execution_count": 34,
     "metadata": {},
     "output_type": "execute_result"
    }
   ],
   "source": [
    "joined.head()"
   ]
  },
  {
   "cell_type": "code",
   "execution_count": 36,
   "metadata": {
    "collapsed": false
   },
   "outputs": [],
   "source": [
    "x = 'unbiased review here'\n",
    "y = 'unbiased review' in x"
   ]
  },
  {
   "cell_type": "code",
   "execution_count": 58,
   "metadata": {
    "collapsed": false
   },
   "outputs": [],
   "source": [
    "mask = joined['reviewText'].map(lambda x: ('unbiased review' in x) or ('honest review' in x) or ('in exchange for' in x) or ('disclaimer' in x))\n",
    "incentivized = joined[mask]\n",
    "non_incentivized = joined[~mask]"
   ]
  },
  {
   "cell_type": "code",
   "execution_count": 59,
   "metadata": {
    "collapsed": false
   },
   "outputs": [
    {
     "data": {
      "text/plain": [
       "(125958, 27)"
      ]
     },
     "execution_count": 59,
     "metadata": {},
     "output_type": "execute_result"
    }
   ],
   "source": [
    "joined.shape"
   ]
  },
  {
   "cell_type": "code",
   "execution_count": 60,
   "metadata": {
    "collapsed": false
   },
   "outputs": [
    {
     "data": {
      "text/plain": [
       "(348, 27)"
      ]
     },
     "execution_count": 60,
     "metadata": {},
     "output_type": "execute_result"
    }
   ],
   "source": [
    "incentivized.shape"
   ]
  },
  {
   "cell_type": "code",
   "execution_count": 63,
   "metadata": {
    "collapsed": false
   },
   "outputs": [
    {
     "data": {
      "text/plain": [
       "4.3017241379310347"
      ]
     },
     "execution_count": 63,
     "metadata": {},
     "output_type": "execute_result"
    }
   ],
   "source": [
    "incentivized['overall'].mean()"
   ]
  },
  {
   "cell_type": "code",
   "execution_count": 64,
   "metadata": {
    "collapsed": false
   },
   "outputs": [
    {
     "data": {
      "text/plain": [
       "4.1887349733301491"
      ]
     },
     "execution_count": 64,
     "metadata": {},
     "output_type": "execute_result"
    }
   ],
   "source": [
    "non_incentivized['overall'].mean()"
   ]
  },
  {
   "cell_type": "code",
   "execution_count": 83,
   "metadata": {
    "collapsed": false
   },
   "outputs": [
    {
     "data": {
      "image/png": "[encoded data removed]",
      "text/plain": [
       "<matplotlib.figure.Figure at 0x1615c6160>"
      ]
     },
     "metadata": {},
     "output_type": "display_data"
    },
    {
     "data": {
      "image/png": "[encoded data removed]",
      "text/plain": [
       "<matplotlib.figure.Figure at 0x161f2fbe0>"
      ]
     },
     "metadata": {},
     "output_type": "display_data"
    }
   ],
   "source": [
    "(incentivized.groupby('overall').size()/incentivized.shape[0]).plot(kind = 'bar')\n",
    "plt.show()\n",
    "incentivized['compound_score'].hist(weights = [1/incentivized.shape[0]]*incentivized.shape[0])\n",
    "plt.show()"
   ]
  },
  {
   "cell_type": "code",
   "execution_count": 85,
   "metadata": {
    "collapsed": false
   },
   "outputs": [
    {
     "data": {
      "image/png": "[encoded data removed]",
      "text/plain": [
       "<matplotlib.figure.Figure at 0x15b537748>"
      ]
     },
     "metadata": {},
     "output_type": "display_data"
    },
    {
     "data": {
      "text/plain": [
       "<matplotlib.axes._subplots.AxesSubplot at 0x156c9d2b0>"
      ]
     },
     "execution_count": 85,
     "metadata": {},
     "output_type": "execute_result"
    },
    {
     "data": {
      "image/png": "[encoded data removed]",
      "text/plain": [
       "<matplotlib.figure.Figure at 0x1587aeef0>"
      ]
     },
     "metadata": {},
     "output_type": "display_data"
    }
   ],
   "source": [
    "(non_incentivized.groupby('overall').size()/non_incentivized.shape[0]).plot(kind = 'bar')\n",
    "plt.show()\n",
    "non_incentivized['compound_score'].hist(weights = [1/non_incentivized.shape[0]]*non_incentivized.shape[0])"
   ]
  },
  {
   "cell_type": "code",
   "execution_count": 70,
   "metadata": {
    "collapsed": false
   },
   "outputs": [
    {
     "data": {
      "text/html": [
       "<div>\n",
       "<style>\n",
       "    .dataframe thead tr:only-child th {\n",
       "        text-align: right;\n",
       "    }\n",
       "\n",
       "    .dataframe thead th {\n",
       "        text-align: left;\n",
       "    }\n",
       "\n",
       "    .dataframe tbody tr th {\n",
       "        vertical-align: top;\n",
       "    }\n",
       "</style>\n",
       "<table border=\"1\" class=\"dataframe\">\n",
       "  <thead>\n",
       "    <tr style=\"text-align: right;\">\n",
       "      <th></th>\n",
       "      <th>asin</th>\n",
       "      <th>helpful</th>\n",
       "      <th>overall</th>\n",
       "      <th>reviewText</th>\n",
       "      <th>reviewTime</th>\n",
       "      <th>reviewerID</th>\n",
       "      <th>reviewerName</th>\n",
       "      <th>summary</th>\n",
       "      <th>unixReviewTime</th>\n",
       "      <th>brand</th>\n",
       "      <th>...</th>\n",
       "      <th>reviewMonth</th>\n",
       "      <th>reviewYear</th>\n",
       "      <th>compound_score</th>\n",
       "      <th>positive_score</th>\n",
       "      <th>negative_score</th>\n",
       "      <th>neutral_score</th>\n",
       "      <th>categories_flat</th>\n",
       "      <th>main_category</th>\n",
       "      <th>tokenized_text</th>\n",
       "      <th>word_count</th>\n",
       "    </tr>\n",
       "  </thead>\n",
       "  <tbody>\n",
       "    <tr>\n",
       "      <th>0</th>\n",
       "      <td>B00E7OIOVC</td>\n",
       "      <td>[0, 0]</td>\n",
       "      <td>5.0</td>\n",
       "      <td>Great!</td>\n",
       "      <td>2014-07-03</td>\n",
       "      <td>A0001528BGUBOEVR6T5U</td>\n",
       "      <td>igozingo</td>\n",
       "      <td>Five Stars</td>\n",
       "      <td>1404345600</td>\n",
       "      <td>niceEshop</td>\n",
       "      <td>...</td>\n",
       "      <td>7</td>\n",
       "      <td>2014</td>\n",
       "      <td>0.6588</td>\n",
       "      <td>1.000</td>\n",
       "      <td>0.000</td>\n",
       "      <td>0.000</td>\n",
       "      <td>[Home &amp; Kitchen, Kitchen &amp; Dining, Kitchen Ute...</td>\n",
       "      <td>Home &amp; Kitchen</td>\n",
       "      <td>[Great]</td>\n",
       "      <td>1</td>\n",
       "    </tr>\n",
       "    <tr>\n",
       "      <th>1</th>\n",
       "      <td>B00EXOZ9W8</td>\n",
       "      <td>[0, 0]</td>\n",
       "      <td>5.0</td>\n",
       "      <td>My man was more then happy with it, looking fo...</td>\n",
       "      <td>2014-07-02</td>\n",
       "      <td>A00030342K9JCQO8Q7C3L</td>\n",
       "      <td>Joseph Dvorak</td>\n",
       "      <td>Five Stars</td>\n",
       "      <td>1404259200</td>\n",
       "      <td>NaN</td>\n",
       "      <td>...</td>\n",
       "      <td>7</td>\n",
       "      <td>2014</td>\n",
       "      <td>0.7893</td>\n",
       "      <td>0.349</td>\n",
       "      <td>0.000</td>\n",
       "      <td>0.651</td>\n",
       "      <td>[Home &amp; Kitchen, Kitchen &amp; Dining, Small Appli...</td>\n",
       "      <td>Home &amp; Kitchen</td>\n",
       "      <td>[My, man, was, more, then, happy, with, it, lo...</td>\n",
       "      <td>14</td>\n",
       "    </tr>\n",
       "    <tr>\n",
       "      <th>2</th>\n",
       "      <td>1477473939</td>\n",
       "      <td>[0, 0]</td>\n",
       "      <td>4.0</td>\n",
       "      <td>Reading this seriers was a amazing. It was ver...</td>\n",
       "      <td>2013-01-26</td>\n",
       "      <td>A000443821AD43TOGKNGZ</td>\n",
       "      <td>Uluwehi</td>\n",
       "      <td>Really enjoyed it!</td>\n",
       "      <td>1359158400</td>\n",
       "      <td>NaN</td>\n",
       "      <td>...</td>\n",
       "      <td>1</td>\n",
       "      <td>2013</td>\n",
       "      <td>0.9199</td>\n",
       "      <td>0.353</td>\n",
       "      <td>0.000</td>\n",
       "      <td>0.647</td>\n",
       "      <td>[Books]</td>\n",
       "      <td>Books</td>\n",
       "      <td>[Reading, this, seriers, was, a, amazing, It, ...</td>\n",
       "      <td>31</td>\n",
       "    </tr>\n",
       "    <tr>\n",
       "      <th>3</th>\n",
       "      <td>1477473939</td>\n",
       "      <td>[0, 0]</td>\n",
       "      <td>4.0</td>\n",
       "      <td>I haven't read any of this series before, but ...</td>\n",
       "      <td>2013-04-09</td>\n",
       "      <td>A1BAWRQQMC7L72</td>\n",
       "      <td>Roswellfan410</td>\n",
       "      <td>Really liked it</td>\n",
       "      <td>1365465600</td>\n",
       "      <td>NaN</td>\n",
       "      <td>...</td>\n",
       "      <td>4</td>\n",
       "      <td>2013</td>\n",
       "      <td>0.9548</td>\n",
       "      <td>0.411</td>\n",
       "      <td>0.000</td>\n",
       "      <td>0.589</td>\n",
       "      <td>[Books]</td>\n",
       "      <td>Books</td>\n",
       "      <td>[I, haven, t, read, any, of, this, series, bef...</td>\n",
       "      <td>35</td>\n",
       "    </tr>\n",
       "    <tr>\n",
       "      <th>4</th>\n",
       "      <td>B0092QSQ3Q</td>\n",
       "      <td>[0, 0]</td>\n",
       "      <td>5.0</td>\n",
       "      <td>It is really good! But it was hard to push out...</td>\n",
       "      <td>2012-11-03</td>\n",
       "      <td>A00044782UB564I4SGA0X</td>\n",
       "      <td>Johan98</td>\n",
       "      <td>Really good!</td>\n",
       "      <td>1351900800</td>\n",
       "      <td>NaN</td>\n",
       "      <td>...</td>\n",
       "      <td>11</td>\n",
       "      <td>2012</td>\n",
       "      <td>0.6534</td>\n",
       "      <td>0.228</td>\n",
       "      <td>0.056</td>\n",
       "      <td>0.716</td>\n",
       "      <td>[Cell Phones &amp; Accessories, Accessories, Scree...</td>\n",
       "      <td>Electronics</td>\n",
       "      <td>[It, is, really, good, But, it, was, hard, to,...</td>\n",
       "      <td>22</td>\n",
       "    </tr>\n",
       "  </tbody>\n",
       "</table>\n",
       "<p>5 rows × 27 columns</p>\n",
       "</div>"
      ],
      "text/plain": [
       "         asin helpful  overall  \\\n",
       "0  B00E7OIOVC  [0, 0]      5.0   \n",
       "1  B00EXOZ9W8  [0, 0]      5.0   \n",
       "2  1477473939  [0, 0]      4.0   \n",
       "3  1477473939  [0, 0]      4.0   \n",
       "4  B0092QSQ3Q  [0, 0]      5.0   \n",
       "\n",
       "                                          reviewText reviewTime  \\\n",
       "0                                             Great! 2014-07-03   \n",
       "1  My man was more then happy with it, looking fo... 2014-07-02   \n",
       "2  Reading this seriers was a amazing. It was ver... 2013-01-26   \n",
       "3  I haven't read any of this series before, but ... 2013-04-09   \n",
       "4  It is really good! But it was hard to push out... 2012-11-03   \n",
       "\n",
       "              reviewerID   reviewerName             summary  unixReviewTime  \\\n",
       "0   A0001528BGUBOEVR6T5U       igozingo          Five Stars      1404345600   \n",
       "1  A00030342K9JCQO8Q7C3L  Joseph Dvorak          Five Stars      1404259200   \n",
       "2  A000443821AD43TOGKNGZ        Uluwehi  Really enjoyed it!      1359158400   \n",
       "3         A1BAWRQQMC7L72  Roswellfan410     Really liked it      1365465600   \n",
       "4  A00044782UB564I4SGA0X        Johan98        Really good!      1351900800   \n",
       "\n",
       "       brand     ...     reviewMonth reviewYear compound_score  \\\n",
       "0  niceEshop     ...               7       2014         0.6588   \n",
       "1        NaN     ...               7       2014         0.7893   \n",
       "2        NaN     ...               1       2013         0.9199   \n",
       "3        NaN     ...               4       2013         0.9548   \n",
       "4        NaN     ...              11       2012         0.6534   \n",
       "\n",
       "   positive_score negative_score neutral_score  \\\n",
       "0           1.000          0.000         0.000   \n",
       "1           0.349          0.000         0.651   \n",
       "2           0.353          0.000         0.647   \n",
       "3           0.411          0.000         0.589   \n",
       "4           0.228          0.056         0.716   \n",
       "\n",
       "                                     categories_flat   main_category  \\\n",
       "0  [Home & Kitchen, Kitchen & Dining, Kitchen Ute...  Home & Kitchen   \n",
       "1  [Home & Kitchen, Kitchen & Dining, Small Appli...  Home & Kitchen   \n",
       "2                                            [Books]           Books   \n",
       "3                                            [Books]           Books   \n",
       "4  [Cell Phones & Accessories, Accessories, Scree...     Electronics   \n",
       "\n",
       "                                      tokenized_text  word_count  \n",
       "0                                            [Great]           1  \n",
       "1  [My, man, was, more, then, happy, with, it, lo...          14  \n",
       "2  [Reading, this, seriers, was, a, amazing, It, ...          31  \n",
       "3  [I, haven, t, read, any, of, this, series, bef...          35  \n",
       "4  [It, is, really, good, But, it, was, hard, to,...          22  \n",
       "\n",
       "[5 rows x 27 columns]"
      ]
     },
     "execution_count": 70,
     "metadata": {},
     "output_type": "execute_result"
    }
   ],
   "source": [
    "joined.head()"
   ]
  },
  {
   "cell_type": "code",
   "execution_count": null,
   "metadata": {
    "collapsed": true
   },
   "outputs": [],
   "source": []
  }
 ],
 "metadata": {
  "kernelspec": {
   "display_name": "Python [ada]",
   "language": "python",
   "name": "Python [ada]"
  },
  "language_info": {
   "codemirror_mode": {
    "name": "ipython",
    "version": 3
   },
   "file_extension": ".py",
   "mimetype": "text/x-python",
   "name": "python",
   "nbconvert_exporter": "python",
   "pygments_lexer": "ipython3",
   "version": "3.6.2"
  }
 },
 "nbformat": 4,
 "nbformat_minor": 2
}
