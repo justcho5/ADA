{
 "cells": [
  {
   "cell_type": "code",
   "execution_count": 168,
   "metadata": {
    "collapsed": true
   },
   "outputs": [],
   "source": [
    "# Import all the libraries\n",
    "import pandas as pd\n",
    "import numpy as np\n",
    "pd.options.mode.chained_assignment = None  # default='warn', Mutes warnings when copying a slice from a DataFrame.\n",
    "pd.set_option('display.max_columns', None)\n",
    "import glob\n",
    "import datetime\n",
    "import os\n",
    "import json\n",
    "from io import StringIO\n",
    "import matplotlib.pyplot as plt\n",
    "%matplotlib inline"
   ]
  },
  {
   "cell_type": "markdown",
   "metadata": {},
   "source": [
    "For this exploratory analysis we used the cluster to randomly sample the data and retrieve the metadata for the items that appear in our review sample."
   ]
  },
  {
   "cell_type": "code",
   "execution_count": 169,
   "metadata": {
    "collapsed": true
   },
   "outputs": [],
   "source": [
    "# Paths to the data and metadata folders.\n",
    "DATA_FOLDER = 'data/'\n",
    "META_FOLDER = DATA_FOLDER + 'meta/'"
   ]
  },
  {
   "cell_type": "code",
   "execution_count": 137,
   "metadata": {
    "collapsed": true
   },
   "outputs": [],
   "source": [
    "# Load one data file\n",
    "def load_one_file(path):\n",
    "    with open(path) as f:\n",
    "        return [json.loads(line) for line in f]\n",
    "\n",
    "# Load one metadata file. The rows aren't proper JSON\n",
    "# but they can be parsed using python's eval function\n",
    "# as per the dataset's web page.\n",
    "def load_one_meta_file(path):\n",
    "    with open(path) as f:\n",
    "        return [eval(line) for line in f]\n",
    "\n",
    "# The sample we extracted is still too large, so we'll only use the first 100 files\n",
    "data_files = glob.glob(DATA_FOLDER + 'part-000*')\n",
    "data = sum(map(load_one_file, data_files), [])\n",
    "\n",
    "# The meta folder contains metadata for all the items we were interested in.\n",
    "meta_files = glob.glob(META_FOLDER + '*')\n",
    "meta = sum(map(load_one_meta_file, meta_files), [])\n",
    "\n",
    "# Create the two dataframes\n",
    "df = pd.DataFrame(data)\n",
    "meta_df = pd.DataFrame(meta)"
   ]
  },
  {
   "cell_type": "code",
   "execution_count": 170,
   "metadata": {
    "collapsed": true
   },
   "outputs": [],
   "source": [
    "# Join the dataframes. Since our analysis relies on the metadata for a good part\n",
    "# we have to remove any reviews for which metadata is not available.\n",
    "joined = pd.merge(df, meta_df, how='inner')\n",
    "\n",
    "# Parse the review time as a DateTime and add a review month column\n",
    "joined['reviewTime'] = pd.to_datetime(joined.unixReviewTime, unit='s')\n",
    "joined['reviewMonth'] = joined.reviewTime.map(lambda t: t.month)"
   ]
  },
  {
   "cell_type": "code",
   "execution_count": 139,
   "metadata": {},
   "outputs": [
    {
     "data": {
      "text/html": [
       "<div>\n",
       "<style>\n",
       "    .dataframe thead tr:only-child th {\n",
       "        text-align: right;\n",
       "    }\n",
       "\n",
       "    .dataframe thead th {\n",
       "        text-align: left;\n",
       "    }\n",
       "\n",
       "    .dataframe tbody tr th {\n",
       "        vertical-align: top;\n",
       "    }\n",
       "</style>\n",
       "<table border=\"1\" class=\"dataframe\">\n",
       "  <thead>\n",
       "    <tr style=\"text-align: right;\">\n",
       "      <th></th>\n",
       "      <th>asin</th>\n",
       "      <th>helpful</th>\n",
       "      <th>overall</th>\n",
       "      <th>reviewText</th>\n",
       "      <th>reviewTime</th>\n",
       "      <th>reviewerID</th>\n",
       "      <th>reviewerName</th>\n",
       "      <th>summary</th>\n",
       "      <th>unixReviewTime</th>\n",
       "      <th>brand</th>\n",
       "      <th>categories</th>\n",
       "      <th>description</th>\n",
       "      <th>imUrl</th>\n",
       "      <th>price</th>\n",
       "      <th>related</th>\n",
       "      <th>salesRank</th>\n",
       "      <th>title</th>\n",
       "      <th>reviewMonth</th>\n",
       "    </tr>\n",
       "  </thead>\n",
       "  <tbody>\n",
       "    <tr>\n",
       "      <th>0</th>\n",
       "      <td>B005FYPK9C</td>\n",
       "      <td>[0, 0]</td>\n",
       "      <td>5.0</td>\n",
       "      <td>I was sketchy at first about these but once yo...</td>\n",
       "      <td>2013-01-08</td>\n",
       "      <td>A000008615DZQRRI946FO</td>\n",
       "      <td>mj waldon</td>\n",
       "      <td>great buy</td>\n",
       "      <td>1357603200</td>\n",
       "      <td>NaN</td>\n",
       "      <td>[[Clothing, Shoes &amp; Jewelry, Shoes &amp; Accessori...</td>\n",
       "      <td>NaN</td>\n",
       "      <td>http://ecx.images-amazon.com/images/I/415OJXEA...</td>\n",
       "      <td>NaN</td>\n",
       "      <td>{'also_bought': ['B004KNWSBM', 'B00CIM6I8G', '...</td>\n",
       "      <td>{'Shoes': 53868}</td>\n",
       "      <td>Osiris Men's Cinux Skate Shoe</td>\n",
       "      <td>1</td>\n",
       "    </tr>\n",
       "    <tr>\n",
       "      <th>1</th>\n",
       "      <td>0871714779</td>\n",
       "      <td>[0, 0]</td>\n",
       "      <td>1.0</td>\n",
       "      <td>Because I have not gotten the book yet, I may ...</td>\n",
       "      <td>2013-05-22</td>\n",
       "      <td>A000096625CHSNKYTYGZN</td>\n",
       "      <td>Melody L Fearn</td>\n",
       "      <td>I Have Not Got It Yet.</td>\n",
       "      <td>1369180800</td>\n",
       "      <td>NaN</td>\n",
       "      <td>[[Books]]</td>\n",
       "      <td>NaN</td>\n",
       "      <td>http://ecx.images-amazon.com/images/I/61fWm4Vm...</td>\n",
       "      <td>NaN</td>\n",
       "      <td>{'buy_after_viewing': ['0871711605']}</td>\n",
       "      <td>{'Books': 3814395}</td>\n",
       "      <td>Welding Inspection Technology; workbook AWS WIT-W</td>\n",
       "      <td>5</td>\n",
       "    </tr>\n",
       "    <tr>\n",
       "      <th>2</th>\n",
       "      <td>B00E7OIOVC</td>\n",
       "      <td>[0, 0]</td>\n",
       "      <td>5.0</td>\n",
       "      <td>Great!</td>\n",
       "      <td>2014-07-03</td>\n",
       "      <td>A0001528BGUBOEVR6T5U</td>\n",
       "      <td>igozingo</td>\n",
       "      <td>Five Stars</td>\n",
       "      <td>1404345600</td>\n",
       "      <td>niceEshop</td>\n",
       "      <td>[[Home &amp; Kitchen, Kitchen &amp; Dining, Kitchen Ut...</td>\n",
       "      <td>Style flask funnel great to help you fill your...</td>\n",
       "      <td>http://ecx.images-amazon.com/images/I/31gMKQdA...</td>\n",
       "      <td>1.99</td>\n",
       "      <td>{'also_bought': ['B004TQIB7U', 'B006O1EBHW', '...</td>\n",
       "      <td>{'Kitchen &amp; Dining': 63021}</td>\n",
       "      <td>niceEshop(TM) Small Stainless Steel Funnel For...</td>\n",
       "      <td>7</td>\n",
       "    </tr>\n",
       "    <tr>\n",
       "      <th>3</th>\n",
       "      <td>B00EXOZ9W8</td>\n",
       "      <td>[0, 0]</td>\n",
       "      <td>5.0</td>\n",
       "      <td>My man was more then happy with it, looking fo...</td>\n",
       "      <td>2014-07-02</td>\n",
       "      <td>A00030342K9JCQO8Q7C3L</td>\n",
       "      <td>Joseph Dvorak</td>\n",
       "      <td>Five Stars</td>\n",
       "      <td>1404259200</td>\n",
       "      <td>NaN</td>\n",
       "      <td>[[Home &amp; Kitchen, Kitchen &amp; Dining, Small Appl...</td>\n",
       "      <td></td>\n",
       "      <td>http://ecx.images-amazon.com/images/I/41Oc0HaP...</td>\n",
       "      <td>65.81</td>\n",
       "      <td>{'also_bought': ['B000FAJ0K6', 'B0012UY6XO', '...</td>\n",
       "      <td>{'Kitchen &amp; Dining': 56153}</td>\n",
       "      <td>BELLA 14025 Programmable Slow Cooker with Lock...</td>\n",
       "      <td>7</td>\n",
       "    </tr>\n",
       "    <tr>\n",
       "      <th>4</th>\n",
       "      <td>1477473939</td>\n",
       "      <td>[0, 0]</td>\n",
       "      <td>4.0</td>\n",
       "      <td>Reading this seriers was a amazing. It was ver...</td>\n",
       "      <td>2013-01-26</td>\n",
       "      <td>A000443821AD43TOGKNGZ</td>\n",
       "      <td>Uluwehi</td>\n",
       "      <td>Really enjoyed it!</td>\n",
       "      <td>1359158400</td>\n",
       "      <td>NaN</td>\n",
       "      <td>[[Books]]</td>\n",
       "      <td>USA Today Best Selling Author Elizabeth  Reyes...</td>\n",
       "      <td>http://ecx.images-amazon.com/images/I/51bhuPCO...</td>\n",
       "      <td>4.99</td>\n",
       "      <td>{'also_bought': ['147522186X', '1475244207', '...</td>\n",
       "      <td>{'Books': 1011147}</td>\n",
       "      <td>Making You Mine: The Moreno Brothers</td>\n",
       "      <td>1</td>\n",
       "    </tr>\n",
       "  </tbody>\n",
       "</table>\n",
       "</div>"
      ],
      "text/plain": [
       "         asin helpful  overall  \\\n",
       "0  B005FYPK9C  [0, 0]      5.0   \n",
       "1  0871714779  [0, 0]      1.0   \n",
       "2  B00E7OIOVC  [0, 0]      5.0   \n",
       "3  B00EXOZ9W8  [0, 0]      5.0   \n",
       "4  1477473939  [0, 0]      4.0   \n",
       "\n",
       "                                          reviewText reviewTime  \\\n",
       "0  I was sketchy at first about these but once yo... 2013-01-08   \n",
       "1  Because I have not gotten the book yet, I may ... 2013-05-22   \n",
       "2                                             Great! 2014-07-03   \n",
       "3  My man was more then happy with it, looking fo... 2014-07-02   \n",
       "4  Reading this seriers was a amazing. It was ver... 2013-01-26   \n",
       "\n",
       "              reviewerID    reviewerName                 summary  \\\n",
       "0  A000008615DZQRRI946FO       mj waldon               great buy   \n",
       "1  A000096625CHSNKYTYGZN  Melody L Fearn  I Have Not Got It Yet.   \n",
       "2   A0001528BGUBOEVR6T5U        igozingo              Five Stars   \n",
       "3  A00030342K9JCQO8Q7C3L   Joseph Dvorak              Five Stars   \n",
       "4  A000443821AD43TOGKNGZ         Uluwehi      Really enjoyed it!   \n",
       "\n",
       "   unixReviewTime      brand  \\\n",
       "0      1357603200        NaN   \n",
       "1      1369180800        NaN   \n",
       "2      1404345600  niceEshop   \n",
       "3      1404259200        NaN   \n",
       "4      1359158400        NaN   \n",
       "\n",
       "                                          categories  \\\n",
       "0  [[Clothing, Shoes & Jewelry, Shoes & Accessori...   \n",
       "1                                          [[Books]]   \n",
       "2  [[Home & Kitchen, Kitchen & Dining, Kitchen Ut...   \n",
       "3  [[Home & Kitchen, Kitchen & Dining, Small Appl...   \n",
       "4                                          [[Books]]   \n",
       "\n",
       "                                         description  \\\n",
       "0                                                NaN   \n",
       "1                                                NaN   \n",
       "2  Style flask funnel great to help you fill your...   \n",
       "3                                                      \n",
       "4  USA Today Best Selling Author Elizabeth  Reyes...   \n",
       "\n",
       "                                               imUrl  price  \\\n",
       "0  http://ecx.images-amazon.com/images/I/415OJXEA...    NaN   \n",
       "1  http://ecx.images-amazon.com/images/I/61fWm4Vm...    NaN   \n",
       "2  http://ecx.images-amazon.com/images/I/31gMKQdA...   1.99   \n",
       "3  http://ecx.images-amazon.com/images/I/41Oc0HaP...  65.81   \n",
       "4  http://ecx.images-amazon.com/images/I/51bhuPCO...   4.99   \n",
       "\n",
       "                                             related  \\\n",
       "0  {'also_bought': ['B004KNWSBM', 'B00CIM6I8G', '...   \n",
       "1              {'buy_after_viewing': ['0871711605']}   \n",
       "2  {'also_bought': ['B004TQIB7U', 'B006O1EBHW', '...   \n",
       "3  {'also_bought': ['B000FAJ0K6', 'B0012UY6XO', '...   \n",
       "4  {'also_bought': ['147522186X', '1475244207', '...   \n",
       "\n",
       "                     salesRank  \\\n",
       "0             {'Shoes': 53868}   \n",
       "1           {'Books': 3814395}   \n",
       "2  {'Kitchen & Dining': 63021}   \n",
       "3  {'Kitchen & Dining': 56153}   \n",
       "4           {'Books': 1011147}   \n",
       "\n",
       "                                               title  reviewMonth  \n",
       "0                      Osiris Men's Cinux Skate Shoe            1  \n",
       "1  Welding Inspection Technology; workbook AWS WIT-W            5  \n",
       "2  niceEshop(TM) Small Stainless Steel Funnel For...            7  \n",
       "3  BELLA 14025 Programmable Slow Cooker with Lock...            7  \n",
       "4               Making You Mine: The Moreno Brothers            1  "
      ]
     },
     "execution_count": 139,
     "metadata": {},
     "output_type": "execute_result"
    }
   ],
   "source": [
    "joined.head()"
   ]
  },
  {
   "cell_type": "code",
   "execution_count": 171,
   "metadata": {
    "collapsed": true
   },
   "outputs": [],
   "source": [
    "# Similarly we don't want any reviews for which the price is either NaN or 0\n",
    "# or for which the category is NaN\n",
    "joined = joined.dropna(axis=0, subset=['categories', 'price'])\n",
    "joined = joined[joined.price != 0]"
   ]
  },
  {
   "cell_type": "code",
   "execution_count": 175,
   "metadata": {},
   "outputs": [
    {
     "name": "stdout",
     "output_type": "stream",
     "text": [
      "Remaining reviews: 126535\n"
     ]
    }
   ],
   "source": [
    "# See how many reviews are left\n",
    "print('Remaining reviews: {}'.format(joined.shape[0]))"
   ]
  },
  {
   "cell_type": "markdown",
   "metadata": {},
   "source": [
    "We can now start to have a look at the distribution of the various features."
   ]
  },
  {
   "cell_type": "code",
   "execution_count": 176,
   "metadata": {},
   "outputs": [
    {
     "data": {
      "text/plain": [
       "<matplotlib.axes._subplots.AxesSubplot at 0x26153fb3400>"
      ]
     },
     "execution_count": 176,
     "metadata": {},
     "output_type": "execute_result"
    },
    {
     "data": {
      "image/png": "[encoded data removed]",
      "text/plain": [
       "<matplotlib.figure.Figure at 0x26153fa6a58>"
      ]
     },
     "metadata": {},
     "output_type": "display_data"
    }
   ],
   "source": [
    "# Review score\n",
    "joined.overall.value_counts().plot(kind='pie', title='Distribution of review scores')"
   ]
  },
  {
   "cell_type": "markdown",
   "metadata": {},
   "source": [
    "We can see that more than half of the reviews gave five stars to the product. The low proportion of 1 and 2 star reviews suggests that customers are very likely to be satisfied with the product they purchased.\n",
    "\n",
    "Let's now consider the number of reviews by month of the year."
   ]
  },
  {
   "cell_type": "code",
   "execution_count": 178,
   "metadata": {},
   "outputs": [
    {
     "data": {
      "text/plain": [
       "<matplotlib.axes._subplots.AxesSubplot at 0x26154012e10>"
      ]
     },
     "execution_count": 178,
     "metadata": {},
     "output_type": "execute_result"
    },
    {
     "data": {
      "image/png": "[encoded data removed]",
      "text/plain": [
       "<matplotlib.figure.Figure at 0x26154061048>"
      ]
     },
     "metadata": {},
     "output_type": "display_data"
    }
   ],
   "source": [
    "joined.reviewMonth.value_counts().plot(kind='bar', title='Review distribution by month')"
   ]
  },
  {
   "cell_type": "markdown",
   "metadata": {},
   "source": [
    "The number of reviews seems to be highest during winter and spring and lower during autumn, with January being the month with the highest number of reviews. We were surprised not to see December in the first place considering that winter holidays are traditionally a period of sales.\n",
    "\n",
    "We can now start looking at the prices of the items. We can define some price bins that will allow us to group the items in price tiers."
   ]
  },
  {
   "cell_type": "code",
   "execution_count": 148,
   "metadata": {
    "collapsed": true
   },
   "outputs": [],
   "source": [
    "# Arbitrarily chosen\n",
    "price_bins = [\n",
    "    0,\n",
    "    10,\n",
    "    20,\n",
    "    30,\n",
    "    40,\n",
    "    50,\n",
    "    60,\n",
    "    70,\n",
    "    80,\n",
    "    90,\n",
    "    100,\n",
    "    200,\n",
    "    500,\n",
    "    1000\n",
    "]"
   ]
  },
  {
   "cell_type": "code",
   "execution_count": 180,
   "metadata": {
    "collapsed": true
   },
   "outputs": [],
   "source": [
    "# Group the items by price tier\n",
    "group_by_price_tier = joined.groupby(pd.cut(joined.price, price_bins))"
   ]
  },
  {
   "cell_type": "markdown",
   "metadata": {},
   "source": [
    "First of all we can plot the distribution of the prices of reviewed items."
   ]
  },
  {
   "cell_type": "code",
   "execution_count": 181,
   "metadata": {},
   "outputs": [
    {
     "data": {
      "text/plain": [
       "Text(0.5,1,'Review distribution by price')"
      ]
     },
     "execution_count": 181,
     "metadata": {},
     "output_type": "execute_result"
    },
    {
     "data": {
      "image/png": "[encoded data removed]",
      "text/plain": [
       "<matplotlib.figure.Figure at 0x26154072048>"
      ]
     },
     "metadata": {},
     "output_type": "display_data"
    }
   ],
   "source": [
    "ax = plt.subplot()\n",
    "joined.price.hist(bins=50, ax=ax)\n",
    "ax.set_title('Review distribution by price')"
   ]
  },
  {
   "cell_type": "markdown",
   "metadata": {},
   "source": [
    "The distribution seems to be heavy tailed, with very cheap items making up the majority of the reviews. We can verify if this distribution follows a power law by plotting it on a log-log scale."
   ]
  },
  {
   "cell_type": "code",
   "execution_count": 182,
   "metadata": {},
   "outputs": [
    {
     "data": {
      "text/plain": [
       "Text(0.5,1,'Review distribution by price')"
      ]
     },
     "execution_count": 182,
     "metadata": {},
     "output_type": "execute_result"
    },
    {
     "data": {
      "image/png": "[encoded data removed]",
      "text/plain": [
       "<matplotlib.figure.Figure at 0x261541673c8>"
      ]
     },
     "metadata": {},
     "output_type": "display_data"
    }
   ],
   "source": [
    "# We need to make logarithmic bins ourselves.\n",
    "log_bins = np.logspace(np.log10(min(joined.price)), np.log10(max(joined.price)), 50)\n",
    "ax = plt.subplot()\n",
    "ax.set_title('Price')\n",
    "joined.price.hist(ax=ax, log=True, bins=log_bins)\n",
    "ax.set_xscale('log')\n",
    "ax.set_title('Review distribution by price')"
   ]
  },
  {
   "cell_type": "markdown",
   "metadata": {},
   "source": [
    "The distribution doesn't follow a linear relationship on a log-log plot so the distribution is not a power law.\n",
    "\n",
    "Now let's see the distribution according to the price tiers we defined above."
   ]
  },
  {
   "cell_type": "code",
   "execution_count": 183,
   "metadata": {},
   "outputs": [
    {
     "data": {
      "text/plain": [
       "<matplotlib.axes._subplots.AxesSubplot at 0x2615431c668>"
      ]
     },
     "execution_count": 183,
     "metadata": {},
     "output_type": "execute_result"
    },
    {
     "data": {
      "image/png": "[encoded data removed]",
      "text/plain": [
       "<matplotlib.figure.Figure at 0x2615432c940>"
      ]
     },
     "metadata": {},
     "output_type": "display_data"
    }
   ],
   "source": [
    "group_by_price_tier.asin.count().plot(kind='bar', title='Review distribution by price bracket')"
   ]
  },
  {
   "cell_type": "markdown",
   "metadata": {},
   "source": [
    "One of the hypotheses we want to verify is whether the price of an item correlates with its review score, more specifically whether items belonging to a higher price tier are more likely to get better reviews. We can verify that by computing the mean review score for each price tier and displaying that on a bar plot."
   ]
  },
  {
   "cell_type": "code",
   "execution_count": 157,
   "metadata": {},
   "outputs": [
    {
     "data": {
      "text/plain": [
       "<matplotlib.axes._subplots.AxesSubplot at 0x261538ef400>"
      ]
     },
     "execution_count": 157,
     "metadata": {},
     "output_type": "execute_result"
    },
    {
     "data": {
      "image/png": "[encoded data removed]",
      "text/plain": [
       "<matplotlib.figure.Figure at 0x26153d91358>"
      ]
     },
     "metadata": {},
     "output_type": "display_data"
    }
   ],
   "source": [
    "group_by_price_tier[['overall']].mean().plot(kind='bar', title='Average review score by price bracket')"
   ]
  },
  {
   "cell_type": "markdown",
   "metadata": {},
   "source": [
    "There seems to be no correlation between an item's price tier and its mean review score.\n",
    "\n",
    "We can also verify whether the month during which a review was written correlates with its score. The presence of such a correlation could indicate that buyers are more likely to give a better review in certain periods of the year than others."
   ]
  },
  {
   "cell_type": "code",
   "execution_count": 184,
   "metadata": {
    "collapsed": true
   },
   "outputs": [],
   "source": [
    "# Group data by the month in which the review was written.\n",
    "group_by_month = joined.groupby('reviewMonth')\n",
    "average_month = group_by_month.overall"
   ]
  },
  {
   "cell_type": "code",
   "execution_count": 185,
   "metadata": {},
   "outputs": [
    {
     "data": {
      "text/plain": [
       "<matplotlib.axes._subplots.AxesSubplot at 0x261543e4518>"
      ]
     },
     "execution_count": 185,
     "metadata": {},
     "output_type": "execute_result"
    },
    {
     "data": {
      "image/png": "[encoded data removed]",
      "text/plain": [
       "<matplotlib.figure.Figure at 0x26153efa128>"
      ]
     },
     "metadata": {},
     "output_type": "display_data"
    }
   ],
   "source": [
    "# Plot it\n",
    "average_month.mean().plot(kind='bar', title='Average review score by month')"
   ]
  },
  {
   "cell_type": "markdown",
   "metadata": {},
   "source": [
    "Again, we can see that the correlation we hypothesized does not exist in the data. The review scores seem to be independent of the month in which they were written.\n",
    "\n",
    "We can now begin to group the items according to their category. Each item has a `categories` field which, when not absent, is an array of arrays of strings. Each item can belong to an arbitrary number of categories some of which are subcategories of a larger category. We will first flatten these arrays of arrays in order to make subsequent processing easier."
   ]
  },
  {
   "cell_type": "code",
   "execution_count": 334,
   "metadata": {},
   "outputs": [],
   "source": [
    "joined['categories_flat'] = joined.categories.apply(lambda a: [i for sa in a for i in sa])\n",
    "joined = joined[[(c and bool(c[0])) for c in joined.categories_flat]]"
   ]
  },
  {
   "cell_type": "markdown",
   "metadata": {},
   "source": [
    "In order to be able to plot aggregate values for each category we need to pick a list of categories that we will use as the main category of the product. One possible choice is the one that was used by the maintainer of the dataset to generate category-specific review files. Of course like in all real-world datasets the data is dirty and so not all products fit in at least one of these categories. Therefore we need to augment this list so that we cover as many items as possible and merge the ones we added into the original ones (for example `All beauty` should be merged with `Beauty`) later on."
   ]
  },
  {
   "cell_type": "code",
   "execution_count": 368,
   "metadata": {},
   "outputs": [],
   "source": [
    "# Taken from the dataset's page\n",
    "main_categories = {\n",
    "    'Books': 'Books',\n",
    "    'Electronics': 'Electronics',\n",
    "    'Movies & TV': 'Movies & TV',\n",
    "    'CDs & Vinyl': 'Music',\n",
    "    'Clothing, Shoes & Jewelry': 'Clothing, Shoes & Jewelry',\n",
    "    'Home & Kitchen': 'Home & Kitchen',\n",
    "    'Kindle Store': 'Kindle Store',\n",
    "    'Sports & Outdoors': 'Sports & Outdoors',\n",
    "    'Cell Phones & Accessories': 'Electronics',\n",
    "    'Health & Personal Care': 'Health & Personal Care',\n",
    "    'Toys & Games': 'Toys & Games',\n",
    "    'Video Games': 'Video Games',\n",
    "    'Tools & Home Improvement': 'Tools & Home Improvement',\n",
    "    'Beauty': 'Beauty',\n",
    "    'Apps for Android': 'Apps for Android',\n",
    "    'Office Products': 'Office Products',\n",
    "    'Pet Supplies': 'Pets',\n",
    "    'Automotive': 'Automotive',\n",
    "    'Grocery & Gourmet Food': 'Food',\n",
    "    'Patio, Lawn & Garden': 'Patio, Lawn & Garden',\n",
    "    'Baby': 'Baby',\n",
    "    'Digital Music': 'Music',\n",
    "    'Musical Instruments': 'Musical Instruments',\n",
    "    'Amazon Instant Video': 'Amazon Instant Video',\n",
    "    'Amazon Fashion': 'Clothing, Shoes & Jewelry',\n",
    "    'Amazon Coins': 'Amazon Coins',\n",
    "    'Software': 'Computing',\n",
    "    'Baby Products': 'Baby',\n",
    "    'Gift Cards': 'Gift Cards',\n",
    "    'Arts, Crafts & Sewing': 'Arts, Crafts & Sewing',\n",
    "    'Buy a Kindle': 'Kindle Store',\n",
    "    'Appliances': 'Home & Kitchen',\n",
    "    'MP3 Players & Accessories': 'Electronics',\n",
    "    'Kitchen & Dining': 'Home & Kitchen',\n",
    "    'All Beauty': 'Beauty',\n",
    "    'Luxury Beauty': 'Beauty',\n",
    "    'Computers': 'Computing',\n",
    "    'Camera & Photo': 'Electronics',\n",
    "    'Car Electronics': 'Automotive',\n",
    "    'Gospel': 'Music',\n",
    "    'Animal Care & Pets': 'Pets',\n",
    "    'Jazz': 'Music',\n",
    "    'GPS & Navigation': 'Electronics',\n",
    "    'Office & School Supplies': 'Office Products',\n",
    "    'Industrial & Scientific': 'Industrial & Scientific',\n",
    "    'All Electronics': 'Electronics',\n",
    "    'Home Improvement': 'Tools & Home Improvement',\n",
    "    'Classical': 'Music',\n",
    "    'Magazine Subscriptions': 'Magazine Subscriptions',\n",
    "    'Alternative Rock': 'Music',\n",
    "    'Gift Cards Store': 'Gift Cards',\n",
    "    'Rock': 'Music',\n",
    "    'Classic Rock': 'Music',\n",
    "    'Christian': 'Music',\n",
    "    'Pop': 'Music',\n",
    "    'Folk': 'Music',\n",
    "    'R&B': 'Music',\n",
    "    'Soul': 'Music',\n",
    "    'International': 'Music',\n",
    "    'Electronica': 'Music',\n",
    "    'Rap & Hip-Hop': 'Music',\n",
    "    'Country': 'Music',\n",
    "    'Comedy': 'Movies & TV', #??? \n",
    "    'New Age': 'Music',\n",
    "    'Davis': 'Music', #???\n",
    "    'Wine': 'Food',\n",
    "    'Trading Cards': 'Toys & Games'\n",
    "}"
   ]
  },
  {
   "cell_type": "code",
   "execution_count": 372,
   "metadata": {},
   "outputs": [],
   "source": [
    "# Function that returns an item's main category according\n",
    "# to the above list, or NaN if none of its categories appear in the list.\n",
    "def get_main_category(categories):\n",
    "    for c in categories:\n",
    "        if c in main_categories:\n",
    "            return main_categories[c]\n",
    "\n",
    "    return np.nan\n",
    "\n",
    "# Derive each product's main category\n",
    "joined['main_category'] = joined.categories_flat.apply(lambda a: get_main_category(a))\n",
    "joined = joined.dropna(axis=0, subset=['main_category'])"
   ]
  },
  {
   "cell_type": "markdown",
   "metadata": {},
   "source": [
    "Plot the distribution of items by main category."
   ]
  },
  {
   "cell_type": "code",
   "execution_count": 374,
   "metadata": {},
   "outputs": [
    {
     "data": {
      "text/plain": [
       "<matplotlib.axes._subplots.AxesSubplot at 0x26154bae630>"
      ]
     },
     "execution_count": 374,
     "metadata": {},
     "output_type": "execute_result"
    },
    {
     "data": {
      "image/png": "[encoded data removed]",
      "text/plain": [
       "<matplotlib.figure.Figure at 0x26154b4c7f0>"
      ]
     },
     "metadata": {},
     "output_type": "display_data"
    }
   ],
   "source": [
    "joined['main_category'].value_counts().plot(kind='bar')"
   ]
  },
  {
   "cell_type": "markdown",
   "metadata": {},
   "source": [
    "The most popular categories by a large margin seem to be books and electronics."
   ]
  },
  {
   "cell_type": "code",
   "execution_count": 373,
   "metadata": {},
   "outputs": [
    {
     "data": {
      "text/plain": [
       "<matplotlib.axes._subplots.AxesSubplot at 0x2615434e2e8>"
      ]
     },
     "execution_count": 373,
     "metadata": {},
     "output_type": "execute_result"
    },
    {
     "data": {
      "image/png": "[encoded data removed]",
      "text/plain": [
       "<matplotlib.figure.Figure at 0x2615425a668>"
      ]
     },
     "metadata": {},
     "output_type": "display_data"
    }
   ],
   "source": [
    "joined.groupby('main_category').overall.mean().plot(kind='bar')"
   ]
  },
  {
   "cell_type": "code",
   "execution_count": 5,
   "metadata": {},
   "outputs": [
    {
     "data": {
      "text/html": [
       "<div>\n",
       "<style>\n",
       "    .dataframe thead tr:only-child th {\n",
       "        text-align: right;\n",
       "    }\n",
       "\n",
       "    .dataframe thead th {\n",
       "        text-align: left;\n",
       "    }\n",
       "\n",
       "    .dataframe tbody tr th {\n",
       "        vertical-align: top;\n",
       "    }\n",
       "</style>\n",
       "<table border=\"1\" class=\"dataframe\">\n",
       "  <thead>\n",
       "    <tr style=\"text-align: right;\">\n",
       "      <th></th>\n",
       "      <th>rating</th>\n",
       "      <th>time</th>\n",
       "      <th>month</th>\n",
       "    </tr>\n",
       "    <tr>\n",
       "      <th>productID</th>\n",
       "      <th></th>\n",
       "      <th></th>\n",
       "      <th></th>\n",
       "    </tr>\n",
       "  </thead>\n",
       "  <tbody>\n",
       "    <tr>\n",
       "      <th>B005FYPK9C</th>\n",
       "      <td>5.0</td>\n",
       "      <td>2013-01-08</td>\n",
       "      <td>1</td>\n",
       "    </tr>\n",
       "    <tr>\n",
       "      <th>0871714779</th>\n",
       "      <td>1.0</td>\n",
       "      <td>2013-05-22</td>\n",
       "      <td>5</td>\n",
       "    </tr>\n",
       "    <tr>\n",
       "      <th>B00E7OIOVC</th>\n",
       "      <td>5.0</td>\n",
       "      <td>2014-07-03</td>\n",
       "      <td>7</td>\n",
       "    </tr>\n",
       "    <tr>\n",
       "      <th>B00EXOZ9W8</th>\n",
       "      <td>5.0</td>\n",
       "      <td>2014-07-02</td>\n",
       "      <td>7</td>\n",
       "    </tr>\n",
       "    <tr>\n",
       "      <th>B000G2OYOU</th>\n",
       "      <td>5.0</td>\n",
       "      <td>2012-11-20</td>\n",
       "      <td>11</td>\n",
       "    </tr>\n",
       "  </tbody>\n",
       "</table>\n",
       "</div>"
      ],
      "text/plain": [
       "            rating       time  month\n",
       "productID                           \n",
       "B005FYPK9C     5.0 2013-01-08      1\n",
       "0871714779     1.0 2013-05-22      5\n",
       "B00E7OIOVC     5.0 2014-07-03      7\n",
       "B00EXOZ9W8     5.0 2014-07-02      7\n",
       "B000G2OYOU     5.0 2012-11-20     11"
      ]
     },
     "execution_count": 5,
     "metadata": {},
     "output_type": "execute_result"
    }
   ],
   "source": [
    "# Create dataframe with needed information\n",
    "product_reviews = pd.DataFrame({'productID': df.asin,\n",
    "                                'rating': df.overall,\n",
    "                                'time': pd.to_datetime(df.reviewTime, format='%m %d, %Y')\n",
    "                                })\n",
    "product_reviews['month'] = product_reviews.time.map(lambda t: t.month)\n",
    "product_reviews.set_index('productID', drop=True, inplace=True)\n",
    "product_reviews.head()"
   ]
  },
  {
   "cell_type": "code",
   "execution_count": 8,
   "metadata": {},
   "outputs": [
    {
     "data": {
      "text/html": [
       "<div>\n",
       "<style>\n",
       "    .dataframe thead tr:only-child th {\n",
       "        text-align: right;\n",
       "    }\n",
       "\n",
       "    .dataframe thead th {\n",
       "        text-align: left;\n",
       "    }\n",
       "\n",
       "    .dataframe tbody tr th {\n",
       "        vertical-align: top;\n",
       "    }\n",
       "</style>\n",
       "<table border=\"1\" class=\"dataframe\">\n",
       "  <thead>\n",
       "    <tr style=\"text-align: right;\">\n",
       "      <th>month</th>\n",
       "      <th>1</th>\n",
       "      <th>2</th>\n",
       "      <th>3</th>\n",
       "      <th>4</th>\n",
       "      <th>5</th>\n",
       "      <th>6</th>\n",
       "      <th>7</th>\n",
       "      <th>8</th>\n",
       "      <th>9</th>\n",
       "      <th>10</th>\n",
       "      <th>11</th>\n",
       "      <th>12</th>\n",
       "    </tr>\n",
       "    <tr>\n",
       "      <th>productID</th>\n",
       "      <th></th>\n",
       "      <th></th>\n",
       "      <th></th>\n",
       "      <th></th>\n",
       "      <th></th>\n",
       "      <th></th>\n",
       "      <th></th>\n",
       "      <th></th>\n",
       "      <th></th>\n",
       "      <th></th>\n",
       "      <th></th>\n",
       "      <th></th>\n",
       "    </tr>\n",
       "  </thead>\n",
       "  <tbody>\n",
       "    <tr>\n",
       "      <th>006202406X</th>\n",
       "      <td>3.500000</td>\n",
       "      <td>3.000000</td>\n",
       "      <td>3.2</td>\n",
       "      <td>4.000000</td>\n",
       "      <td>0.0</td>\n",
       "      <td>3.333333</td>\n",
       "      <td>0.0</td>\n",
       "      <td>0.0</td>\n",
       "      <td>0.00</td>\n",
       "      <td>3.000000</td>\n",
       "      <td>3.750000</td>\n",
       "      <td>2.0</td>\n",
       "    </tr>\n",
       "    <tr>\n",
       "      <th>006228648X</th>\n",
       "      <td>3.000000</td>\n",
       "      <td>0.000000</td>\n",
       "      <td>1.0</td>\n",
       "      <td>2.333333</td>\n",
       "      <td>4.5</td>\n",
       "      <td>1.500000</td>\n",
       "      <td>0.0</td>\n",
       "      <td>0.0</td>\n",
       "      <td>0.00</td>\n",
       "      <td>2.500000</td>\n",
       "      <td>3.166667</td>\n",
       "      <td>3.0</td>\n",
       "    </tr>\n",
       "    <tr>\n",
       "      <th>030758836X</th>\n",
       "      <td>3.777778</td>\n",
       "      <td>4.000000</td>\n",
       "      <td>2.0</td>\n",
       "      <td>3.000000</td>\n",
       "      <td>3.0</td>\n",
       "      <td>3.666667</td>\n",
       "      <td>4.0</td>\n",
       "      <td>3.0</td>\n",
       "      <td>3.60</td>\n",
       "      <td>3.000000</td>\n",
       "      <td>3.800000</td>\n",
       "      <td>2.5</td>\n",
       "    </tr>\n",
       "    <tr>\n",
       "      <th>0307588378</th>\n",
       "      <td>4.666667</td>\n",
       "      <td>4.000000</td>\n",
       "      <td>5.0</td>\n",
       "      <td>0.000000</td>\n",
       "      <td>4.0</td>\n",
       "      <td>4.000000</td>\n",
       "      <td>1.0</td>\n",
       "      <td>5.0</td>\n",
       "      <td>4.25</td>\n",
       "      <td>2.666667</td>\n",
       "      <td>2.500000</td>\n",
       "      <td>3.0</td>\n",
       "    </tr>\n",
       "    <tr>\n",
       "      <th>038536315X</th>\n",
       "      <td>4.400000</td>\n",
       "      <td>4.666667</td>\n",
       "      <td>3.0</td>\n",
       "      <td>4.500000</td>\n",
       "      <td>5.0</td>\n",
       "      <td>0.000000</td>\n",
       "      <td>0.0</td>\n",
       "      <td>0.0</td>\n",
       "      <td>0.00</td>\n",
       "      <td>0.000000</td>\n",
       "      <td>3.500000</td>\n",
       "      <td>4.0</td>\n",
       "    </tr>\n",
       "  </tbody>\n",
       "</table>\n",
       "</div>"
      ],
      "text/plain": [
       "month             1         2    3         4    5         6    7    8     9   \\\n",
       "productID                                                                      \n",
       "006202406X  3.500000  3.000000  3.2  4.000000  0.0  3.333333  0.0  0.0  0.00   \n",
       "006228648X  3.000000  0.000000  1.0  2.333333  4.5  1.500000  0.0  0.0  0.00   \n",
       "030758836X  3.777778  4.000000  2.0  3.000000  3.0  3.666667  4.0  3.0  3.60   \n",
       "0307588378  4.666667  4.000000  5.0  0.000000  4.0  4.000000  1.0  5.0  4.25   \n",
       "038536315X  4.400000  4.666667  3.0  4.500000  5.0  0.000000  0.0  0.0  0.00   \n",
       "\n",
       "month             10        11   12  \n",
       "productID                            \n",
       "006202406X  3.000000  3.750000  2.0  \n",
       "006228648X  2.500000  3.166667  3.0  \n",
       "030758836X  3.000000  3.800000  2.5  \n",
       "0307588378  2.666667  2.500000  3.0  \n",
       "038536315X  0.000000  3.500000  4.0  "
      ]
     },
     "execution_count": 8,
     "metadata": {},
     "output_type": "execute_result"
    }
   ],
   "source": [
    "# Create a product by month table to spot periodicity\n",
    "# Each entry is the mean of ratings the product gets within certain month\n",
    "# Nans are filled with 0\n",
    "product_month = product_reviews.pivot_table(values='rating',\n",
    "                                            index=product_reviews.index,\n",
    "                                            columns='month',\n",
    "                                            fill_value=0)\n",
    "\n",
    "# Select products with number of reviews larger than the threshold\n",
    "review_count = product_reviews.index.value_counts()\n",
    "product_month = product_month.loc[review_count>N_REVIEW_THRESHOLD]\n",
    "\n",
    "product_month.head()"
   ]
  },
  {
   "cell_type": "markdown",
   "metadata": {},
   "source": [
    "## ToDo: Spot/measure the periodicity (automatically)"
   ]
  },
  {
   "cell_type": "code",
   "execution_count": null,
   "metadata": {
    "collapsed": true
   },
   "outputs": [],
   "source": []
  },
  {
   "cell_type": "code",
   "execution_count": null,
   "metadata": {
    "collapsed": true
   },
   "outputs": [],
   "source": []
  },
  {
   "cell_type": "code",
   "execution_count": null,
   "metadata": {
    "collapsed": true
   },
   "outputs": [],
   "source": []
  }
 ],
 "metadata": {
  "kernelspec": {
   "display_name": "Python 3",
   "language": "python",
   "name": "python3"
  },
  "language_info": {
   "codemirror_mode": {
    "name": "ipython",
    "version": 3
   },
   "file_extension": ".py",
   "mimetype": "text/x-python",
   "name": "python",
   "nbconvert_exporter": "python",
   "pygments_lexer": "ipython3",
   "version": "3.6.3"
  }
 },
 "nbformat": 4,
 "nbformat_minor": 2
}
