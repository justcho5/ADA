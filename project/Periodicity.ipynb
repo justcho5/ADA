{
 "cells": [
  {
   "cell_type": "code",
   "execution_count": 2,
   "metadata": {
    "collapsed": true
   },
   "outputs": [],
   "source": [
    "# Import all the libraries\n",
    "import pandas as pd\n",
    "import numpy as np\n",
    "pd.options.mode.chained_assignment = None  # default='warn', Mutes warnings when copying a slice from a DataFrame.\n",
    "pd.set_option('display.max_columns', None)\n",
    "import glob\n",
    "import datetime\n",
    "import os\n",
    "import json\n",
    "from io import StringIO\n",
    "import matplotlib.pyplot as plt\n",
    "%matplotlib inline"
   ]
  },
  {
   "cell_type": "code",
   "execution_count": 3,
   "metadata": {
    "collapsed": true
   },
   "outputs": [],
   "source": [
    "# Constants\n",
    "DATA_FOLDER = 'data/'\n",
    "META_FOLDER = DATA_FOLDER + 'meta/'\n",
    "N_REVIEW_THRESHOLD = 20"
   ]
  },
  {
   "cell_type": "code",
   "execution_count": 4,
   "metadata": {
    "collapsed": true
   },
   "outputs": [],
   "source": [
    "# Load data and metadata\n",
    "def load_one_file(path):\n",
    "    with open(path) as f:\n",
    "        return [json.loads(line) for line in f]\n",
    "\n",
    "def load_one_meta_file(path):\n",
    "    with open(path) as f:\n",
    "        return [eval(line) for line in f]\n",
    "\n",
    "data_files = glob.glob(DATA_FOLDER + 'part-000*')\n",
    "data = sum(map(load_one_file, data_files), [])\n",
    "\n",
    "meta_files = glob.glob(META_FOLDER + '*')\n",
    "meta = sum(map(load_one_meta_file, meta_files), [])\n",
    "\n",
    "df = pd.DataFrame(data)\n",
    "meta_df = pd.DataFrame(meta)"
   ]
  },
  {
   "cell_type": "code",
   "execution_count": 5,
   "metadata": {
    "collapsed": true
   },
   "outputs": [],
   "source": [
    "joined = pd.merge(df, meta_df, how='inner')\n",
    "joined['reviewTime'] = pd.to_datetime(joined.unixReviewTime, unit='s')\n",
    "joined['reviewMonth'] = joined.reviewTime.map(lambda t: t.month)"
   ]
  },
  {
   "cell_type": "code",
   "execution_count": 6,
   "metadata": {},
   "outputs": [
    {
     "data": {
      "text/html": [
       "<div>\n",
       "<style>\n",
       "    .dataframe thead tr:only-child th {\n",
       "        text-align: right;\n",
       "    }\n",
       "\n",
       "    .dataframe thead th {\n",
       "        text-align: left;\n",
       "    }\n",
       "\n",
       "    .dataframe tbody tr th {\n",
       "        vertical-align: top;\n",
       "    }\n",
       "</style>\n",
       "<table border=\"1\" class=\"dataframe\">\n",
       "  <thead>\n",
       "    <tr style=\"text-align: right;\">\n",
       "      <th></th>\n",
       "      <th>asin</th>\n",
       "      <th>helpful</th>\n",
       "      <th>overall</th>\n",
       "      <th>reviewText</th>\n",
       "      <th>reviewTime</th>\n",
       "      <th>reviewerID</th>\n",
       "      <th>reviewerName</th>\n",
       "      <th>summary</th>\n",
       "      <th>unixReviewTime</th>\n",
       "      <th>brand</th>\n",
       "      <th>categories</th>\n",
       "      <th>description</th>\n",
       "      <th>imUrl</th>\n",
       "      <th>price</th>\n",
       "      <th>related</th>\n",
       "      <th>salesRank</th>\n",
       "      <th>title</th>\n",
       "      <th>reviewMonth</th>\n",
       "    </tr>\n",
       "  </thead>\n",
       "  <tbody>\n",
       "    <tr>\n",
       "      <th>0</th>\n",
       "      <td>B005FYPK9C</td>\n",
       "      <td>[0, 0]</td>\n",
       "      <td>5.0</td>\n",
       "      <td>I was sketchy at first about these but once yo...</td>\n",
       "      <td>2013-01-08</td>\n",
       "      <td>A000008615DZQRRI946FO</td>\n",
       "      <td>mj waldon</td>\n",
       "      <td>great buy</td>\n",
       "      <td>1357603200</td>\n",
       "      <td>NaN</td>\n",
       "      <td>[[Clothing, Shoes &amp; Jewelry, Shoes &amp; Accessori...</td>\n",
       "      <td>NaN</td>\n",
       "      <td>http://ecx.images-amazon.com/images/I/415OJXEA...</td>\n",
       "      <td>NaN</td>\n",
       "      <td>{'also_bought': ['B004KNWSBM', 'B00CIM6I8G', '...</td>\n",
       "      <td>{'Shoes': 53868}</td>\n",
       "      <td>Osiris Men's Cinux Skate Shoe</td>\n",
       "      <td>1</td>\n",
       "    </tr>\n",
       "    <tr>\n",
       "      <th>1</th>\n",
       "      <td>0871714779</td>\n",
       "      <td>[0, 0]</td>\n",
       "      <td>1.0</td>\n",
       "      <td>Because I have not gotten the book yet, I may ...</td>\n",
       "      <td>2013-05-22</td>\n",
       "      <td>A000096625CHSNKYTYGZN</td>\n",
       "      <td>Melody L Fearn</td>\n",
       "      <td>I Have Not Got It Yet.</td>\n",
       "      <td>1369180800</td>\n",
       "      <td>NaN</td>\n",
       "      <td>[[Books]]</td>\n",
       "      <td>NaN</td>\n",
       "      <td>http://ecx.images-amazon.com/images/I/61fWm4Vm...</td>\n",
       "      <td>NaN</td>\n",
       "      <td>{'buy_after_viewing': ['0871711605']}</td>\n",
       "      <td>{'Books': 3814395}</td>\n",
       "      <td>Welding Inspection Technology; workbook AWS WIT-W</td>\n",
       "      <td>5</td>\n",
       "    </tr>\n",
       "    <tr>\n",
       "      <th>2</th>\n",
       "      <td>B00E7OIOVC</td>\n",
       "      <td>[0, 0]</td>\n",
       "      <td>5.0</td>\n",
       "      <td>Great!</td>\n",
       "      <td>2014-07-03</td>\n",
       "      <td>A0001528BGUBOEVR6T5U</td>\n",
       "      <td>igozingo</td>\n",
       "      <td>Five Stars</td>\n",
       "      <td>1404345600</td>\n",
       "      <td>niceEshop</td>\n",
       "      <td>[[Home &amp; Kitchen, Kitchen &amp; Dining, Kitchen Ut...</td>\n",
       "      <td>Style flask funnel great to help you fill your...</td>\n",
       "      <td>http://ecx.images-amazon.com/images/I/31gMKQdA...</td>\n",
       "      <td>1.99</td>\n",
       "      <td>{'also_bought': ['B004TQIB7U', 'B006O1EBHW', '...</td>\n",
       "      <td>{'Kitchen &amp; Dining': 63021}</td>\n",
       "      <td>niceEshop(TM) Small Stainless Steel Funnel For...</td>\n",
       "      <td>7</td>\n",
       "    </tr>\n",
       "    <tr>\n",
       "      <th>3</th>\n",
       "      <td>B00EXOZ9W8</td>\n",
       "      <td>[0, 0]</td>\n",
       "      <td>5.0</td>\n",
       "      <td>My man was more then happy with it, looking fo...</td>\n",
       "      <td>2014-07-02</td>\n",
       "      <td>A00030342K9JCQO8Q7C3L</td>\n",
       "      <td>Joseph Dvorak</td>\n",
       "      <td>Five Stars</td>\n",
       "      <td>1404259200</td>\n",
       "      <td>NaN</td>\n",
       "      <td>[[Home &amp; Kitchen, Kitchen &amp; Dining, Small Appl...</td>\n",
       "      <td></td>\n",
       "      <td>http://ecx.images-amazon.com/images/I/41Oc0HaP...</td>\n",
       "      <td>65.81</td>\n",
       "      <td>{'also_bought': ['B000FAJ0K6', 'B0012UY6XO', '...</td>\n",
       "      <td>{'Kitchen &amp; Dining': 56153}</td>\n",
       "      <td>BELLA 14025 Programmable Slow Cooker with Lock...</td>\n",
       "      <td>7</td>\n",
       "    </tr>\n",
       "    <tr>\n",
       "      <th>4</th>\n",
       "      <td>1477473939</td>\n",
       "      <td>[0, 0]</td>\n",
       "      <td>4.0</td>\n",
       "      <td>Reading this seriers was a amazing. It was ver...</td>\n",
       "      <td>2013-01-26</td>\n",
       "      <td>A000443821AD43TOGKNGZ</td>\n",
       "      <td>Uluwehi</td>\n",
       "      <td>Really enjoyed it!</td>\n",
       "      <td>1359158400</td>\n",
       "      <td>NaN</td>\n",
       "      <td>[[Books]]</td>\n",
       "      <td>USA Today Best Selling Author Elizabeth  Reyes...</td>\n",
       "      <td>http://ecx.images-amazon.com/images/I/51bhuPCO...</td>\n",
       "      <td>4.99</td>\n",
       "      <td>{'also_bought': ['147522186X', '1475244207', '...</td>\n",
       "      <td>{'Books': 1011147}</td>\n",
       "      <td>Making You Mine: The Moreno Brothers</td>\n",
       "      <td>1</td>\n",
       "    </tr>\n",
       "  </tbody>\n",
       "</table>\n",
       "</div>"
      ],
      "text/plain": [
       "         asin helpful  overall  \\\n",
       "0  B005FYPK9C  [0, 0]      5.0   \n",
       "1  0871714779  [0, 0]      1.0   \n",
       "2  B00E7OIOVC  [0, 0]      5.0   \n",
       "3  B00EXOZ9W8  [0, 0]      5.0   \n",
       "4  1477473939  [0, 0]      4.0   \n",
       "\n",
       "                                          reviewText reviewTime  \\\n",
       "0  I was sketchy at first about these but once yo... 2013-01-08   \n",
       "1  Because I have not gotten the book yet, I may ... 2013-05-22   \n",
       "2                                             Great! 2014-07-03   \n",
       "3  My man was more then happy with it, looking fo... 2014-07-02   \n",
       "4  Reading this seriers was a amazing. It was ver... 2013-01-26   \n",
       "\n",
       "              reviewerID    reviewerName                 summary  \\\n",
       "0  A000008615DZQRRI946FO       mj waldon               great buy   \n",
       "1  A000096625CHSNKYTYGZN  Melody L Fearn  I Have Not Got It Yet.   \n",
       "2   A0001528BGUBOEVR6T5U        igozingo              Five Stars   \n",
       "3  A00030342K9JCQO8Q7C3L   Joseph Dvorak              Five Stars   \n",
       "4  A000443821AD43TOGKNGZ         Uluwehi      Really enjoyed it!   \n",
       "\n",
       "   unixReviewTime      brand  \\\n",
       "0      1357603200        NaN   \n",
       "1      1369180800        NaN   \n",
       "2      1404345600  niceEshop   \n",
       "3      1404259200        NaN   \n",
       "4      1359158400        NaN   \n",
       "\n",
       "                                          categories  \\\n",
       "0  [[Clothing, Shoes & Jewelry, Shoes & Accessori...   \n",
       "1                                          [[Books]]   \n",
       "2  [[Home & Kitchen, Kitchen & Dining, Kitchen Ut...   \n",
       "3  [[Home & Kitchen, Kitchen & Dining, Small Appl...   \n",
       "4                                          [[Books]]   \n",
       "\n",
       "                                         description  \\\n",
       "0                                                NaN   \n",
       "1                                                NaN   \n",
       "2  Style flask funnel great to help you fill your...   \n",
       "3                                                      \n",
       "4  USA Today Best Selling Author Elizabeth  Reyes...   \n",
       "\n",
       "                                               imUrl  price  \\\n",
       "0  http://ecx.images-amazon.com/images/I/415OJXEA...    NaN   \n",
       "1  http://ecx.images-amazon.com/images/I/61fWm4Vm...    NaN   \n",
       "2  http://ecx.images-amazon.com/images/I/31gMKQdA...   1.99   \n",
       "3  http://ecx.images-amazon.com/images/I/41Oc0HaP...  65.81   \n",
       "4  http://ecx.images-amazon.com/images/I/51bhuPCO...   4.99   \n",
       "\n",
       "                                             related  \\\n",
       "0  {'also_bought': ['B004KNWSBM', 'B00CIM6I8G', '...   \n",
       "1              {'buy_after_viewing': ['0871711605']}   \n",
       "2  {'also_bought': ['B004TQIB7U', 'B006O1EBHW', '...   \n",
       "3  {'also_bought': ['B000FAJ0K6', 'B0012UY6XO', '...   \n",
       "4  {'also_bought': ['147522186X', '1475244207', '...   \n",
       "\n",
       "                     salesRank  \\\n",
       "0             {'Shoes': 53868}   \n",
       "1           {'Books': 3814395}   \n",
       "2  {'Kitchen & Dining': 63021}   \n",
       "3  {'Kitchen & Dining': 56153}   \n",
       "4           {'Books': 1011147}   \n",
       "\n",
       "                                               title  reviewMonth  \n",
       "0                      Osiris Men's Cinux Skate Shoe            1  \n",
       "1  Welding Inspection Technology; workbook AWS WIT-W            5  \n",
       "2  niceEshop(TM) Small Stainless Steel Funnel For...            7  \n",
       "3  BELLA 14025 Programmable Slow Cooker with Lock...            7  \n",
       "4               Making You Mine: The Moreno Brothers            1  "
      ]
     },
     "execution_count": 6,
     "metadata": {},
     "output_type": "execute_result"
    }
   ],
   "source": [
    "joined.head()"
   ]
  },
  {
   "cell_type": "code",
   "execution_count": 31,
   "metadata": {},
   "outputs": [
    {
     "data": {
      "text/plain": [
       "<matplotlib.axes._subplots.AxesSubplot at 0x1f3ca263828>"
      ]
     },
     "execution_count": 31,
     "metadata": {},
     "output_type": "execute_result"
    },
    {
     "data": {
      "image/png": "[encoded data removed]",
      "text/plain": [
       "<matplotlib.figure.Figure at 0x1f3ca310080>"
      ]
     },
     "metadata": {},
     "output_type": "display_data"
    }
   ],
   "source": [
    "joined.overall.value_counts().plot(kind='pie', title='Distribution of review scores')"
   ]
  },
  {
   "cell_type": "code",
   "execution_count": 30,
   "metadata": {},
   "outputs": [
    {
     "data": {
      "text/plain": [
       "<matplotlib.axes._subplots.AxesSubplot at 0x1f3ca1d6be0>"
      ]
     },
     "execution_count": 30,
     "metadata": {},
     "output_type": "execute_result"
    },
    {
     "data": {
      "image/png": "[encoded data removed]",
      "text/plain": [
       "<matplotlib.figure.Figure at 0x1f3ca291908>"
      ]
     },
     "metadata": {},
     "output_type": "display_data"
    }
   ],
   "source": [
    "joined.reviewMonth.value_counts().plot(kind='bar', title='Review distribution by month')"
   ]
  },
  {
   "cell_type": "code",
   "execution_count": 14,
   "metadata": {
    "collapsed": true
   },
   "outputs": [],
   "source": [
    "price_bins = [\n",
    "    0,\n",
    "    10,\n",
    "    20,\n",
    "    30,\n",
    "    40,\n",
    "    50,\n",
    "    60,\n",
    "    70,\n",
    "    80,\n",
    "    90,\n",
    "    100,\n",
    "    200,\n",
    "    500,\n",
    "    1000\n",
    "]"
   ]
  },
  {
   "cell_type": "code",
   "execution_count": 15,
   "metadata": {
    "collapsed": true
   },
   "outputs": [],
   "source": [
    "no_nan_price = joined.dropna(axis=0, subset=['price'])\n",
    "no_nan_price = no_nan_price[no_nan_price.price != 0]\n",
    "group_by_price_tier = no_nan_price.groupby(pd.cut(no_nan_price.price, price_bins))"
   ]
  },
  {
   "cell_type": "code",
   "execution_count": 29,
   "metadata": {},
   "outputs": [
    {
     "data": {
      "text/plain": [
       "Text(0.5,1,'Review distribution by price')"
      ]
     },
     "execution_count": 29,
     "metadata": {},
     "output_type": "execute_result"
    },
    {
     "data": {
      "image/png": "[encoded data removed]",
      "text/plain": [
       "<matplotlib.figure.Figure at 0x1f3c96db780>"
      ]
     },
     "metadata": {},
     "output_type": "display_data"
    }
   ],
   "source": [
    "ax = plt.subplot()\n",
    "no_nan_price.price.hist(bins=50, ax=ax)\n",
    "ax.set_title('Review distribution by price')"
   ]
  },
  {
   "cell_type": "code",
   "execution_count": 27,
   "metadata": {},
   "outputs": [
    {
     "data": {
      "text/plain": [
       "Text(0.5,1,'Review distribution by price')"
      ]
     },
     "execution_count": 27,
     "metadata": {},
     "output_type": "execute_result"
    },
    {
     "data": {
      "image/png": "[encoded data removed]",
      "text/plain": [
       "<matplotlib.figure.Figure at 0x1f3c96ce1d0>"
      ]
     },
     "metadata": {},
     "output_type": "display_data"
    }
   ],
   "source": [
    "log_bins = np.logspace(np.log10(min(no_nan_price.price)), np.log10(max(no_nan_price.price)), 50)\n",
    "ax = plt.subplot()\n",
    "ax.set_title('Price')\n",
    "no_nan_price.price.hist(ax=ax, log=True, bins=log_bins)\n",
    "ax.set_xscale('log')\n",
    "ax.set_title('Review distribution by price')"
   ]
  },
  {
   "cell_type": "code",
   "execution_count": 25,
   "metadata": {},
   "outputs": [
    {
     "data": {
      "text/plain": [
       "<matplotlib.axes._subplots.AxesSubplot at 0x1f3c9011198>"
      ]
     },
     "execution_count": 25,
     "metadata": {},
     "output_type": "execute_result"
    },
    {
     "data": {
      "image/png": "[encoded data removed]",
      "text/plain": [
       "<matplotlib.figure.Figure at 0x1f3c90666a0>"
      ]
     },
     "metadata": {},
     "output_type": "display_data"
    }
   ],
   "source": [
    "group_by_price_tier.asin.count().plot(kind='bar', title='Review distribution by price bracket')"
   ]
  },
  {
   "cell_type": "code",
   "execution_count": 23,
   "metadata": {},
   "outputs": [
    {
     "data": {
      "text/plain": [
       "<matplotlib.axes._subplots.AxesSubplot at 0x1f3c8f85860>"
      ]
     },
     "execution_count": 23,
     "metadata": {},
     "output_type": "execute_result"
    },
    {
     "data": {
      "image/png": "[encoded data removed]",
      "text/plain": [
       "<matplotlib.figure.Figure at 0x1f3c8f52400>"
      ]
     },
     "metadata": {},
     "output_type": "display_data"
    }
   ],
   "source": [
    "group_by_price_tier[['overall']].mean().plot(kind='bar', title='Average review score by price bracket')"
   ]
  },
  {
   "cell_type": "code",
   "execution_count": 20,
   "metadata": {
    "collapsed": true
   },
   "outputs": [],
   "source": [
    "group_by_month = joined.groupby('reviewMonth')\n",
    "average_month = group_by_month.overall"
   ]
  },
  {
   "cell_type": "code",
   "execution_count": 22,
   "metadata": {},
   "outputs": [
    {
     "data": {
      "text/plain": [
       "<matplotlib.axes._subplots.AxesSubplot at 0x1f3c7acf160>"
      ]
     },
     "execution_count": 22,
     "metadata": {},
     "output_type": "execute_result"
    },
    {
     "data": {
      "image/png": "[encoded data removed]",
      "text/plain": [
       "<matplotlib.figure.Figure at 0x1f3c7b227f0>"
      ]
     },
     "metadata": {},
     "output_type": "display_data"
    }
   ],
   "source": [
    "average_month.mean().plot(kind='bar', title='Average review score by month')"
   ]
  },
  {
   "cell_type": "code",
   "execution_count": 45,
   "metadata": {},
   "outputs": [
    {
     "ename": "TypeError",
     "evalue": "'float' object is not subscriptable",
     "output_type": "error",
     "traceback": [
      "\u001b[1;31m---------------------------------------------------------------------------\u001b[0m",
      "\u001b[1;31mTypeError\u001b[0m                                 Traceback (most recent call last)",
      "\u001b[1;32m<ipython-input-45-c8312666fd41>\u001b[0m in \u001b[0;36m<module>\u001b[1;34m()\u001b[0m\n\u001b[1;32m----> 1\u001b[1;33m \u001b[0mcats\u001b[0m \u001b[1;33m=\u001b[0m \u001b[1;33m[\u001b[0m\u001b[0mr\u001b[0m\u001b[1;33m[\u001b[0m\u001b[1;36m0\u001b[0m\u001b[1;33m]\u001b[0m\u001b[1;33m[\u001b[0m\u001b[1;36m0\u001b[0m\u001b[1;33m]\u001b[0m \u001b[1;32mfor\u001b[0m \u001b[0mr\u001b[0m \u001b[1;32min\u001b[0m \u001b[0mjoined\u001b[0m\u001b[1;33m.\u001b[0m\u001b[0mcategories\u001b[0m\u001b[1;33m]\u001b[0m\u001b[1;33m\u001b[0m\u001b[0m\n\u001b[0m",
      "\u001b[1;32m<ipython-input-45-c8312666fd41>\u001b[0m in \u001b[0;36m<listcomp>\u001b[1;34m(.0)\u001b[0m\n\u001b[1;32m----> 1\u001b[1;33m \u001b[0mcats\u001b[0m \u001b[1;33m=\u001b[0m \u001b[1;33m[\u001b[0m\u001b[0mr\u001b[0m\u001b[1;33m[\u001b[0m\u001b[1;36m0\u001b[0m\u001b[1;33m]\u001b[0m\u001b[1;33m[\u001b[0m\u001b[1;36m0\u001b[0m\u001b[1;33m]\u001b[0m \u001b[1;32mfor\u001b[0m \u001b[0mr\u001b[0m \u001b[1;32min\u001b[0m \u001b[0mjoined\u001b[0m\u001b[1;33m.\u001b[0m\u001b[0mcategories\u001b[0m\u001b[1;33m]\u001b[0m\u001b[1;33m\u001b[0m\u001b[0m\n\u001b[0m",
      "\u001b[1;31mTypeError\u001b[0m: 'float' object is not subscriptable"
     ]
    }
   ],
   "source": [
    "cats = [r[0][0] for r in joined.categories]"
   ]
  },
  {
   "cell_type": "code",
   "execution_count": 5,
   "metadata": {},
   "outputs": [
    {
     "data": {
      "text/html": [
       "<div>\n",
       "<style>\n",
       "    .dataframe thead tr:only-child th {\n",
       "        text-align: right;\n",
       "    }\n",
       "\n",
       "    .dataframe thead th {\n",
       "        text-align: left;\n",
       "    }\n",
       "\n",
       "    .dataframe tbody tr th {\n",
       "        vertical-align: top;\n",
       "    }\n",
       "</style>\n",
       "<table border=\"1\" class=\"dataframe\">\n",
       "  <thead>\n",
       "    <tr style=\"text-align: right;\">\n",
       "      <th></th>\n",
       "      <th>rating</th>\n",
       "      <th>time</th>\n",
       "      <th>month</th>\n",
       "    </tr>\n",
       "    <tr>\n",
       "      <th>productID</th>\n",
       "      <th></th>\n",
       "      <th></th>\n",
       "      <th></th>\n",
       "    </tr>\n",
       "  </thead>\n",
       "  <tbody>\n",
       "    <tr>\n",
       "      <th>B005FYPK9C</th>\n",
       "      <td>5.0</td>\n",
       "      <td>2013-01-08</td>\n",
       "      <td>1</td>\n",
       "    </tr>\n",
       "    <tr>\n",
       "      <th>0871714779</th>\n",
       "      <td>1.0</td>\n",
       "      <td>2013-05-22</td>\n",
       "      <td>5</td>\n",
       "    </tr>\n",
       "    <tr>\n",
       "      <th>B00E7OIOVC</th>\n",
       "      <td>5.0</td>\n",
       "      <td>2014-07-03</td>\n",
       "      <td>7</td>\n",
       "    </tr>\n",
       "    <tr>\n",
       "      <th>B00EXOZ9W8</th>\n",
       "      <td>5.0</td>\n",
       "      <td>2014-07-02</td>\n",
       "      <td>7</td>\n",
       "    </tr>\n",
       "    <tr>\n",
       "      <th>B000G2OYOU</th>\n",
       "      <td>5.0</td>\n",
       "      <td>2012-11-20</td>\n",
       "      <td>11</td>\n",
       "    </tr>\n",
       "  </tbody>\n",
       "</table>\n",
       "</div>"
      ],
      "text/plain": [
       "            rating       time  month\n",
       "productID                           \n",
       "B005FYPK9C     5.0 2013-01-08      1\n",
       "0871714779     1.0 2013-05-22      5\n",
       "B00E7OIOVC     5.0 2014-07-03      7\n",
       "B00EXOZ9W8     5.0 2014-07-02      7\n",
       "B000G2OYOU     5.0 2012-11-20     11"
      ]
     },
     "execution_count": 5,
     "metadata": {},
     "output_type": "execute_result"
    }
   ],
   "source": [
    "# Create dataframe with needed information\n",
    "product_reviews = pd.DataFrame({'productID': df.asin,\n",
    "                                'rating': df.overall,\n",
    "                                'time': pd.to_datetime(df.reviewTime, format='%m %d, %Y')\n",
    "                                })\n",
    "product_reviews['month'] = product_reviews.time.map(lambda t: t.month)\n",
    "product_reviews.set_index('productID', drop=True, inplace=True)\n",
    "product_reviews.head()"
   ]
  },
  {
   "cell_type": "code",
   "execution_count": 8,
   "metadata": {},
   "outputs": [
    {
     "data": {
      "text/html": [
       "<div>\n",
       "<style>\n",
       "    .dataframe thead tr:only-child th {\n",
       "        text-align: right;\n",
       "    }\n",
       "\n",
       "    .dataframe thead th {\n",
       "        text-align: left;\n",
       "    }\n",
       "\n",
       "    .dataframe tbody tr th {\n",
       "        vertical-align: top;\n",
       "    }\n",
       "</style>\n",
       "<table border=\"1\" class=\"dataframe\">\n",
       "  <thead>\n",
       "    <tr style=\"text-align: right;\">\n",
       "      <th>month</th>\n",
       "      <th>1</th>\n",
       "      <th>2</th>\n",
       "      <th>3</th>\n",
       "      <th>4</th>\n",
       "      <th>5</th>\n",
       "      <th>6</th>\n",
       "      <th>7</th>\n",
       "      <th>8</th>\n",
       "      <th>9</th>\n",
       "      <th>10</th>\n",
       "      <th>11</th>\n",
       "      <th>12</th>\n",
       "    </tr>\n",
       "    <tr>\n",
       "      <th>productID</th>\n",
       "      <th></th>\n",
       "      <th></th>\n",
       "      <th></th>\n",
       "      <th></th>\n",
       "      <th></th>\n",
       "      <th></th>\n",
       "      <th></th>\n",
       "      <th></th>\n",
       "      <th></th>\n",
       "      <th></th>\n",
       "      <th></th>\n",
       "      <th></th>\n",
       "    </tr>\n",
       "  </thead>\n",
       "  <tbody>\n",
       "    <tr>\n",
       "      <th>006202406X</th>\n",
       "      <td>3.500000</td>\n",
       "      <td>3.000000</td>\n",
       "      <td>3.2</td>\n",
       "      <td>4.000000</td>\n",
       "      <td>0.0</td>\n",
       "      <td>3.333333</td>\n",
       "      <td>0.0</td>\n",
       "      <td>0.0</td>\n",
       "      <td>0.00</td>\n",
       "      <td>3.000000</td>\n",
       "      <td>3.750000</td>\n",
       "      <td>2.0</td>\n",
       "    </tr>\n",
       "    <tr>\n",
       "      <th>006228648X</th>\n",
       "      <td>3.000000</td>\n",
       "      <td>0.000000</td>\n",
       "      <td>1.0</td>\n",
       "      <td>2.333333</td>\n",
       "      <td>4.5</td>\n",
       "      <td>1.500000</td>\n",
       "      <td>0.0</td>\n",
       "      <td>0.0</td>\n",
       "      <td>0.00</td>\n",
       "      <td>2.500000</td>\n",
       "      <td>3.166667</td>\n",
       "      <td>3.0</td>\n",
       "    </tr>\n",
       "    <tr>\n",
       "      <th>030758836X</th>\n",
       "      <td>3.777778</td>\n",
       "      <td>4.000000</td>\n",
       "      <td>2.0</td>\n",
       "      <td>3.000000</td>\n",
       "      <td>3.0</td>\n",
       "      <td>3.666667</td>\n",
       "      <td>4.0</td>\n",
       "      <td>3.0</td>\n",
       "      <td>3.60</td>\n",
       "      <td>3.000000</td>\n",
       "      <td>3.800000</td>\n",
       "      <td>2.5</td>\n",
       "    </tr>\n",
       "    <tr>\n",
       "      <th>0307588378</th>\n",
       "      <td>4.666667</td>\n",
       "      <td>4.000000</td>\n",
       "      <td>5.0</td>\n",
       "      <td>0.000000</td>\n",
       "      <td>4.0</td>\n",
       "      <td>4.000000</td>\n",
       "      <td>1.0</td>\n",
       "      <td>5.0</td>\n",
       "      <td>4.25</td>\n",
       "      <td>2.666667</td>\n",
       "      <td>2.500000</td>\n",
       "      <td>3.0</td>\n",
       "    </tr>\n",
       "    <tr>\n",
       "      <th>038536315X</th>\n",
       "      <td>4.400000</td>\n",
       "      <td>4.666667</td>\n",
       "      <td>3.0</td>\n",
       "      <td>4.500000</td>\n",
       "      <td>5.0</td>\n",
       "      <td>0.000000</td>\n",
       "      <td>0.0</td>\n",
       "      <td>0.0</td>\n",
       "      <td>0.00</td>\n",
       "      <td>0.000000</td>\n",
       "      <td>3.500000</td>\n",
       "      <td>4.0</td>\n",
       "    </tr>\n",
       "  </tbody>\n",
       "</table>\n",
       "</div>"
      ],
      "text/plain": [
       "month             1         2    3         4    5         6    7    8     9   \\\n",
       "productID                                                                      \n",
       "006202406X  3.500000  3.000000  3.2  4.000000  0.0  3.333333  0.0  0.0  0.00   \n",
       "006228648X  3.000000  0.000000  1.0  2.333333  4.5  1.500000  0.0  0.0  0.00   \n",
       "030758836X  3.777778  4.000000  2.0  3.000000  3.0  3.666667  4.0  3.0  3.60   \n",
       "0307588378  4.666667  4.000000  5.0  0.000000  4.0  4.000000  1.0  5.0  4.25   \n",
       "038536315X  4.400000  4.666667  3.0  4.500000  5.0  0.000000  0.0  0.0  0.00   \n",
       "\n",
       "month             10        11   12  \n",
       "productID                            \n",
       "006202406X  3.000000  3.750000  2.0  \n",
       "006228648X  2.500000  3.166667  3.0  \n",
       "030758836X  3.000000  3.800000  2.5  \n",
       "0307588378  2.666667  2.500000  3.0  \n",
       "038536315X  0.000000  3.500000  4.0  "
      ]
     },
     "execution_count": 8,
     "metadata": {},
     "output_type": "execute_result"
    }
   ],
   "source": [
    "# Create a product by month table to spot periodicity\n",
    "# Each entry is the mean of ratings the product gets within certain month\n",
    "# Nans are filled with 0\n",
    "product_month = product_reviews.pivot_table(values='rating',\n",
    "                                            index=product_reviews.index,\n",
    "                                            columns='month',\n",
    "                                            fill_value=0)\n",
    "\n",
    "# Select products with number of reviews larger than the threshold\n",
    "review_count = product_reviews.index.value_counts()\n",
    "product_month = product_month.loc[review_count>N_REVIEW_THRESHOLD]\n",
    "\n",
    "product_month.head()"
   ]
  },
  {
   "cell_type": "markdown",
   "metadata": {},
   "source": [
    "## ToDo: Spot/measure the periodicity (automatically)"
   ]
  },
  {
   "cell_type": "code",
   "execution_count": null,
   "metadata": {
    "collapsed": true
   },
   "outputs": [],
   "source": []
  },
  {
   "cell_type": "code",
   "execution_count": null,
   "metadata": {
    "collapsed": true
   },
   "outputs": [],
   "source": []
  },
  {
   "cell_type": "code",
   "execution_count": null,
   "metadata": {
    "collapsed": true
   },
   "outputs": [],
   "source": []
  }
 ],
 "metadata": {
  "kernelspec": {
   "display_name": "Python 3",
   "language": "python",
   "name": "python3"
  },
  "language_info": {
   "codemirror_mode": {
    "name": "ipython",
    "version": 3
   },
   "file_extension": ".py",
   "mimetype": "text/x-python",
   "name": "python",
   "nbconvert_exporter": "python",
   "pygments_lexer": "ipython3",
   "version": "3.6.3"
  }
 },
 "nbformat": 4,
 "nbformat_minor": 2
}
