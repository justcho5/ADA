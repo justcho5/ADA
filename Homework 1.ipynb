{
 "cells": [
  {
   "cell_type": "markdown",
   "metadata": {},
   "source": [
    "# Table of Contents\n",
    " <p><div class=\"lev1\"><a href=\"#Task-1.-Compiling-Ebola-Data\"><span class=\"toc-item-num\">Task 1.&nbsp;&nbsp;</span>Compiling Ebola Data</a></div>\n",
    " <div class=\"lev1\"><a href=\"#Task-2.-RNA-Sequences\"><span class=\"toc-item-num\">Task 2.&nbsp;&nbsp;</span>RNA Sequences</a></div>\n",
    " <div class=\"lev1\"><a href=\"#Task-3.-Class-War-in-Titanic\"><span class=\"toc-item-num\">Task 3.&nbsp;&nbsp;</span>Class War in Titanic</a></div></p>"
   ]
  },
  {
   "cell_type": "code",
   "execution_count": 4,
   "metadata": {
    "collapsed": true
   },
   "outputs": [],
   "source": [
    "import pandas as pd\n",
    "import numpy as np\n",
    "pd.options.mode.chained_assignment = None  # default='warn', Mutes warnings when copying a slice from a DataFrame.\n",
    "pd.set_option('display.max_columns', None)\n",
    "import glob\n",
    "import datetime\n",
    "import os\n",
    "from io import StringIO\n",
    "%matplotlib inline\n",
    "import matplotlib.pyplot as plt\n",
    "import seaborn as sns\n",
    "sns.set_context('notebook')"
   ]
  },
  {
   "cell_type": "code",
   "execution_count": 5,
   "metadata": {
    "collapsed": true
   },
   "outputs": [],
   "source": [
    "DATA_FOLDER = '../../ADA2017-Tutorials/02 - Intro to Pandas/Data' # Use the data folder provided in Tutorial 02 - Intro to Pandas."
   ]
  },
  {
   "cell_type": "markdown",
   "metadata": {},
   "source": [
    "## Task 1. Compiling Ebola Data\n",
    "\n",
    "The `DATA_FOLDER/ebola` folder contains summarized reports of Ebola cases from three countries (Guinea, Liberia and Sierra Leone) during the recent outbreak of the disease in West Africa. For each country, there are daily reports that contain various information about the outbreak in several cities in each country.\n",
    "\n",
    "Use pandas to import these data files into a single `Dataframe`.\n",
    "Using this `DataFrame`, calculate for *each country*, the *daily average per month* of *new cases* and *deaths*.\n",
    "Make sure you handle all the different expressions for *new cases* and *deaths* that are used in the reports."
   ]
  },
  {
   "cell_type": "code",
   "execution_count": 199,
   "metadata": {
    "collapsed": true,
    "scrolled": true
   },
   "outputs": [],
   "source": [
    "all_sl_files = glob.glob(DATA_FOLDER + r'/ebola/sl_data/*.csv')\n",
    "\n",
    "frames = []\n",
    "\n",
    "for f in all_sl_files:\n",
    "    data = None\n",
    "    \n",
    "    with open(f) as file:\n",
    "        data = StringIO('\\n'.join([l for l in file if '%' not in l]))\n",
    "\n",
    "    new_frame = pd.read_csv(data,\n",
    "                           parse_dates=['date'], thousands=',',\n",
    "                           na_values=['Nr', '-', 'NR'])\n",
    "    frames.append(new_frame)\n",
    "    \n",
    "sl = pd.concat(frames)\n",
    "sl_newcases = ['new_suspected', 'new_probable', 'new_confirmed', 'new_positive']\n",
    "sl_deaths = ['death_suspected', 'death_probable', 'death_confirmed',\n",
    "       'etc_new_deaths', 'positive_corpse']"
   ]
  },
  {
   "cell_type": "code",
   "execution_count": 200,
   "metadata": {
    "collapsed": true
   },
   "outputs": [],
   "source": [
    "def compute_daily_averages(df, variable_column_name, variables_to_average, date_column_name):\n",
    "    df_filtered = df[(df[variable_column_name].isin(variables_to_average))]\n",
    "    di = pd.DatetimeIndex(df_filtered[date_column_name])\n",
    "    g = df_filtered.groupby([di.month, di.year])\n",
    "    ndays = g[date_column_name].nunique()\n",
    "    \n",
    "    avg_df = g.sum().div(ndays, axis='rows')\n",
    "    return avg_df.dropna(axis=1, how='all')"
   ]
  },
  {
   "cell_type": "code",
   "execution_count": 201,
   "metadata": {},
   "outputs": [
    {
     "data": {
      "text/plain": [
       "34 Military Hospital             float64\n",
       "Bo                               float64\n",
       "Bo EMC                           float64\n",
       "Bombali                          float64\n",
       "Bonthe                           float64\n",
       "Hastings-F/Town                  float64\n",
       "Kailahun                         float64\n",
       "Kambia                           float64\n",
       "Kenema                           float64\n",
       "Kenema (IFRC)                    float64\n",
       "Kenema (KGH)                     float64\n",
       "Koinadugu                        float64\n",
       "Kono                             float64\n",
       "Moyamba                          float64\n",
       "National                         float64\n",
       "Police training School           float64\n",
       "Police traning School            float64\n",
       "Port Loko                        float64\n",
       "Pujehun                          float64\n",
       "Tonkolili                        float64\n",
       "Unnamed: 18                      float64\n",
       "Western area                     float64\n",
       "Western area combined            float64\n",
       "Western area rural               float64\n",
       "Western area urban               float64\n",
       "date                      datetime64[ns]\n",
       "variable                          object\n",
       "dtype: object"
      ]
     },
     "execution_count": 201,
     "metadata": {},
     "output_type": "execute_result"
    }
   ],
   "source": [
    "sl.dtypes"
   ]
  },
  {
   "cell_type": "code",
   "execution_count": 202,
   "metadata": {},
   "outputs": [
    {
     "data": {
      "text/html": [
       "<div>\n",
       "<style>\n",
       "    .dataframe thead tr:only-child th {\n",
       "        text-align: right;\n",
       "    }\n",
       "\n",
       "    .dataframe thead th {\n",
       "        text-align: left;\n",
       "    }\n",
       "\n",
       "    .dataframe tbody tr th {\n",
       "        vertical-align: top;\n",
       "    }\n",
       "</style>\n",
       "<table border=\"1\" class=\"dataframe\">\n",
       "  <thead>\n",
       "    <tr style=\"text-align: right;\">\n",
       "      <th></th>\n",
       "      <th></th>\n",
       "      <th>Bo</th>\n",
       "      <th>Bombali</th>\n",
       "      <th>Bonthe</th>\n",
       "      <th>Kailahun</th>\n",
       "      <th>Kambia</th>\n",
       "      <th>Kenema</th>\n",
       "      <th>Koinadugu</th>\n",
       "      <th>Kono</th>\n",
       "      <th>Moyamba</th>\n",
       "      <th>National</th>\n",
       "      <th>Port Loko</th>\n",
       "      <th>Pujehun</th>\n",
       "      <th>Tonkolili</th>\n",
       "      <th>Western area</th>\n",
       "      <th>Western area rural</th>\n",
       "      <th>Western area urban</th>\n",
       "    </tr>\n",
       "    <tr>\n",
       "      <th>date</th>\n",
       "      <th>date</th>\n",
       "      <th></th>\n",
       "      <th></th>\n",
       "      <th></th>\n",
       "      <th></th>\n",
       "      <th></th>\n",
       "      <th></th>\n",
       "      <th></th>\n",
       "      <th></th>\n",
       "      <th></th>\n",
       "      <th></th>\n",
       "      <th></th>\n",
       "      <th></th>\n",
       "      <th></th>\n",
       "      <th></th>\n",
       "      <th></th>\n",
       "      <th></th>\n",
       "    </tr>\n",
       "  </thead>\n",
       "  <tbody>\n",
       "    <tr>\n",
       "      <th>8</th>\n",
       "      <th>2014</th>\n",
       "      <td>1.800000</td>\n",
       "      <td>2.150000</td>\n",
       "      <td>0.000000</td>\n",
       "      <td>5.100000</td>\n",
       "      <td>0.000000</td>\n",
       "      <td>8.700000</td>\n",
       "      <td>0.250000</td>\n",
       "      <td>0.000000</td>\n",
       "      <td>0.300000</td>\n",
       "      <td>25.150000</td>\n",
       "      <td>3.150000</td>\n",
       "      <td>0.200000</td>\n",
       "      <td>0.850000</td>\n",
       "      <td>NaN</td>\n",
       "      <td>1.650000</td>\n",
       "      <td>2.500000</td>\n",
       "    </tr>\n",
       "    <tr>\n",
       "      <th>9</th>\n",
       "      <th>2014</th>\n",
       "      <td>2.000000</td>\n",
       "      <td>6.724138</td>\n",
       "      <td>0.068966</td>\n",
       "      <td>2.448276</td>\n",
       "      <td>0.620690</td>\n",
       "      <td>3.931034</td>\n",
       "      <td>0.000000</td>\n",
       "      <td>0.965517</td>\n",
       "      <td>1.965517</td>\n",
       "      <td>40.689655</td>\n",
       "      <td>8.275862</td>\n",
       "      <td>0.482759</td>\n",
       "      <td>2.482759</td>\n",
       "      <td>NaN</td>\n",
       "      <td>5.241379</td>\n",
       "      <td>7.620690</td>\n",
       "    </tr>\n",
       "    <tr>\n",
       "      <th>10</th>\n",
       "      <th>2014</th>\n",
       "      <td>4.178571</td>\n",
       "      <td>13.357143</td>\n",
       "      <td>0.071429</td>\n",
       "      <td>0.892857</td>\n",
       "      <td>0.714286</td>\n",
       "      <td>4.321429</td>\n",
       "      <td>1.214286</td>\n",
       "      <td>1.500000</td>\n",
       "      <td>1.750000</td>\n",
       "      <td>86.107143</td>\n",
       "      <td>8.964286</td>\n",
       "      <td>0.535714</td>\n",
       "      <td>5.714286</td>\n",
       "      <td>11.464286</td>\n",
       "      <td>7.892857</td>\n",
       "      <td>9.357143</td>\n",
       "    </tr>\n",
       "    <tr>\n",
       "      <th>11</th>\n",
       "      <th>2014</th>\n",
       "      <td>3.380952</td>\n",
       "      <td>11.428571</td>\n",
       "      <td>0.190476</td>\n",
       "      <td>0.380952</td>\n",
       "      <td>1.476190</td>\n",
       "      <td>0.619048</td>\n",
       "      <td>2.476190</td>\n",
       "      <td>3.190476</td>\n",
       "      <td>2.000000</td>\n",
       "      <td>112.714286</td>\n",
       "      <td>12.428571</td>\n",
       "      <td>0.285714</td>\n",
       "      <td>5.000000</td>\n",
       "      <td>NaN</td>\n",
       "      <td>11.809524</td>\n",
       "      <td>23.904762</td>\n",
       "    </tr>\n",
       "    <tr>\n",
       "      <th>12</th>\n",
       "      <th>2014</th>\n",
       "      <td>1.400000</td>\n",
       "      <td>4.800000</td>\n",
       "      <td>0.000000</td>\n",
       "      <td>0.000000</td>\n",
       "      <td>1.200000</td>\n",
       "      <td>0.000000</td>\n",
       "      <td>0.200000</td>\n",
       "      <td>1.400000</td>\n",
       "      <td>0.600000</td>\n",
       "      <td>59.200000</td>\n",
       "      <td>14.200000</td>\n",
       "      <td>0.000000</td>\n",
       "      <td>0.600000</td>\n",
       "      <td>NaN</td>\n",
       "      <td>5.200000</td>\n",
       "      <td>11.400000</td>\n",
       "    </tr>\n",
       "  </tbody>\n",
       "</table>\n",
       "</div>"
      ],
      "text/plain": [
       "                 Bo    Bombali    Bonthe  Kailahun    Kambia    Kenema  \\\n",
       "date date                                                                \n",
       "8    2014  1.800000   2.150000  0.000000  5.100000  0.000000  8.700000   \n",
       "9    2014  2.000000   6.724138  0.068966  2.448276  0.620690  3.931034   \n",
       "10   2014  4.178571  13.357143  0.071429  0.892857  0.714286  4.321429   \n",
       "11   2014  3.380952  11.428571  0.190476  0.380952  1.476190  0.619048   \n",
       "12   2014  1.400000   4.800000  0.000000  0.000000  1.200000  0.000000   \n",
       "\n",
       "           Koinadugu      Kono   Moyamba    National  Port Loko   Pujehun  \\\n",
       "date date                                                                   \n",
       "8    2014   0.250000  0.000000  0.300000   25.150000   3.150000  0.200000   \n",
       "9    2014   0.000000  0.965517  1.965517   40.689655   8.275862  0.482759   \n",
       "10   2014   1.214286  1.500000  1.750000   86.107143   8.964286  0.535714   \n",
       "11   2014   2.476190  3.190476  2.000000  112.714286  12.428571  0.285714   \n",
       "12   2014   0.200000  1.400000  0.600000   59.200000  14.200000  0.000000   \n",
       "\n",
       "           Tonkolili  Western area  Western area rural  Western area urban  \n",
       "date date                                                                   \n",
       "8    2014   0.850000           NaN            1.650000            2.500000  \n",
       "9    2014   2.482759           NaN            5.241379            7.620690  \n",
       "10   2014   5.714286     11.464286            7.892857            9.357143  \n",
       "11   2014   5.000000           NaN           11.809524           23.904762  \n",
       "12   2014   0.600000           NaN            5.200000           11.400000  "
      ]
     },
     "execution_count": 202,
     "metadata": {},
     "output_type": "execute_result"
    }
   ],
   "source": [
    "compute_daily_averages(sl, 'variable', sl_newcases, 'date')"
   ]
  },
  {
   "cell_type": "code",
   "execution_count": 203,
   "metadata": {
    "collapsed": true
   },
   "outputs": [],
   "source": [
    "all_files = glob.glob(DATA_FOLDER + r'/ebola/liberia_data/*.csv')\n",
    "\n",
    "frames = []\n",
    "\n",
    "for f in all_files:\n",
    "    new_frame = pd.read_csv(f)\n",
    "    frames.append(new_frame)\n",
    "    \n",
    "lib = pd.concat(frames)\n",
    "lib_deaths = ['Total death/s in confirmed, probable, suspected cases']\n",
    "lib_newcases = ['Newly reported contacts']"
   ]
  },
  {
   "cell_type": "code",
   "execution_count": 204,
   "metadata": {},
   "outputs": [
    {
     "data": {
      "text/plain": [
       "Bomi County           float64\n",
       "Bong County           float64\n",
       "Date                   object\n",
       "Gbarpolu County       float64\n",
       "Grand Bassa           float64\n",
       "Grand Cape Mount      float64\n",
       "Grand Gedeh           float64\n",
       "Grand Kru             float64\n",
       "Lofa County           float64\n",
       "Margibi County        float64\n",
       "Maryland County       float64\n",
       "Montserrado County    float64\n",
       "National              float64\n",
       "Nimba County          float64\n",
       "River Gee County      float64\n",
       "RiverCess County      float64\n",
       "Sinoe County          float64\n",
       "Unnamed: 18           float64\n",
       "Variable               object\n",
       "dtype: object"
      ]
     },
     "execution_count": 204,
     "metadata": {},
     "output_type": "execute_result"
    }
   ],
   "source": [
    "lib.dtypes"
   ]
  },
  {
   "cell_type": "code",
   "execution_count": 205,
   "metadata": {},
   "outputs": [
    {
     "data": {
      "text/html": [
       "<div>\n",
       "<style>\n",
       "    .dataframe thead tr:only-child th {\n",
       "        text-align: right;\n",
       "    }\n",
       "\n",
       "    .dataframe thead th {\n",
       "        text-align: left;\n",
       "    }\n",
       "\n",
       "    .dataframe tbody tr th {\n",
       "        vertical-align: top;\n",
       "    }\n",
       "</style>\n",
       "<table border=\"1\" class=\"dataframe\">\n",
       "  <thead>\n",
       "    <tr style=\"text-align: right;\">\n",
       "      <th></th>\n",
       "      <th></th>\n",
       "      <th>Bomi County</th>\n",
       "      <th>Bong County</th>\n",
       "      <th>Gbarpolu County</th>\n",
       "      <th>Grand Bassa</th>\n",
       "      <th>Grand Cape Mount</th>\n",
       "      <th>Grand Gedeh</th>\n",
       "      <th>Grand Kru</th>\n",
       "      <th>Lofa County</th>\n",
       "      <th>Margibi County</th>\n",
       "      <th>Maryland County</th>\n",
       "      <th>Montserrado County</th>\n",
       "      <th>National</th>\n",
       "      <th>Nimba County</th>\n",
       "      <th>River Gee County</th>\n",
       "      <th>RiverCess County</th>\n",
       "      <th>Sinoe County</th>\n",
       "    </tr>\n",
       "    <tr>\n",
       "      <th>Date</th>\n",
       "      <th>Date</th>\n",
       "      <th></th>\n",
       "      <th></th>\n",
       "      <th></th>\n",
       "      <th></th>\n",
       "      <th></th>\n",
       "      <th></th>\n",
       "      <th></th>\n",
       "      <th></th>\n",
       "      <th></th>\n",
       "      <th></th>\n",
       "      <th></th>\n",
       "      <th></th>\n",
       "      <th></th>\n",
       "      <th></th>\n",
       "      <th></th>\n",
       "      <th></th>\n",
       "    </tr>\n",
       "  </thead>\n",
       "  <tbody>\n",
       "    <tr>\n",
       "      <th>6</th>\n",
       "      <th>2014</th>\n",
       "      <td>0.000000</td>\n",
       "      <td>0.000000</td>\n",
       "      <td>NaN</td>\n",
       "      <td>NaN</td>\n",
       "      <td>NaN</td>\n",
       "      <td>NaN</td>\n",
       "      <td>0.000000</td>\n",
       "      <td>9.285714</td>\n",
       "      <td>0.000000</td>\n",
       "      <td>0.000000</td>\n",
       "      <td>17.857143</td>\n",
       "      <td>27.142857</td>\n",
       "      <td>0.000000</td>\n",
       "      <td>0.000000</td>\n",
       "      <td>0.000000</td>\n",
       "      <td>0.000000</td>\n",
       "    </tr>\n",
       "    <tr>\n",
       "      <th>7</th>\n",
       "      <th>2014</th>\n",
       "      <td>0.000000</td>\n",
       "      <td>2.818182</td>\n",
       "      <td>0.00</td>\n",
       "      <td>0.000000</td>\n",
       "      <td>0.000000</td>\n",
       "      <td>0.0</td>\n",
       "      <td>0.000000</td>\n",
       "      <td>10.909091</td>\n",
       "      <td>0.000000</td>\n",
       "      <td>0.000000</td>\n",
       "      <td>7.272727</td>\n",
       "      <td>21.000000</td>\n",
       "      <td>0.000000</td>\n",
       "      <td>0.000000</td>\n",
       "      <td>0.000000</td>\n",
       "      <td>0.000000</td>\n",
       "    </tr>\n",
       "    <tr>\n",
       "      <th>8</th>\n",
       "      <th>2014</th>\n",
       "      <td>1.222222</td>\n",
       "      <td>19.111111</td>\n",
       "      <td>NaN</td>\n",
       "      <td>1.111111</td>\n",
       "      <td>0.000000</td>\n",
       "      <td>0.0</td>\n",
       "      <td>NaN</td>\n",
       "      <td>12.000000</td>\n",
       "      <td>10.111111</td>\n",
       "      <td>NaN</td>\n",
       "      <td>69.777778</td>\n",
       "      <td>129.222222</td>\n",
       "      <td>14.111111</td>\n",
       "      <td>1.111111</td>\n",
       "      <td>0.666667</td>\n",
       "      <td>0.000000</td>\n",
       "    </tr>\n",
       "    <tr>\n",
       "      <th>9</th>\n",
       "      <th>2014</th>\n",
       "      <td>19.416667</td>\n",
       "      <td>7.291667</td>\n",
       "      <td>0.00</td>\n",
       "      <td>4.916667</td>\n",
       "      <td>0.458333</td>\n",
       "      <td>0.0</td>\n",
       "      <td>0.833333</td>\n",
       "      <td>9.000000</td>\n",
       "      <td>37.125000</td>\n",
       "      <td>0.000000</td>\n",
       "      <td>149.416667</td>\n",
       "      <td>246.291667</td>\n",
       "      <td>16.916667</td>\n",
       "      <td>0.458333</td>\n",
       "      <td>0.000000</td>\n",
       "      <td>0.458333</td>\n",
       "    </tr>\n",
       "    <tr>\n",
       "      <th>10</th>\n",
       "      <th>2014</th>\n",
       "      <td>5.840000</td>\n",
       "      <td>8.400000</td>\n",
       "      <td>0.24</td>\n",
       "      <td>1.320000</td>\n",
       "      <td>6.560000</td>\n",
       "      <td>0.4</td>\n",
       "      <td>0.840000</td>\n",
       "      <td>4.560000</td>\n",
       "      <td>12.280000</td>\n",
       "      <td>0.000000</td>\n",
       "      <td>160.840000</td>\n",
       "      <td>205.640000</td>\n",
       "      <td>2.120000</td>\n",
       "      <td>0.000000</td>\n",
       "      <td>0.920000</td>\n",
       "      <td>1.320000</td>\n",
       "    </tr>\n",
       "    <tr>\n",
       "      <th>11</th>\n",
       "      <th>2014</th>\n",
       "      <td>0.733333</td>\n",
       "      <td>1.866667</td>\n",
       "      <td>0.00</td>\n",
       "      <td>3.200000</td>\n",
       "      <td>16.000000</td>\n",
       "      <td>0.0</td>\n",
       "      <td>0.333333</td>\n",
       "      <td>2.600000</td>\n",
       "      <td>13.133333</td>\n",
       "      <td>2.266667</td>\n",
       "      <td>100.933333</td>\n",
       "      <td>139.533333</td>\n",
       "      <td>0.000000</td>\n",
       "      <td>0.000000</td>\n",
       "      <td>0.000000</td>\n",
       "      <td>4.533333</td>\n",
       "    </tr>\n",
       "    <tr>\n",
       "      <th>12</th>\n",
       "      <th>2014</th>\n",
       "      <td>0.000000</td>\n",
       "      <td>1.777778</td>\n",
       "      <td>0.00</td>\n",
       "      <td>1.222222</td>\n",
       "      <td>3.111111</td>\n",
       "      <td>0.0</td>\n",
       "      <td>0.000000</td>\n",
       "      <td>0.000000</td>\n",
       "      <td>4.222222</td>\n",
       "      <td>0.000000</td>\n",
       "      <td>37.444444</td>\n",
       "      <td>48.000000</td>\n",
       "      <td>0.000000</td>\n",
       "      <td>0.000000</td>\n",
       "      <td>0.000000</td>\n",
       "      <td>0.222222</td>\n",
       "    </tr>\n",
       "  </tbody>\n",
       "</table>\n",
       "</div>"
      ],
      "text/plain": [
       "           Bomi County  Bong County  Gbarpolu County  Grand Bassa  \\\n",
       "Date Date                                                           \n",
       "6    2014     0.000000     0.000000              NaN          NaN   \n",
       "7    2014     0.000000     2.818182             0.00     0.000000   \n",
       "8    2014     1.222222    19.111111              NaN     1.111111   \n",
       "9    2014    19.416667     7.291667             0.00     4.916667   \n",
       "10   2014     5.840000     8.400000             0.24     1.320000   \n",
       "11   2014     0.733333     1.866667             0.00     3.200000   \n",
       "12   2014     0.000000     1.777778             0.00     1.222222   \n",
       "\n",
       "           Grand Cape Mount  Grand Gedeh  Grand Kru  Lofa County  \\\n",
       "Date Date                                                          \n",
       "6    2014               NaN          NaN   0.000000     9.285714   \n",
       "7    2014          0.000000          0.0   0.000000    10.909091   \n",
       "8    2014          0.000000          0.0        NaN    12.000000   \n",
       "9    2014          0.458333          0.0   0.833333     9.000000   \n",
       "10   2014          6.560000          0.4   0.840000     4.560000   \n",
       "11   2014         16.000000          0.0   0.333333     2.600000   \n",
       "12   2014          3.111111          0.0   0.000000     0.000000   \n",
       "\n",
       "           Margibi County  Maryland County  Montserrado County    National  \\\n",
       "Date Date                                                                    \n",
       "6    2014        0.000000         0.000000           17.857143   27.142857   \n",
       "7    2014        0.000000         0.000000            7.272727   21.000000   \n",
       "8    2014       10.111111              NaN           69.777778  129.222222   \n",
       "9    2014       37.125000         0.000000          149.416667  246.291667   \n",
       "10   2014       12.280000         0.000000          160.840000  205.640000   \n",
       "11   2014       13.133333         2.266667          100.933333  139.533333   \n",
       "12   2014        4.222222         0.000000           37.444444   48.000000   \n",
       "\n",
       "           Nimba County  River Gee County  RiverCess County  Sinoe County  \n",
       "Date Date                                                                  \n",
       "6    2014      0.000000          0.000000          0.000000      0.000000  \n",
       "7    2014      0.000000          0.000000          0.000000      0.000000  \n",
       "8    2014     14.111111          1.111111          0.666667      0.000000  \n",
       "9    2014     16.916667          0.458333          0.000000      0.458333  \n",
       "10   2014      2.120000          0.000000          0.920000      1.320000  \n",
       "11   2014      0.000000          0.000000          0.000000      4.533333  \n",
       "12   2014      0.000000          0.000000          0.000000      0.222222  "
      ]
     },
     "execution_count": 205,
     "metadata": {},
     "output_type": "execute_result"
    }
   ],
   "source": [
    "compute_daily_averages(lib, 'Variable', lib_newcases, 'Date')"
   ]
  },
  {
   "cell_type": "code",
   "execution_count": 206,
   "metadata": {},
   "outputs": [
    {
     "data": {
      "text/html": [
       "<div>\n",
       "<style>\n",
       "    .dataframe thead tr:only-child th {\n",
       "        text-align: right;\n",
       "    }\n",
       "\n",
       "    .dataframe thead th {\n",
       "        text-align: left;\n",
       "    }\n",
       "\n",
       "    .dataframe tbody tr th {\n",
       "        vertical-align: top;\n",
       "    }\n",
       "</style>\n",
       "<table border=\"1\" class=\"dataframe\">\n",
       "  <thead>\n",
       "    <tr style=\"text-align: right;\">\n",
       "      <th></th>\n",
       "      <th></th>\n",
       "      <th>Bomi County</th>\n",
       "      <th>Bong County</th>\n",
       "      <th>Gbarpolu County</th>\n",
       "      <th>Grand Bassa</th>\n",
       "      <th>Grand Cape Mount</th>\n",
       "      <th>Grand Gedeh</th>\n",
       "      <th>Grand Kru</th>\n",
       "      <th>Lofa County</th>\n",
       "      <th>Margibi County</th>\n",
       "      <th>Maryland County</th>\n",
       "      <th>Montserrado County</th>\n",
       "      <th>National</th>\n",
       "      <th>Nimba County</th>\n",
       "      <th>River Gee County</th>\n",
       "      <th>RiverCess County</th>\n",
       "      <th>Sinoe County</th>\n",
       "    </tr>\n",
       "    <tr>\n",
       "      <th>Date</th>\n",
       "      <th>Date</th>\n",
       "      <th></th>\n",
       "      <th></th>\n",
       "      <th></th>\n",
       "      <th></th>\n",
       "      <th></th>\n",
       "      <th></th>\n",
       "      <th></th>\n",
       "      <th></th>\n",
       "      <th></th>\n",
       "      <th></th>\n",
       "      <th></th>\n",
       "      <th></th>\n",
       "      <th></th>\n",
       "      <th></th>\n",
       "      <th></th>\n",
       "      <th></th>\n",
       "    </tr>\n",
       "  </thead>\n",
       "  <tbody>\n",
       "    <tr>\n",
       "      <th>6</th>\n",
       "      <th>2014</th>\n",
       "      <td>0.000000</td>\n",
       "      <td>0.000000</td>\n",
       "      <td>NaN</td>\n",
       "      <td>NaN</td>\n",
       "      <td>NaN</td>\n",
       "      <td>NaN</td>\n",
       "      <td>0.000000</td>\n",
       "      <td>17.142857</td>\n",
       "      <td>0.571429</td>\n",
       "      <td>0.000000</td>\n",
       "      <td>13.142857</td>\n",
       "      <td>32.000000</td>\n",
       "      <td>0.000000</td>\n",
       "      <td>0.000000</td>\n",
       "      <td>0.000000</td>\n",
       "      <td>0.000000</td>\n",
       "    </tr>\n",
       "    <tr>\n",
       "      <th>7</th>\n",
       "      <th>2014</th>\n",
       "      <td>0.909091</td>\n",
       "      <td>1.545455</td>\n",
       "      <td>0.000000</td>\n",
       "      <td>0.000000</td>\n",
       "      <td>0.000000</td>\n",
       "      <td>0.181818</td>\n",
       "      <td>0.000000</td>\n",
       "      <td>47.454545</td>\n",
       "      <td>2.181818</td>\n",
       "      <td>0.000000</td>\n",
       "      <td>42.181818</td>\n",
       "      <td>94.454545</td>\n",
       "      <td>0.000000</td>\n",
       "      <td>0.000000</td>\n",
       "      <td>0.000000</td>\n",
       "      <td>0.000000</td>\n",
       "    </tr>\n",
       "    <tr>\n",
       "      <th>8</th>\n",
       "      <th>2014</th>\n",
       "      <td>16.555556</td>\n",
       "      <td>26.000000</td>\n",
       "      <td>NaN</td>\n",
       "      <td>2.888889</td>\n",
       "      <td>5.111111</td>\n",
       "      <td>0.777778</td>\n",
       "      <td>NaN</td>\n",
       "      <td>202.888889</td>\n",
       "      <td>39.111111</td>\n",
       "      <td>13.333333</td>\n",
       "      <td>186.222222</td>\n",
       "      <td>518.111111</td>\n",
       "      <td>23.222222</td>\n",
       "      <td>1.111111</td>\n",
       "      <td>0.888889</td>\n",
       "      <td>0.000000</td>\n",
       "    </tr>\n",
       "    <tr>\n",
       "      <th>9</th>\n",
       "      <th>2014</th>\n",
       "      <td>49.250000</td>\n",
       "      <td>64.250000</td>\n",
       "      <td>0.000000</td>\n",
       "      <td>21.708333</td>\n",
       "      <td>12.291667</td>\n",
       "      <td>1.916667</td>\n",
       "      <td>2.708333</td>\n",
       "      <td>360.750000</td>\n",
       "      <td>171.166667</td>\n",
       "      <td>4.166667</td>\n",
       "      <td>624.333333</td>\n",
       "      <td>1417.291667</td>\n",
       "      <td>95.666667</td>\n",
       "      <td>5.166667</td>\n",
       "      <td>3.000000</td>\n",
       "      <td>0.916667</td>\n",
       "    </tr>\n",
       "    <tr>\n",
       "      <th>10</th>\n",
       "      <th>2014</th>\n",
       "      <td>66.608696</td>\n",
       "      <td>121.782609</td>\n",
       "      <td>4.086957</td>\n",
       "      <td>41.565217</td>\n",
       "      <td>23.869565</td>\n",
       "      <td>3.000000</td>\n",
       "      <td>31.217391</td>\n",
       "      <td>423.130435</td>\n",
       "      <td>324.130435</td>\n",
       "      <td>65.869565</td>\n",
       "      <td>1057.913043</td>\n",
       "      <td>2387.217391</td>\n",
       "      <td>103.521739</td>\n",
       "      <td>6.478261</td>\n",
       "      <td>7.652174</td>\n",
       "      <td>5.130435</td>\n",
       "    </tr>\n",
       "    <tr>\n",
       "      <th>11</th>\n",
       "      <th>2014</th>\n",
       "      <td>85.000000</td>\n",
       "      <td>77.000000</td>\n",
       "      <td>3.000000</td>\n",
       "      <td>50.000000</td>\n",
       "      <td>43.000000</td>\n",
       "      <td>3.000000</td>\n",
       "      <td>22.000000</td>\n",
       "      <td>346.000000</td>\n",
       "      <td>516.000000</td>\n",
       "      <td>14.000000</td>\n",
       "      <td>1465.000000</td>\n",
       "      <td>2700.000000</td>\n",
       "      <td>44.000000</td>\n",
       "      <td>8.000000</td>\n",
       "      <td>14.000000</td>\n",
       "      <td>10.000000</td>\n",
       "    </tr>\n",
       "  </tbody>\n",
       "</table>\n",
       "</div>"
      ],
      "text/plain": [
       "           Bomi County  Bong County  Gbarpolu County  Grand Bassa  \\\n",
       "Date Date                                                           \n",
       "6    2014     0.000000     0.000000              NaN          NaN   \n",
       "7    2014     0.909091     1.545455         0.000000     0.000000   \n",
       "8    2014    16.555556    26.000000              NaN     2.888889   \n",
       "9    2014    49.250000    64.250000         0.000000    21.708333   \n",
       "10   2014    66.608696   121.782609         4.086957    41.565217   \n",
       "11   2014    85.000000    77.000000         3.000000    50.000000   \n",
       "\n",
       "           Grand Cape Mount  Grand Gedeh  Grand Kru  Lofa County  \\\n",
       "Date Date                                                          \n",
       "6    2014               NaN          NaN   0.000000    17.142857   \n",
       "7    2014          0.000000     0.181818   0.000000    47.454545   \n",
       "8    2014          5.111111     0.777778        NaN   202.888889   \n",
       "9    2014         12.291667     1.916667   2.708333   360.750000   \n",
       "10   2014         23.869565     3.000000  31.217391   423.130435   \n",
       "11   2014         43.000000     3.000000  22.000000   346.000000   \n",
       "\n",
       "           Margibi County  Maryland County  Montserrado County     National  \\\n",
       "Date Date                                                                     \n",
       "6    2014        0.571429         0.000000           13.142857    32.000000   \n",
       "7    2014        2.181818         0.000000           42.181818    94.454545   \n",
       "8    2014       39.111111        13.333333          186.222222   518.111111   \n",
       "9    2014      171.166667         4.166667          624.333333  1417.291667   \n",
       "10   2014      324.130435        65.869565         1057.913043  2387.217391   \n",
       "11   2014      516.000000        14.000000         1465.000000  2700.000000   \n",
       "\n",
       "           Nimba County  River Gee County  RiverCess County  Sinoe County  \n",
       "Date Date                                                                  \n",
       "6    2014      0.000000          0.000000          0.000000      0.000000  \n",
       "7    2014      0.000000          0.000000          0.000000      0.000000  \n",
       "8    2014     23.222222          1.111111          0.888889      0.000000  \n",
       "9    2014     95.666667          5.166667          3.000000      0.916667  \n",
       "10   2014    103.521739          6.478261          7.652174      5.130435  \n",
       "11   2014     44.000000          8.000000         14.000000     10.000000  "
      ]
     },
     "execution_count": 206,
     "metadata": {},
     "output_type": "execute_result"
    }
   ],
   "source": [
    "compute_daily_averages(lib, 'Variable', lib_deaths, 'Date')"
   ]
  },
  {
   "cell_type": "code",
   "execution_count": 207,
   "metadata": {
    "collapsed": true
   },
   "outputs": [],
   "source": [
    "all_files = glob.glob(DATA_FOLDER + r'/ebola/guinea_data/*.csv')\n",
    "\n",
    "frames = []\n",
    "\n",
    "for f in all_files:\n",
    "    new_frame = pd.read_csv(f)\n",
    "    frames.append(new_frame)\n",
    "    \n",
    "guinea = pd.concat(frames)\n",
    "#not sure whether to include \"New deaths registered among health workers\"\n",
    "guinea_deaths = ['New deaths registered']\n",
    "#not sure whether to include \"New cases of confirmed among health workers\"\n",
    "guinea_newcases = ['New cases of suspects', 'New cases of probables', 'New cases of confirmed']"
   ]
  },
  {
   "cell_type": "code",
   "execution_count": null,
   "metadata": {
    "collapsed": true
   },
   "outputs": [],
   "source": []
  },
  {
   "cell_type": "code",
   "execution_count": 208,
   "metadata": {
    "collapsed": true
   },
   "outputs": [],
   "source": [
    "for c in guinea.columns.difference(['Date', 'Description']):\n",
    "    \n",
    "    guinea[guinea.Description.isin(guinea_newcases+guinea_deaths)][c] = guinea[guinea.Description.isin(guinea_newcases+guinea_deaths)][c].astype(float)"
   ]
  },
  {
   "cell_type": "code",
   "execution_count": null,
   "metadata": {
    "collapsed": true
   },
   "outputs": [],
   "source": []
  },
  {
   "cell_type": "code",
   "execution_count": 209,
   "metadata": {},
   "outputs": [
    {
     "ename": "ValueError",
     "evalue": "operands could not be broadcast together with shapes (18,) (3,) ",
     "output_type": "error",
     "traceback": [
      "\u001b[1;31m---------------------------------------------------------------------------\u001b[0m",
      "\u001b[1;31mTypeError\u001b[0m                                 Traceback (most recent call last)",
      "\u001b[1;32mC:\\Users\\nspace\\Anaconda3\\lib\\site-packages\\pandas\\core\\ops.py\u001b[0m in \u001b[0;36mna_op\u001b[1;34m(x, y)\u001b[0m\n\u001b[0;32m   1175\u001b[0m             result = expressions.evaluate(op, str_rep, x, y,\n\u001b[1;32m-> 1176\u001b[1;33m                                           raise_on_error=True, **eval_kwargs)\n\u001b[0m\u001b[0;32m   1177\u001b[0m         \u001b[1;32mexcept\u001b[0m \u001b[0mTypeError\u001b[0m\u001b[1;33m:\u001b[0m\u001b[1;33m\u001b[0m\u001b[0m\n",
      "\u001b[1;32mC:\\Users\\nspace\\Anaconda3\\lib\\site-packages\\pandas\\core\\computation\\expressions.py\u001b[0m in \u001b[0;36mevaluate\u001b[1;34m(op, op_str, a, b, raise_on_error, use_numexpr, **eval_kwargs)\u001b[0m\n\u001b[0;32m    210\u001b[0m         return _evaluate(op, op_str, a, b, raise_on_error=raise_on_error,\n\u001b[1;32m--> 211\u001b[1;33m                          **eval_kwargs)\n\u001b[0m\u001b[0;32m    212\u001b[0m     \u001b[1;32mreturn\u001b[0m \u001b[0m_evaluate_standard\u001b[0m\u001b[1;33m(\u001b[0m\u001b[0mop\u001b[0m\u001b[1;33m,\u001b[0m \u001b[0mop_str\u001b[0m\u001b[1;33m,\u001b[0m \u001b[0ma\u001b[0m\u001b[1;33m,\u001b[0m \u001b[0mb\u001b[0m\u001b[1;33m,\u001b[0m \u001b[0mraise_on_error\u001b[0m\u001b[1;33m=\u001b[0m\u001b[0mraise_on_error\u001b[0m\u001b[1;33m)\u001b[0m\u001b[1;33m\u001b[0m\u001b[0m\n",
      "\u001b[1;32mC:\\Users\\nspace\\Anaconda3\\lib\\site-packages\\pandas\\core\\computation\\expressions.py\u001b[0m in \u001b[0;36m_evaluate_numexpr\u001b[1;34m(op, op_str, a, b, raise_on_error, truediv, reversed, **eval_kwargs)\u001b[0m\n\u001b[0;32m    121\u001b[0m     \u001b[1;32mif\u001b[0m \u001b[0mresult\u001b[0m \u001b[1;32mis\u001b[0m \u001b[1;32mNone\u001b[0m\u001b[1;33m:\u001b[0m\u001b[1;33m\u001b[0m\u001b[0m\n\u001b[1;32m--> 122\u001b[1;33m         \u001b[0mresult\u001b[0m \u001b[1;33m=\u001b[0m \u001b[0m_evaluate_standard\u001b[0m\u001b[1;33m(\u001b[0m\u001b[0mop\u001b[0m\u001b[1;33m,\u001b[0m \u001b[0mop_str\u001b[0m\u001b[1;33m,\u001b[0m \u001b[0ma\u001b[0m\u001b[1;33m,\u001b[0m \u001b[0mb\u001b[0m\u001b[1;33m,\u001b[0m \u001b[0mraise_on_error\u001b[0m\u001b[1;33m)\u001b[0m\u001b[1;33m\u001b[0m\u001b[0m\n\u001b[0m\u001b[0;32m    123\u001b[0m \u001b[1;33m\u001b[0m\u001b[0m\n",
      "\u001b[1;32mC:\\Users\\nspace\\Anaconda3\\lib\\site-packages\\pandas\\core\\computation\\expressions.py\u001b[0m in \u001b[0;36m_evaluate_standard\u001b[1;34m(op, op_str, a, b, raise_on_error, **eval_kwargs)\u001b[0m\n\u001b[0;32m     63\u001b[0m     \u001b[1;32mwith\u001b[0m \u001b[0mnp\u001b[0m\u001b[1;33m.\u001b[0m\u001b[0merrstate\u001b[0m\u001b[1;33m(\u001b[0m\u001b[0mall\u001b[0m\u001b[1;33m=\u001b[0m\u001b[1;34m'ignore'\u001b[0m\u001b[1;33m)\u001b[0m\u001b[1;33m:\u001b[0m\u001b[1;33m\u001b[0m\u001b[0m\n\u001b[1;32m---> 64\u001b[1;33m         \u001b[1;32mreturn\u001b[0m \u001b[0mop\u001b[0m\u001b[1;33m(\u001b[0m\u001b[0ma\u001b[0m\u001b[1;33m,\u001b[0m \u001b[0mb\u001b[0m\u001b[1;33m)\u001b[0m\u001b[1;33m\u001b[0m\u001b[0m\n\u001b[0m\u001b[0;32m     65\u001b[0m \u001b[1;33m\u001b[0m\u001b[0m\n",
      "\u001b[1;31mTypeError\u001b[0m: unsupported operand type(s) for /: 'str' and 'int'",
      "\nDuring handling of the above exception, another exception occurred:\n",
      "\u001b[1;31mValueError\u001b[0m                                Traceback (most recent call last)",
      "\u001b[1;32m<ipython-input-209-0ebf7665614c>\u001b[0m in \u001b[0;36m<module>\u001b[1;34m()\u001b[0m\n\u001b[1;32m----> 1\u001b[1;33m \u001b[0mcompute_daily_averages\u001b[0m\u001b[1;33m(\u001b[0m\u001b[0mguinea\u001b[0m\u001b[1;33m,\u001b[0m \u001b[1;34m'Description'\u001b[0m\u001b[1;33m,\u001b[0m \u001b[0mguinea_newcases\u001b[0m\u001b[1;33m,\u001b[0m \u001b[1;34m'Date'\u001b[0m\u001b[1;33m)\u001b[0m\u001b[1;33m\u001b[0m\u001b[0m\n\u001b[0m",
      "\u001b[1;32m<ipython-input-200-557baed8baf9>\u001b[0m in \u001b[0;36mcompute_daily_averages\u001b[1;34m(df, variable_column_name, variables_to_average, date_column_name)\u001b[0m\n\u001b[0;32m      5\u001b[0m     \u001b[0mndays\u001b[0m \u001b[1;33m=\u001b[0m \u001b[0mg\u001b[0m\u001b[1;33m[\u001b[0m\u001b[0mdate_column_name\u001b[0m\u001b[1;33m]\u001b[0m\u001b[1;33m.\u001b[0m\u001b[0mnunique\u001b[0m\u001b[1;33m(\u001b[0m\u001b[1;33m)\u001b[0m\u001b[1;33m\u001b[0m\u001b[0m\n\u001b[0;32m      6\u001b[0m \u001b[1;33m\u001b[0m\u001b[0m\n\u001b[1;32m----> 7\u001b[1;33m     \u001b[0mavg_df\u001b[0m \u001b[1;33m=\u001b[0m \u001b[0mg\u001b[0m\u001b[1;33m.\u001b[0m\u001b[0msum\u001b[0m\u001b[1;33m(\u001b[0m\u001b[1;33m)\u001b[0m\u001b[1;33m.\u001b[0m\u001b[0mdiv\u001b[0m\u001b[1;33m(\u001b[0m\u001b[0mndays\u001b[0m\u001b[1;33m,\u001b[0m \u001b[0maxis\u001b[0m\u001b[1;33m=\u001b[0m\u001b[1;34m'rows'\u001b[0m\u001b[1;33m)\u001b[0m\u001b[1;33m\u001b[0m\u001b[0m\n\u001b[0m\u001b[0;32m      8\u001b[0m     \u001b[1;32mreturn\u001b[0m \u001b[0mavg_df\u001b[0m\u001b[1;33m.\u001b[0m\u001b[0mdropna\u001b[0m\u001b[1;33m(\u001b[0m\u001b[0maxis\u001b[0m\u001b[1;33m=\u001b[0m\u001b[1;36m1\u001b[0m\u001b[1;33m,\u001b[0m \u001b[0mhow\u001b[0m\u001b[1;33m=\u001b[0m\u001b[1;34m'all'\u001b[0m\u001b[1;33m)\u001b[0m\u001b[1;33m\u001b[0m\u001b[0m\n",
      "\u001b[1;32mC:\\Users\\nspace\\Anaconda3\\lib\\site-packages\\pandas\\core\\ops.py\u001b[0m in \u001b[0;36mf\u001b[1;34m(self, other, axis, level, fill_value)\u001b[0m\n\u001b[0;32m   1234\u001b[0m             \u001b[1;32mreturn\u001b[0m \u001b[0mself\u001b[0m\u001b[1;33m.\u001b[0m\u001b[0m_combine_frame\u001b[0m\u001b[1;33m(\u001b[0m\u001b[0mother\u001b[0m\u001b[1;33m,\u001b[0m \u001b[0mna_op\u001b[0m\u001b[1;33m,\u001b[0m \u001b[0mfill_value\u001b[0m\u001b[1;33m,\u001b[0m \u001b[0mlevel\u001b[0m\u001b[1;33m)\u001b[0m\u001b[1;33m\u001b[0m\u001b[0m\n\u001b[0;32m   1235\u001b[0m         \u001b[1;32melif\u001b[0m \u001b[0misinstance\u001b[0m\u001b[1;33m(\u001b[0m\u001b[0mother\u001b[0m\u001b[1;33m,\u001b[0m \u001b[0mABCSeries\u001b[0m\u001b[1;33m)\u001b[0m\u001b[1;33m:\u001b[0m\u001b[1;33m\u001b[0m\u001b[0m\n\u001b[1;32m-> 1236\u001b[1;33m             \u001b[1;32mreturn\u001b[0m \u001b[0mself\u001b[0m\u001b[1;33m.\u001b[0m\u001b[0m_combine_series\u001b[0m\u001b[1;33m(\u001b[0m\u001b[0mother\u001b[0m\u001b[1;33m,\u001b[0m \u001b[0mna_op\u001b[0m\u001b[1;33m,\u001b[0m \u001b[0mfill_value\u001b[0m\u001b[1;33m,\u001b[0m \u001b[0maxis\u001b[0m\u001b[1;33m,\u001b[0m \u001b[0mlevel\u001b[0m\u001b[1;33m)\u001b[0m\u001b[1;33m\u001b[0m\u001b[0m\n\u001b[0m\u001b[0;32m   1237\u001b[0m         \u001b[1;32melse\u001b[0m\u001b[1;33m:\u001b[0m\u001b[1;33m\u001b[0m\u001b[0m\n\u001b[0;32m   1238\u001b[0m             \u001b[1;32mif\u001b[0m \u001b[0mfill_value\u001b[0m \u001b[1;32mis\u001b[0m \u001b[1;32mnot\u001b[0m \u001b[1;32mNone\u001b[0m\u001b[1;33m:\u001b[0m\u001b[1;33m\u001b[0m\u001b[0m\n",
      "\u001b[1;32mC:\\Users\\nspace\\Anaconda3\\lib\\site-packages\\pandas\\core\\frame.py\u001b[0m in \u001b[0;36m_combine_series\u001b[1;34m(self, other, func, fill_value, axis, level)\u001b[0m\n\u001b[0;32m   3597\u001b[0m             \u001b[1;32mif\u001b[0m \u001b[0maxis\u001b[0m \u001b[1;33m==\u001b[0m \u001b[1;34m'index'\u001b[0m\u001b[1;33m:\u001b[0m\u001b[1;33m\u001b[0m\u001b[0m\n\u001b[0;32m   3598\u001b[0m                 return self._combine_match_index(other, func, level=level,\n\u001b[1;32m-> 3599\u001b[1;33m                                                  fill_value=fill_value)\n\u001b[0m\u001b[0;32m   3600\u001b[0m             \u001b[1;32melse\u001b[0m\u001b[1;33m:\u001b[0m\u001b[1;33m\u001b[0m\u001b[0m\n\u001b[0;32m   3601\u001b[0m                 return self._combine_match_columns(other, func, level=level,\n",
      "\u001b[1;32mC:\\Users\\nspace\\Anaconda3\\lib\\site-packages\\pandas\\core\\frame.py\u001b[0m in \u001b[0;36m_combine_match_index\u001b[1;34m(self, other, func, level, fill_value)\u001b[0m\n\u001b[0;32m   3622\u001b[0m             raise NotImplementedError(\"fill_value %r not supported.\" %\n\u001b[0;32m   3623\u001b[0m                                       fill_value)\n\u001b[1;32m-> 3624\u001b[1;33m         return self._constructor(func(left.values.T, right.values).T,\n\u001b[0m\u001b[0;32m   3625\u001b[0m                                  \u001b[0mindex\u001b[0m\u001b[1;33m=\u001b[0m\u001b[0mleft\u001b[0m\u001b[1;33m.\u001b[0m\u001b[0mindex\u001b[0m\u001b[1;33m,\u001b[0m \u001b[0mcolumns\u001b[0m\u001b[1;33m=\u001b[0m\u001b[0mself\u001b[0m\u001b[1;33m.\u001b[0m\u001b[0mcolumns\u001b[0m\u001b[1;33m,\u001b[0m\u001b[1;33m\u001b[0m\u001b[0m\n\u001b[0;32m   3626\u001b[0m                                  copy=False)\n",
      "\u001b[1;32mC:\\Users\\nspace\\Anaconda3\\lib\\site-packages\\pandas\\core\\ops.py\u001b[0m in \u001b[0;36mna_op\u001b[1;34m(x, y)\u001b[0m\n\u001b[0;32m   1181\u001b[0m                 \u001b[0mresult\u001b[0m \u001b[1;33m=\u001b[0m \u001b[0mnp\u001b[0m\u001b[1;33m.\u001b[0m\u001b[0mempty\u001b[0m\u001b[1;33m(\u001b[0m\u001b[0mx\u001b[0m\u001b[1;33m.\u001b[0m\u001b[0msize\u001b[0m\u001b[1;33m,\u001b[0m \u001b[0mdtype\u001b[0m\u001b[1;33m=\u001b[0m\u001b[0mdtype\u001b[0m\u001b[1;33m)\u001b[0m\u001b[1;33m\u001b[0m\u001b[0m\n\u001b[0;32m   1182\u001b[0m                 \u001b[0myrav\u001b[0m \u001b[1;33m=\u001b[0m \u001b[0my\u001b[0m\u001b[1;33m.\u001b[0m\u001b[0mravel\u001b[0m\u001b[1;33m(\u001b[0m\u001b[1;33m)\u001b[0m\u001b[1;33m\u001b[0m\u001b[0m\n\u001b[1;32m-> 1183\u001b[1;33m                 \u001b[0mmask\u001b[0m \u001b[1;33m=\u001b[0m \u001b[0mnotnull\u001b[0m\u001b[1;33m(\u001b[0m\u001b[0mxrav\u001b[0m\u001b[1;33m)\u001b[0m \u001b[1;33m&\u001b[0m \u001b[0mnotnull\u001b[0m\u001b[1;33m(\u001b[0m\u001b[0myrav\u001b[0m\u001b[1;33m)\u001b[0m\u001b[1;33m\u001b[0m\u001b[0m\n\u001b[0m\u001b[0;32m   1184\u001b[0m                 \u001b[0mxrav\u001b[0m \u001b[1;33m=\u001b[0m \u001b[0mxrav\u001b[0m\u001b[1;33m[\u001b[0m\u001b[0mmask\u001b[0m\u001b[1;33m]\u001b[0m\u001b[1;33m\u001b[0m\u001b[0m\n\u001b[0;32m   1185\u001b[0m \u001b[1;33m\u001b[0m\u001b[0m\n",
      "\u001b[1;31mValueError\u001b[0m: operands could not be broadcast together with shapes (18,) (3,) "
     ]
    }
   ],
   "source": [
    "compute_daily_averages(guinea, 'Description', guinea_newcases, 'Date')"
   ]
  },
  {
   "cell_type": "markdown",
   "metadata": {},
   "source": [
    "## Task 2. RNA Sequences\n",
    "\n",
    "In the `DATA_FOLDER/microbiome` subdirectory, there are 9 spreadsheets of microbiome data that was acquired from high-throughput RNA sequencing procedures, along with a 10<sup>th</sup> file that describes the content of each. \n",
    "\n",
    "Use pandas to import the first 9 spreadsheets into a single `DataFrame`.\n",
    "Then, add the metadata information from the 10<sup>th</sup> spreadsheet as columns in the combined `DataFrame`.\n",
    "Make sure that the final `DataFrame` has a unique index and all the `NaN` values have been replaced by the tag `unknown`."
   ]
  },
  {
   "cell_type": "code",
   "execution_count": null,
   "metadata": {
    "collapsed": true
   },
   "outputs": [],
   "source": [
    "data_folder = DATA_FOLDER + '/microbiome'\n",
    "data_files = glob.glob(data_folder + r'/MID*.xls')\n",
    "metadata_file = data_folder + '/metadata.xls'"
   ]
  },
  {
   "cell_type": "code",
   "execution_count": null,
   "metadata": {
    "collapsed": true
   },
   "outputs": [],
   "source": [
    "data_frames = []\n",
    "for f in data_files:\n",
    "    df = pd.read_excel(f, sheetname='Sheet 1', header=None, names=['Taxon', 'Count'])\n",
    "    name = os.path.splitext(os.path.basename(f))[0]\n",
    "    df['BARCODE'] = name\n",
    "    data_frames.append(df)\n",
    "    \n",
    "data = pd.concat(data_frames)\n",
    "metadata = pd.read_excel(metadata_file, sheetname='Sheet1')"
   ]
  },
  {
   "cell_type": "code",
   "execution_count": null,
   "metadata": {
    "collapsed": true
   },
   "outputs": [],
   "source": [
    "bacteria_df = pd.merge(data, metadata).fillna('unknown').set_index(['GROUP', 'SAMPLE', 'Taxon'])[['Count']]\n",
    "bacteria_df"
   ]
  },
  {
   "cell_type": "code",
   "execution_count": null,
   "metadata": {
    "collapsed": true
   },
   "outputs": [],
   "source": [
    "bacteria_df.index.is_unique"
   ]
  },
  {
   "cell_type": "markdown",
   "metadata": {},
   "source": [
    "## Task 3. Class War in Titanic\n",
    "\n",
    "Use pandas to import the data file `Data/titanic.xls`. It contains data on all the passengers that travelled on the Titanic."
   ]
  },
  {
   "cell_type": "code",
   "execution_count": null,
   "metadata": {
    "collapsed": true
   },
   "outputs": [],
   "source": [
    "from IPython.core.display import HTML\n",
    "HTML(filename=DATA_FOLDER+'/titanic.html')"
   ]
  },
  {
   "cell_type": "markdown",
   "metadata": {},
   "source": [
    "For each of the following questions state clearly your assumptions and discuss your findings:\n",
    "1. Describe the *type* and the *value range* of each attribute. Indicate and transform the attributes that can be `Categorical`. \n",
    "2. Plot histograms for the *travel class*, *embarkation port*, *sex* and *age* attributes. For the latter one, use *discrete decade intervals*. \n",
    "3. Calculate the proportion of passengers by *cabin floor*. Present your results in a *pie chart*.\n",
    "4. For each *travel class*, calculate the proportion of the passengers that survived. Present your results in *pie charts*.\n",
    "5. Calculate the proportion of the passengers that survived by *travel class* and *sex*. Present your results in *a single histogram*.\n",
    "6. Create 2 equally populated *age categories* and calculate survival proportions by *age category*, *travel class* and *sex*. Present your results in a `DataFrame` with unique index."
   ]
  },
  {
   "cell_type": "markdown",
   "metadata": {
    "collapsed": true
   },
   "source": [
    "### 1.\n",
    "Attribute | Type | Range\n",
    "--- | --- | ---\n",
    "pclass | category | 1, 2, 3\n",
    "survived | boolean | True, False\n",
    "name | string | N/A\n",
    "sex | category | female, male\n",
    "age | float | 0.167 - 80, NaN\n",
    "sibsp | integer | 0 - 8\n",
    "parch | integer | 0 - 9\n",
    "ticket | string | N/A\n",
    "fare | float | 0 - 512.33, NaN\n",
    "cabin | string | N/A\n",
    "embarked | category | Cherbourg, Queenstown, Southampton\n",
    "boat | category | A-D, 1-16\n",
    "body | float | 1 - 328, NaN\n",
    "home.dest | string | N/A\n",
    "\n",
    "We also added a column named \"deck\" to indicate the deck of the cabins\n",
    "\n",
    "Attribute | Type | Range\n",
    "--- | --- | ---\n",
    "deck | category | A - G, T, ?"
   ]
  },
  {
   "cell_type": "code",
   "execution_count": 7,
   "metadata": {},
   "outputs": [],
   "source": [
    "df = pd.read_excel(DATA_FOLDER+'/titanic.xls', sheetname='titanic', dtype={'survived': 'bool'})\n",
    "deck = df.cabin.fillna('?').apply(lambda c: c[0])\n",
    "boat = df.boat.fillna('unknown').apply(lambda b: str(b).split(' ')[-1])\n",
    "df['deck'] = deck\n",
    "df['boat'] = boat\n",
    "for c in ['pclass', 'survived', 'sex', 'embarked', 'deck', 'boat']:\n",
    "    df[c] = df[c].astype('category')"
   ]
  },
  {
   "cell_type": "code",
   "execution_count": 8,
   "metadata": {
    "collapsed": true
   },
   "outputs": [],
   "source": [
    "def nice_bar_plot(xlbl, data):\n",
    "    fig, ax = plt.subplots()\n",
    "    ax.set_title(xlbl, fontsize=15, fontweight='bold')\n",
    "    sns.barplot(data, data.keys(), ax=ax)\n",
    "    locs, labels = plt.xticks()\n",
    "    #plt.setp(labels, rotation=90)"
   ]
  },
  {
   "cell_type": "code",
   "execution_count": 220,
   "metadata": {},
   "outputs": [
    {
     "data": {
      "image/png": "[encoded data removed]",
      "text/plain": [
       "<matplotlib.figure.Figure at 0x26ec6c2dba8>"
      ]
     },
     "metadata": {},
     "output_type": "display_data"
    },
    {
     "data": {
      "image/png": "[encoded data removed]",
      "text/plain": [
       "<matplotlib.figure.Figure at 0x26ec6c2ddd8>"
      ]
     },
     "metadata": {},
     "output_type": "display_data"
    },
    {
     "data": {
      "image/png": "[encoded data removed]",
      "text/plain": [
       "<matplotlib.figure.Figure at 0x26ec69c76d8>"
      ]
     },
     "metadata": {},
     "output_type": "display_data"
    },
    {
     "data": {
      "image/png": "[encoded data removed]",
      "text/plain": [
       "<matplotlib.figure.Figure at 0x26ec8114eb8>"
      ]
     },
     "metadata": {},
     "output_type": "display_data"
    }
   ],
   "source": [
    "fig, ax = plt.subplots()\n",
    "ax.set_title('Age', fontsize=15, fontweight='bold')\n",
    "ax.hist(df.age.dropna(), label='Age', bins=8)\n",
    "nice_bar_plot('Classes', df.pclass)\n",
    "nice_bar_plot('Embarcation port', df.embarked)\n",
    "nice_bar_plot('Sex', df.sex)"
   ]
  },
  {
   "cell_type": "markdown",
   "metadata": {},
   "source": [
    "#### 3. Passenger distribution by cabin floor"
   ]
  },
  {
   "cell_type": "code",
   "execution_count": 218,
   "metadata": {
    "scrolled": true
   },
   "outputs": [
    {
     "data": {
      "text/plain": [
       "([<matplotlib.patches.Wedge at 0x26ec6bd52b0>,\n",
       "  <matplotlib.patches.Wedge at 0x26ec6bd5eb8>,\n",
       "  <matplotlib.patches.Wedge at 0x26ec6bdcb38>,\n",
       "  <matplotlib.patches.Wedge at 0x26ec6be37b8>,\n",
       "  <matplotlib.patches.Wedge at 0x26ec6bea438>,\n",
       "  <matplotlib.patches.Wedge at 0x26ec6bf10b8>,\n",
       "  <matplotlib.patches.Wedge at 0x26ec6b8c8d0>,\n",
       "  <matplotlib.patches.Wedge at 0x26ec6bfa908>],\n",
       " [<matplotlib.text.Text at 0x26ec6bd59e8>,\n",
       "  <matplotlib.text.Text at 0x26ec6bdc668>,\n",
       "  <matplotlib.text.Text at 0x26ec6be32e8>,\n",
       "  <matplotlib.text.Text at 0x26ec6be3f28>,\n",
       "  <matplotlib.text.Text at 0x26ec6beaba8>,\n",
       "  <matplotlib.text.Text at 0x26ec6bf1828>,\n",
       "  <matplotlib.text.Text at 0x26ec6bfa470>,\n",
       "  <matplotlib.text.Text at 0x26ec6c000f0>])"
      ]
     },
     "execution_count": 218,
     "metadata": {},
     "output_type": "execute_result"
    },
    {
     "data": {
      "image/png": "[encoded data removed]",
      "text/plain": [
       "<matplotlib.figure.Figure at 0x26ec662bcf8>"
      ]
     },
     "metadata": {},
     "output_type": "display_data"
    }
   ],
   "source": [
    "pie_data = df['deck'].value_counts().drop('?')\n",
    "plt.pie(pie_data, labels=pie_data.index.values)"
   ]
  },
  {
   "cell_type": "markdown",
   "metadata": {},
   "source": [
    "#### 4.1. Survival rate of first class passengers"
   ]
  },
  {
   "cell_type": "code",
   "execution_count": 221,
   "metadata": {
    "scrolled": true
   },
   "outputs": [
    {
     "data": {
      "text/plain": [
       "([<matplotlib.patches.Wedge at 0x26ec824aef0>,\n",
       "  <matplotlib.patches.Wedge at 0x26ec8250b38>],\n",
       " [<matplotlib.text.Text at 0x26ec8250668>,\n",
       "  <matplotlib.text.Text at 0x26ec82562e8>])"
      ]
     },
     "execution_count": 221,
     "metadata": {},
     "output_type": "execute_result"
    },
    {
     "data": {
      "image/png": "[encoded data removed]",
      "text/plain": [
       "<matplotlib.figure.Figure at 0x26ec6a8a860>"
      ]
     },
     "metadata": {},
     "output_type": "display_data"
    }
   ],
   "source": [
    "pie_class1 = df[df.pclass == 1]['survived'].value_counts()\n",
    "plt.pie(pie_class1, labels = pie_class1.index.values)"
   ]
  },
  {
   "cell_type": "markdown",
   "metadata": {},
   "source": [
    "#### 4.2. Survival rate of second class passengers"
   ]
  },
  {
   "cell_type": "code",
   "execution_count": 223,
   "metadata": {
    "scrolled": true
   },
   "outputs": [
    {
     "data": {
      "text/plain": [
       "([<matplotlib.patches.Wedge at 0x26ec833d358>,\n",
       "  <matplotlib.patches.Wedge at 0x26ec833df60>],\n",
       " [<matplotlib.text.Text at 0x26ec833da90>,\n",
       "  <matplotlib.text.Text at 0x26ec8345710>])"
      ]
     },
     "execution_count": 223,
     "metadata": {},
     "output_type": "execute_result"
    },
    {
     "data": {
      "image/png": "[encoded data removed]",
      "text/plain": [
       "<matplotlib.figure.Figure at 0x26ec828a208>"
      ]
     },
     "metadata": {},
     "output_type": "display_data"
    }
   ],
   "source": [
    "pie_class2 = df[df.pclass == 2]['survived'].value_counts()\n",
    "plt.pie(pie_class2, labels = pie_class2.index.values)"
   ]
  },
  {
   "cell_type": "markdown",
   "metadata": {},
   "source": [
    "#### 4.3. Survival rate of third class passengers"
   ]
  },
  {
   "cell_type": "code",
   "execution_count": 46,
   "metadata": {
    "scrolled": true
   },
   "outputs": [
    {
     "data": {
      "text/plain": [
       "([<matplotlib.patches.Wedge at 0x23943dfa080>,\n",
       "  <matplotlib.patches.Wedge at 0x23943dfac88>],\n",
       " [<matplotlib.text.Text at 0x23943dfa7b8>,\n",
       "  <matplotlib.text.Text at 0x23943e06438>])"
      ]
     },
     "execution_count": 46,
     "metadata": {},
     "output_type": "execute_result"
    },
    {
     "data": {
      "image/png": "[encoded data removed]",
      "text/plain": [
       "<matplotlib.figure.Figure at 0x23943c535f8>"
      ]
     },
     "metadata": {},
     "output_type": "display_data"
    }
   ],
   "source": [
    "pie_class3 = df[df.pclass == 3]['survived'].value_counts()\n",
    "plt.pie(pie_class3, labels = pie_class3.index.values)"
   ]
  },
  {
   "cell_type": "markdown",
   "metadata": {},
   "source": [
    "Calculate the proportion of the passengers that survived by travel class and sex. Present your results in a single histogram."
   ]
  },
  {
   "cell_type": "code",
   "execution_count": 249,
   "metadata": {},
   "outputs": [
    {
     "data": {
      "text/html": [
       "<div>\n",
       "<style>\n",
       "    .dataframe thead tr:only-child th {\n",
       "        text-align: right;\n",
       "    }\n",
       "\n",
       "    .dataframe thead th {\n",
       "        text-align: left;\n",
       "    }\n",
       "\n",
       "    .dataframe tbody tr th {\n",
       "        vertical-align: top;\n",
       "    }\n",
       "</style>\n",
       "<table border=\"1\" class=\"dataframe\">\n",
       "  <thead>\n",
       "    <tr style=\"text-align: right;\">\n",
       "      <th></th>\n",
       "      <th></th>\n",
       "      <th>survived</th>\n",
       "    </tr>\n",
       "    <tr>\n",
       "      <th>pclass</th>\n",
       "      <th>sex</th>\n",
       "      <th></th>\n",
       "    </tr>\n",
       "  </thead>\n",
       "  <tbody>\n",
       "    <tr>\n",
       "      <th rowspan=\"2\" valign=\"top\">1</th>\n",
       "      <th>female</th>\n",
       "      <td>0.965278</td>\n",
       "    </tr>\n",
       "    <tr>\n",
       "      <th>male</th>\n",
       "      <td>0.340782</td>\n",
       "    </tr>\n",
       "    <tr>\n",
       "      <th rowspan=\"2\" valign=\"top\">2</th>\n",
       "      <th>female</th>\n",
       "      <td>0.886792</td>\n",
       "    </tr>\n",
       "    <tr>\n",
       "      <th>male</th>\n",
       "      <td>0.146199</td>\n",
       "    </tr>\n",
       "    <tr>\n",
       "      <th rowspan=\"2\" valign=\"top\">3</th>\n",
       "      <th>female</th>\n",
       "      <td>0.490741</td>\n",
       "    </tr>\n",
       "    <tr>\n",
       "      <th>male</th>\n",
       "      <td>0.152130</td>\n",
       "    </tr>\n",
       "  </tbody>\n",
       "</table>\n",
       "</div>"
      ],
      "text/plain": [
       "               survived\n",
       "pclass sex             \n",
       "1      female  0.965278\n",
       "       male    0.340782\n",
       "2      female  0.886792\n",
       "       male    0.146199\n",
       "3      female  0.490741\n",
       "       male    0.152130"
      ]
     },
     "execution_count": 249,
     "metadata": {},
     "output_type": "execute_result"
    }
   ],
   "source": [
    "df_intsurv = df[['survived']].copy()\n",
    "df_intsurv['survived'] = df_intsurv.survived.astype('int')\n",
    "class_sex_grouped = df_intsurv.groupby([df.pclass, df.sex])\n",
    "class_sex_grouped.mean()"
   ]
  },
  {
   "cell_type": "code",
   "execution_count": 257,
   "metadata": {},
   "outputs": [
    {
     "data": {
      "image/png": "[encoded data removed]",
      "text/plain": [
       "<matplotlib.figure.Figure at 0x26ec650fc18>"
      ]
     },
     "metadata": {},
     "output_type": "display_data"
    }
   ],
   "source": [
    "nice_bar_plot('Survival rate by travel class and sex', class_sex_grouped.mean().survived)"
   ]
  },
  {
   "cell_type": "markdown",
   "metadata": {},
   "source": [
    "Create 2 equally populated age categories and calculate survival proportions by age category, travel class and sex. Present your results in a DataFrame with unique index."
   ]
  },
  {
   "cell_type": "code",
   "execution_count": 45,
   "metadata": {},
   "outputs": [
    {
     "data": {
      "text/html": [
       "<div>\n",
       "<style>\n",
       "    .dataframe thead tr:only-child th {\n",
       "        text-align: right;\n",
       "    }\n",
       "\n",
       "    .dataframe thead th {\n",
       "        text-align: left;\n",
       "    }\n",
       "\n",
       "    .dataframe tbody tr th {\n",
       "        vertical-align: top;\n",
       "    }\n",
       "</style>\n",
       "<table border=\"1\" class=\"dataframe\">\n",
       "  <thead>\n",
       "    <tr style=\"text-align: right;\">\n",
       "      <th></th>\n",
       "      <th></th>\n",
       "      <th></th>\n",
       "      <th>survived</th>\n",
       "    </tr>\n",
       "    <tr>\n",
       "      <th>age_category</th>\n",
       "      <th>pclass</th>\n",
       "      <th>sex</th>\n",
       "      <th></th>\n",
       "    </tr>\n",
       "  </thead>\n",
       "  <tbody>\n",
       "    <tr>\n",
       "      <th rowspan=\"6\" valign=\"top\">0</th>\n",
       "      <th rowspan=\"2\" valign=\"top\">1</th>\n",
       "      <th>female</th>\n",
       "      <td>0.951220</td>\n",
       "    </tr>\n",
       "    <tr>\n",
       "      <th>male</th>\n",
       "      <td>0.500000</td>\n",
       "    </tr>\n",
       "    <tr>\n",
       "      <th rowspan=\"2\" valign=\"top\">2</th>\n",
       "      <th>female</th>\n",
       "      <td>0.905660</td>\n",
       "    </tr>\n",
       "    <tr>\n",
       "      <th>male</th>\n",
       "      <td>0.225352</td>\n",
       "    </tr>\n",
       "    <tr>\n",
       "      <th rowspan=\"2\" valign=\"top\">3</th>\n",
       "      <th>female</th>\n",
       "      <td>0.518519</td>\n",
       "    </tr>\n",
       "    <tr>\n",
       "      <th>male</th>\n",
       "      <td>0.186364</td>\n",
       "    </tr>\n",
       "    <tr>\n",
       "      <th rowspan=\"6\" valign=\"top\">1</th>\n",
       "      <th rowspan=\"2\" valign=\"top\">1</th>\n",
       "      <th>female</th>\n",
       "      <td>0.967391</td>\n",
       "    </tr>\n",
       "    <tr>\n",
       "      <th>male</th>\n",
       "      <td>0.314050</td>\n",
       "    </tr>\n",
       "    <tr>\n",
       "      <th rowspan=\"2\" valign=\"top\">2</th>\n",
       "      <th>female</th>\n",
       "      <td>0.880000</td>\n",
       "    </tr>\n",
       "    <tr>\n",
       "      <th>male</th>\n",
       "      <td>0.080460</td>\n",
       "    </tr>\n",
       "    <tr>\n",
       "      <th rowspan=\"2\" valign=\"top\">3</th>\n",
       "      <th>female</th>\n",
       "      <td>0.363636</td>\n",
       "    </tr>\n",
       "    <tr>\n",
       "      <th>male</th>\n",
       "      <td>0.139535</td>\n",
       "    </tr>\n",
       "  </tbody>\n",
       "</table>\n",
       "</div>"
      ],
      "text/plain": [
       "                            survived\n",
       "age_category pclass sex             \n",
       "0            1      female  0.951220\n",
       "                    male    0.500000\n",
       "             2      female  0.905660\n",
       "                    male    0.225352\n",
       "             3      female  0.518519\n",
       "                    male    0.186364\n",
       "1            1      female  0.967391\n",
       "                    male    0.314050\n",
       "             2      female  0.880000\n",
       "                    male    0.080460\n",
       "             3      female  0.363636\n",
       "                    male    0.139535"
      ]
     },
     "execution_count": 45,
     "metadata": {},
     "output_type": "execute_result"
    }
   ],
   "source": [
    "agedf = df[['name','age', 'pclass', 'sex', 'survived']].sort_values('age').dropna().copy().reset_index(drop=True)\n",
    "agedf['survived'] = agedf.survived.astype('int')\n",
    "age_category = pd.Series(([0] * (agedf.shape[0] // 2)) + ([1] * (agedf.shape[0] // 2)))\n",
    "agedf['age_category'] = age_category\n",
    "age_grouped = agedf[['name', 'pclass', 'sex', 'survived']].groupby([agedf.age_category, agedf.pclass, agedf.sex])\n",
    "age_grouped.mean()"
   ]
  }
 ],
 "metadata": {
  "kernelspec": {
   "display_name": "Python 3",
   "language": "python",
   "name": "python3"
  },
  "language_info": {
   "codemirror_mode": {
    "name": "ipython",
    "version": 3
   },
   "file_extension": ".py",
   "mimetype": "text/x-python",
   "name": "python",
   "nbconvert_exporter": "python",
   "pygments_lexer": "ipython3",
   "version": "3.6.1"
  }
 },
 "nbformat": 4,
 "nbformat_minor": 2
}
